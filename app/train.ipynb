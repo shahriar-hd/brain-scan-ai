{
 "cells": [
  {
   "cell_type": "code",
   "execution_count": 1,
   "id": "0fd902a2",
   "metadata": {},
   "outputs": [],
   "source": [
    "import os\n",
    "import cv2\n",
    "import numpy as np\n",
    "from PIL import Image\n",
    "from sklearn.model_selection import train_test_split\n",
    "import shutil"
   ]
  },
  {
   "cell_type": "code",
   "execution_count": 2,
   "id": "1cf958ab",
   "metadata": {},
   "outputs": [],
   "source": [
    "DATASET_PATH = '/home/shahriar/Documents/AideCare/app/dataset/kaggle_3m'\n",
    "OUTPUT_PATH = 'yolo_dataset'"
   ]
  },
  {
   "cell_type": "code",
   "execution_count": 3,
   "id": "9f23276d",
   "metadata": {},
   "outputs": [],
   "source": [
    "os.makedirs(os.path.join(OUTPUT_PATH, 'images', 'train'), exist_ok=True)\n",
    "os.makedirs(os.path.join(OUTPUT_PATH, 'images', 'val'), exist_ok=True)\n",
    "os.makedirs(os.path.join(OUTPUT_PATH, 'labels', 'train'), exist_ok=True)\n",
    "os.makedirs(os.path.join(OUTPUT_PATH, 'labels', 'val'), exist_ok=True)"
   ]
  },
  {
   "cell_type": "code",
   "execution_count": 4,
   "id": "f1324819",
   "metadata": {},
   "outputs": [],
   "source": [
    "image_paths = []\n",
    "mask_paths = []\n",
    "\n",
    "for patient_folder in os.listdir(DATASET_PATH):\n",
    "    patient_path = os.path.join(DATASET_PATH, patient_folder)\n",
    "    if os.path.isdir(patient_path):\n",
    "        for file_name in os.listdir(patient_path):\n",
    "            if file_name.endswith('.tif') and '_mask.tif' not in file_name:\n",
    "                image_path = os.path.join(patient_path, file_name)\n",
    "                mask_name = file_name.replace('.tif', '_mask.tif')\n",
    "                mask_path = os.path.join(patient_path, mask_name)\n",
    "                if os.path.exists(mask_path):\n",
    "                    image_paths.append(image_path)\n",
    "                    mask_paths.append(mask_path)\n",
    "                else:\n",
    "                    print(f\"Warning: Mask not found for {image_path}\")"
   ]
  },
  {
   "cell_type": "code",
   "execution_count": 5,
   "id": "a9e59b4d",
   "metadata": {},
   "outputs": [],
   "source": [
    "train_images, val_images, train_masks, val_masks = train_test_split(\n",
    "    image_paths, mask_paths, test_size=0.2, random_state=42\n",
    ")"
   ]
  },
  {
   "cell_type": "code",
   "execution_count": 6,
   "id": "40d5448a",
   "metadata": {},
   "outputs": [],
   "source": [
    "def process_dataset(image_list, mask_list, type_str):\n",
    "    for i in range(len(image_list)):\n",
    "        img_path = image_list[i]\n",
    "        msk_path = mask_list[i]\n",
    "\n",
    "        try:\n",
    "            img = Image.open(img_path)\n",
    "            msk = Image.open(msk_path).convert('L')\n",
    "            img_np = np.array(img)\n",
    "            msk_np = np.array(msk)\n",
    "        except Exception as e:\n",
    "            print(f\"Error: Loading image or mask {img_path}: {e}\")\n",
    "            continue\n",
    "\n",
    "        H, W = msk_np.shape\n",
    "        contours, _ = cv2.findContours(msk_np, cv2.RETR_EXTERNAL, cv2.CHAIN_APPROX_SIMPLE)\n",
    "        label_file_content = []\n",
    "\n",
    "        for contour in contours:\n",
    "            if contour.shape[0] > 2:\n",
    "                segment = contour.reshape(-1, 2)\n",
    "                normalized_segment = segment / np.array([W, H])\n",
    "                segment_str = ' '.join([f'{coord:.6f}' for coord in normalized_segment.flatten()])\n",
    "                label_file_content.append(f'0 {segment_str}')\n",
    "        base_name = os.path.basename(img_path).replace('.tif', '')\n",
    "        label_output_path = os.path.join(OUTPUT_PATH, 'labels', type_str, f'{base_name}.txt')\n",
    "        with open(label_output_path, 'w') as f:\n",
    "            for line in label_file_content:\n",
    "                f.write(line + '\\n')\n",
    "        \n",
    "        shutil.copy(img_path, os.path.join(OUTPUT_PATH, 'images', type_str, os.path.basename(img_path)))\n",
    "        print(f'Processe: {base_name} for {type_str}')\n",
    "        \n",
    "    "
   ]
  },
  {
   "cell_type": "code",
   "execution_count": 7,
   "id": "faad7774",
   "metadata": {},
   "outputs": [
    {
     "name": "stdout",
     "output_type": "stream",
     "text": [
      "Processing training data...\n",
      "Processe: TCGA_CS_6666_20011109_19 for train\n",
      "Processe: TCGA_DU_5852_19950709_27 for train\n",
      "Processe: TCGA_FG_7637_20000922_47 for train\n",
      "Processe: TCGA_HT_8114_19981030_3 for train\n",
      "Processe: TCGA_DU_7300_19910814_26 for train\n",
      "Processe: TCGA_HT_7608_19940304_5 for train\n",
      "Processe: TCGA_HT_8105_19980826_19 for train\n",
      "Processe: TCGA_DU_6400_19830518_56 for train\n",
      "Processe: TCGA_CS_6668_20011025_13 for train\n",
      "Processe: TCGA_DU_6407_19860514_54 for train\n",
      "Processe: TCGA_CS_5393_19990606_19 for train\n",
      "Processe: TCGA_FG_A60K_20040224_26 for train\n",
      "Processe: TCGA_FG_6689_20020326_11 for train\n",
      "Processe: TCGA_FG_5964_20010511_14 for train\n",
      "Processe: TCGA_FG_7643_20021104_9 for train\n",
      "Processe: TCGA_FG_7634_20000128_6 for train\n",
      "Processe: TCGA_HT_8106_19970727_1 for train\n",
      "Processe: TCGA_FG_A60K_20040224_17 for train\n",
      "Processe: TCGA_HT_8111_19980330_8 for train\n",
      "Processe: TCGA_DU_7294_19890104_3 for train\n",
      "Processe: TCGA_HT_8111_19980330_2 for train\n",
      "Processe: TCGA_DU_5849_19950405_1 for train\n",
      "Processe: TCGA_HT_7884_19980913_2 for train\n",
      "Processe: TCGA_DU_7014_19860618_15 for train\n",
      "Processe: TCGA_DU_7302_19911203_16 for train\n",
      "Processe: TCGA_FG_5962_20000626_1 for train\n",
      "Processe: TCGA_DU_7306_19930512_18 for train\n",
      "Processe: TCGA_HT_A61B_19991127_33 for train\n",
      "Processe: TCGA_DU_7304_19930325_36 for train\n",
      "Processe: TCGA_FG_7634_20000128_13 for train\n",
      "Processe: TCGA_CS_6668_20011025_2 for train\n",
      "Processe: TCGA_DU_7013_19860523_3 for train\n",
      "Processe: TCGA_FG_7637_20000922_20 for train\n",
      "Processe: TCGA_HT_7680_19970202_5 for train\n",
      "Processe: TCGA_HT_7879_19981009_14 for train\n",
      "Processe: TCGA_DU_5871_19941206_8 for train\n",
      "Processe: TCGA_FG_A4MT_20020212_34 for train\n",
      "Processe: TCGA_DU_A5TS_19970726_19 for train\n",
      "Processe: TCGA_HT_A61A_20000127_38 for train\n",
      "Processe: TCGA_DU_A5TP_19970614_24 for train\n",
      "Processe: TCGA_DU_A5TY_19970709_34 for train\n",
      "Processe: TCGA_FG_5964_20010511_11 for train\n",
      "Processe: TCGA_HT_7882_19970125_27 for train\n",
      "Processe: TCGA_DU_7300_19910814_28 for train\n",
      "Processe: TCGA_HT_A616_19991226_3 for train\n",
      "Processe: TCGA_DU_6399_19830416_7 for train\n",
      "Processe: TCGA_HT_7692_19960724_9 for train\n",
      "Processe: TCGA_HT_A616_19991226_9 for train\n",
      "Processe: TCGA_HT_7616_19940813_28 for train\n",
      "Processe: TCGA_HT_7881_19981015_10 for train\n",
      "Processe: TCGA_DU_6408_19860521_49 for train\n",
      "Processe: TCGA_CS_6665_20010817_15 for train\n",
      "Processe: TCGA_DU_7019_19940908_15 for train\n",
      "Processe: TCGA_HT_7881_19981015_17 for train\n",
      "Processe: TCGA_FG_6692_20020606_23 for train\n",
      "Processe: TCGA_FG_7637_20000922_21 for train\n",
      "Processe: TCGA_HT_A5RC_19990831_9 for train\n",
      "Processe: TCGA_DU_5874_19950510_32 for train\n",
      "Processe: TCGA_CS_4942_19970222_12 for train\n",
      "Processe: TCGA_DU_5852_19950709_34 for train\n",
      "Processe: TCGA_FG_6692_20020606_25 for train\n",
      "Processe: TCGA_FG_7637_20000922_13 for train\n",
      "Processe: TCGA_DU_7294_19890104_1 for train\n",
      "Processe: TCGA_DU_6408_19860521_17 for train\n",
      "Processe: TCGA_DU_5871_19941206_25 for train\n",
      "Processe: TCGA_HT_7602_19951103_15 for train\n",
      "Processe: TCGA_DU_7014_19860618_53 for train\n",
      "Processe: TCGA_DU_7299_19910417_35 for train\n",
      "Processe: TCGA_HT_7475_19970918_24 for train\n",
      "Processe: TCGA_HT_7692_19960724_1 for train\n",
      "Processe: TCGA_CS_6186_20000601_5 for train\n",
      "Processe: TCGA_DU_6408_19860521_50 for train\n",
      "Processe: TCGA_DU_7294_19890104_19 for train\n",
      "Processe: TCGA_FG_A60K_20040224_9 for train\n",
      "Processe: TCGA_DU_7301_19911112_30 for train\n",
      "Processe: TCGA_DU_6401_19831001_1 for train\n",
      "Processe: TCGA_FG_8189_20030516_26 for train\n",
      "Processe: TCGA_HT_8106_19970727_7 for train\n",
      "Processe: TCGA_DU_7300_19910814_1 for train\n",
      "Processe: TCGA_HT_7616_19940813_27 for train\n",
      "Processe: TCGA_HT_7684_19950816_8 for train\n",
      "Processe: TCGA_DU_8167_19970402_15 for train\n",
      "Processe: TCGA_HT_A616_19991226_18 for train\n",
      "Processe: TCGA_DU_5854_19951104_8 for train\n",
      "Processe: TCGA_HT_A5RC_19990831_20 for train\n",
      "Processe: TCGA_HT_8105_19980826_31 for train\n",
      "Processe: TCGA_DU_7010_19860307_35 for train\n",
      "Processe: TCGA_HT_A61B_19991127_2 for train\n",
      "Processe: TCGA_EZ_7264_20010816_14 for train\n",
      "Processe: TCGA_DU_7302_19911203_9 for train\n",
      "Processe: TCGA_DU_7294_19890104_23 for train\n",
      "Processe: TCGA_HT_7877_19980917_3 for train\n",
      "Processe: TCGA_DU_8168_19970503_25 for train\n",
      "Processe: TCGA_DU_5872_19950223_47 for train\n",
      "Processe: TCGA_DU_7010_19860307_11 for train\n",
      "Processe: TCGA_DU_6399_19830416_40 for train\n",
      "Processe: TCGA_DU_5874_19950510_8 for train\n",
      "Processe: TCGA_HT_7884_19980913_1 for train\n",
      "Processe: TCGA_DU_7304_19930325_15 for train\n",
      "Processe: TCGA_DU_5855_19951217_26 for train\n",
      "Processe: TCGA_HT_7473_19970826_8 for train\n",
      "Processe: TCGA_DU_6408_19860521_35 for train\n",
      "Processe: TCGA_DU_7014_19860618_34 for train\n",
      "Processe: TCGA_DU_5874_19950510_20 for train\n",
      "Processe: TCGA_DU_5851_19950428_12 for train\n",
      "Processe: TCGA_DU_A5TP_19970614_14 for train\n",
      "Processe: TCGA_DU_7019_19940908_31 for train\n",
      "Processe: TCGA_HT_7874_19950902_1 for train\n",
      "Processe: TCGA_DU_8165_19970205_18 for train\n",
      "Processe: TCGA_DU_7018_19911220_15 for train\n",
      "Processe: TCGA_HT_8563_19981209_9 for train\n",
      "Processe: TCGA_DU_7304_19930325_20 for train\n",
      "Processe: TCGA_HT_7881_19981015_77 for train\n",
      "Processe: TCGA_FG_6692_20020606_26 for train\n",
      "Processe: TCGA_DU_6400_19830518_17 for train\n",
      "Processe: TCGA_DU_7299_19910417_9 for train\n",
      "Processe: TCGA_HT_A5RC_19990831_17 for train\n",
      "Processe: TCGA_FG_6689_20020326_25 for train\n",
      "Processe: TCGA_DU_8167_19970402_6 for train\n",
      "Processe: TCGA_HT_7881_19981015_39 for train\n",
      "Processe: TCGA_DU_7008_19830723_16 for train\n",
      "Processe: TCGA_CS_6290_20000917_14 for train\n",
      "Processe: TCGA_DU_A5TP_19970614_31 for train\n",
      "Processe: TCGA_FG_8189_20030516_34 for train\n",
      "Processe: TCGA_CS_5395_19981004_3 for train\n",
      "Processe: TCGA_CS_6666_20011109_16 for train\n",
      "Processe: TCGA_DU_A5TW_19980228_25 for train\n",
      "Processe: TCGA_DU_7299_19910417_8 for train\n",
      "Processe: TCGA_DU_5852_19950709_25 for train\n",
      "Processe: TCGA_HT_7473_19970826_11 for train\n",
      "Processe: TCGA_HT_7608_19940304_10 for train\n",
      "Processe: TCGA_DU_A5TT_19980318_9 for train\n",
      "Processe: TCGA_HT_A61A_20000127_59 for train\n",
      "Processe: TCGA_HT_8113_19930809_6 for train\n",
      "Processe: TCGA_HT_7882_19970125_1 for train\n",
      "Processe: TCGA_HT_7684_19950816_2 for train\n",
      "Processe: TCGA_CS_5397_20010315_19 for train\n",
      "Processe: TCGA_DU_6407_19860514_57 for train\n",
      "Processe: TCGA_FG_A4MT_20020212_16 for train\n",
      "Processe: TCGA_CS_4944_20010208_6 for train\n",
      "Processe: TCGA_FG_5962_20000626_27 for train\n",
      "Processe: TCGA_CS_4943_20000902_13 for train\n",
      "Processe: TCGA_DU_7300_19910814_23 for train\n",
      "Processe: TCGA_DU_7018_19911220_16 for train\n",
      "Processe: TCGA_EZ_7264_20010816_12 for train\n",
      "Processe: TCGA_DU_8168_19970503_28 for train\n",
      "Processe: TCGA_HT_A61B_19991127_51 for train\n",
      "Processe: TCGA_FG_6689_20020326_42 for train\n",
      "Processe: TCGA_HT_7877_19980917_9 for train\n",
      "Processe: TCGA_DU_6401_19831001_6 for train\n",
      "Processe: TCGA_DU_5852_19950709_29 for train\n",
      "Processe: TCGA_DU_A5TT_19980318_24 for train\n",
      "Processe: TCGA_HT_A5RC_19990831_23 for train\n",
      "Processe: TCGA_DU_7300_19910814_33 for train\n",
      "Processe: TCGA_DU_7018_19911220_30 for train\n",
      "Processe: TCGA_HT_A61B_19991127_87 for train\n",
      "Processe: TCGA_DU_6407_19860514_44 for train\n",
      "Processe: TCGA_EZ_7264_20010816_11 for train\n",
      "Processe: TCGA_DU_7300_19910814_13 for train\n",
      "Processe: TCGA_DU_6401_19831001_35 for train\n",
      "Processe: TCGA_DU_8166_19970322_18 for train\n",
      "Processe: TCGA_DU_A5TT_19980318_12 for train\n",
      "Processe: TCGA_FG_7643_20021104_18 for train\n",
      "Processe: TCGA_CS_6290_20000917_5 for train\n",
      "Processe: TCGA_DU_6407_19860514_53 for train\n",
      "Processe: TCGA_DU_5853_19950823_35 for train\n",
      "Processe: TCGA_DU_6408_19860521_38 for train\n",
      "Processe: TCGA_HT_7475_19970918_9 for train\n",
      "Processe: TCGA_HT_7881_19981015_68 for train\n",
      "Processe: TCGA_DU_8164_19970111_18 for train\n",
      "Processe: TCGA_DU_6401_19831001_43 for train\n",
      "Processe: TCGA_DU_5852_19950709_11 for train\n",
      "Processe: TCGA_FG_8189_20030516_47 for train\n",
      "Processe: TCGA_DU_8162_19961029_26 for train\n",
      "Processe: TCGA_CS_6668_20011025_12 for train\n",
      "Processe: TCGA_DU_A5TR_19970726_35 for train\n",
      "Processe: TCGA_FG_6691_20020405_12 for train\n",
      "Processe: TCGA_CS_6666_20011109_25 for train\n",
      "Processe: TCGA_DU_7014_19860618_12 for train\n",
      "Processe: TCGA_HT_7473_19970826_9 for train\n",
      "Processe: TCGA_DU_5855_19951217_22 for train\n",
      "Processe: TCGA_FG_8189_20030516_48 for train\n",
      "Processe: TCGA_HT_7856_19950831_1 for train\n",
      "Processe: TCGA_FG_6692_20020606_12 for train\n",
      "Processe: TCGA_FG_7643_20021104_37 for train\n",
      "Processe: TCGA_HT_7690_19960312_3 for train\n",
      "Processe: TCGA_FG_6689_20020326_31 for train\n",
      "Processe: TCGA_HT_8107_19980708_8 for train\n",
      "Processe: TCGA_DU_6407_19860514_21 for train\n",
      "Processe: TCGA_CS_5396_20010302_20 for train\n",
      "Processe: TCGA_FG_6691_20020405_29 for train\n",
      "Processe: TCGA_HT_7860_19960513_4 for train\n",
      "Processe: TCGA_DU_7018_19911220_34 for train\n",
      "Processe: TCGA_DU_7309_19960831_24 for train\n",
      "Processe: TCGA_DU_7014_19860618_59 for train\n",
      "Processe: TCGA_FG_6688_20020215_33 for train\n",
      "Processe: TCGA_HT_7608_19940304_2 for train\n",
      "Processe: TCGA_DU_7299_19910417_26 for train\n",
      "Processe: TCGA_FG_6688_20020215_26 for train\n",
      "Processe: TCGA_DU_5874_19950510_22 for train\n",
      "Processe: TCGA_DU_7298_19910324_5 for train\n",
      "Processe: TCGA_FG_7637_20000922_38 for train\n",
      "Processe: TCGA_CS_6666_20011109_3 for train\n",
      "Processe: TCGA_HT_7475_19970918_2 for train\n",
      "Processe: TCGA_HT_7602_19951103_16 for train\n",
      "Processe: TCGA_HT_A61A_20000127_58 for train\n",
      "Processe: TCGA_DU_5855_19951217_12 for train\n",
      "Processe: TCGA_FG_7637_20000922_8 for train\n",
      "Processe: TCGA_DU_5874_19950510_5 for train\n",
      "Processe: TCGA_DU_5849_19950405_5 for train\n",
      "Processe: TCGA_DU_6404_19850629_44 for train\n",
      "Processe: TCGA_DU_6407_19860514_45 for train\n",
      "Processe: TCGA_DU_7301_19911112_15 for train\n",
      "Processe: TCGA_HT_8111_19980330_17 for train\n",
      "Processe: TCGA_FG_8189_20030516_37 for train\n",
      "Processe: TCGA_DU_7008_19830723_6 for train\n",
      "Processe: TCGA_EZ_7264_20010816_4 for train\n",
      "Processe: TCGA_DU_A5TY_19970709_25 for train\n",
      "Processe: TCGA_HT_7608_19940304_22 for train\n",
      "Processe: TCGA_HT_8111_19980330_9 for train\n",
      "Processe: TCGA_HT_7882_19970125_2 for train\n",
      "Processe: TCGA_FG_8189_20030516_54 for train\n",
      "Processe: TCGA_FG_A4MU_20030903_19 for train\n",
      "Processe: TCGA_DU_5874_19950510_6 for train\n",
      "Processe: TCGA_DU_7010_19860307_57 for train\n",
      "Processe: TCGA_HT_A61B_19991127_30 for train\n",
      "Processe: TCGA_FG_6690_20020226_30 for train\n",
      "Processe: TCGA_DU_A5TS_19970726_11 for train\n",
      "Processe: TCGA_HT_7475_19970918_16 for train\n",
      "Processe: TCGA_CS_6668_20011025_20 for train\n",
      "Processe: TCGA_FG_8189_20030516_15 for train\n",
      "Processe: TCGA_CS_4944_20010208_18 for train\n",
      "Processe: TCGA_DU_7008_19830723_27 for train\n",
      "Processe: TCGA_DU_8165_19970205_6 for train\n",
      "Processe: TCGA_HT_7608_19940304_8 for train\n",
      "Processe: TCGA_DU_5851_19950428_18 for train\n",
      "Processe: TCGA_HT_8105_19980826_26 for train\n",
      "Processe: TCGA_DU_7304_19930325_27 for train\n",
      "Processe: TCGA_DU_5851_19950428_3 for train\n",
      "Processe: TCGA_DU_5851_19950428_16 for train\n",
      "Processe: TCGA_DU_5853_19950823_2 for train\n",
      "Processe: TCGA_DU_7299_19910417_31 for train\n",
      "Processe: TCGA_HT_7680_19970202_15 for train\n",
      "Processe: TCGA_FG_5962_20000626_23 for train\n",
      "Processe: TCGA_DU_7013_19860523_5 for train\n",
      "Processe: TCGA_HT_7882_19970125_13 for train\n",
      "Processe: TCGA_CS_6186_20000601_3 for train\n",
      "Processe: TCGA_CS_6667_20011105_6 for train\n",
      "Processe: TCGA_DU_8163_19961119_8 for train\n",
      "Processe: TCGA_DU_8163_19961119_15 for train\n",
      "Processe: TCGA_FG_6692_20020606_2 for train\n",
      "Processe: TCGA_DU_8167_19970402_31 for train\n",
      "Processe: TCGA_DU_6408_19860521_12 for train\n",
      "Processe: TCGA_DU_7013_19860523_17 for train\n",
      "Processe: TCGA_DU_7306_19930512_35 for train\n",
      "Processe: TCGA_HT_8114_19981030_13 for train\n",
      "Processe: TCGA_HT_A61B_19991127_67 for train\n",
      "Processe: TCGA_HT_7881_19981015_11 for train\n",
      "Processe: TCGA_HT_7684_19950816_17 for train\n",
      "Processe: TCGA_DU_A5TP_19970614_17 for train\n",
      "Processe: TCGA_DU_6399_19830416_24 for train\n",
      "Processe: TCGA_DU_A5TT_19980318_48 for train\n",
      "Processe: TCGA_HT_7473_19970826_1 for train\n",
      "Processe: TCGA_DU_A5TW_19980228_14 for train\n",
      "Processe: TCGA_HT_8018_19970411_2 for train\n",
      "Processe: TCGA_DU_5855_19951217_5 for train\n",
      "Processe: TCGA_CS_5397_20010315_13 for train\n",
      "Processe: TCGA_HT_7881_19981015_26 for train\n",
      "Processe: TCGA_DU_6400_19830518_5 for train\n",
      "Processe: TCGA_HT_7608_19940304_15 for train\n",
      "Processe: TCGA_HT_A61A_20000127_9 for train\n",
      "Processe: TCGA_DU_6405_19851005_17 for train\n",
      "Processe: TCGA_DU_7014_19860618_54 for train\n",
      "Processe: TCGA_DU_6404_19850629_30 for train\n",
      "Processe: TCGA_HT_A61B_19991127_1 for train\n",
      "Processe: TCGA_DU_6408_19860521_13 for train\n",
      "Processe: TCGA_DU_8166_19970322_15 for train\n",
      "Processe: TCGA_CS_6665_20010817_1 for train\n",
      "Processe: TCGA_DU_8163_19961119_25 for train\n",
      "Processe: TCGA_DU_6405_19851005_42 for train\n",
      "Processe: TCGA_HT_7855_19951020_4 for train\n",
      "Processe: TCGA_DU_7010_19860307_15 for train\n",
      "Processe: TCGA_FG_6691_20020405_24 for train\n",
      "Processe: TCGA_HT_A616_19991226_20 for train\n",
      "Processe: TCGA_DU_A5TR_19970726_37 for train\n",
      "Processe: TCGA_HT_7879_19981009_17 for train\n",
      "Processe: TCGA_DU_7014_19860618_29 for train\n",
      "Processe: TCGA_DU_8162_19961029_12 for train\n",
      "Processe: TCGA_DU_7300_19910814_36 for train\n",
      "Processe: TCGA_HT_7692_19960724_16 for train\n",
      "Processe: TCGA_DU_7018_19911220_17 for train\n",
      "Processe: TCGA_HT_7616_19940813_19 for train\n",
      "Processe: TCGA_DU_7014_19860618_43 for train\n",
      "Processe: TCGA_HT_8105_19980826_29 for train\n",
      "Processe: TCGA_HT_7879_19981009_24 for train\n",
      "Processe: TCGA_HT_7860_19960513_14 for train\n",
      "Processe: TCGA_DU_8163_19961119_7 for train\n",
      "Processe: TCGA_DU_6407_19860514_9 for train\n",
      "Processe: TCGA_FG_6689_20020326_39 for train\n",
      "Processe: TCGA_DU_6405_19851005_47 for train\n",
      "Processe: TCGA_HT_7693_19950520_4 for train\n",
      "Processe: TCGA_DU_6401_19831001_37 for train\n",
      "Processe: TCGA_HT_7884_19980913_10 for train\n",
      "Processe: TCGA_HT_7881_19981015_73 for train\n",
      "Processe: TCGA_FG_A60K_20040224_55 for train\n",
      "Processe: TCGA_HT_7473_19970826_12 for train\n",
      "Processe: TCGA_DU_7300_19910814_21 for train\n",
      "Processe: TCGA_FG_A60K_20040224_20 for train\n",
      "Processe: TCGA_CS_5393_19990606_8 for train\n",
      "Processe: TCGA_DU_6404_19850629_4 for train\n",
      "Processe: TCGA_DU_5851_19950428_1 for train\n",
      "Processe: TCGA_DU_8168_19970503_10 for train\n",
      "Processe: TCGA_DU_8165_19970205_11 for train\n",
      "Processe: TCGA_FG_7637_20000922_27 for train\n",
      "Processe: TCGA_CS_4941_19960909_17 for train\n",
      "Processe: TCGA_FG_7643_20021104_36 for train\n",
      "Processe: TCGA_FG_6690_20020226_45 for train\n",
      "Processe: TCGA_FG_6688_20020215_13 for train\n",
      "Processe: TCGA_FG_8189_20030516_53 for train\n",
      "Processe: TCGA_HT_8107_19980708_15 for train\n",
      "Processe: TCGA_FG_8189_20030516_20 for train\n",
      "Processe: TCGA_HT_A61A_20000127_80 for train\n",
      "Processe: TCGA_CS_5396_20010302_4 for train\n",
      "Processe: TCGA_CS_6666_20011109_5 for train\n",
      "Processe: TCGA_HT_A61A_20000127_11 for train\n",
      "Processe: TCGA_FG_7634_20000128_5 for train\n",
      "Processe: TCGA_CS_5396_20010302_5 for train\n",
      "Processe: TCGA_FG_6691_20020405_25 for train\n",
      "Processe: TCGA_HT_7884_19980913_8 for train\n",
      "Processe: TCGA_DU_6408_19860521_52 for train\n",
      "Processe: TCGA_CS_4944_20010208_7 for train\n",
      "Processe: TCGA_FG_5962_20000626_47 for train\n",
      "Processe: TCGA_DU_7306_19930512_6 for train\n",
      "Processe: TCGA_DU_5855_19951217_13 for train\n",
      "Processe: TCGA_DU_6405_19851005_9 for train\n",
      "Processe: TCGA_DU_5849_19950405_28 for train\n",
      "Processe: TCGA_HT_A61A_20000127_27 for train\n",
      "Processe: TCGA_HT_7855_19951020_6 for train\n",
      "Processe: TCGA_CS_6668_20011025_8 for train\n",
      "Processe: TCGA_FG_6691_20020405_21 for train\n",
      "Processe: TCGA_DU_A5TP_19970614_25 for train\n",
      "Processe: TCGA_DU_5854_19951104_12 for train\n",
      "Processe: TCGA_HT_7856_19950831_16 for train\n",
      "Processe: TCGA_FG_A4MT_20020212_24 for train\n",
      "Processe: TCGA_DU_7013_19860523_16 for train\n",
      "Processe: TCGA_DU_8164_19970111_30 for train\n",
      "Processe: TCGA_DU_8167_19970402_21 for train\n",
      "Processe: TCGA_DU_6401_19831001_3 for train\n",
      "Processe: TCGA_DU_5853_19950823_20 for train\n",
      "Processe: TCGA_DU_5851_19950428_40 for train\n",
      "Processe: TCGA_FG_6690_20020226_4 for train\n",
      "Processe: TCGA_DU_A5TU_19980312_6 for train\n",
      "Processe: TCGA_HT_7692_19960724_4 for train\n",
      "Processe: TCGA_FG_5962_20000626_6 for train\n",
      "Processe: TCGA_HT_A61A_20000127_13 for train\n",
      "Processe: TCGA_HT_7608_19940304_7 for train\n",
      "Processe: TCGA_DU_7306_19930512_25 for train\n",
      "Processe: TCGA_HT_7881_19981015_62 for train\n",
      "Processe: TCGA_CS_6669_20020102_21 for train\n",
      "Processe: TCGA_DU_6405_19851005_6 for train\n",
      "Processe: TCGA_FG_6690_20020226_51 for train\n",
      "Processe: TCGA_HT_8018_19970411_11 for train\n",
      "Processe: TCGA_DU_8167_19970402_19 for train\n",
      "Processe: TCGA_HT_8105_19980826_14 for train\n",
      "Processe: TCGA_DU_5852_19950709_30 for train\n",
      "Processe: TCGA_HT_A61A_20000127_87 for train\n",
      "Processe: TCGA_FG_5964_20010511_12 for train\n",
      "Processe: TCGA_DU_7309_19960831_2 for train\n",
      "Processe: TCGA_DU_A5TP_19970614_3 for train\n",
      "Processe: TCGA_DU_7008_19830723_2 for train\n",
      "Processe: TCGA_DU_7010_19860307_14 for train\n",
      "Processe: TCGA_CS_6666_20011109_6 for train\n",
      "Processe: TCGA_DU_7309_19960831_21 for train\n",
      "Processe: TCGA_FG_5964_20010511_8 for train\n",
      "Processe: TCGA_DU_5871_19941206_2 for train\n",
      "Processe: TCGA_DU_5872_19950223_63 for train\n",
      "Processe: TCGA_DU_7299_19910417_34 for train\n",
      "Processe: TCGA_DU_6399_19830416_19 for train\n",
      "Processe: TCGA_FG_8189_20030516_28 for train\n",
      "Processe: TCGA_DU_7299_19910417_36 for train\n",
      "Processe: TCGA_FG_6690_20020226_7 for train\n",
      "Processe: TCGA_DU_A5TP_19970614_32 for train\n",
      "Processe: TCGA_FG_A60K_20040224_28 for train\n",
      "Processe: TCGA_DU_7010_19860307_17 for train\n",
      "Processe: TCGA_HT_8113_19930809_11 for train\n",
      "Processe: TCGA_DU_7014_19860618_41 for train\n",
      "Processe: TCGA_DU_A5TP_19970614_35 for train\n",
      "Processe: TCGA_DU_7309_19960831_17 for train\n",
      "Processe: TCGA_HT_8105_19980826_12 for train\n",
      "Processe: TCGA_FG_7637_20000922_2 for train\n",
      "Processe: TCGA_DU_7013_19860523_7 for train\n",
      "Processe: TCGA_HT_A61B_19991127_81 for train\n",
      "Processe: TCGA_HT_A616_19991226_16 for train\n",
      "Processe: TCGA_HT_7882_19970125_11 for train\n",
      "Processe: TCGA_FG_5962_20000626_37 for train\n",
      "Processe: TCGA_DU_6404_19850629_37 for train\n",
      "Processe: TCGA_CS_4944_20010208_2 for train\n",
      "Processe: TCGA_DU_6404_19850629_1 for train\n",
      "Processe: TCGA_DU_7019_19940908_32 for train\n",
      "Processe: TCGA_DU_A5TY_19970709_32 for train\n",
      "Processe: TCGA_CS_6665_20010817_16 for train\n",
      "Processe: TCGA_DU_8167_19970402_10 for train\n",
      "Processe: TCGA_DU_A5TR_19970726_29 for train\n",
      "Processe: TCGA_DU_7008_19830723_41 for train\n",
      "Processe: TCGA_HT_7694_19950404_2 for train\n",
      "Processe: TCGA_HT_A61B_19991127_88 for train\n",
      "Processe: TCGA_CS_5393_19990606_17 for train\n",
      "Processe: TCGA_CS_6669_20020102_12 for train\n",
      "Processe: TCGA_FG_7643_20021104_42 for train\n",
      "Processe: TCGA_FG_6690_20020226_1 for train\n",
      "Processe: TCGA_HT_7881_19981015_1 for train\n",
      "Processe: TCGA_DU_6407_19860514_39 for train\n",
      "Processe: TCGA_DU_7300_19910814_8 for train\n",
      "Processe: TCGA_HT_7860_19960513_11 for train\n",
      "Processe: TCGA_FG_6689_20020326_23 for train\n",
      "Processe: TCGA_DU_5871_19941206_34 for train\n",
      "Processe: TCGA_DU_A5TS_19970726_33 for train\n",
      "Processe: TCGA_DU_8164_19970111_25 for train\n",
      "Processe: TCGA_DU_7019_19940908_19 for train\n",
      "Processe: TCGA_FG_6690_20020226_42 for train\n",
      "Processe: TCGA_HT_7856_19950831_19 for train\n",
      "Processe: TCGA_DU_7304_19930325_3 for train\n",
      "Processe: TCGA_DU_7306_19930512_33 for train\n",
      "Processe: TCGA_FG_5964_20010511_16 for train\n",
      "Processe: TCGA_DU_7013_19860523_18 for train\n",
      "Processe: TCGA_DU_8165_19970205_27 for train\n",
      "Processe: TCGA_DU_7306_19930512_42 for train\n",
      "Processe: TCGA_DU_6400_19830518_40 for train\n",
      "Processe: TCGA_DU_7010_19860307_16 for train\n",
      "Processe: TCGA_FG_7637_20000922_26 for train\n",
      "Processe: TCGA_HT_A61A_20000127_60 for train\n",
      "Processe: TCGA_DU_7294_19890104_26 for train\n",
      "Processe: TCGA_DU_8165_19970205_12 for train\n",
      "Processe: TCGA_DU_8164_19970111_13 for train\n",
      "Processe: TCGA_DU_A5TU_19980312_1 for train\n",
      "Processe: TCGA_FG_8189_20030516_8 for train\n",
      "Processe: TCGA_FG_5964_20010511_26 for train\n",
      "Processe: TCGA_HT_7692_19960724_2 for train\n",
      "Processe: TCGA_HT_7602_19951103_4 for train\n",
      "Processe: TCGA_DU_A5TT_19980318_37 for train\n",
      "Processe: TCGA_DU_7018_19911220_25 for train\n",
      "Processe: TCGA_FG_A4MT_20020212_44 for train\n",
      "Processe: TCGA_DU_6405_19851005_49 for train\n",
      "Processe: TCGA_FG_6689_20020326_24 for train\n",
      "Processe: TCGA_DU_7013_19860523_13 for train\n",
      "Processe: TCGA_FG_7634_20000128_7 for train\n",
      "Processe: TCGA_HT_A61B_19991127_86 for train\n",
      "Processe: TCGA_DU_5855_19951217_18 for train\n",
      "Processe: TCGA_HT_8111_19980330_14 for train\n",
      "Processe: TCGA_HT_7475_19970918_13 for train\n",
      "Processe: TCGA_HT_7686_19950629_9 for train\n",
      "Processe: TCGA_DU_A5TS_19970726_14 for train\n",
      "Processe: TCGA_DU_6401_19831001_18 for train\n",
      "Processe: TCGA_CS_4941_19960909_20 for train\n",
      "Processe: TCGA_CS_5397_20010315_22 for train\n",
      "Processe: TCGA_FG_A60K_20040224_62 for train\n",
      "Processe: TCGA_HT_7881_19981015_29 for train\n",
      "Processe: TCGA_DU_7013_19860523_34 for train\n",
      "Processe: TCGA_DU_7300_19910814_14 for train\n",
      "Processe: TCGA_DU_7304_19930325_22 for train\n",
      "Processe: TCGA_DU_8167_19970402_29 for train\n",
      "Processe: TCGA_DU_7010_19860307_38 for train\n",
      "Processe: TCGA_DU_7010_19860307_37 for train\n",
      "Processe: TCGA_DU_7306_19930512_22 for train\n",
      "Processe: TCGA_HT_7694_19950404_3 for train\n",
      "Processe: TCGA_HT_A61A_20000127_49 for train\n",
      "Processe: TCGA_DU_7299_19910417_28 for train\n",
      "Processe: TCGA_EZ_7264_20010816_2 for train\n",
      "Processe: TCGA_HT_A616_19991226_10 for train\n",
      "Processe: TCGA_DU_7014_19860618_6 for train\n",
      "Processe: TCGA_DU_5874_19950510_26 for train\n",
      "Processe: TCGA_HT_A5RC_19990831_24 for train\n",
      "Processe: TCGA_FG_5964_20010511_22 for train\n",
      "Processe: TCGA_FG_A60K_20040224_50 for train\n",
      "Processe: TCGA_DU_7302_19911203_31 for train\n",
      "Processe: TCGA_DU_A5TW_19980228_26 for train\n",
      "Processe: TCGA_HT_8563_19981209_14 for train\n",
      "Processe: TCGA_HT_A61B_19991127_76 for train\n",
      "Processe: TCGA_DU_5872_19950223_3 for train\n",
      "Processe: TCGA_FG_A4MU_20030903_15 for train\n",
      "Processe: TCGA_DU_6405_19851005_22 for train\n",
      "Processe: TCGA_DU_7019_19940908_8 for train\n",
      "Processe: TCGA_DU_8167_19970402_5 for train\n",
      "Processe: TCGA_DU_7298_19910324_20 for train\n",
      "Processe: TCGA_HT_7602_19951103_14 for train\n",
      "Processe: TCGA_HT_7879_19981009_1 for train\n",
      "Processe: TCGA_HT_8563_19981209_1 for train\n",
      "Processe: TCGA_HT_7881_19981015_58 for train\n",
      "Processe: TCGA_HT_7694_19950404_16 for train\n",
      "Processe: TCGA_HT_7877_19980917_27 for train\n",
      "Processe: TCGA_HT_7881_19981015_72 for train\n",
      "Processe: TCGA_CS_6186_20000601_1 for train\n",
      "Processe: TCGA_DU_A5TT_19980318_10 for train\n",
      "Processe: TCGA_DU_6401_19831001_8 for train\n",
      "Processe: TCGA_HT_7680_19970202_13 for train\n",
      "Processe: TCGA_FG_8189_20030516_27 for train\n",
      "Processe: TCGA_CS_6290_20000917_3 for train\n",
      "Processe: TCGA_HT_7684_19950816_23 for train\n",
      "Processe: TCGA_DU_A5TR_19970726_14 for train\n",
      "Processe: TCGA_CS_4943_20000902_19 for train\n",
      "Processe: TCGA_CS_4942_19970222_14 for train\n",
      "Processe: TCGA_DU_8166_19970322_26 for train\n",
      "Processe: TCGA_HT_7694_19950404_1 for train\n",
      "Processe: TCGA_DU_5874_19950510_37 for train\n",
      "Processe: TCGA_DU_7304_19930325_29 for train\n",
      "Processe: TCGA_CS_5397_20010315_18 for train\n",
      "Processe: TCGA_DU_7299_19910417_3 for train\n",
      "Processe: TCGA_HT_7860_19960513_17 for train\n",
      "Processe: TCGA_DU_A5TS_19970726_6 for train\n",
      "Processe: TCGA_FG_A60K_20040224_57 for train\n",
      "Processe: TCGA_HT_7680_19970202_1 for train\n",
      "Processe: TCGA_FG_7643_20021104_15 for train\n",
      "Processe: TCGA_DU_6400_19830518_35 for train\n",
      "Processe: TCGA_DU_7306_19930512_37 for train\n",
      "Processe: TCGA_FG_5962_20000626_4 for train\n",
      "Processe: TCGA_HT_7856_19950831_31 for train\n",
      "Processe: TCGA_FG_6691_20020405_37 for train\n",
      "Processe: TCGA_DU_6404_19850629_32 for train\n",
      "Processe: TCGA_DU_7294_19890104_20 for train\n",
      "Processe: TCGA_FG_A60K_20040224_37 for train\n",
      "Processe: TCGA_FG_6691_20020405_17 for train\n",
      "Processe: TCGA_DU_6400_19830518_8 for train\n",
      "Processe: TCGA_DU_7008_19830723_34 for train\n",
      "Processe: TCGA_HT_7856_19950831_25 for train\n",
      "Processe: TCGA_DU_6405_19851005_12 for train\n",
      "Processe: TCGA_DU_A5TP_19970614_12 for train\n",
      "Processe: TCGA_DU_A5TW_19980228_13 for train\n",
      "Processe: TCGA_CS_6186_20000601_23 for train\n",
      "Processe: TCGA_DU_6401_19831001_51 for train\n",
      "Processe: TCGA_DU_7294_19890104_24 for train\n",
      "Processe: TCGA_DU_5874_19950510_10 for train\n",
      "Processe: TCGA_HT_8114_19981030_8 for train\n",
      "Processe: TCGA_HT_7686_19950629_20 for train\n",
      "Processe: TCGA_DU_A5TP_19970614_29 for train\n",
      "Processe: TCGA_HT_A61A_20000127_21 for train\n",
      "Processe: TCGA_FG_5962_20000626_14 for train\n",
      "Processe: TCGA_DU_8165_19970205_24 for train\n",
      "Processe: TCGA_FG_7634_20000128_14 for train\n",
      "Processe: TCGA_FG_A4MT_20020212_7 for train\n",
      "Processe: TCGA_HT_7874_19950902_6 for train\n",
      "Processe: TCGA_DU_7306_19930512_41 for train\n",
      "Processe: TCGA_DU_A5TU_19980312_22 for train\n",
      "Processe: TCGA_FG_6689_20020326_13 for train\n",
      "Processe: TCGA_CS_6669_20020102_5 for train\n",
      "Processe: TCGA_DU_7018_19911220_12 for train\n",
      "Processe: TCGA_HT_8018_19970411_17 for train\n",
      "Processe: TCGA_HT_A61B_19991127_82 for train\n",
      "Processe: TCGA_HT_7473_19970826_22 for train\n",
      "Processe: TCGA_HT_7855_19951020_20 for train\n",
      "Processe: TCGA_DU_7013_19860523_12 for train\n",
      "Processe: TCGA_DU_6399_19830416_15 for train\n",
      "Processe: TCGA_DU_7008_19830723_30 for train\n",
      "Processe: TCGA_DU_5852_19950709_13 for train\n",
      "Processe: TCGA_CS_4943_20000902_7 for train\n",
      "Processe: TCGA_FG_5962_20000626_3 for train\n",
      "Processe: TCGA_HT_A61A_20000127_46 for train\n",
      "Processe: TCGA_DU_7294_19890104_11 for train\n",
      "Processe: TCGA_CS_6290_20000917_15 for train\n",
      "Processe: TCGA_DU_6408_19860521_45 for train\n",
      "Processe: TCGA_DU_7294_19890104_6 for train\n",
      "Processe: TCGA_HT_8563_19981209_21 for train\n",
      "Processe: TCGA_DU_7018_19911220_21 for train\n",
      "Processe: TCGA_HT_7690_19960312_16 for train\n",
      "Processe: TCGA_DU_6399_19830416_1 for train\n",
      "Processe: TCGA_DU_5872_19950223_41 for train\n",
      "Processe: TCGA_DU_5849_19950405_38 for train\n",
      "Processe: TCGA_DU_7019_19940908_12 for train\n",
      "Processe: TCGA_HT_7692_19960724_18 for train\n",
      "Processe: TCGA_FG_A60K_20040224_71 for train\n",
      "Processe: TCGA_DU_7309_19960831_13 for train\n",
      "Processe: TCGA_HT_7690_19960312_18 for train\n",
      "Processe: TCGA_DU_8166_19970322_8 for train\n",
      "Processe: TCGA_DU_5872_19950223_5 for train\n",
      "Processe: TCGA_DU_5854_19951104_36 for train\n",
      "Processe: TCGA_DU_A5TP_19970614_19 for train\n",
      "Processe: TCGA_FG_6690_20020226_35 for train\n",
      "Processe: TCGA_DU_8164_19970111_5 for train\n",
      "Processe: TCGA_DU_6405_19851005_39 for train\n",
      "Processe: TCGA_HT_A61A_20000127_19 for train\n",
      "Processe: TCGA_DU_5854_19951104_6 for train\n",
      "Processe: TCGA_HT_7616_19940813_15 for train\n",
      "Processe: TCGA_HT_7686_19950629_18 for train\n",
      "Processe: TCGA_DU_8163_19961119_16 for train\n",
      "Processe: TCGA_CS_6188_20010812_10 for train\n",
      "Processe: TCGA_DU_A5TR_19970726_19 for train\n",
      "Processe: TCGA_HT_7684_19950816_10 for train\n",
      "Processe: TCGA_HT_7608_19940304_11 for train\n",
      "Processe: TCGA_HT_7855_19951020_5 for train\n",
      "Processe: TCGA_FG_A4MU_20030903_35 for train\n",
      "Processe: TCGA_FG_A60K_20040224_33 for train\n",
      "Processe: TCGA_HT_7686_19950629_11 for train\n",
      "Processe: TCGA_DU_7010_19860307_13 for train\n",
      "Processe: TCGA_CS_4941_19960909_13 for train\n",
      "Processe: TCGA_DU_6401_19831001_24 for train\n",
      "Processe: TCGA_DU_5853_19950823_34 for train\n",
      "Processe: TCGA_FG_5962_20000626_33 for train\n",
      "Processe: TCGA_DU_A5TS_19970726_10 for train\n",
      "Processe: TCGA_HT_A61B_19991127_83 for train\n",
      "Processe: TCGA_DU_6408_19860521_55 for train\n",
      "Processe: TCGA_DU_6408_19860521_34 for train\n",
      "Processe: TCGA_DU_8167_19970402_23 for train\n",
      "Processe: TCGA_DU_6400_19830518_24 for train\n",
      "Processe: TCGA_FG_A60K_20040224_60 for train\n",
      "Processe: TCGA_HT_A61B_19991127_26 for train\n",
      "Processe: TCGA_HT_7686_19950629_13 for train\n",
      "Processe: TCGA_HT_7884_19980913_20 for train\n",
      "Processe: TCGA_FG_6688_20020215_36 for train\n",
      "Processe: TCGA_HT_A61A_20000127_3 for train\n",
      "Processe: TCGA_DU_8163_19961119_32 for train\n",
      "Processe: TCGA_HT_7882_19970125_3 for train\n",
      "Processe: TCGA_DU_8163_19961119_19 for train\n",
      "Processe: TCGA_DU_8162_19961029_3 for train\n",
      "Processe: TCGA_HT_7605_19950916_22 for train\n",
      "Processe: TCGA_DU_6399_19830416_27 for train\n",
      "Processe: TCGA_DU_7013_19860523_33 for train\n",
      "Processe: TCGA_CS_6665_20010817_8 for train\n",
      "Processe: TCGA_HT_7881_19981015_75 for train\n",
      "Processe: TCGA_HT_A61A_20000127_12 for train\n",
      "Processe: TCGA_FG_A4MU_20030903_36 for train\n",
      "Processe: TCGA_DU_7019_19940908_11 for train\n",
      "Processe: TCGA_HT_7473_19970826_21 for train\n",
      "Processe: TCGA_HT_7473_19970826_31 for train\n",
      "Processe: TCGA_HT_7879_19981009_23 for train\n",
      "Processe: TCGA_FG_6692_20020606_11 for train\n",
      "Processe: TCGA_DU_5872_19950223_49 for train\n",
      "Processe: TCGA_HT_8107_19980708_13 for train\n",
      "Processe: TCGA_FG_7643_20021104_28 for train\n",
      "Processe: TCGA_DU_5849_19950405_23 for train\n",
      "Processe: TCGA_DU_7008_19830723_10 for train\n",
      "Processe: TCGA_DU_7301_19911112_17 for train\n",
      "Processe: TCGA_HT_7475_19970918_27 for train\n",
      "Processe: TCGA_DU_8163_19961119_36 for train\n",
      "Processe: TCGA_DU_7008_19830723_4 for train\n",
      "Processe: TCGA_FG_8189_20030516_6 for train\n",
      "Processe: TCGA_DU_8167_19970402_7 for train\n",
      "Processe: TCGA_DU_8168_19970503_17 for train\n",
      "Processe: TCGA_DU_7309_19960831_37 for train\n",
      "Processe: TCGA_HT_A61A_20000127_22 for train\n",
      "Processe: TCGA_DU_7301_19911112_5 for train\n",
      "Processe: TCGA_DU_6400_19830518_37 for train\n",
      "Processe: TCGA_DU_7010_19860307_43 for train\n",
      "Processe: TCGA_HT_A61B_19991127_14 for train\n",
      "Processe: TCGA_HT_7680_19970202_10 for train\n",
      "Processe: TCGA_CS_6290_20000917_12 for train\n",
      "Processe: TCGA_DU_5851_19950428_35 for train\n",
      "Processe: TCGA_HT_7882_19970125_5 for train\n",
      "Processe: TCGA_FG_5962_20000626_51 for train\n",
      "Processe: TCGA_DU_5874_19950510_21 for train\n",
      "Processe: TCGA_FG_A4MT_20020212_39 for train\n",
      "Processe: TCGA_EZ_7264_20010816_13 for train\n",
      "Processe: TCGA_CS_4943_20000902_10 for train\n",
      "Processe: TCGA_FG_7643_20021104_27 for train\n",
      "Processe: TCGA_DU_6408_19860521_39 for train\n",
      "Processe: TCGA_FG_6690_20020226_28 for train\n",
      "Processe: TCGA_HT_7879_19981009_2 for train\n",
      "Processe: TCGA_DU_7018_19911220_5 for train\n",
      "Processe: TCGA_DU_6405_19851005_59 for train\n",
      "Processe: TCGA_DU_7299_19910417_2 for train\n",
      "Processe: TCGA_HT_8106_19970727_19 for train\n",
      "Processe: TCGA_DU_A5TT_19980318_44 for train\n",
      "Processe: TCGA_DU_8162_19961029_15 for train\n",
      "Processe: TCGA_CS_5393_19990606_5 for train\n",
      "Processe: TCGA_CS_5396_20010302_1 for train\n",
      "Processe: TCGA_FG_5962_20000626_36 for train\n",
      "Processe: TCGA_HT_A61B_19991127_18 for train\n",
      "Processe: TCGA_HT_8105_19980826_9 for train\n",
      "Processe: TCGA_HT_7855_19951020_8 for train\n",
      "Processe: TCGA_HT_8106_19970727_14 for train\n",
      "Processe: TCGA_CS_6667_20011105_13 for train\n",
      "Processe: TCGA_DU_7294_19890104_2 for train\n",
      "Processe: TCGA_DU_7302_19911203_7 for train\n",
      "Processe: TCGA_DU_6405_19851005_27 for train\n",
      "Processe: TCGA_DU_6404_19850629_23 for train\n",
      "Processe: TCGA_HT_7855_19951020_2 for train\n",
      "Processe: TCGA_DU_6408_19860521_54 for train\n",
      "Processe: TCGA_DU_8168_19970503_29 for train\n",
      "Processe: TCGA_FG_7634_20000128_16 for train\n",
      "Processe: TCGA_FG_A4MT_20020212_40 for train\n",
      "Processe: TCGA_HT_8111_19980330_10 for train\n",
      "Processe: TCGA_FG_7634_20000128_23 for train\n",
      "Processe: TCGA_HT_7882_19970125_30 for train\n",
      "Processe: TCGA_HT_7605_19950916_24 for train\n",
      "Processe: TCGA_CS_5397_20010315_20 for train\n",
      "Processe: TCGA_DU_5851_19950428_26 for train\n",
      "Processe: TCGA_HT_7692_19960724_17 for train\n",
      "Processe: TCGA_HT_7608_19940304_25 for train\n",
      "Processe: TCGA_HT_7475_19970918_12 for train\n",
      "Processe: TCGA_DU_6407_19860514_34 for train\n",
      "Processe: TCGA_HT_7690_19960312_10 for train\n",
      "Processe: TCGA_DU_7294_19890104_18 for train\n",
      "Processe: TCGA_CS_5395_19981004_15 for train\n",
      "Processe: TCGA_DU_7302_19911203_27 for train\n",
      "Processe: TCGA_HT_8106_19970727_15 for train\n",
      "Processe: TCGA_CS_5393_19990606_12 for train\n",
      "Processe: TCGA_DU_7013_19860523_25 for train\n",
      "Processe: TCGA_DU_7008_19830723_52 for train\n",
      "Processe: TCGA_FG_5964_20010511_13 for train\n",
      "Processe: TCGA_FG_6691_20020405_33 for train\n",
      "Processe: TCGA_HT_7692_19960724_3 for train\n",
      "Processe: TCGA_DU_7304_19930325_7 for train\n",
      "Processe: TCGA_FG_6688_20020215_15 for train\n",
      "Processe: TCGA_FG_7637_20000922_40 for train\n",
      "Processe: TCGA_DU_5852_19950709_7 for train\n",
      "Processe: TCGA_CS_6188_20010812_1 for train\n",
      "Processe: TCGA_DU_6400_19830518_3 for train\n",
      "Processe: TCGA_CS_6290_20000917_17 for train\n",
      "Processe: TCGA_DU_A5TU_19980312_9 for train\n",
      "Processe: TCGA_DU_8168_19970503_30 for train\n",
      "Processe: TCGA_CS_6188_20010812_17 for train\n",
      "Processe: TCGA_DU_7298_19910324_3 for train\n",
      "Processe: TCGA_DU_7306_19930512_19 for train\n",
      "Processe: TCGA_HT_7616_19940813_3 for train\n",
      "Processe: TCGA_DU_7306_19930512_32 for train\n",
      "Processe: TCGA_DU_7019_19940908_33 for train\n",
      "Processe: TCGA_HT_7602_19951103_12 for train\n",
      "Processe: TCGA_FG_7634_20000128_8 for train\n",
      "Processe: TCGA_DU_A5TT_19980318_17 for train\n",
      "Processe: TCGA_DU_6401_19831001_33 for train\n",
      "Processe: TCGA_HT_A5RC_19990831_13 for train\n",
      "Processe: TCGA_HT_7860_19960513_20 for train\n",
      "Processe: TCGA_CS_5397_20010315_9 for train\n",
      "Processe: TCGA_HT_7881_19981015_71 for train\n",
      "Processe: TCGA_DU_A5TT_19980318_20 for train\n",
      "Processe: TCGA_FG_6688_20020215_6 for train\n",
      "Processe: TCGA_DU_A5TW_19980228_12 for train\n",
      "Processe: TCGA_CS_6667_20011105_1 for train\n",
      "Processe: TCGA_DU_5853_19950823_30 for train\n",
      "Processe: TCGA_HT_7879_19981009_28 for train\n",
      "Processe: TCGA_DU_6399_19830416_30 for train\n",
      "Processe: TCGA_DU_8166_19970322_1 for train\n",
      "Processe: TCGA_FG_5964_20010511_18 for train\n",
      "Processe: TCGA_CS_5393_19990606_6 for train\n",
      "Processe: TCGA_DU_7014_19860618_8 for train\n",
      "Processe: TCGA_HT_7694_19950404_17 for train\n",
      "Processe: TCGA_HT_7877_19980917_30 for train\n",
      "Processe: TCGA_HT_7680_19970202_19 for train\n",
      "Processe: TCGA_DU_7018_19911220_7 for train\n",
      "Processe: TCGA_FG_A4MU_20030903_8 for train\n",
      "Processe: TCGA_FG_A60K_20040224_7 for train\n",
      "Processe: TCGA_HT_A5RC_19990831_2 for train\n",
      "Processe: TCGA_CS_4941_19960909_15 for train\n",
      "Processe: TCGA_DU_6405_19851005_5 for train\n",
      "Processe: TCGA_DU_5874_19950510_23 for train\n",
      "Processe: TCGA_DU_7014_19860618_9 for train\n",
      "Processe: TCGA_DU_5872_19950223_7 for train\n",
      "Processe: TCGA_CS_4942_19970222_2 for train\n",
      "Processe: TCGA_DU_7014_19860618_42 for train\n",
      "Processe: TCGA_DU_A5TY_19970709_11 for train\n",
      "Processe: TCGA_DU_7306_19930512_34 for train\n",
      "Processe: TCGA_HT_7690_19960312_24 for train\n",
      "Processe: TCGA_DU_8168_19970503_35 for train\n",
      "Processe: TCGA_DU_5852_19950709_23 for train\n",
      "Processe: TCGA_HT_8107_19980708_1 for train\n",
      "Processe: TCGA_DU_A5TT_19980318_8 for train\n",
      "Processe: TCGA_FG_6691_20020405_46 for train\n",
      "Processe: TCGA_DU_5854_19951104_21 for train\n",
      "Processe: TCGA_DU_7309_19960831_22 for train\n",
      "Processe: TCGA_HT_A61B_19991127_8 for train\n",
      "Processe: TCGA_FG_6691_20020405_18 for train\n",
      "Processe: TCGA_HT_7694_19950404_19 for train\n",
      "Processe: TCGA_DU_A5TR_19970726_4 for train\n",
      "Processe: TCGA_DU_7014_19860618_58 for train\n",
      "Processe: TCGA_DU_8165_19970205_9 for train\n",
      "Processe: TCGA_DU_A5TW_19980228_20 for train\n",
      "Processe: TCGA_HT_A616_19991226_14 for train\n",
      "Processe: TCGA_DU_5872_19950223_55 for train\n",
      "Processe: TCGA_DU_5874_19950510_12 for train\n",
      "Processe: TCGA_DU_5872_19950223_46 for train\n",
      "Processe: TCGA_DU_6407_19860514_16 for train\n",
      "Processe: TCGA_DU_7309_19960831_10 for train\n",
      "Processe: TCGA_HT_7690_19960312_7 for train\n",
      "Processe: TCGA_DU_8162_19961029_5 for train\n",
      "Processe: TCGA_DU_8166_19970322_2 for train\n",
      "Processe: TCGA_HT_7881_19981015_55 for train\n",
      "Processe: TCGA_DU_5874_19950510_9 for train\n",
      "Processe: TCGA_HT_A616_19991226_13 for train\n",
      "Processe: TCGA_FG_7637_20000922_39 for train\n",
      "Processe: TCGA_FG_6689_20020326_32 for train\n",
      "Processe: TCGA_HT_8563_19981209_10 for train\n",
      "Processe: TCGA_FG_A4MT_20020212_3 for train\n",
      "Processe: TCGA_CS_6186_20000601_21 for train\n",
      "Processe: TCGA_DU_7010_19860307_5 for train\n",
      "Processe: TCGA_DU_5871_19941206_32 for train\n",
      "Processe: TCGA_DU_5872_19950223_23 for train\n",
      "Processe: TCGA_DU_A5TS_19970726_1 for train\n",
      "Processe: TCGA_HT_7882_19970125_22 for train\n",
      "Processe: TCGA_FG_A60K_20040224_59 for train\n",
      "Processe: TCGA_DU_7014_19860618_44 for train\n",
      "Processe: TCGA_HT_7856_19950831_13 for train\n",
      "Processe: TCGA_DU_6408_19860521_27 for train\n",
      "Processe: TCGA_HT_8563_19981209_8 for train\n",
      "Processe: TCGA_FG_6688_20020215_3 for train\n",
      "Processe: TCGA_DU_5849_19950405_9 for train\n",
      "Processe: TCGA_DU_7014_19860618_35 for train\n",
      "Processe: TCGA_HT_8105_19980826_13 for train\n",
      "Processe: TCGA_DU_7304_19930325_21 for train\n",
      "Processe: TCGA_DU_7010_19860307_45 for train\n",
      "Processe: TCGA_HT_7860_19960513_10 for train\n",
      "Processe: TCGA_CS_6666_20011109_1 for train\n",
      "Processe: TCGA_DU_7008_19830723_18 for train\n",
      "Processe: TCGA_DU_7301_19911112_27 for train\n",
      "Processe: TCGA_FG_A4MT_20020212_15 for train\n",
      "Processe: TCGA_HT_A61A_20000127_39 for train\n",
      "Processe: TCGA_DU_5849_19950405_17 for train\n",
      "Processe: TCGA_DU_7018_19911220_4 for train\n",
      "Processe: TCGA_CS_5397_20010315_10 for train\n",
      "Processe: TCGA_DU_6408_19860521_19 for train\n",
      "Processe: TCGA_FG_A60K_20040224_30 for train\n",
      "Processe: TCGA_DU_7008_19830723_25 for train\n",
      "Processe: TCGA_DU_7300_19910814_34 for train\n",
      "Processe: TCGA_CS_6188_20010812_15 for train\n",
      "Processe: TCGA_DU_7301_19911112_2 for train\n",
      "Processe: TCGA_HT_7874_19950902_11 for train\n",
      "Processe: TCGA_FG_6689_20020326_34 for train\n",
      "Processe: TCGA_CS_4942_19970222_1 for train\n",
      "Processe: TCGA_HT_7684_19950816_5 for train\n",
      "Processe: TCGA_HT_7882_19970125_15 for train\n",
      "Processe: TCGA_HT_7608_19940304_20 for train\n",
      "Processe: TCGA_HT_A61A_20000127_48 for train\n",
      "Processe: TCGA_DU_7014_19860618_33 for train\n",
      "Processe: TCGA_DU_7008_19830723_47 for train\n",
      "Processe: TCGA_DU_7300_19910814_3 for train\n",
      "Processe: TCGA_DU_7018_19911220_1 for train\n",
      "Processe: TCGA_HT_7874_19950902_19 for train\n",
      "Processe: TCGA_FG_6689_20020326_12 for train\n",
      "Processe: TCGA_DU_6408_19860521_46 for train\n",
      "Processe: TCGA_HT_7692_19960724_20 for train\n",
      "Processe: TCGA_DU_A5TY_19970709_23 for train\n",
      "Processe: TCGA_HT_7475_19970918_19 for train\n",
      "Processe: TCGA_DU_7014_19860618_5 for train\n",
      "Processe: TCGA_HT_7475_19970918_4 for train\n",
      "Processe: TCGA_DU_8166_19970322_23 for train\n",
      "Processe: TCGA_DU_6399_19830416_48 for train\n",
      "Processe: TCGA_DU_7019_19940908_35 for train\n",
      "Processe: TCGA_DU_7008_19830723_35 for train\n",
      "Processe: TCGA_HT_8114_19981030_11 for train\n",
      "Processe: TCGA_DU_A5TT_19980318_28 for train\n",
      "Processe: TCGA_DU_7302_19911203_6 for train\n",
      "Processe: TCGA_FG_6691_20020405_35 for train\n",
      "Processe: TCGA_HT_7605_19950916_26 for train\n",
      "Processe: TCGA_DU_7299_19910417_5 for train\n",
      "Processe: TCGA_CS_6666_20011109_15 for train\n",
      "Processe: TCGA_DU_6400_19830518_19 for train\n",
      "Processe: TCGA_DU_A5TR_19970726_5 for train\n",
      "Processe: TCGA_DU_5851_19950428_5 for train\n",
      "Processe: TCGA_HT_A61A_20000127_33 for train\n",
      "Processe: TCGA_DU_7010_19860307_20 for train\n",
      "Processe: TCGA_HT_7877_19980917_26 for train\n",
      "Processe: TCGA_DU_6407_19860514_30 for train\n",
      "Processe: TCGA_DU_8162_19961029_29 for train\n",
      "Processe: TCGA_HT_7881_19981015_6 for train\n",
      "Processe: TCGA_DU_6400_19830518_53 for train\n",
      "Processe: TCGA_DU_8167_19970402_20 for train\n",
      "Processe: TCGA_FG_6690_20020226_24 for train\n",
      "Processe: TCGA_DU_5871_19941206_30 for train\n",
      "Processe: TCGA_DU_6408_19860521_44 for train\n",
      "Processe: TCGA_HT_A61A_20000127_32 for train\n",
      "Processe: TCGA_DU_8168_19970503_23 for train\n",
      "Processe: TCGA_HT_8105_19980826_8 for train\n",
      "Processe: TCGA_HT_7874_19950902_20 for train\n",
      "Processe: TCGA_FG_6689_20020326_20 for train\n",
      "Processe: TCGA_FG_5964_20010511_4 for train\n",
      "Processe: TCGA_HT_7473_19970826_23 for train\n",
      "Processe: TCGA_HT_7860_19960513_18 for train\n",
      "Processe: TCGA_HT_7473_19970826_16 for train\n",
      "Processe: TCGA_FG_8189_20030516_44 for train\n",
      "Processe: TCGA_FG_5962_20000626_12 for train\n",
      "Processe: TCGA_FG_7643_20021104_19 for train\n",
      "Processe: TCGA_DU_5852_19950709_2 for train\n",
      "Processe: TCGA_DU_6399_19830416_3 for train\n",
      "Processe: TCGA_HT_7879_19981009_10 for train\n",
      "Processe: TCGA_FG_A60K_20040224_31 for train\n",
      "Processe: TCGA_FG_A60K_20040224_69 for train\n",
      "Processe: TCGA_DU_5851_19950428_7 for train\n",
      "Processe: TCGA_DU_5872_19950223_21 for train\n",
      "Processe: TCGA_FG_6691_20020405_14 for train\n",
      "Processe: TCGA_DU_6404_19850629_46 for train\n",
      "Processe: TCGA_FG_8189_20030516_12 for train\n",
      "Processe: TCGA_HT_7874_19950902_3 for train\n",
      "Processe: TCGA_HT_8113_19930809_10 for train\n",
      "Processe: TCGA_DU_6408_19860521_37 for train\n",
      "Processe: TCGA_DU_8166_19970322_34 for train\n",
      "Processe: TCGA_DU_A5TY_19970709_24 for train\n",
      "Processe: TCGA_FG_A4MU_20030903_14 for train\n",
      "Processe: TCGA_DU_5854_19951104_13 for train\n",
      "Processe: TCGA_DU_6408_19860521_32 for train\n",
      "Processe: TCGA_DU_6405_19851005_15 for train\n",
      "Processe: TCGA_HT_8563_19981209_3 for train\n",
      "Processe: TCGA_DU_5854_19951104_7 for train\n",
      "Processe: TCGA_DU_7294_19890104_28 for train\n",
      "Processe: TCGA_FG_A60K_20040224_22 for train\n",
      "Processe: TCGA_HT_7884_19980913_6 for train\n",
      "Processe: TCGA_DU_7301_19911112_33 for train\n",
      "Processe: TCGA_HT_7694_19950404_10 for train\n",
      "Processe: TCGA_DU_7013_19860523_43 for train\n",
      "Processe: TCGA_CS_6667_20011105_7 for train\n",
      "Processe: TCGA_DU_7014_19860618_24 for train\n",
      "Processe: TCGA_HT_7860_19960513_16 for train\n",
      "Processe: TCGA_DU_8168_19970503_14 for train\n",
      "Processe: TCGA_DU_6399_19830416_45 for train\n",
      "Processe: TCGA_HT_7475_19970918_15 for train\n",
      "Processe: TCGA_FG_8189_20030516_18 for train\n",
      "Processe: TCGA_CS_6667_20011105_5 for train\n",
      "Processe: TCGA_FG_7637_20000922_30 for train\n",
      "Processe: TCGA_DU_7306_19930512_39 for train\n",
      "Processe: TCGA_DU_7309_19960831_40 for train\n",
      "Processe: TCGA_DU_5851_19950428_6 for train\n",
      "Processe: TCGA_FG_7643_20021104_48 for train\n",
      "Processe: TCGA_FG_5962_20000626_22 for train\n",
      "Processe: TCGA_FG_7634_20000128_21 for train\n",
      "Processe: TCGA_FG_7643_20021104_39 for train\n",
      "Processe: TCGA_HT_7602_19951103_19 for train\n",
      "Processe: TCGA_FG_7637_20000922_31 for train\n",
      "Processe: TCGA_FG_A4MT_20020212_13 for train\n",
      "Processe: TCGA_DU_5853_19950823_10 for train\n",
      "Processe: TCGA_DU_7013_19860523_10 for train\n",
      "Processe: TCGA_DU_6401_19831001_36 for train\n",
      "Processe: TCGA_FG_8189_20030516_1 for train\n",
      "Processe: TCGA_HT_A61B_19991127_74 for train\n",
      "Processe: TCGA_DU_6401_19831001_47 for train\n",
      "Processe: TCGA_DU_7298_19910324_26 for train\n",
      "Processe: TCGA_FG_5962_20000626_39 for train\n",
      "Processe: TCGA_DU_5871_19941206_9 for train\n",
      "Processe: TCGA_CS_6186_20000601_11 for train\n",
      "Processe: TCGA_CS_6666_20011109_21 for train\n",
      "Processe: TCGA_FG_6688_20020215_18 for train\n",
      "Processe: TCGA_DU_6408_19860521_5 for train\n",
      "Processe: TCGA_HT_7881_19981015_41 for train\n",
      "Processe: TCGA_HT_7686_19950629_17 for train\n",
      "Processe: TCGA_DU_7014_19860618_26 for train\n",
      "Processe: TCGA_DU_A5TS_19970726_24 for train\n",
      "Processe: TCGA_DU_6408_19860521_56 for train\n",
      "Processe: TCGA_DU_8168_19970503_15 for train\n",
      "Processe: TCGA_DU_7309_19960831_8 for train\n",
      "Processe: TCGA_DU_6404_19850629_39 for train\n",
      "Processe: TCGA_HT_8111_19980330_21 for train\n",
      "Processe: TCGA_HT_7684_19950816_11 for train\n",
      "Processe: TCGA_DU_7309_19960831_7 for train\n",
      "Processe: TCGA_DU_7298_19910324_21 for train\n",
      "Processe: TCGA_DU_7299_19910417_12 for train\n",
      "Processe: TCGA_CS_4944_20010208_14 for train\n",
      "Processe: TCGA_DU_6401_19831001_10 for train\n",
      "Processe: TCGA_DU_7013_19860523_9 for train\n",
      "Processe: TCGA_HT_8105_19980826_16 for train\n",
      "Processe: TCGA_DU_7302_19911203_26 for train\n",
      "Processe: TCGA_HT_8113_19930809_4 for train\n",
      "Processe: TCGA_FG_7637_20000922_18 for train\n",
      "Processe: TCGA_FG_7643_20021104_25 for train\n",
      "Processe: TCGA_HT_7475_19970918_18 for train\n",
      "Processe: TCGA_DU_5851_19950428_28 for train\n",
      "Processe: TCGA_DU_8166_19970322_6 for train\n",
      "Processe: TCGA_CS_6188_20010812_9 for train\n",
      "Processe: TCGA_HT_A616_19991226_25 for train\n",
      "Processe: TCGA_DU_A5TT_19980318_6 for train\n",
      "Processe: TCGA_HT_7693_19950520_19 for train\n",
      "Processe: TCGA_CS_5396_20010302_15 for train\n",
      "Processe: TCGA_HT_7856_19950831_6 for train\n",
      "Processe: TCGA_HT_A5RC_19990831_1 for train\n",
      "Processe: TCGA_DU_6405_19851005_32 for train\n",
      "Processe: TCGA_FG_A4MU_20030903_21 for train\n",
      "Processe: TCGA_DU_6400_19830518_55 for train\n",
      "Processe: TCGA_FG_7634_20000128_1 for train\n",
      "Processe: TCGA_DU_5852_19950709_4 for train\n",
      "Processe: TCGA_CS_6290_20000917_13 for train\n",
      "Processe: TCGA_DU_6404_19850629_15 for train\n",
      "Processe: TCGA_HT_7473_19970826_19 for train\n",
      "Processe: TCGA_CS_4943_20000902_4 for train\n",
      "Processe: TCGA_DU_7304_19930325_33 for train\n",
      "Processe: TCGA_DU_7302_19911203_36 for train\n",
      "Processe: TCGA_HT_7680_19970202_8 for train\n",
      "Processe: TCGA_DU_8162_19961029_30 for train\n",
      "Processe: TCGA_FG_6689_20020326_6 for train\n",
      "Processe: TCGA_FG_8189_20030516_4 for train\n",
      "Processe: TCGA_DU_7014_19860618_52 for train\n",
      "Processe: TCGA_DU_5852_19950709_19 for train\n",
      "Processe: TCGA_DU_6405_19851005_19 for train\n",
      "Processe: TCGA_CS_6667_20011105_18 for train\n",
      "Processe: TCGA_FG_7643_20021104_38 for train\n",
      "Processe: TCGA_HT_7882_19970125_8 for train\n",
      "Processe: TCGA_HT_7882_19970125_28 for train\n",
      "Processe: TCGA_DU_8165_19970205_5 for train\n",
      "Processe: TCGA_HT_7881_19981015_59 for train\n",
      "Processe: TCGA_DU_5854_19951104_2 for train\n",
      "Processe: TCGA_DU_5874_19950510_29 for train\n",
      "Processe: TCGA_DU_6400_19830518_50 for train\n",
      "Processe: TCGA_HT_A61A_20000127_79 for train\n",
      "Processe: TCGA_DU_7018_19911220_24 for train\n",
      "Processe: TCGA_DU_5872_19950223_19 for train\n",
      "Processe: TCGA_DU_7309_19960831_1 for train\n",
      "Processe: TCGA_FG_7637_20000922_22 for train\n",
      "Processe: TCGA_CS_6668_20011025_15 for train\n",
      "Processe: TCGA_DU_5849_19950405_30 for train\n",
      "Processe: TCGA_HT_7881_19981015_63 for train\n",
      "Processe: TCGA_CS_4944_20010208_8 for train\n",
      "Processe: TCGA_FG_6691_20020405_4 for train\n",
      "Processe: TCGA_FG_6691_20020405_36 for train\n",
      "Processe: TCGA_DU_6407_19860514_12 for train\n",
      "Processe: TCGA_DU_5854_19951104_29 for train\n",
      "Processe: TCGA_DU_A5TW_19980228_7 for train\n",
      "Processe: TCGA_HT_7684_19950816_4 for train\n",
      "Processe: TCGA_CS_5393_19990606_10 for train\n",
      "Processe: TCGA_FG_A60K_20040224_24 for train\n",
      "Processe: TCGA_HT_A61A_20000127_76 for train\n",
      "Processe: TCGA_DU_5852_19950709_9 for train\n",
      "Processe: TCGA_DU_A5TY_19970709_16 for train\n",
      "Processe: TCGA_FG_7643_20021104_6 for train\n",
      "Processe: TCGA_HT_8107_19980708_17 for train\n",
      "Processe: TCGA_FG_A4MT_20020212_41 for train\n",
      "Processe: TCGA_DU_7302_19911203_13 for train\n",
      "Processe: TCGA_HT_7608_19940304_6 for train\n",
      "Processe: TCGA_HT_A616_19991226_17 for train\n",
      "Processe: TCGA_HT_7475_19970918_22 for train\n",
      "Processe: TCGA_FG_7643_20021104_21 for train\n",
      "Processe: TCGA_HT_8105_19980826_23 for train\n",
      "Processe: TCGA_CS_6188_20010812_21 for train\n",
      "Processe: TCGA_DU_5854_19951104_20 for train\n",
      "Processe: TCGA_DU_5852_19950709_5 for train\n",
      "Processe: TCGA_EZ_7264_20010816_1 for train\n",
      "Processe: TCGA_DU_5849_19950405_10 for train\n",
      "Processe: TCGA_DU_7309_19960831_11 for train\n",
      "Processe: TCGA_DU_5872_19950223_15 for train\n",
      "Processe: TCGA_HT_7694_19950404_21 for train\n",
      "Processe: TCGA_DU_A5TT_19980318_2 for train\n",
      "Processe: TCGA_DU_7300_19910814_16 for train\n",
      "Processe: TCGA_CS_4944_20010208_9 for train\n",
      "Processe: TCGA_DU_6399_19830416_25 for train\n",
      "Processe: TCGA_CS_6668_20011025_27 for train\n",
      "Processe: TCGA_DU_5851_19950428_8 for train\n",
      "Processe: TCGA_FG_A4MT_20020212_22 for train\n",
      "Processe: TCGA_DU_6401_19831001_26 for train\n",
      "Processe: TCGA_DU_7294_19890104_22 for train\n",
      "Processe: TCGA_DU_7298_19910324_11 for train\n",
      "Processe: TCGA_DU_5849_19950405_22 for train\n",
      "Processe: TCGA_DU_5853_19950823_16 for train\n",
      "Processe: TCGA_HT_7616_19940813_6 for train\n",
      "Processe: TCGA_HT_A61A_20000127_53 for train\n",
      "Processe: TCGA_DU_A5TW_19980228_10 for train\n",
      "Processe: TCGA_FG_7643_20021104_3 for train\n",
      "Processe: TCGA_CS_4943_20000902_16 for train\n",
      "Processe: TCGA_HT_A61B_19991127_32 for train\n",
      "Processe: TCGA_FG_A60K_20040224_67 for train\n",
      "Processe: TCGA_CS_5396_20010302_22 for train\n",
      "Processe: TCGA_DU_8166_19970322_21 for train\n",
      "Processe: TCGA_CS_6669_20020102_3 for train\n",
      "Processe: TCGA_DU_8163_19961119_6 for train\n",
      "Processe: TCGA_DU_A5TR_19970726_30 for train\n",
      "Processe: TCGA_DU_7306_19930512_11 for train\n",
      "Processe: TCGA_DU_A5TR_19970726_18 for train\n",
      "Processe: TCGA_HT_7856_19950831_15 for train\n",
      "Processe: TCGA_CS_6665_20010817_12 for train\n",
      "Processe: TCGA_FG_5962_20000626_5 for train\n",
      "Processe: TCGA_FG_A60K_20040224_41 for train\n",
      "Processe: TCGA_CS_4943_20000902_20 for train\n",
      "Processe: TCGA_HT_7475_19970918_17 for train\n",
      "Processe: TCGA_FG_8189_20030516_52 for train\n",
      "Processe: TCGA_DU_5849_19950405_24 for train\n",
      "Processe: TCGA_HT_A61B_19991127_84 for train\n",
      "Processe: TCGA_DU_7013_19860523_48 for train\n",
      "Processe: TCGA_CS_6290_20000917_20 for train\n",
      "Processe: TCGA_DU_6404_19850629_41 for train\n",
      "Processe: TCGA_DU_6405_19851005_36 for train\n",
      "Processe: TCGA_DU_7300_19910814_6 for train\n",
      "Processe: TCGA_DU_7013_19860523_29 for train\n",
      "Processe: TCGA_HT_8113_19930809_1 for train\n",
      "Processe: TCGA_DU_8168_19970503_36 for train\n",
      "Processe: TCGA_DU_5872_19950223_11 for train\n",
      "Processe: TCGA_FG_6692_20020606_19 for train\n",
      "Processe: TCGA_HT_A61B_19991127_9 for train\n",
      "Processe: TCGA_CS_6668_20011025_1 for train\n",
      "Processe: TCGA_HT_7692_19960724_19 for train\n",
      "Processe: TCGA_DU_6404_19850629_14 for train\n",
      "Processe: TCGA_CS_5396_20010302_18 for train\n",
      "Processe: TCGA_DU_A5TS_19970726_18 for train\n",
      "Processe: TCGA_HT_7684_19950816_7 for train\n",
      "Processe: TCGA_DU_A5TR_19970726_31 for train\n",
      "Processe: TCGA_HT_A61A_20000127_35 for train\n",
      "Processe: TCGA_FG_7643_20021104_17 for train\n",
      "Processe: TCGA_DU_A5TR_19970726_2 for train\n",
      "Processe: TCGA_DU_7306_19930512_26 for train\n",
      "Processe: TCGA_HT_A61A_20000127_83 for train\n",
      "Processe: TCGA_DU_7309_19960831_39 for train\n",
      "Processe: TCGA_DU_8162_19961029_33 for train\n",
      "Processe: TCGA_FG_5962_20000626_30 for train\n",
      "Processe: TCGA_DU_7302_19911203_32 for train\n",
      "Processe: TCGA_DU_8166_19970322_20 for train\n",
      "Processe: TCGA_CS_4943_20000902_9 for train\n",
      "Processe: TCGA_DU_A5TT_19980318_40 for train\n",
      "Processe: TCGA_DU_7304_19930325_31 for train\n",
      "Processe: TCGA_HT_7684_19950816_15 for train\n",
      "Processe: TCGA_FG_8189_20030516_43 for train\n",
      "Processe: TCGA_DU_A5TR_19970726_28 for train\n",
      "Processe: TCGA_DU_5871_19941206_16 for train\n",
      "Processe: TCGA_HT_7881_19981015_42 for train\n",
      "Processe: TCGA_CS_6188_20010812_7 for train\n",
      "Processe: TCGA_DU_6404_19850629_20 for train\n",
      "Processe: TCGA_CS_5395_19981004_10 for train\n",
      "Processe: TCGA_HT_7855_19951020_10 for train\n",
      "Processe: TCGA_DU_8162_19961029_36 for train\n",
      "Processe: TCGA_HT_7686_19950629_4 for train\n",
      "Processe: TCGA_FG_6690_20020226_53 for train\n",
      "Processe: TCGA_HT_A61B_19991127_75 for train\n",
      "Processe: TCGA_FG_6690_20020226_43 for train\n",
      "Processe: TCGA_HT_A61A_20000127_24 for train\n",
      "Processe: TCGA_DU_7304_19930325_23 for train\n",
      "Processe: TCGA_HT_A616_19991226_12 for train\n",
      "Processe: TCGA_CS_6668_20011025_10 for train\n",
      "Processe: TCGA_HT_A61A_20000127_47 for train\n",
      "Processe: TCGA_FG_A4MU_20030903_30 for train\n",
      "Processe: TCGA_DU_A5TW_19980228_24 for train\n",
      "Processe: TCGA_DU_A5TU_19980312_18 for train\n",
      "Processe: TCGA_HT_8111_19980330_1 for train\n",
      "Processe: TCGA_HT_8105_19980826_18 for train\n",
      "Processe: TCGA_DU_7014_19860618_36 for train\n",
      "Processe: TCGA_DU_8167_19970402_30 for train\n",
      "Processe: TCGA_FG_6688_20020215_1 for train\n",
      "Processe: TCGA_HT_A61B_19991127_44 for train\n",
      "Processe: TCGA_DU_7306_19930512_5 for train\n",
      "Processe: TCGA_DU_8164_19970111_35 for train\n",
      "Processe: TCGA_DU_A5TW_19980228_17 for train\n",
      "Processe: TCGA_FG_7643_20021104_31 for train\n",
      "Processe: TCGA_HT_8113_19930809_14 for train\n",
      "Processe: TCGA_FG_7637_20000922_6 for train\n",
      "Processe: TCGA_DU_A5TT_19980318_51 for train\n",
      "Processe: TCGA_CS_4941_19960909_9 for train\n",
      "Processe: TCGA_DU_7301_19911112_21 for train\n",
      "Processe: TCGA_HT_7473_19970826_7 for train\n",
      "Processe: TCGA_CS_6668_20011025_26 for train\n",
      "Processe: TCGA_FG_A4MT_20020212_6 for train\n",
      "Processe: TCGA_HT_7608_19940304_21 for train\n",
      "Processe: TCGA_CS_5396_20010302_9 for train\n",
      "Processe: TCGA_DU_A5TT_19980318_41 for train\n",
      "Processe: TCGA_DU_8163_19961119_20 for train\n",
      "Processe: TCGA_DU_6399_19830416_41 for train\n",
      "Processe: TCGA_FG_7643_20021104_4 for train\n",
      "Processe: TCGA_CS_6668_20011025_5 for train\n",
      "Processe: TCGA_HT_A61B_19991127_5 for train\n",
      "Processe: TCGA_HT_7473_19970826_26 for train\n",
      "Processe: TCGA_DU_7309_19960831_4 for train\n",
      "Processe: TCGA_DU_6408_19860521_20 for train\n",
      "Processe: TCGA_DU_6400_19830518_54 for train\n",
      "Processe: TCGA_HT_7860_19960513_9 for train\n",
      "Processe: TCGA_DU_5854_19951104_15 for train\n",
      "Processe: TCGA_HT_7605_19950916_30 for train\n",
      "Processe: TCGA_DU_7304_19930325_19 for train\n",
      "Processe: TCGA_DU_7014_19860618_17 for train\n",
      "Processe: TCGA_DU_8167_19970402_11 for train\n",
      "Processe: TCGA_FG_6690_20020226_17 for train\n",
      "Processe: TCGA_HT_7874_19950902_10 for train\n",
      "Processe: TCGA_DU_7304_19930325_34 for train\n",
      "Processe: TCGA_DU_7013_19860523_38 for train\n",
      "Processe: TCGA_DU_8162_19961029_11 for train\n",
      "Processe: TCGA_HT_8113_19930809_5 for train\n",
      "Processe: TCGA_HT_7605_19950916_23 for train\n",
      "Processe: TCGA_FG_8189_20030516_11 for train\n",
      "Processe: TCGA_HT_7692_19960724_13 for train\n",
      "Processe: TCGA_FG_6691_20020405_42 for train\n",
      "Processe: TCGA_HT_7879_19981009_20 for train\n",
      "Processe: TCGA_FG_7643_20021104_30 for train\n",
      "Processe: TCGA_DU_5851_19950428_31 for train\n",
      "Processe: TCGA_HT_7856_19950831_29 for train\n",
      "Processe: TCGA_HT_7473_19970826_4 for train\n",
      "Processe: TCGA_DU_7302_19911203_2 for train\n",
      "Processe: TCGA_DU_6405_19851005_10 for train\n",
      "Processe: TCGA_HT_A61A_20000127_8 for train\n",
      "Processe: TCGA_DU_8163_19961119_10 for train\n",
      "Processe: TCGA_HT_7855_19951020_12 for train\n",
      "Processe: TCGA_FG_6689_20020326_9 for train\n",
      "Processe: TCGA_DU_A5TY_19970709_36 for train\n",
      "Processe: TCGA_DU_A5TP_19970614_16 for train\n",
      "Processe: TCGA_HT_7684_19950816_6 for train\n",
      "Processe: TCGA_DU_8165_19970205_17 for train\n",
      "Processe: TCGA_CS_6290_20000917_8 for train\n",
      "Processe: TCGA_FG_6692_20020606_21 for train\n",
      "Processe: TCGA_DU_A5TU_19980312_19 for train\n",
      "Processe: TCGA_CS_6665_20010817_20 for train\n",
      "Processe: TCGA_HT_8105_19980826_27 for train\n",
      "Processe: TCGA_CS_6667_20011105_3 for train\n",
      "Processe: TCGA_DU_5849_19950405_26 for train\n",
      "Processe: TCGA_DU_6404_19850629_10 for train\n",
      "Processe: TCGA_DU_6400_19830518_4 for train\n",
      "Processe: TCGA_CS_6666_20011109_9 for train\n",
      "Processe: TCGA_FG_6692_20020606_20 for train\n",
      "Processe: TCGA_CS_4943_20000902_5 for train\n",
      "Processe: TCGA_DU_A5TU_19980312_12 for train\n",
      "Processe: TCGA_HT_7473_19970826_24 for train\n",
      "Processe: TCGA_DU_6405_19851005_56 for train\n",
      "Processe: TCGA_DU_7013_19860523_28 for train\n",
      "Processe: TCGA_DU_5874_19950510_15 for train\n",
      "Processe: TCGA_FG_5962_20000626_45 for train\n",
      "Processe: TCGA_HT_7616_19940813_4 for train\n",
      "Processe: TCGA_HT_A61B_19991127_25 for train\n",
      "Processe: TCGA_DU_7008_19830723_22 for train\n",
      "Processe: TCGA_DU_5874_19950510_1 for train\n",
      "Processe: TCGA_DU_5855_19951217_25 for train\n",
      "Processe: TCGA_DU_8167_19970402_27 for train\n",
      "Processe: TCGA_DU_6405_19851005_18 for train\n",
      "Processe: TCGA_FG_7634_20000128_26 for train\n",
      "Processe: TCGA_DU_7008_19830723_29 for train\n",
      "Processe: TCGA_DU_7010_19860307_1 for train\n",
      "Processe: TCGA_DU_8166_19970322_36 for train\n",
      "Processe: TCGA_HT_7881_19981015_74 for train\n",
      "Processe: TCGA_FG_7643_20021104_2 for train\n",
      "Processe: TCGA_DU_7014_19860618_56 for train\n",
      "Processe: TCGA_DU_8166_19970322_14 for train\n",
      "Processe: TCGA_HT_8018_19970411_6 for train\n",
      "Processe: TCGA_DU_5874_19950510_30 for train\n",
      "Processe: TCGA_CS_4944_20010208_10 for train\n",
      "Processe: TCGA_DU_6404_19850629_48 for train\n",
      "Processe: TCGA_FG_A4MT_20020212_28 for train\n",
      "Processe: TCGA_HT_7860_19960513_2 for train\n",
      "Processe: TCGA_DU_6405_19851005_25 for train\n",
      "Processe: TCGA_FG_A60K_20040224_2 for train\n",
      "Processe: TCGA_HT_7605_19950916_21 for train\n",
      "Processe: TCGA_FG_7637_20000922_36 for train\n",
      "Processe: TCGA_DU_7301_19911112_13 for train\n",
      "Processe: TCGA_DU_7008_19830723_13 for train\n",
      "Processe: TCGA_DU_5855_19951217_10 for train\n",
      "Processe: TCGA_HT_7605_19950916_3 for train\n",
      "Processe: TCGA_HT_7884_19980913_17 for train\n",
      "Processe: TCGA_FG_5962_20000626_38 for train\n",
      "Processe: TCGA_HT_7874_19950902_5 for train\n",
      "Processe: TCGA_DU_7014_19860618_49 for train\n",
      "Processe: TCGA_DU_5853_19950823_29 for train\n",
      "Processe: TCGA_DU_6399_19830416_16 for train\n",
      "Processe: TCGA_DU_7018_19911220_3 for train\n",
      "Processe: TCGA_HT_A61B_19991127_10 for train\n",
      "Processe: TCGA_DU_7301_19911112_9 for train\n",
      "Processe: TCGA_DU_8165_19970205_8 for train\n",
      "Processe: TCGA_FG_A60K_20040224_6 for train\n",
      "Processe: TCGA_HT_7680_19970202_3 for train\n",
      "Processe: TCGA_HT_7616_19940813_16 for train\n",
      "Processe: TCGA_FG_7634_20000128_22 for train\n",
      "Processe: TCGA_DU_8163_19961119_21 for train\n",
      "Processe: TCGA_DU_7300_19910814_35 for train\n",
      "Processe: TCGA_DU_6407_19860514_2 for train\n",
      "Processe: TCGA_HT_7881_19981015_9 for train\n",
      "Processe: TCGA_DU_6404_19850629_21 for train\n",
      "Processe: TCGA_HT_A61B_19991127_49 for train\n",
      "Processe: TCGA_DU_8167_19970402_9 for train\n",
      "Processe: TCGA_DU_6400_19830518_15 for train\n",
      "Processe: TCGA_DU_7306_19930512_14 for train\n",
      "Processe: TCGA_DU_8168_19970503_18 for train\n",
      "Processe: TCGA_DU_6405_19851005_45 for train\n",
      "Processe: TCGA_HT_7694_19950404_13 for train\n",
      "Processe: TCGA_DU_A5TR_19970726_23 for train\n",
      "Processe: TCGA_DU_8163_19961119_24 for train\n",
      "Processe: TCGA_DU_6404_19850629_9 for train\n",
      "Processe: TCGA_DU_8168_19970503_27 for train\n",
      "Processe: TCGA_CS_4942_19970222_7 for train\n",
      "Processe: TCGA_DU_7018_19911220_6 for train\n",
      "Processe: TCGA_HT_7616_19940813_9 for train\n",
      "Processe: TCGA_DU_8167_19970402_24 for train\n",
      "Processe: TCGA_DU_6405_19851005_35 for train\n",
      "Processe: TCGA_DU_A5TW_19980228_5 for train\n",
      "Processe: TCGA_FG_5964_20010511_2 for train\n",
      "Processe: TCGA_DU_A5TU_19980312_16 for train\n",
      "Processe: TCGA_HT_8113_19930809_13 for train\n",
      "Processe: TCGA_FG_A60K_20040224_19 for train\n",
      "Processe: TCGA_DU_7010_19860307_58 for train\n",
      "Processe: TCGA_DU_5853_19950823_5 for train\n",
      "Processe: TCGA_DU_8167_19970402_4 for train\n",
      "Processe: TCGA_HT_8105_19980826_20 for train\n",
      "Processe: TCGA_HT_A5RC_19990831_11 for train\n",
      "Processe: TCGA_HT_8113_19930809_17 for train\n",
      "Processe: TCGA_DU_5871_19941206_10 for train\n",
      "Processe: TCGA_HT_8114_19981030_19 for train\n",
      "Processe: TCGA_HT_A61A_20000127_50 for train\n",
      "Processe: TCGA_HT_7616_19940813_24 for train\n",
      "Processe: TCGA_DU_8166_19970322_30 for train\n",
      "Processe: TCGA_HT_7690_19960312_19 for train\n",
      "Processe: TCGA_DU_5872_19950223_50 for train\n",
      "Processe: TCGA_FG_A4MU_20030903_25 for train\n",
      "Processe: TCGA_DU_6407_19860514_46 for train\n",
      "Processe: TCGA_DU_5855_19951217_7 for train\n",
      "Processe: TCGA_DU_6400_19830518_32 for train\n",
      "Processe: TCGA_DU_7010_19860307_9 for train\n",
      "Processe: TCGA_DU_7309_19960831_32 for train\n",
      "Processe: TCGA_DU_A5TS_19970726_26 for train\n",
      "Processe: TCGA_FG_A4MT_20020212_8 for train\n",
      "Processe: TCGA_DU_8168_19970503_4 for train\n",
      "Processe: TCGA_DU_A5TP_19970614_6 for train\n",
      "Processe: TCGA_DU_A5TY_19970709_22 for train\n",
      "Processe: TCGA_DU_7019_19940908_27 for train\n",
      "Processe: TCGA_FG_A4MT_20020212_43 for train\n",
      "Processe: TCGA_HT_A61A_20000127_63 for train\n",
      "Processe: TCGA_HT_7473_19970826_3 for train\n",
      "Processe: TCGA_FG_7643_20021104_40 for train\n",
      "Processe: TCGA_FG_5962_20000626_48 for train\n",
      "Processe: TCGA_DU_7302_19911203_17 for train\n",
      "Processe: TCGA_DU_6399_19830416_50 for train\n",
      "Processe: TCGA_HT_7881_19981015_46 for train\n",
      "Processe: TCGA_CS_4941_19960909_19 for train\n",
      "Processe: TCGA_DU_7010_19860307_28 for train\n",
      "Processe: TCGA_DU_8165_19970205_36 for train\n",
      "Processe: TCGA_DU_7300_19910814_5 for train\n",
      "Processe: TCGA_HT_8114_19981030_18 for train\n",
      "Processe: TCGA_DU_7014_19860618_14 for train\n",
      "Processe: TCGA_FG_6688_20020215_29 for train\n",
      "Processe: TCGA_DU_7298_19910324_30 for train\n",
      "Processe: TCGA_HT_7879_19981009_3 for train\n",
      "Processe: TCGA_HT_7877_19980917_19 for train\n",
      "Processe: TCGA_DU_7013_19860523_40 for train\n",
      "Processe: TCGA_DU_A5TS_19970726_29 for train\n",
      "Processe: TCGA_DU_A5TT_19980318_47 for train\n",
      "Processe: TCGA_HT_A61B_19991127_79 for train\n",
      "Processe: TCGA_HT_A61B_19991127_24 for train\n",
      "Processe: TCGA_HT_7693_19950520_20 for train\n",
      "Processe: TCGA_CS_6290_20000917_11 for train\n",
      "Processe: TCGA_DU_8163_19961119_5 for train\n",
      "Processe: TCGA_DU_6404_19850629_29 for train\n",
      "Processe: TCGA_HT_7693_19950520_15 for train\n",
      "Processe: TCGA_DU_5872_19950223_70 for train\n",
      "Processe: TCGA_CS_4943_20000902_17 for train\n",
      "Processe: TCGA_DU_7018_19911220_36 for train\n",
      "Processe: TCGA_DU_6404_19850629_43 for train\n",
      "Processe: TCGA_DU_A5TU_19980312_11 for train\n",
      "Processe: TCGA_EZ_7264_20010816_17 for train\n",
      "Processe: TCGA_HT_7882_19970125_23 for train\n",
      "Processe: TCGA_DU_5874_19950510_16 for train\n",
      "Processe: TCGA_HT_7608_19940304_27 for train\n",
      "Processe: TCGA_DU_5872_19950223_28 for train\n",
      "Processe: TCGA_DU_7008_19830723_49 for train\n",
      "Processe: TCGA_HT_7877_19980917_24 for train\n",
      "Processe: TCGA_DU_A5TP_19970614_1 for train\n",
      "Processe: TCGA_DU_6401_19831001_16 for train\n",
      "Processe: TCGA_HT_8111_19980330_5 for train\n",
      "Processe: TCGA_FG_7643_20021104_22 for train\n",
      "Processe: TCGA_DU_A5TY_19970709_12 for train\n",
      "Processe: TCGA_HT_7881_19981015_18 for train\n",
      "Processe: TCGA_HT_8105_19980826_17 for train\n",
      "Processe: TCGA_DU_5874_19950510_34 for train\n",
      "Processe: TCGA_DU_7008_19830723_15 for train\n",
      "Processe: TCGA_FG_6688_20020215_19 for train\n",
      "Processe: TCGA_HT_7877_19980917_1 for train\n",
      "Processe: TCGA_HT_A616_19991226_24 for train\n",
      "Processe: TCGA_FG_8189_20030516_31 for train\n",
      "Processe: TCGA_DU_7013_19860523_26 for train\n",
      "Processe: TCGA_DU_6408_19860521_53 for train\n",
      "Processe: TCGA_DU_7304_19930325_10 for train\n",
      "Processe: TCGA_HT_7856_19950831_18 for train\n",
      "Processe: TCGA_HT_7882_19970125_21 for train\n",
      "Processe: TCGA_DU_A5TS_19970726_34 for train\n",
      "Processe: TCGA_HT_7608_19940304_13 for train\n",
      "Processe: TCGA_DU_8164_19970111_11 for train\n",
      "Processe: TCGA_DU_5852_19950709_32 for train\n",
      "Processe: TCGA_DU_5852_19950709_17 for train\n",
      "Processe: TCGA_DU_7300_19910814_30 for train\n",
      "Processe: TCGA_DU_8164_19970111_37 for train\n",
      "Processe: TCGA_DU_8165_19970205_4 for train\n",
      "Processe: TCGA_HT_7855_19951020_17 for train\n",
      "Processe: TCGA_HT_A61A_20000127_18 for train\n",
      "Processe: TCGA_DU_8166_19970322_11 for train\n",
      "Processe: TCGA_DU_7010_19860307_30 for train\n",
      "Processe: TCGA_FG_6692_20020606_8 for train\n",
      "Processe: TCGA_DU_7008_19830723_3 for train\n",
      "Processe: TCGA_DU_5874_19950510_28 for train\n",
      "Processe: TCGA_DU_6404_19850629_27 for train\n",
      "Processe: TCGA_FG_8189_20030516_32 for train\n",
      "Processe: TCGA_HT_7694_19950404_20 for train\n",
      "Processe: TCGA_FG_5962_20000626_11 for train\n",
      "Processe: TCGA_DU_6399_19830416_31 for train\n",
      "Processe: TCGA_FG_6690_20020226_12 for train\n",
      "Processe: TCGA_HT_7608_19940304_3 for train\n",
      "Processe: TCGA_DU_7010_19860307_31 for train\n",
      "Processe: TCGA_DU_7309_19960831_14 for train\n",
      "Processe: TCGA_DU_5852_19950709_1 for train\n",
      "Processe: TCGA_FG_6690_20020226_60 for train\n",
      "Processe: TCGA_HT_A616_19991226_19 for train\n",
      "Processe: TCGA_DU_7301_19911112_7 for train\n",
      "Processe: TCGA_DU_7306_19930512_20 for train\n",
      "Processe: TCGA_DU_8164_19970111_29 for train\n",
      "Processe: TCGA_DU_6401_19831001_21 for train\n",
      "Processe: TCGA_FG_7637_20000922_35 for train\n",
      "Processe: TCGA_DU_6404_19850629_52 for train\n",
      "Processe: TCGA_DU_7299_19910417_6 for train\n",
      "Processe: TCGA_FG_6689_20020326_48 for train\n",
      "Processe: TCGA_CS_6665_20010817_4 for train\n",
      "Processe: TCGA_FG_A60K_20040224_58 for train\n",
      "Processe: TCGA_FG_5964_20010511_6 for train\n",
      "Processe: TCGA_HT_7605_19950916_8 for train\n",
      "Processe: TCGA_HT_7856_19950831_2 for train\n",
      "Processe: TCGA_HT_7881_19981015_7 for train\n",
      "Processe: TCGA_DU_6407_19860514_15 for train\n",
      "Processe: TCGA_HT_7693_19950520_7 for train\n",
      "Processe: TCGA_DU_7008_19830723_42 for train\n",
      "Processe: TCGA_FG_A4MU_20030903_18 for train\n",
      "Processe: TCGA_DU_6399_19830416_2 for train\n",
      "Processe: TCGA_DU_7018_19911220_22 for train\n",
      "Processe: TCGA_HT_7882_19970125_14 for train\n",
      "Processe: TCGA_DU_5855_19951217_19 for train\n",
      "Processe: TCGA_DU_7294_19890104_21 for train\n",
      "Processe: TCGA_HT_A61A_20000127_20 for train\n",
      "Processe: TCGA_DU_A5TT_19980318_53 for train\n",
      "Processe: TCGA_HT_7616_19940813_7 for train\n",
      "Processe: TCGA_HT_7692_19960724_14 for train\n",
      "Processe: TCGA_CS_5396_20010302_10 for train\n",
      "Processe: TCGA_HT_7877_19980917_25 for train\n",
      "Processe: TCGA_HT_7690_19960312_23 for train\n",
      "Processe: TCGA_DU_6405_19851005_30 for train\n",
      "Processe: TCGA_DU_7294_19890104_7 for train\n",
      "Processe: TCGA_DU_8162_19961029_34 for train\n",
      "Processe: TCGA_DU_6405_19851005_52 for train\n",
      "Processe: TCGA_HT_7686_19950629_10 for train\n",
      "Processe: TCGA_FG_7637_20000922_49 for train\n",
      "Processe: TCGA_DU_5871_19941206_20 for train\n",
      "Processe: TCGA_CS_6188_20010812_19 for train\n",
      "Processe: TCGA_HT_7475_19970918_5 for train\n",
      "Processe: TCGA_FG_8189_20030516_10 for train\n",
      "Processe: TCGA_DU_8168_19970503_34 for train\n",
      "Processe: TCGA_DU_7301_19911112_4 for train\n",
      "Processe: TCGA_DU_5855_19951217_23 for train\n",
      "Processe: TCGA_DU_6405_19851005_7 for train\n",
      "Processe: TCGA_FG_7643_20021104_1 for train\n",
      "Processe: TCGA_DU_5874_19950510_36 for train\n",
      "Processe: TCGA_DU_8166_19970322_19 for train\n",
      "Processe: TCGA_DU_7019_19940908_23 for train\n",
      "Processe: TCGA_DU_7300_19910814_27 for train\n",
      "Processe: TCGA_FG_6688_20020215_32 for train\n",
      "Processe: TCGA_DU_7304_19930325_5 for train\n",
      "Processe: TCGA_DU_5849_19950405_36 for train\n",
      "Processe: TCGA_CS_6667_20011105_19 for train\n",
      "Processe: TCGA_DU_8166_19970322_7 for train\n",
      "Processe: TCGA_HT_7608_19940304_1 for train\n",
      "Processe: TCGA_FG_A60K_20040224_1 for train\n",
      "Processe: TCGA_DU_5849_19950405_8 for train\n",
      "Processe: TCGA_FG_A4MT_20020212_47 for train\n",
      "Processe: TCGA_FG_A4MT_20020212_9 for train\n",
      "Processe: TCGA_HT_7608_19940304_17 for train\n",
      "Processe: TCGA_DU_7013_19860523_22 for train\n",
      "Processe: TCGA_DU_5849_19950405_31 for train\n",
      "Processe: TCGA_HT_7475_19970918_20 for train\n",
      "Processe: TCGA_CS_4942_19970222_10 for train\n",
      "Processe: TCGA_DU_5872_19950223_57 for train\n",
      "Processe: TCGA_HT_A61A_20000127_1 for train\n",
      "Processe: TCGA_DU_A5TY_19970709_5 for train\n",
      "Processe: TCGA_HT_7605_19950916_10 for train\n",
      "Processe: TCGA_DU_5874_19950510_17 for train\n",
      "Processe: TCGA_DU_6399_19830416_28 for train\n",
      "Processe: TCGA_HT_7881_19981015_14 for train\n",
      "Processe: TCGA_DU_8166_19970322_12 for train\n",
      "Processe: TCGA_DU_6408_19860521_14 for train\n",
      "Processe: TCGA_HT_8113_19930809_18 for train\n",
      "Processe: TCGA_DU_7008_19830723_50 for train\n",
      "Processe: TCGA_DU_6408_19860521_8 for train\n",
      "Processe: TCGA_HT_7608_19940304_19 for train\n",
      "Processe: TCGA_HT_7690_19960312_13 for train\n",
      "Processe: TCGA_HT_A61A_20000127_81 for train\n",
      "Processe: TCGA_DU_A5TS_19970726_9 for train\n",
      "Processe: TCGA_FG_6690_20020226_31 for train\n",
      "Processe: TCGA_HT_7881_19981015_33 for train\n",
      "Processe: TCGA_DU_7010_19860307_51 for train\n",
      "Processe: TCGA_HT_A61A_20000127_67 for train\n",
      "Processe: TCGA_DU_7301_19911112_34 for train\n",
      "Processe: TCGA_HT_7877_19980917_8 for train\n",
      "Processe: TCGA_DU_8165_19970205_1 for train\n",
      "Processe: TCGA_HT_7881_19981015_47 for train\n",
      "Processe: TCGA_DU_5851_19950428_9 for train\n",
      "Processe: TCGA_DU_6399_19830416_29 for train\n",
      "Processe: TCGA_DU_5852_19950709_8 for train\n",
      "Processe: TCGA_FG_8189_20030516_56 for train\n",
      "Processe: TCGA_DU_7018_19911220_33 for train\n",
      "Processe: TCGA_FG_7643_20021104_24 for train\n",
      "Processe: TCGA_HT_7884_19980913_9 for train\n",
      "Processe: TCGA_DU_5872_19950223_10 for train\n",
      "Processe: TCGA_DU_5874_19950510_35 for train\n",
      "Processe: TCGA_HT_7605_19950916_6 for train\n",
      "Processe: TCGA_CS_6667_20011105_15 for train\n",
      "Processe: TCGA_DU_7302_19911203_8 for train\n",
      "Processe: TCGA_HT_7602_19951103_2 for train\n",
      "Processe: TCGA_HT_7877_19980917_21 for train\n",
      "Processe: TCGA_CS_6186_20000601_12 for train\n",
      "Processe: TCGA_DU_7294_19890104_34 for train\n",
      "Processe: TCGA_DU_7309_19960831_29 for train\n",
      "Processe: TCGA_CS_6669_20020102_1 for train\n",
      "Processe: TCGA_HT_7680_19970202_21 for train\n",
      "Processe: TCGA_DU_5872_19950223_59 for train\n",
      "Processe: TCGA_DU_8165_19970205_29 for train\n",
      "Processe: TCGA_DU_6399_19830416_5 for train\n",
      "Processe: TCGA_HT_7881_19981015_54 for train\n",
      "Processe: TCGA_DU_7019_19940908_18 for train\n",
      "Processe: TCGA_DU_6405_19851005_41 for train\n",
      "Processe: TCGA_DU_8165_19970205_21 for train\n",
      "Processe: TCGA_DU_A5TR_19970726_15 for train\n",
      "Processe: TCGA_HT_7884_19980913_7 for train\n",
      "Processe: TCGA_DU_6407_19860514_50 for train\n",
      "Processe: TCGA_FG_A4MU_20030903_33 for train\n",
      "Processe: TCGA_FG_A4MU_20030903_31 for train\n",
      "Processe: TCGA_CS_6188_20010812_14 for train\n",
      "Processe: TCGA_FG_A60K_20040224_14 for train\n",
      "Processe: TCGA_DU_7008_19830723_23 for train\n",
      "Processe: TCGA_DU_6407_19860514_49 for train\n",
      "Processe: TCGA_FG_6691_20020405_20 for train\n",
      "Processe: TCGA_HT_7680_19970202_9 for train\n",
      "Processe: TCGA_HT_A61B_19991127_57 for train\n",
      "Processe: TCGA_DU_7013_19860523_45 for train\n",
      "Processe: TCGA_DU_7294_19890104_14 for train\n",
      "Processe: TCGA_DU_8164_19970111_10 for train\n",
      "Processe: TCGA_DU_5853_19950823_21 for train\n",
      "Processe: TCGA_DU_5853_19950823_11 for train\n",
      "Processe: TCGA_DU_5854_19951104_27 for train\n",
      "Processe: TCGA_HT_7884_19980913_4 for train\n",
      "Processe: TCGA_FG_A60K_20040224_42 for train\n",
      "Processe: TCGA_DU_6404_19850629_24 for train\n",
      "Processe: TCGA_HT_7608_19940304_23 for train\n",
      "Processe: TCGA_DU_6408_19860521_1 for train\n",
      "Processe: TCGA_DU_6405_19851005_46 for train\n",
      "Processe: TCGA_DU_6401_19831001_28 for train\n",
      "Processe: TCGA_HT_A61B_19991127_7 for train\n",
      "Processe: TCGA_DU_6407_19860514_41 for train\n",
      "Processe: TCGA_FG_5962_20000626_16 for train\n",
      "Processe: TCGA_HT_7881_19981015_78 for train\n",
      "Processe: TCGA_DU_6400_19830518_45 for train\n",
      "Processe: TCGA_DU_5852_19950709_36 for train\n",
      "Processe: TCGA_HT_7602_19951103_6 for train\n",
      "Processe: TCGA_HT_7855_19951020_3 for train\n",
      "Processe: TCGA_HT_8114_19981030_7 for train\n",
      "Processe: TCGA_FG_6690_20020226_49 for train\n",
      "Processe: TCGA_DU_7008_19830723_21 for train\n",
      "Processe: TCGA_HT_8107_19980708_7 for train\n",
      "Processe: TCGA_DU_6407_19860514_4 for train\n",
      "Processe: TCGA_FG_6689_20020326_21 for train\n",
      "Processe: TCGA_HT_8114_19981030_6 for train\n",
      "Processe: TCGA_DU_5872_19950223_58 for train\n",
      "Processe: TCGA_DU_5852_19950709_35 for train\n",
      "Processe: TCGA_DU_5852_19950709_18 for train\n",
      "Processe: TCGA_DU_6400_19830518_12 for train\n",
      "Processe: TCGA_FG_8189_20030516_17 for train\n",
      "Processe: TCGA_FG_A60K_20040224_53 for train\n",
      "Processe: TCGA_FG_7637_20000922_5 for train\n",
      "Processe: TCGA_FG_6689_20020326_43 for train\n",
      "Processe: TCGA_DU_5854_19951104_4 for train\n",
      "Processe: TCGA_HT_7602_19951103_5 for train\n",
      "Processe: TCGA_DU_6401_19831001_50 for train\n",
      "Processe: TCGA_HT_7874_19950902_16 for train\n",
      "Processe: TCGA_HT_8563_19981209_22 for train\n",
      "Processe: TCGA_HT_7882_19970125_17 for train\n",
      "Processe: TCGA_FG_5962_20000626_8 for train\n",
      "Processe: TCGA_DU_7013_19860523_2 for train\n",
      "Processe: TCGA_FG_6691_20020405_11 for train\n",
      "Processe: TCGA_DU_6401_19831001_9 for train\n",
      "Processe: TCGA_FG_7643_20021104_20 for train\n",
      "Processe: TCGA_DU_5872_19950223_14 for train\n",
      "Processe: TCGA_CS_4943_20000902_11 for train\n",
      "Processe: TCGA_HT_7879_19981009_13 for train\n",
      "Processe: TCGA_DU_7018_19911220_20 for train\n",
      "Processe: TCGA_FG_A4MT_20020212_10 for train\n",
      "Processe: TCGA_FG_A4MU_20030903_3 for train\n",
      "Processe: TCGA_DU_A5TS_19970726_22 for train\n",
      "Processe: TCGA_DU_5872_19950223_56 for train\n",
      "Processe: TCGA_DU_5871_19941206_19 for train\n",
      "Processe: TCGA_CS_4942_19970222_17 for train\n",
      "Processe: TCGA_DU_7304_19930325_30 for train\n",
      "Processe: TCGA_DU_5872_19950223_8 for train\n",
      "Processe: TCGA_HT_A61B_19991127_34 for train\n",
      "Processe: TCGA_DU_6408_19860521_40 for train\n",
      "Processe: TCGA_DU_A5TU_19980312_15 for train\n",
      "Processe: TCGA_DU_5851_19950428_39 for train\n",
      "Processe: TCGA_DU_A5TY_19970709_14 for train\n",
      "Processe: TCGA_FG_6688_20020215_2 for train\n",
      "Processe: TCGA_DU_7298_19910324_25 for train\n",
      "Processe: TCGA_DU_8165_19970205_23 for train\n",
      "Processe: TCGA_DU_7304_19930325_35 for train\n",
      "Processe: TCGA_EZ_7264_20010816_5 for train\n",
      "Processe: TCGA_HT_7855_19951020_1 for train\n",
      "Processe: TCGA_DU_7304_19930325_8 for train\n",
      "Processe: TCGA_DU_5871_19941206_11 for train\n",
      "Processe: TCGA_FG_5964_20010511_10 for train\n",
      "Processe: TCGA_HT_8106_19970727_9 for train\n",
      "Processe: TCGA_DU_5872_19950223_39 for train\n",
      "Processe: TCGA_DU_7019_19940908_9 for train\n",
      "Processe: TCGA_DU_6408_19860521_9 for train\n",
      "Processe: TCGA_DU_A5TT_19980318_50 for train\n",
      "Processe: TCGA_DU_5874_19950510_27 for train\n",
      "Processe: TCGA_DU_6400_19830518_36 for train\n",
      "Processe: TCGA_HT_8114_19981030_17 for train\n",
      "Processe: TCGA_DU_8165_19970205_34 for train\n",
      "Processe: TCGA_DU_7018_19911220_28 for train\n",
      "Processe: TCGA_HT_7860_19960513_21 for train\n",
      "Processe: TCGA_CS_5397_20010315_11 for train\n",
      "Processe: TCGA_HT_8106_19970727_21 for train\n",
      "Processe: TCGA_DU_7010_19860307_40 for train\n",
      "Processe: TCGA_HT_7616_19940813_8 for train\n",
      "Processe: TCGA_HT_8113_19930809_21 for train\n",
      "Processe: TCGA_CS_5393_19990606_20 for train\n",
      "Processe: TCGA_HT_7692_19960724_10 for train\n",
      "Processe: TCGA_DU_8164_19970111_19 for train\n",
      "Processe: TCGA_DU_6407_19860514_47 for train\n",
      "Processe: TCGA_HT_7686_19950629_12 for train\n",
      "Processe: TCGA_DU_A5TT_19980318_55 for train\n",
      "Processe: TCGA_DU_7309_19960831_23 for train\n",
      "Processe: TCGA_HT_7694_19950404_12 for train\n",
      "Processe: TCGA_HT_8018_19970411_10 for train\n",
      "Processe: TCGA_DU_5851_19950428_21 for train\n",
      "Processe: TCGA_HT_7881_19981015_3 for train\n",
      "Processe: TCGA_CS_5393_19990606_1 for train\n",
      "Processe: TCGA_DU_8164_19970111_34 for train\n",
      "Processe: TCGA_DU_5851_19950428_19 for train\n",
      "Processe: TCGA_DU_8162_19961029_25 for train\n",
      "Processe: TCGA_DU_7014_19860618_45 for train\n",
      "Processe: TCGA_FG_6691_20020405_6 for train\n",
      "Processe: TCGA_DU_A5TS_19970726_31 for train\n",
      "Processe: TCGA_DU_6405_19851005_23 for train\n",
      "Processe: TCGA_DU_5853_19950823_4 for train\n",
      "Processe: TCGA_DU_5853_19950823_25 for train\n",
      "Processe: TCGA_HT_7616_19940813_21 for train\n",
      "Processe: TCGA_DU_6400_19830518_47 for train\n",
      "Processe: TCGA_CS_6665_20010817_5 for train\n",
      "Processe: TCGA_HT_A61B_19991127_31 for train\n",
      "Processe: TCGA_DU_7014_19860618_40 for train\n",
      "Processe: TCGA_DU_7298_19910324_22 for train\n",
      "Processe: TCGA_FG_6692_20020606_13 for train\n",
      "Processe: TCGA_HT_A61A_20000127_78 for train\n",
      "Processe: TCGA_DU_7306_19930512_15 for train\n",
      "Processe: TCGA_FG_8189_20030516_35 for train\n",
      "Processe: TCGA_DU_5871_19941206_6 for train\n",
      "Processe: TCGA_FG_6690_20020226_52 for train\n",
      "Processe: TCGA_CS_5396_20010302_12 for train\n",
      "Processe: TCGA_HT_A5RC_19990831_22 for train\n",
      "Processe: TCGA_DU_7008_19830723_19 for train\n",
      "Processe: TCGA_FG_6688_20020215_28 for train\n",
      "Processe: TCGA_HT_7881_19981015_44 for train\n",
      "Processe: TCGA_HT_7882_19970125_26 for train\n",
      "Processe: TCGA_DU_A5TR_19970726_34 for train\n",
      "Processe: TCGA_CS_6188_20010812_13 for train\n",
      "Processe: TCGA_FG_6691_20020405_23 for train\n",
      "Processe: TCGA_DU_8167_19970402_18 for train\n",
      "Processe: TCGA_FG_8189_20030516_5 for train\n",
      "Processe: TCGA_DU_7298_19910324_12 for train\n",
      "Processe: TCGA_DU_A5TP_19970614_10 for train\n",
      "Processe: TCGA_DU_7013_19860523_24 for train\n",
      "Processe: TCGA_HT_7881_19981015_12 for train\n",
      "Processe: TCGA_DU_5872_19950223_68 for train\n",
      "Processe: TCGA_DU_7299_19910417_30 for train\n",
      "Processe: TCGA_FG_7643_20021104_16 for train\n",
      "Processe: TCGA_FG_8189_20030516_14 for train\n",
      "Processe: TCGA_CS_6666_20011109_8 for train\n",
      "Processe: TCGA_HT_A61B_19991127_69 for train\n",
      "Processe: TCGA_CS_4944_20010208_3 for train\n",
      "Processe: TCGA_HT_A61B_19991127_72 for train\n",
      "Processe: TCGA_HT_A61B_19991127_63 for train\n",
      "Processe: TCGA_DU_A5TU_19980312_13 for train\n",
      "Processe: TCGA_DU_7301_19911112_32 for train\n",
      "Processe: TCGA_HT_A61A_20000127_77 for train\n",
      "Processe: TCGA_DU_7018_19911220_13 for train\n",
      "Processe: TCGA_HT_7680_19970202_14 for train\n",
      "Processe: TCGA_DU_5852_19950709_15 for train\n",
      "Processe: TCGA_CS_6188_20010812_2 for train\n",
      "Processe: TCGA_DU_8165_19970205_16 for train\n",
      "Processe: TCGA_EZ_7264_20010816_9 for train\n",
      "Processe: TCGA_DU_A5TT_19980318_45 for train\n",
      "Processe: TCGA_FG_6690_20020226_38 for train\n",
      "Processe: TCGA_CS_4941_19960909_18 for train\n",
      "Processe: TCGA_HT_7690_19960312_17 for train\n",
      "Processe: TCGA_CS_6665_20010817_21 for train\n",
      "Processe: TCGA_DU_A5TT_19980318_39 for train\n",
      "Processe: TCGA_HT_8105_19980826_28 for train\n",
      "Processe: TCGA_DU_7019_19940908_10 for train\n",
      "Processe: TCGA_HT_7879_19981009_19 for train\n",
      "Processe: TCGA_HT_7473_19970826_32 for train\n",
      "Processe: TCGA_DU_8167_19970402_8 for train\n",
      "Processe: TCGA_FG_7637_20000922_28 for train\n",
      "Processe: TCGA_DU_A5TT_19980318_11 for train\n",
      "Processe: TCGA_DU_5872_19950223_48 for train\n",
      "Processe: TCGA_FG_5962_20000626_7 for train\n",
      "Processe: TCGA_DU_A5TS_19970726_35 for train\n",
      "Processe: TCGA_DU_6401_19831001_15 for train\n",
      "Processe: TCGA_FG_5964_20010511_7 for train\n",
      "Processe: TCGA_HT_A61B_19991127_77 for train\n",
      "Processe: TCGA_DU_7013_19860523_4 for train\n",
      "Processe: TCGA_HT_7605_19950916_9 for train\n",
      "Processe: TCGA_FG_6689_20020326_5 for train\n",
      "Processe: TCGA_DU_5853_19950823_3 for train\n",
      "Processe: TCGA_DU_A5TY_19970709_19 for train\n",
      "Processe: TCGA_HT_7473_19970826_5 for train\n",
      "Processe: TCGA_HT_A61B_19991127_19 for train\n",
      "Processe: TCGA_DU_6407_19860514_22 for train\n",
      "Processe: TCGA_CS_5397_20010315_16 for train\n",
      "Processe: TCGA_DU_5853_19950823_28 for train\n",
      "Processe: TCGA_DU_5871_19941206_14 for train\n",
      "Processe: TCGA_FG_A60K_20040224_45 for train\n",
      "Processe: TCGA_DU_7306_19930512_7 for train\n",
      "Processe: TCGA_FG_5962_20000626_43 for train\n",
      "Processe: TCGA_HT_7602_19951103_3 for train\n",
      "Processe: TCGA_DU_5871_19941206_3 for train\n",
      "Processe: TCGA_DU_6399_19830416_46 for train\n",
      "Processe: TCGA_DU_7019_19940908_5 for train\n",
      "Processe: TCGA_DU_A5TY_19970709_6 for train\n",
      "Processe: TCGA_CS_4941_19960909_22 for train\n",
      "Processe: TCGA_HT_A616_19991226_6 for train\n",
      "Processe: TCGA_DU_7014_19860618_28 for train\n",
      "Processe: TCGA_HT_A61B_19991127_80 for train\n",
      "Processe: TCGA_HT_7616_19940813_23 for train\n",
      "Processe: TCGA_DU_A5TT_19980318_36 for train\n",
      "Processe: TCGA_FG_8189_20030516_38 for train\n",
      "Processe: TCGA_DU_5853_19950823_8 for train\n",
      "Processe: TCGA_DU_5854_19951104_33 for train\n",
      "Processe: TCGA_HT_7608_19940304_9 for train\n",
      "Processe: TCGA_FG_A60K_20040224_63 for train\n",
      "Processe: TCGA_DU_6399_19830416_9 for train\n",
      "Processe: TCGA_DU_A5TT_19980318_31 for train\n",
      "Processe: TCGA_CS_4944_20010208_5 for train\n",
      "Processe: TCGA_FG_A60K_20040224_11 for train\n",
      "Processe: TCGA_CS_6667_20011105_12 for train\n",
      "Processe: TCGA_FG_7634_20000128_27 for train\n",
      "Processe: TCGA_HT_A61A_20000127_14 for train\n",
      "Processe: TCGA_DU_7299_19910417_15 for train\n",
      "Processe: TCGA_DU_7309_19960831_9 for train\n",
      "Processe: TCGA_CS_4942_19970222_8 for train\n",
      "Processe: TCGA_DU_A5TY_19970709_15 for train\n",
      "Processe: TCGA_CS_6668_20011025_4 for train\n",
      "Processe: TCGA_DU_A5TT_19980318_38 for train\n",
      "Processe: TCGA_CS_6668_20011025_3 for train\n",
      "Processe: TCGA_HT_8106_19970727_6 for train\n",
      "Processe: TCGA_DU_7010_19860307_25 for train\n",
      "Processe: TCGA_HT_7616_19940813_12 for train\n",
      "Processe: TCGA_HT_7877_19980917_2 for train\n",
      "Processe: TCGA_CS_4943_20000902_2 for train\n",
      "Processe: TCGA_HT_7608_19940304_14 for train\n",
      "Processe: TCGA_CS_6668_20011025_16 for train\n",
      "Processe: TCGA_FG_A60K_20040224_25 for train\n",
      "Processe: TCGA_DU_7299_19910417_11 for train\n",
      "Processe: TCGA_FG_5964_20010511_19 for train\n",
      "Processe: TCGA_DU_5872_19950223_69 for train\n",
      "Processe: TCGA_DU_6405_19851005_31 for train\n",
      "Processe: TCGA_DU_A5TT_19980318_46 for train\n",
      "Processe: TCGA_HT_7884_19980913_5 for train\n",
      "Processe: TCGA_HT_7605_19950916_18 for train\n",
      "Processe: TCGA_FG_6689_20020326_47 for train\n",
      "Processe: TCGA_HT_A616_19991226_7 for train\n",
      "Processe: TCGA_HT_7605_19950916_4 for train\n",
      "Processe: TCGA_FG_7637_20000922_10 for train\n",
      "Processe: TCGA_CS_6290_20000917_9 for train\n",
      "Processe: TCGA_DU_5871_19941206_22 for train\n",
      "Processe: TCGA_HT_7686_19950629_1 for train\n",
      "Processe: TCGA_HT_7616_19940813_5 for train\n",
      "Processe: TCGA_DU_6404_19850629_33 for train\n",
      "Processe: TCGA_HT_7693_19950520_18 for train\n",
      "Processe: TCGA_DU_7010_19860307_21 for train\n",
      "Processe: TCGA_HT_7856_19950831_8 for train\n",
      "Processe: TCGA_CS_6668_20011025_18 for train\n",
      "Processe: TCGA_HT_7881_19981015_56 for train\n",
      "Processe: TCGA_DU_6405_19851005_34 for train\n",
      "Processe: TCGA_FG_6688_20020215_31 for train\n",
      "Processe: TCGA_DU_7300_19910814_25 for train\n",
      "Processe: TCGA_DU_6401_19831001_23 for train\n",
      "Processe: TCGA_DU_7298_19910324_23 for train\n",
      "Processe: TCGA_DU_A5TY_19970709_18 for train\n",
      "Processe: TCGA_DU_6408_19860521_10 for train\n",
      "Processe: TCGA_DU_6405_19851005_29 for train\n",
      "Processe: TCGA_DU_6400_19830518_1 for train\n",
      "Processe: TCGA_DU_6405_19851005_53 for train\n",
      "Processe: TCGA_DU_7299_19910417_29 for train\n",
      "Processe: TCGA_HT_8018_19970411_7 for train\n",
      "Processe: TCGA_HT_A61B_19991127_43 for train\n",
      "Processe: TCGA_CS_6665_20010817_14 for train\n",
      "Processe: TCGA_DU_7019_19940908_26 for train\n",
      "Processe: TCGA_DU_7299_19910417_27 for train\n",
      "Processe: TCGA_CS_6668_20011025_21 for train\n",
      "Processe: TCGA_HT_7882_19970125_24 for train\n",
      "Processe: TCGA_HT_7881_19981015_36 for train\n",
      "Processe: TCGA_HT_7884_19980913_3 for train\n",
      "Processe: TCGA_DU_7298_19910324_18 for train\n",
      "Processe: TCGA_HT_7860_19960513_5 for train\n",
      "Processe: TCGA_HT_7680_19970202_18 for train\n",
      "Processe: TCGA_DU_5872_19950223_51 for train\n",
      "Processe: TCGA_DU_6408_19860521_3 for train\n",
      "Processe: TCGA_HT_8563_19981209_4 for train\n",
      "Processe: TCGA_HT_8113_19930809_3 for train\n",
      "Processe: TCGA_DU_6400_19830518_48 for train\n",
      "Processe: TCGA_DU_A5TR_19970726_17 for train\n",
      "Processe: TCGA_HT_A61A_20000127_44 for train\n",
      "Processe: TCGA_CS_5396_20010302_2 for train\n",
      "Processe: TCGA_HT_7690_19960312_15 for train\n",
      "Processe: TCGA_FG_A4MT_20020212_45 for train\n",
      "Processe: TCGA_HT_A61A_20000127_31 for train\n",
      "Processe: TCGA_FG_6691_20020405_2 for train\n",
      "Processe: TCGA_DU_6401_19831001_46 for train\n",
      "Processe: TCGA_DU_6401_19831001_49 for train\n",
      "Processe: TCGA_DU_6407_19860514_26 for train\n",
      "Processe: TCGA_HT_8114_19981030_4 for train\n",
      "Processe: TCGA_HT_A5RC_19990831_16 for train\n",
      "Processe: TCGA_FG_8189_20030516_29 for train\n",
      "Processe: TCGA_DU_6399_19830416_4 for train\n",
      "Processe: TCGA_CS_6186_20000601_17 for train\n",
      "Processe: TCGA_DU_5872_19950223_43 for train\n",
      "Processe: TCGA_DU_5849_19950405_18 for train\n",
      "Processe: TCGA_CS_4944_20010208_12 for train\n",
      "Processe: TCGA_HT_8111_19980330_20 for train\n",
      "Processe: TCGA_FG_A60K_20040224_35 for train\n",
      "Processe: TCGA_DU_6401_19831001_30 for train\n",
      "Processe: TCGA_HT_7877_19980917_28 for train\n",
      "Processe: TCGA_DU_7304_19930325_16 for train\n",
      "Processe: TCGA_HT_7686_19950629_7 for train\n",
      "Processe: TCGA_DU_A5TS_19970726_28 for train\n",
      "Processe: TCGA_CS_6666_20011109_7 for train\n",
      "Processe: TCGA_CS_6667_20011105_10 for train\n",
      "Processe: TCGA_DU_5871_19941206_1 for train\n",
      "Processe: TCGA_FG_A4MU_20030903_28 for train\n",
      "Processe: TCGA_HT_A61A_20000127_57 for train\n",
      "Processe: TCGA_HT_8105_19980826_25 for train\n",
      "Processe: TCGA_DU_5849_19950405_13 for train\n",
      "Processe: TCGA_DU_5872_19950223_44 for train\n",
      "Processe: TCGA_DU_5852_19950709_10 for train\n",
      "Processe: TCGA_DU_7298_19910324_19 for train\n",
      "Processe: TCGA_FG_A60K_20040224_73 for train\n",
      "Processe: TCGA_DU_6399_19830416_34 for train\n",
      "Processe: TCGA_HT_7882_19970125_20 for train\n",
      "Processe: TCGA_FG_8189_20030516_22 for train\n",
      "Processe: TCGA_DU_7298_19910324_29 for train\n",
      "Processe: TCGA_HT_A61B_19991127_41 for train\n",
      "Processe: TCGA_EZ_7264_20010816_19 for train\n",
      "Processe: TCGA_HT_7882_19970125_10 for train\n",
      "Processe: TCGA_DU_6400_19830518_21 for train\n",
      "Processe: TCGA_FG_A4MU_20030903_11 for train\n",
      "Processe: TCGA_FG_7637_20000922_43 for train\n",
      "Processe: TCGA_FG_A4MT_20020212_12 for train\n",
      "Processe: TCGA_HT_7475_19970918_25 for train\n",
      "Processe: TCGA_DU_5849_19950405_15 for train\n",
      "Processe: TCGA_DU_8163_19961119_26 for train\n",
      "Processe: TCGA_HT_7881_19981015_4 for train\n",
      "Processe: TCGA_EZ_7264_20010816_10 for train\n",
      "Processe: TCGA_HT_7877_19980917_15 for train\n",
      "Processe: TCGA_DU_7302_19911203_18 for train\n",
      "Processe: TCGA_DU_5872_19950223_17 for train\n",
      "Processe: TCGA_DU_A5TR_19970726_12 for train\n",
      "Processe: TCGA_DU_6408_19860521_16 for train\n",
      "Processe: TCGA_DU_6407_19860514_37 for train\n",
      "Processe: TCGA_DU_5872_19950223_33 for train\n",
      "Processe: TCGA_DU_5852_19950709_31 for train\n",
      "Processe: TCGA_FG_5962_20000626_35 for train\n",
      "Processe: TCGA_HT_A61A_20000127_88 for train\n",
      "Processe: TCGA_DU_5855_19951217_9 for train\n",
      "Processe: TCGA_FG_8189_20030516_51 for train\n",
      "Processe: TCGA_DU_6405_19851005_57 for train\n",
      "Processe: TCGA_HT_8107_19980708_4 for train\n",
      "Processe: TCGA_HT_7881_19981015_27 for train\n",
      "Processe: TCGA_FG_5964_20010511_15 for train\n",
      "Processe: TCGA_FG_6692_20020606_17 for train\n",
      "Processe: TCGA_HT_A61A_20000127_17 for train\n",
      "Processe: TCGA_HT_7881_19981015_64 for train\n",
      "Processe: TCGA_DU_7300_19910814_29 for train\n",
      "Processe: TCGA_HT_7874_19950902_15 for train\n",
      "Processe: TCGA_CS_4941_19960909_1 for train\n",
      "Processe: TCGA_DU_6405_19851005_11 for train\n",
      "Processe: TCGA_HT_A5RC_19990831_7 for train\n",
      "Processe: TCGA_DU_7294_19890104_13 for train\n",
      "Processe: TCGA_DU_8164_19970111_21 for train\n",
      "Processe: TCGA_DU_7013_19860523_49 for train\n",
      "Processe: TCGA_DU_6404_19850629_6 for train\n",
      "Processe: TCGA_DU_6405_19851005_60 for train\n",
      "Processe: TCGA_FG_7643_20021104_5 for train\n",
      "Processe: TCGA_DU_7010_19860307_12 for train\n",
      "Processe: TCGA_HT_8563_19981209_11 for train\n",
      "Processe: TCGA_DU_7309_19960831_36 for train\n",
      "Processe: TCGA_DU_5874_19950510_14 for train\n",
      "Processe: TCGA_DU_A5TW_19980228_1 for train\n",
      "Processe: TCGA_HT_7879_19981009_9 for train\n",
      "Processe: TCGA_HT_7860_19960513_19 for train\n",
      "Processe: TCGA_FG_A60K_20040224_56 for train\n",
      "Processe: TCGA_HT_A61A_20000127_45 for train\n",
      "Processe: TCGA_DU_5849_19950405_3 for train\n",
      "Processe: TCGA_HT_8114_19981030_22 for train\n",
      "Processe: TCGA_DU_8168_19970503_9 for train\n",
      "Processe: TCGA_HT_A61B_19991127_29 for train\n",
      "Processe: TCGA_CS_4941_19960909_4 for train\n",
      "Processe: TCGA_DU_7013_19860523_42 for train\n",
      "Processe: TCGA_HT_7694_19950404_8 for train\n",
      "Processe: TCGA_DU_6400_19830518_42 for train\n",
      "Processe: TCGA_DU_5854_19951104_1 for train\n",
      "Processe: TCGA_FG_A4MU_20030903_2 for train\n",
      "Processe: TCGA_FG_7634_20000128_9 for train\n",
      "Processe: TCGA_DU_A5TT_19980318_4 for train\n",
      "Processe: TCGA_FG_7643_20021104_32 for train\n",
      "Processe: TCGA_HT_7694_19950404_11 for train\n",
      "Processe: TCGA_DU_7294_19890104_29 for train\n",
      "Processe: TCGA_DU_7298_19910324_32 for train\n",
      "Processe: TCGA_FG_7637_20000922_25 for train\n",
      "Processe: TCGA_DU_A5TT_19980318_1 for train\n",
      "Processe: TCGA_DU_5871_19941206_13 for train\n",
      "Processe: TCGA_FG_5962_20000626_32 for train\n",
      "Processe: TCGA_FG_5962_20000626_21 for train\n",
      "Processe: TCGA_DU_6407_19860514_55 for train\n",
      "Processe: TCGA_DU_7309_19960831_30 for train\n",
      "Processe: TCGA_HT_7690_19960312_4 for train\n",
      "Processe: TCGA_DU_7306_19930512_27 for train\n",
      "Processe: TCGA_DU_6401_19831001_25 for train\n",
      "Processe: TCGA_FG_6688_20020215_27 for train\n",
      "Processe: TCGA_HT_A61B_19991127_53 for train\n",
      "Processe: TCGA_HT_A61B_19991127_21 for train\n",
      "Processe: TCGA_DU_7294_19890104_4 for train\n",
      "Processe: TCGA_DU_7300_19910814_31 for train\n",
      "Processe: TCGA_DU_8164_19970111_7 for train\n",
      "Processe: TCGA_HT_8105_19980826_22 for train\n",
      "Processe: TCGA_DU_7302_19911203_21 for train\n",
      "Processe: TCGA_DU_8162_19961029_21 for train\n",
      "Processe: TCGA_HT_7605_19950916_15 for train\n",
      "Processe: TCGA_DU_6404_19850629_5 for train\n",
      "Processe: TCGA_HT_8111_19980330_18 for train\n",
      "Processe: TCGA_HT_8563_19981209_12 for train\n",
      "Processe: TCGA_DU_A5TW_19980228_27 for train\n",
      "Processe: TCGA_DU_7010_19860307_23 for train\n",
      "Processe: TCGA_HT_8563_19981209_5 for train\n",
      "Processe: TCGA_DU_5852_19950709_6 for train\n",
      "Processe: TCGA_HT_8105_19980826_2 for train\n",
      "Processe: TCGA_HT_7884_19980913_13 for train\n",
      "Processe: TCGA_FG_6689_20020326_17 for train\n",
      "Processe: TCGA_FG_A4MU_20030903_16 for train\n",
      "Processe: TCGA_CS_5393_19990606_3 for train\n",
      "Processe: TCGA_DU_5853_19950823_19 for train\n",
      "Processe: TCGA_FG_A4MT_20020212_17 for train\n",
      "Processe: TCGA_DU_A5TS_19970726_25 for train\n",
      "Processe: TCGA_DU_6405_19851005_2 for train\n",
      "Processe: TCGA_DU_8162_19961029_6 for train\n",
      "Processe: TCGA_DU_7019_19940908_29 for train\n",
      "Processe: TCGA_DU_6408_19860521_26 for train\n",
      "Processe: TCGA_DU_A5TT_19980318_15 for train\n",
      "Processe: TCGA_DU_6399_19830416_42 for train\n",
      "Processe: TCGA_DU_8162_19961029_8 for train\n",
      "Processe: TCGA_FG_6691_20020405_19 for train\n",
      "Processe: TCGA_DU_5853_19950823_23 for train\n",
      "Processe: TCGA_DU_A5TR_19970726_6 for train\n",
      "Processe: TCGA_FG_7643_20021104_46 for train\n",
      "Processe: TCGA_CS_6188_20010812_22 for train\n",
      "Processe: TCGA_DU_A5TW_19980228_16 for train\n",
      "Processe: TCGA_FG_6688_20020215_25 for train\n",
      "Processe: TCGA_DU_6404_19850629_35 for train\n",
      "Processe: TCGA_CS_6186_20000601_19 for train\n",
      "Processe: TCGA_DU_6400_19830518_27 for train\n",
      "Processe: TCGA_DU_6408_19860521_18 for train\n",
      "Processe: TCGA_FG_6689_20020326_2 for train\n",
      "Processe: TCGA_DU_8166_19970322_32 for train\n",
      "Processe: TCGA_DU_8162_19961029_22 for train\n",
      "Processe: TCGA_FG_5962_20000626_18 for train\n",
      "Processe: TCGA_HT_7877_19980917_22 for train\n",
      "Processe: TCGA_FG_A4MT_20020212_32 for train\n",
      "Processe: TCGA_DU_8163_19961119_23 for train\n",
      "Processe: TCGA_FG_6690_20020226_50 for train\n",
      "Processe: TCGA_DU_7302_19911203_29 for train\n",
      "Processe: TCGA_DU_5874_19950510_25 for train\n",
      "Processe: TCGA_DU_7014_19860618_57 for train\n",
      "Processe: TCGA_CS_6668_20011025_14 for train\n",
      "Processe: TCGA_FG_6689_20020326_44 for train\n",
      "Processe: TCGA_DU_8164_19970111_1 for train\n",
      "Processe: TCGA_DU_7018_19911220_19 for train\n",
      "Processe: TCGA_HT_7690_19960312_20 for train\n",
      "Processe: TCGA_FG_7637_20000922_23 for train\n",
      "Processe: TCGA_HT_7855_19951020_19 for train\n",
      "Processe: TCGA_DU_7018_19911220_14 for train\n",
      "Processe: TCGA_HT_A61B_19991127_55 for train\n",
      "Processe: TCGA_HT_8111_19980330_3 for train\n",
      "Processe: TCGA_HT_7856_19950831_5 for train\n",
      "Processe: TCGA_DU_A5TY_19970709_10 for train\n",
      "Processe: TCGA_DU_5871_19941206_26 for train\n",
      "Processe: TCGA_CS_6668_20011025_6 for train\n",
      "Processe: TCGA_HT_8563_19981209_2 for train\n",
      "Processe: TCGA_DU_8164_19970111_22 for train\n",
      "Processe: TCGA_FG_7637_20000922_15 for train\n",
      "Processe: TCGA_HT_7881_19981015_25 for train\n",
      "Processe: TCGA_FG_A60K_20040224_48 for train\n",
      "Processe: TCGA_HT_8563_19981209_19 for train\n",
      "Processe: TCGA_CS_6668_20011025_19 for train\n",
      "Processe: TCGA_CS_5396_20010302_6 for train\n",
      "Processe: TCGA_FG_6689_20020326_26 for train\n",
      "Processe: TCGA_FG_7637_20000922_4 for train\n",
      "Processe: TCGA_CS_5397_20010315_14 for train\n",
      "Processe: TCGA_FG_6692_20020606_18 for train\n",
      "Processe: TCGA_HT_8114_19981030_15 for train\n",
      "Processe: TCGA_DU_7298_19910324_10 for train\n",
      "Processe: TCGA_DU_8168_19970503_12 for train\n",
      "Processe: TCGA_DU_7018_19911220_18 for train\n",
      "Processe: TCGA_DU_7294_19890104_25 for train\n",
      "Processe: TCGA_HT_7602_19951103_17 for train\n",
      "Processe: TCGA_CS_5393_19990606_7 for train\n",
      "Processe: TCGA_DU_5872_19950223_42 for train\n",
      "Processe: TCGA_DU_6404_19850629_38 for train\n",
      "Processe: TCGA_HT_7686_19950629_14 for train\n",
      "Processe: TCGA_DU_7294_19890104_12 for train\n",
      "Processe: TCGA_HT_7881_19981015_20 for train\n",
      "Processe: TCGA_DU_7013_19860523_31 for train\n",
      "Processe: TCGA_DU_7298_19910324_9 for train\n",
      "Processe: TCGA_DU_5854_19951104_16 for train\n",
      "Processe: TCGA_FG_7637_20000922_19 for train\n",
      "Processe: TCGA_DU_A5TY_19970709_29 for train\n",
      "Processe: TCGA_FG_A4MT_20020212_38 for train\n",
      "Processe: TCGA_DU_6399_19830416_23 for train\n",
      "Processe: TCGA_DU_6404_19850629_22 for train\n",
      "Processe: TCGA_DU_7304_19930325_2 for train\n",
      "Processe: TCGA_EZ_7264_20010816_16 for train\n",
      "Processe: TCGA_DU_A5TY_19970709_8 for train\n",
      "Processe: TCGA_HT_7475_19970918_29 for train\n",
      "Processe: TCGA_DU_6405_19851005_40 for train\n",
      "Processe: TCGA_HT_A616_19991226_23 for train\n",
      "Processe: TCGA_DU_6408_19860521_48 for train\n",
      "Processe: TCGA_HT_A61B_19991127_50 for train\n",
      "Processe: TCGA_HT_8114_19981030_2 for train\n",
      "Processe: TCGA_DU_7306_19930512_4 for train\n",
      "Processe: TCGA_DU_7008_19830723_11 for train\n",
      "Processe: TCGA_DU_7298_19910324_13 for train\n",
      "Processe: TCGA_DU_7014_19860618_4 for train\n",
      "Processe: TCGA_HT_7690_19960312_5 for train\n",
      "Processe: TCGA_HT_A61A_20000127_5 for train\n",
      "Processe: TCGA_DU_7010_19860307_4 for train\n",
      "Processe: TCGA_FG_7634_20000128_12 for train\n",
      "Processe: TCGA_HT_A61B_19991127_38 for train\n",
      "Processe: TCGA_DU_7010_19860307_48 for train\n",
      "Processe: TCGA_DU_A5TP_19970614_7 for train\n",
      "Processe: TCGA_DU_5871_19941206_28 for train\n",
      "Processe: TCGA_DU_7309_19960831_27 for train\n",
      "Processe: TCGA_DU_A5TT_19980318_43 for train\n",
      "Processe: TCGA_FG_A60K_20040224_16 for train\n",
      "Processe: TCGA_DU_7294_19890104_17 for train\n",
      "Processe: TCGA_HT_A61A_20000127_42 for train\n",
      "Processe: TCGA_HT_7605_19950916_11 for train\n",
      "Processe: TCGA_HT_7692_19960724_5 for train\n",
      "Processe: TCGA_FG_8189_20030516_59 for train\n",
      "Processe: TCGA_HT_7879_19981009_12 for train\n",
      "Processe: TCGA_DU_6400_19830518_34 for train\n",
      "Processe: TCGA_HT_8018_19970411_4 for train\n",
      "Processe: TCGA_FG_6691_20020405_41 for train\n",
      "Processe: TCGA_CS_6188_20010812_12 for train\n",
      "Processe: TCGA_DU_6405_19851005_16 for train\n",
      "Processe: TCGA_DU_6408_19860521_22 for train\n",
      "Processe: TCGA_CS_5396_20010302_11 for train\n",
      "Processe: TCGA_DU_5854_19951104_19 for train\n",
      "Processe: TCGA_HT_A61B_19991127_11 for train\n",
      "Processe: TCGA_DU_7014_19860618_10 for train\n",
      "Processe: TCGA_HT_8563_19981209_20 for train\n",
      "Processe: TCGA_DU_6407_19860514_17 for train\n",
      "Processe: TCGA_HT_7856_19950831_3 for train\n",
      "Processe: TCGA_DU_8167_19970402_1 for train\n",
      "Processe: TCGA_DU_7019_19940908_17 for train\n",
      "Processe: TCGA_DU_6407_19860514_3 for train\n",
      "Processe: TCGA_DU_8166_19970322_25 for train\n",
      "Processe: TCGA_DU_6405_19851005_50 for train\n",
      "Processe: TCGA_DU_5853_19950823_13 for train\n",
      "Processe: TCGA_DU_A5TP_19970614_38 for train\n",
      "Processe: TCGA_FG_6690_20020226_40 for train\n",
      "Processe: TCGA_DU_5853_19950823_27 for train\n",
      "Processe: TCGA_HT_8106_19970727_18 for train\n",
      "Processe: TCGA_HT_A61A_20000127_51 for train\n",
      "Processe: TCGA_DU_5851_19950428_24 for train\n",
      "Processe: TCGA_HT_7881_19981015_52 for train\n",
      "Processe: TCGA_DU_8165_19970205_20 for train\n",
      "Processe: TCGA_CS_5396_20010302_7 for train\n",
      "Processe: TCGA_FG_5962_20000626_44 for train\n",
      "Processe: TCGA_CS_6665_20010817_3 for train\n",
      "Processe: TCGA_HT_7602_19951103_9 for train\n",
      "Processe: TCGA_DU_5872_19950223_65 for train\n",
      "Processe: TCGA_DU_7301_19911112_24 for train\n",
      "Processe: TCGA_FG_5962_20000626_29 for train\n",
      "Processe: TCGA_HT_A61A_20000127_7 for train\n",
      "Processe: TCGA_DU_A5TT_19980318_56 for train\n",
      "Processe: TCGA_DU_6408_19860521_28 for train\n",
      "Processe: TCGA_EZ_7264_20010816_18 for train\n",
      "Processe: TCGA_DU_7294_19890104_32 for train\n",
      "Processe: TCGA_DU_6404_19850629_2 for train\n",
      "Processe: TCGA_DU_8167_19970402_32 for train\n",
      "Processe: TCGA_CS_6668_20011025_7 for train\n",
      "Processe: TCGA_DU_A5TU_19980312_8 for train\n",
      "Processe: TCGA_DU_7008_19830723_28 for train\n",
      "Processe: TCGA_DU_8163_19961119_9 for train\n",
      "Processe: TCGA_DU_5874_19950510_4 for train\n",
      "Processe: TCGA_DU_5852_19950709_20 for train\n",
      "Processe: TCGA_HT_8111_19980330_12 for train\n",
      "Processe: TCGA_DU_7014_19860618_22 for train\n",
      "Processe: TCGA_HT_A61A_20000127_85 for train\n",
      "Processe: TCGA_FG_6691_20020405_44 for train\n",
      "Processe: TCGA_HT_A61B_19991127_13 for train\n",
      "Processe: TCGA_HT_7874_19950902_13 for train\n",
      "Processe: TCGA_DU_8168_19970503_1 for train\n",
      "Processe: TCGA_DU_5851_19950428_10 for train\n",
      "Processe: TCGA_FG_7637_20000922_14 for train\n",
      "Processe: TCGA_DU_A5TP_19970614_37 for train\n",
      "Processe: TCGA_HT_7856_19950831_9 for train\n",
      "Processe: TCGA_FG_8189_20030516_39 for train\n",
      "Processe: TCGA_DU_A5TY_19970709_21 for train\n",
      "Processe: TCGA_FG_A4MT_20020212_23 for train\n",
      "Processe: TCGA_DU_7010_19860307_49 for train\n",
      "Processe: TCGA_DU_8162_19961029_27 for train\n",
      "Processe: TCGA_HT_A61B_19991127_6 for train\n",
      "Processe: TCGA_HT_7690_19960312_8 for train\n",
      "Processe: TCGA_DU_8166_19970322_10 for train\n",
      "Processe: TCGA_HT_7881_19981015_38 for train\n",
      "Processe: TCGA_DU_6404_19850629_12 for train\n",
      "Processe: TCGA_FG_7637_20000922_29 for train\n",
      "Processe: TCGA_FG_6688_20020215_14 for train\n",
      "Processe: TCGA_CS_6667_20011105_17 for train\n",
      "Processe: TCGA_DU_7019_19940908_37 for train\n",
      "Processe: TCGA_DU_A5TW_19980228_8 for train\n",
      "Processe: TCGA_HT_7693_19950520_16 for train\n",
      "Processe: TCGA_DU_8168_19970503_16 for train\n",
      "Processe: TCGA_HT_7881_19981015_8 for train\n",
      "Processe: TCGA_HT_A61A_20000127_23 for train\n",
      "Processe: TCGA_FG_6689_20020326_16 for train\n",
      "Processe: TCGA_HT_7855_19951020_7 for train\n",
      "Processe: TCGA_FG_7643_20021104_12 for train\n",
      "Processe: TCGA_FG_8189_20030516_58 for train\n",
      "Processe: TCGA_DU_6405_19851005_26 for train\n",
      "Processe: TCGA_DU_A5TW_19980228_31 for train\n",
      "Processe: TCGA_FG_6690_20020226_18 for train\n",
      "Processe: TCGA_FG_6690_20020226_6 for train\n",
      "Processe: TCGA_DU_5855_19951217_15 for train\n",
      "Processe: TCGA_DU_7013_19860523_39 for train\n",
      "Processe: TCGA_DU_A5TU_19980312_2 for train\n",
      "Processe: TCGA_HT_7881_19981015_70 for train\n",
      "Processe: TCGA_FG_5962_20000626_2 for train\n",
      "Processe: TCGA_HT_7694_19950404_5 for train\n",
      "Processe: TCGA_HT_7690_19960312_11 for train\n",
      "Processe: TCGA_DU_6407_19860514_8 for train\n",
      "Processe: TCGA_DU_7019_19940908_20 for train\n",
      "Processe: TCGA_DU_7010_19860307_10 for train\n",
      "Processe: TCGA_DU_5871_19941206_21 for train\n",
      "Processe: TCGA_DU_6407_19860514_6 for train\n",
      "Processe: TCGA_DU_7014_19860618_38 for train\n",
      "Processe: TCGA_HT_8113_19930809_8 for train\n",
      "Processe: TCGA_HT_7879_19981009_26 for train\n",
      "Processe: TCGA_DU_8163_19961119_17 for train\n",
      "Processe: TCGA_HT_7884_19980913_19 for train\n",
      "Processe: TCGA_HT_7693_19950520_9 for train\n",
      "Processe: TCGA_DU_7014_19860618_23 for train\n",
      "Processe: TCGA_DU_A5TY_19970709_35 for train\n",
      "Processe: TCGA_HT_7884_19980913_15 for train\n",
      "Processe: TCGA_CS_5395_19981004_5 for train\n",
      "Processe: TCGA_FG_6690_20020226_21 for train\n",
      "Processe: TCGA_DU_7298_19910324_16 for train\n",
      "Processe: TCGA_DU_6407_19860514_51 for train\n",
      "Processe: TCGA_DU_8162_19961029_2 for train\n",
      "Processe: TCGA_HT_A61B_19991127_64 for train\n",
      "Processe: TCGA_HT_8107_19980708_10 for train\n",
      "Processe: TCGA_FG_6690_20020226_5 for train\n",
      "Processe: TCGA_HT_7874_19950902_2 for train\n",
      "Processe: TCGA_HT_8105_19980826_7 for train\n",
      "Processe: TCGA_CS_6669_20020102_20 for train\n",
      "Processe: TCGA_DU_8164_19970111_17 for train\n",
      "Processe: TCGA_HT_A616_19991226_21 for train\n",
      "Processe: TCGA_CS_5395_19981004_16 for train\n",
      "Processe: TCGA_DU_7306_19930512_12 for train\n",
      "Processe: TCGA_DU_8167_19970402_3 for train\n",
      "Processe: TCGA_HT_7882_19970125_6 for train\n",
      "Processe: TCGA_DU_6404_19850629_7 for train\n",
      "Processe: TCGA_FG_8189_20030516_40 for train\n",
      "Processe: TCGA_DU_7300_19910814_4 for train\n",
      "Processe: TCGA_DU_7010_19860307_53 for train\n",
      "Processe: TCGA_HT_7874_19950902_4 for train\n",
      "Processe: TCGA_FG_5962_20000626_46 for train\n",
      "Processe: TCGA_DU_8162_19961029_20 for train\n",
      "Processe: TCGA_FG_A60K_20040224_49 for train\n",
      "Processe: TCGA_DU_5853_19950823_6 for train\n",
      "Processe: TCGA_DU_8163_19961119_14 for train\n",
      "Processe: TCGA_DU_7014_19860618_39 for train\n",
      "Processe: TCGA_FG_6691_20020405_47 for train\n",
      "Processe: TCGA_DU_8165_19970205_28 for train\n",
      "Processe: TCGA_DU_7309_19960831_28 for train\n",
      "Processe: TCGA_HT_7856_19950831_28 for train\n",
      "Processe: TCGA_DU_7300_19910814_17 for train\n",
      "Processe: TCGA_HT_7475_19970918_21 for train\n",
      "Processe: TCGA_HT_A61B_19991127_39 for train\n",
      "Processe: TCGA_HT_7475_19970918_7 for train\n",
      "Processe: TCGA_DU_7302_19911203_28 for train\n",
      "Processe: TCGA_DU_7304_19930325_11 for train\n",
      "Processe: TCGA_DU_6399_19830416_44 for train\n",
      "Processe: TCGA_HT_7694_19950404_4 for train\n",
      "Processe: TCGA_DU_6405_19851005_54 for train\n",
      "Processe: TCGA_DU_6404_19850629_8 for train\n",
      "Processe: TCGA_DU_6408_19860521_25 for train\n",
      "Processe: TCGA_HT_A61A_20000127_64 for train\n",
      "Processe: TCGA_HT_7473_19970826_27 for train\n",
      "Processe: TCGA_DU_6401_19831001_7 for train\n",
      "Processe: TCGA_CS_6186_20000601_14 for train\n",
      "Processe: TCGA_DU_8163_19961119_30 for train\n",
      "Processe: TCGA_DU_6407_19860514_13 for train\n",
      "Processe: TCGA_FG_7634_20000128_19 for train\n",
      "Processe: TCGA_DU_A5TP_19970614_5 for train\n",
      "Processe: TCGA_FG_6691_20020405_40 for train\n",
      "Processe: TCGA_CS_4943_20000902_14 for train\n",
      "Processe: TCGA_DU_5853_19950823_24 for train\n",
      "Processe: TCGA_HT_7856_19950831_14 for train\n",
      "Processe: TCGA_DU_7302_19911203_12 for train\n",
      "Processe: TCGA_CS_5395_19981004_12 for train\n",
      "Processe: TCGA_CS_6290_20000917_4 for train\n",
      "Processe: TCGA_FG_A4MT_20020212_27 for train\n",
      "Processe: TCGA_HT_A61B_19991127_35 for train\n",
      "Processe: TCGA_DU_8168_19970503_26 for train\n",
      "Processe: TCGA_DU_6401_19831001_2 for train\n",
      "Processe: TCGA_FG_7634_20000128_3 for train\n",
      "Processe: TCGA_HT_7690_19960312_9 for train\n",
      "Processe: TCGA_DU_6401_19831001_29 for train\n",
      "Processe: TCGA_DU_7010_19860307_8 for train\n",
      "Processe: TCGA_DU_5849_19950405_21 for train\n",
      "Processe: TCGA_HT_A5RC_19990831_3 for train\n",
      "Processe: TCGA_HT_A61B_19991127_56 for train\n",
      "Processe: TCGA_HT_8106_19970727_13 for train\n",
      "Processe: TCGA_DU_7013_19860523_21 for train\n",
      "Processe: TCGA_DU_6408_19860521_24 for train\n",
      "Processe: TCGA_CS_4942_19970222_20 for train\n",
      "Processe: TCGA_DU_5874_19950510_18 for train\n",
      "Processe: TCGA_HT_7473_19970826_18 for train\n",
      "Processe: TCGA_DU_7013_19860523_15 for train\n",
      "Processe: TCGA_CS_5395_19981004_1 for train\n",
      "Processe: TCGA_CS_6186_20000601_22 for train\n",
      "Processe: TCGA_DU_7013_19860523_35 for train\n",
      "Processe: TCGA_DU_7301_19911112_8 for train\n",
      "Processe: TCGA_HT_7879_19981009_22 for train\n",
      "Processe: TCGA_DU_8164_19970111_28 for train\n",
      "Processe: TCGA_CS_6186_20000601_6 for train\n",
      "Processe: TCGA_CS_4942_19970222_6 for train\n",
      "Processe: TCGA_HT_7690_19960312_2 for train\n",
      "Processe: TCGA_HT_7608_19940304_26 for train\n",
      "Processe: TCGA_HT_7473_19970826_17 for train\n",
      "Processe: TCGA_HT_7605_19950916_17 for train\n",
      "Processe: TCGA_HT_A61A_20000127_55 for train\n",
      "Processe: TCGA_FG_6689_20020326_18 for train\n",
      "Processe: TCGA_DU_7300_19910814_24 for train\n",
      "Processe: TCGA_DU_5874_19950510_2 for train\n",
      "Processe: TCGA_HT_8563_19981209_23 for train\n",
      "Processe: TCGA_DU_6401_19831001_39 for train\n",
      "Processe: TCGA_FG_6692_20020606_3 for train\n",
      "Processe: TCGA_DU_A5TP_19970614_26 for train\n",
      "Processe: TCGA_DU_8163_19961119_2 for train\n",
      "Processe: TCGA_DU_6408_19860521_36 for train\n",
      "Processe: TCGA_DU_7304_19930325_6 for train\n",
      "Processe: TCGA_DU_6401_19831001_12 for train\n",
      "Processe: TCGA_FG_7634_20000128_17 for train\n",
      "Processe: TCGA_CS_4942_19970222_15 for train\n",
      "Processe: TCGA_HT_7475_19970918_26 for train\n",
      "Processe: TCGA_HT_8106_19970727_16 for train\n",
      "Processe: TCGA_FG_A4MT_20020212_14 for train\n",
      "Processe: TCGA_DU_7008_19830723_1 for train\n",
      "Processe: TCGA_CS_6186_20000601_4 for train\n",
      "Processe: TCGA_CS_6667_20011105_14 for train\n",
      "Processe: TCGA_DU_8163_19961119_3 for train\n",
      "Processe: TCGA_HT_7877_19980917_7 for train\n",
      "Processe: TCGA_DU_7300_19910814_9 for train\n",
      "Processe: TCGA_CS_4942_19970222_3 for train\n",
      "Processe: TCGA_FG_6691_20020405_1 for train\n",
      "Processe: TCGA_DU_5871_19941206_35 for train\n",
      "Processe: TCGA_HT_7605_19950916_31 for train\n",
      "Processe: TCGA_DU_5872_19950223_54 for train\n",
      "Processe: TCGA_DU_A5TY_19970709_26 for train\n",
      "Processe: TCGA_DU_7302_19911203_15 for train\n",
      "Processe: TCGA_HT_7881_19981015_13 for train\n",
      "Processe: TCGA_DU_5851_19950428_2 for train\n",
      "Processe: TCGA_HT_7856_19950831_17 for train\n",
      "Processe: TCGA_DU_7309_19960831_34 for train\n",
      "Processe: TCGA_CS_4941_19960909_5 for train\n",
      "Processe: TCGA_HT_7692_19960724_15 for train\n",
      "Processe: TCGA_CS_5397_20010315_4 for train\n",
      "Processe: TCGA_DU_7302_19911203_22 for train\n",
      "Processe: TCGA_DU_A5TW_19980228_3 for train\n",
      "Processe: TCGA_DU_A5TU_19980312_17 for train\n",
      "Processe: TCGA_DU_6408_19860521_15 for train\n",
      "Processe: TCGA_DU_7019_19940908_21 for train\n",
      "Processe: TCGA_DU_7010_19860307_2 for train\n",
      "Processe: TCGA_HT_A5RC_19990831_14 for train\n",
      "Processe: TCGA_DU_A5TS_19970726_7 for train\n",
      "Processe: TCGA_FG_6692_20020606_6 for train\n",
      "Processe: TCGA_DU_7309_19960831_16 for train\n",
      "Processe: TCGA_CS_6186_20000601_15 for train\n",
      "Processe: TCGA_DU_5854_19951104_14 for train\n",
      "Processe: TCGA_DU_8165_19970205_10 for train\n",
      "Processe: TCGA_HT_7475_19970918_31 for train\n",
      "Processe: TCGA_FG_7637_20000922_3 for train\n",
      "Processe: TCGA_DU_8162_19961029_31 for train\n",
      "Processe: TCGA_DU_8166_19970322_29 for train\n",
      "Processe: TCGA_HT_7856_19950831_10 for train\n",
      "Processe: TCGA_DU_6400_19830518_10 for train\n",
      "Processe: TCGA_DU_7300_19910814_2 for train\n",
      "Processe: TCGA_FG_7637_20000922_7 for train\n",
      "Processe: TCGA_DU_8166_19970322_24 for train\n",
      "Processe: TCGA_DU_A5TP_19970614_4 for train\n",
      "Processe: TCGA_FG_A4MT_20020212_11 for train\n",
      "Processe: TCGA_FG_6692_20020606_16 for train\n",
      "Processe: TCGA_DU_7306_19930512_17 for train\n",
      "Processe: TCGA_HT_7881_19981015_60 for train\n",
      "Processe: TCGA_FG_6689_20020326_19 for train\n",
      "Processe: TCGA_HT_A5RC_19990831_5 for train\n",
      "Processe: TCGA_FG_8189_20030516_33 for train\n",
      "Processe: TCGA_DU_8162_19961029_37 for train\n",
      "Processe: TCGA_DU_6407_19860514_42 for train\n",
      "Processe: TCGA_HT_7680_19970202_17 for train\n",
      "Processe: TCGA_DU_6404_19850629_51 for train\n",
      "Processe: TCGA_DU_7306_19930512_38 for train\n",
      "Processe: TCGA_DU_5871_19941206_17 for train\n",
      "Processe: TCGA_HT_8106_19970727_20 for train\n",
      "Processe: TCGA_DU_8168_19970503_5 for train\n",
      "Processe: TCGA_DU_5854_19951104_10 for train\n",
      "Processe: TCGA_FG_6692_20020606_7 for train\n",
      "Processe: TCGA_DU_7008_19830723_45 for train\n",
      "Processe: TCGA_DU_8168_19970503_32 for train\n",
      "Processe: TCGA_DU_6405_19851005_20 for train\n",
      "Processe: TCGA_FG_6688_20020215_10 for train\n",
      "Processe: TCGA_CS_4944_20010208_13 for train\n",
      "Processe: TCGA_DU_7299_19910417_4 for train\n",
      "Processe: TCGA_DU_6408_19860521_41 for train\n",
      "Processe: TCGA_HT_7605_19950916_12 for train\n",
      "Processe: TCGA_DU_A5TR_19970726_36 for train\n",
      "Processe: TCGA_HT_A61A_20000127_69 for train\n",
      "Processe: TCGA_CS_5396_20010302_17 for train\n",
      "Processe: TCGA_DU_6404_19850629_42 for train\n",
      "Processe: TCGA_HT_7616_19940813_18 for train\n",
      "Processe: TCGA_DU_6407_19860514_32 for train\n",
      "Processe: TCGA_DU_5855_19951217_16 for train\n",
      "Processe: TCGA_HT_7879_19981009_18 for train\n",
      "Processe: TCGA_DU_7010_19860307_42 for train\n",
      "Processe: TCGA_DU_A5TU_19980312_3 for train\n",
      "Processe: TCGA_HT_7881_19981015_30 for train\n",
      "Processe: TCGA_CS_4941_19960909_7 for train\n",
      "Processe: TCGA_FG_A60K_20040224_46 for train\n",
      "Processe: TCGA_CS_6669_20020102_11 for train\n",
      "Processe: TCGA_FG_6690_20020226_26 for train\n",
      "Processe: TCGA_FG_6692_20020606_22 for train\n",
      "Processe: TCGA_HT_7475_19970918_1 for train\n",
      "Processe: TCGA_HT_A61A_20000127_34 for train\n",
      "Processe: TCGA_HT_7694_19950404_15 for train\n",
      "Processe: TCGA_FG_A4MU_20030903_13 for train\n",
      "Processe: TCGA_CS_5397_20010315_1 for train\n",
      "Processe: TCGA_HT_7879_19981009_27 for train\n",
      "Processe: TCGA_DU_7013_19860523_47 for train\n",
      "Processe: TCGA_FG_6690_20020226_19 for train\n",
      "Processe: TCGA_HT_A61A_20000127_56 for train\n",
      "Processe: TCGA_DU_7019_19940908_16 for train\n",
      "Processe: TCGA_HT_A5RC_19990831_31 for train\n",
      "Processe: TCGA_FG_A60K_20040224_68 for train\n",
      "Processe: TCGA_DU_8163_19961119_1 for train\n",
      "Processe: TCGA_DU_7008_19830723_37 for train\n",
      "Processe: TCGA_DU_8166_19970322_17 for train\n",
      "Processe: TCGA_CS_4943_20000902_6 for train\n",
      "Processe: TCGA_DU_7008_19830723_12 for train\n",
      "Processe: TCGA_HT_A5RC_19990831_32 for train\n",
      "Processe: TCGA_DU_8166_19970322_5 for train\n",
      "Processe: TCGA_DU_6399_19830416_11 for train\n",
      "Processe: TCGA_DU_8166_19970322_22 for train\n",
      "Processe: TCGA_FG_6688_20020215_16 for train\n",
      "Processe: TCGA_DU_5872_19950223_27 for train\n",
      "Processe: TCGA_DU_8168_19970503_8 for train\n",
      "Processe: TCGA_HT_7856_19950831_26 for train\n",
      "Processe: TCGA_DU_5851_19950428_23 for train\n",
      "Processe: TCGA_DU_6400_19830518_30 for train\n",
      "Processe: TCGA_HT_8563_19981209_17 for train\n",
      "Processe: TCGA_FG_A4MT_20020212_35 for train\n",
      "Processe: TCGA_CS_4941_19960909_12 for train\n",
      "Processe: TCGA_DU_8163_19961119_27 for train\n",
      "Processe: TCGA_CS_4943_20000902_15 for train\n",
      "Processe: TCGA_HT_A61B_19991127_62 for train\n",
      "Processe: TCGA_CS_6669_20020102_13 for train\n",
      "Processe: TCGA_DU_6405_19851005_33 for train\n",
      "Processe: TCGA_DU_6405_19851005_58 for train\n",
      "Processe: TCGA_DU_6400_19830518_29 for train\n",
      "Processe: TCGA_CS_6665_20010817_22 for train\n",
      "Processe: TCGA_DU_A5TR_19970726_24 for train\n",
      "Processe: TCGA_HT_7684_19950816_3 for train\n",
      "Processe: TCGA_FG_5964_20010511_17 for train\n",
      "Processe: TCGA_HT_8107_19980708_2 for train\n",
      "Processe: TCGA_DU_6408_19860521_33 for train\n",
      "Processe: TCGA_FG_7643_20021104_33 for train\n",
      "Processe: TCGA_CS_4944_20010208_19 for train\n",
      "Processe: TCGA_DU_6404_19850629_31 for train\n",
      "Processe: TCGA_FG_A60K_20040224_70 for train\n",
      "Processe: TCGA_DU_6405_19851005_55 for train\n",
      "Processe: TCGA_DU_6400_19830518_43 for train\n",
      "Processe: TCGA_DU_8164_19970111_33 for train\n",
      "Processe: TCGA_DU_7299_19910417_17 for train\n",
      "Processe: TCGA_DU_6399_19830416_20 for train\n",
      "Processe: TCGA_DU_A5TT_19980318_19 for train\n",
      "Processe: TCGA_DU_8164_19970111_36 for train\n",
      "Processe: TCGA_HT_7881_19981015_50 for train\n",
      "Processe: TCGA_DU_7014_19860618_55 for train\n",
      "Processe: TCGA_HT_A61B_19991127_73 for train\n",
      "Processe: TCGA_DU_6407_19860514_35 for train\n",
      "Processe: TCGA_FG_6689_20020326_35 for train\n",
      "Processe: TCGA_DU_5871_19941206_15 for train\n",
      "Processe: TCGA_HT_A61B_19991127_27 for train\n",
      "Processe: TCGA_DU_7018_19911220_26 for train\n",
      "Processe: TCGA_DU_A5TR_19970726_32 for train\n",
      "Processe: TCGA_DU_8168_19970503_7 for train\n",
      "Processe: TCGA_FG_7637_20000922_33 for train\n",
      "Processe: TCGA_HT_A5RC_19990831_8 for train\n",
      "Processe: TCGA_DU_7309_19960831_19 for train\n",
      "Processe: TCGA_DU_7306_19930512_21 for train\n",
      "Processe: TCGA_CS_6669_20020102_10 for train\n",
      "Processe: TCGA_DU_7013_19860523_44 for train\n",
      "Processe: TCGA_DU_A5TP_19970614_22 for train\n",
      "Processe: TCGA_HT_7684_19950816_14 for train\n",
      "Processe: TCGA_DU_6399_19830416_36 for train\n",
      "Processe: TCGA_HT_7684_19950816_25 for train\n",
      "Processe: TCGA_FG_8189_20030516_21 for train\n",
      "Processe: TCGA_HT_8563_19981209_16 for train\n",
      "Processe: TCGA_FG_A60K_20040224_66 for train\n",
      "Processe: TCGA_CS_6665_20010817_2 for train\n",
      "Processe: TCGA_HT_8107_19980708_6 for train\n",
      "Processe: TCGA_FG_6689_20020326_37 for train\n",
      "Processe: TCGA_CS_6667_20011105_2 for train\n",
      "Processe: TCGA_DU_7008_19830723_46 for train\n",
      "Processe: TCGA_DU_A5TR_19970726_38 for train\n",
      "Processe: TCGA_FG_5962_20000626_34 for train\n",
      "Processe: TCGA_FG_6689_20020326_15 for train\n",
      "Processe: TCGA_HT_A61A_20000127_10 for train\n",
      "Processe: TCGA_FG_A60K_20040224_27 for train\n",
      "Processe: TCGA_FG_A4MT_20020212_4 for train\n",
      "Processe: TCGA_HT_7881_19981015_80 for train\n",
      "Processe: TCGA_DU_6399_19830416_51 for train\n",
      "Processe: TCGA_DU_5851_19950428_15 for train\n",
      "Processe: TCGA_DU_7008_19830723_44 for train\n",
      "Processe: TCGA_HT_A61A_20000127_41 for train\n",
      "Processe: TCGA_DU_7299_19910417_33 for train\n",
      "Processe: TCGA_FG_A4MU_20030903_1 for train\n",
      "Processe: TCGA_DU_7309_19960831_25 for train\n",
      "Processe: TCGA_CS_4944_20010208_15 for train\n",
      "Processe: TCGA_DU_5852_19950709_33 for train\n",
      "Processe: TCGA_HT_7616_19940813_1 for train\n",
      "Processe: TCGA_FG_5962_20000626_15 for train\n",
      "Processe: TCGA_DU_A5TP_19970614_23 for train\n",
      "Processe: TCGA_HT_7616_19940813_10 for train\n",
      "Processe: TCGA_DU_7301_19911112_6 for train\n",
      "Processe: TCGA_CS_6669_20020102_2 for train\n",
      "Processe: TCGA_DU_A5TT_19980318_14 for train\n",
      "Processe: TCGA_FG_7643_20021104_44 for train\n",
      "Processe: TCGA_HT_A61A_20000127_74 for train\n",
      "Processe: TCGA_DU_A5TR_19970726_3 for train\n",
      "Processe: TCGA_FG_6690_20020226_36 for train\n",
      "Processe: TCGA_CS_6186_20000601_7 for train\n",
      "Processe: TCGA_FG_6690_20020226_2 for train\n",
      "Processe: TCGA_CS_6188_20010812_4 for train\n",
      "Processe: TCGA_DU_5851_19950428_37 for train\n",
      "Processe: TCGA_FG_6691_20020405_32 for train\n",
      "Processe: TCGA_DU_8168_19970503_31 for train\n",
      "Processe: TCGA_HT_A61A_20000127_37 for train\n",
      "Processe: TCGA_CS_6290_20000917_1 for train\n",
      "Processe: TCGA_FG_7637_20000922_9 for train\n",
      "Processe: TCGA_HT_7877_19980917_18 for train\n",
      "Processe: TCGA_HT_7605_19950916_13 for train\n",
      "Processe: TCGA_DU_5855_19951217_21 for train\n",
      "Processe: TCGA_HT_A61B_19991127_85 for train\n",
      "Processe: TCGA_DU_7018_19911220_11 for train\n",
      "Processe: TCGA_DU_6400_19830518_22 for train\n",
      "Processe: TCGA_HT_7879_19981009_5 for train\n",
      "Processe: TCGA_DU_5871_19941206_27 for train\n",
      "Processe: TCGA_DU_8165_19970205_15 for train\n",
      "Processe: TCGA_HT_7680_19970202_20 for train\n",
      "Processe: TCGA_DU_7304_19930325_1 for train\n",
      "Processe: TCGA_HT_7856_19950831_27 for train\n",
      "Processe: TCGA_HT_7680_19970202_2 for train\n",
      "Processe: TCGA_DU_A5TS_19970726_5 for train\n",
      "Processe: TCGA_DU_A5TT_19980318_35 for train\n",
      "Processe: TCGA_FG_A4MT_20020212_36 for train\n",
      "Processe: TCGA_CS_6290_20000917_10 for train\n",
      "Processe: TCGA_DU_5872_19950223_52 for train\n",
      "Processe: TCGA_DU_A5TS_19970726_20 for train\n",
      "Processe: TCGA_DU_7013_19860523_19 for train\n",
      "Processe: TCGA_HT_7881_19981015_61 for train\n",
      "Processe: TCGA_DU_7302_19911203_14 for train\n",
      "Processe: TCGA_HT_7608_19940304_12 for train\n",
      "Processe: TCGA_CS_4943_20000902_8 for train\n",
      "Processe: TCGA_CS_6668_20011025_23 for train\n",
      "Processe: TCGA_DU_7306_19930512_13 for train\n",
      "Processe: TCGA_DU_5855_19951217_17 for train\n",
      "Processe: TCGA_HT_A5RC_19990831_29 for train\n",
      "Processe: TCGA_DU_8164_19970111_4 for train\n",
      "Processe: TCGA_CS_6666_20011109_2 for train\n",
      "Processe: TCGA_DU_7008_19830723_48 for train\n",
      "Processe: TCGA_DU_6407_19860514_24 for train\n",
      "Processe: TCGA_FG_5962_20000626_50 for train\n",
      "Processe: TCGA_FG_8189_20030516_23 for train\n",
      "Processe: TCGA_CS_6186_20000601_25 for train\n",
      "Processe: TCGA_DU_A5TT_19980318_29 for train\n",
      "Processe: TCGA_FG_A4MU_20030903_22 for train\n",
      "Processe: TCGA_DU_7008_19830723_38 for train\n",
      "Processe: TCGA_CS_5393_19990606_16 for train\n",
      "Processe: TCGA_HT_7879_19981009_16 for train\n",
      "Processe: TCGA_FG_A4MT_20020212_26 for train\n",
      "Processe: TCGA_HT_A61A_20000127_40 for train\n",
      "Processe: TCGA_HT_7680_19970202_7 for train\n",
      "Processe: TCGA_DU_7302_19911203_25 for train\n",
      "Processe: TCGA_HT_7475_19970918_30 for train\n",
      "Processe: TCGA_HT_8111_19980330_15 for train\n",
      "Processe: TCGA_EZ_7264_20010816_6 for train\n",
      "Processe: TCGA_HT_7616_19940813_20 for train\n",
      "Processe: TCGA_DU_A5TS_19970726_30 for train\n",
      "Processe: TCGA_DU_7309_19960831_26 for train\n",
      "Processe: TCGA_CS_6665_20010817_7 for train\n",
      "Processe: TCGA_DU_A5TW_19980228_4 for train\n",
      "Processe: TCGA_DU_6400_19830518_38 for train\n",
      "Processe: TCGA_HT_7881_19981015_35 for train\n",
      "Processe: TCGA_DU_7014_19860618_25 for train\n",
      "Processe: TCGA_HT_A61B_19991127_28 for train\n",
      "Processe: TCGA_DU_A5TS_19970726_32 for train\n",
      "Processe: TCGA_CS_4944_20010208_4 for train\n",
      "Processe: TCGA_DU_5854_19951104_30 for train\n",
      "Processe: TCGA_HT_A61A_20000127_26 for train\n",
      "Processe: TCGA_DU_5852_19950709_3 for train\n",
      "Processe: TCGA_DU_7018_19911220_9 for train\n",
      "Processe: TCGA_HT_7856_19950831_32 for train\n",
      "Processe: TCGA_HT_7473_19970826_14 for train\n",
      "Processe: TCGA_DU_8163_19961119_28 for train\n",
      "Processe: TCGA_CS_6667_20011105_11 for train\n",
      "Processe: TCGA_HT_7616_19940813_26 for train\n",
      "Processe: TCGA_CS_5396_20010302_8 for train\n",
      "Processe: TCGA_DU_5854_19951104_17 for train\n",
      "Processe: TCGA_DU_6407_19860514_29 for train\n",
      "Processe: TCGA_FG_7643_20021104_11 for train\n",
      "Processe: TCGA_DU_7304_19930325_24 for train\n",
      "Processe: TCGA_FG_6690_20020226_33 for train\n",
      "Processe: TCGA_DU_5851_19950428_30 for train\n",
      "Processe: TCGA_FG_A60K_20040224_54 for train\n",
      "Processe: TCGA_DU_5872_19950223_6 for train\n",
      "Processe: TCGA_DU_5872_19950223_20 for train\n",
      "Processe: TCGA_DU_A5TU_19980312_10 for train\n",
      "Processe: TCGA_FG_8189_20030516_57 for train\n",
      "Processe: TCGA_DU_7008_19830723_26 for train\n",
      "Processe: TCGA_FG_7643_20021104_14 for train\n",
      "Processe: TCGA_DU_A5TU_19980312_4 for train\n",
      "Processe: TCGA_DU_7300_19910814_32 for train\n",
      "Processe: TCGA_DU_6399_19830416_33 for train\n",
      "Processe: TCGA_DU_6400_19830518_26 for train\n",
      "Processe: TCGA_FG_A4MT_20020212_5 for train\n",
      "Processe: TCGA_DU_6405_19851005_4 for train\n",
      "Processe: TCGA_HT_7684_19950816_22 for train\n",
      "Processe: TCGA_HT_A616_19991226_1 for train\n",
      "Processe: TCGA_HT_7855_19951020_18 for train\n",
      "Processe: TCGA_DU_7298_19910324_6 for train\n",
      "Processe: TCGA_CS_5395_19981004_8 for train\n",
      "Processe: TCGA_CS_4944_20010208_17 for train\n",
      "Processe: TCGA_DU_7010_19860307_56 for train\n",
      "Processe: TCGA_DU_7013_19860523_46 for train\n",
      "Processe: TCGA_DU_5849_19950405_33 for train\n",
      "Processe: TCGA_CS_5397_20010315_7 for train\n",
      "Processe: TCGA_DU_5872_19950223_71 for train\n",
      "Processe: TCGA_DU_5872_19950223_62 for train\n",
      "Processe: TCGA_HT_8111_19980330_19 for train\n",
      "Processe: TCGA_HT_7881_19981015_32 for train\n",
      "Processe: TCGA_HT_7881_19981015_31 for train\n",
      "Processe: TCGA_DU_A5TT_19980318_26 for train\n",
      "Processe: TCGA_DU_7301_19911112_31 for train\n",
      "Processe: TCGA_HT_7855_19951020_15 for train\n",
      "Processe: TCGA_DU_5853_19950823_17 for train\n",
      "Processe: TCGA_HT_7860_19960513_12 for train\n",
      "Processe: TCGA_DU_A5TY_19970709_28 for train\n",
      "Processe: TCGA_HT_7694_19950404_14 for train\n",
      "Processe: TCGA_DU_8165_19970205_19 for train\n",
      "Processe: TCGA_CS_6668_20011025_24 for train\n",
      "Processe: TCGA_DU_5854_19951104_22 for train\n",
      "Processe: TCGA_DU_7010_19860307_19 for train\n",
      "Processe: TCGA_HT_8107_19980708_14 for train\n",
      "Processe: TCGA_DU_5874_19950510_13 for train\n",
      "Processe: TCGA_DU_7299_19910417_19 for train\n",
      "Processe: TCGA_HT_8105_19980826_10 for train\n",
      "Processe: TCGA_HT_A61A_20000127_28 for train\n",
      "Processe: TCGA_DU_A5TR_19970726_1 for train\n",
      "Processe: TCGA_HT_7693_19950520_17 for train\n",
      "Processe: TCGA_EZ_7264_20010816_23 for train\n",
      "Processe: TCGA_FG_A4MU_20030903_10 for train\n",
      "Processe: TCGA_HT_7855_19951020_21 for train\n",
      "Processe: TCGA_CS_6186_20000601_20 for train\n",
      "Processe: TCGA_DU_5849_19950405_4 for train\n",
      "Processe: TCGA_HT_7605_19950916_1 for train\n",
      "Processe: TCGA_HT_7882_19970125_31 for train\n",
      "Processe: TCGA_HT_7693_19950520_13 for train\n",
      "Processe: TCGA_DU_A5TU_19980312_14 for train\n",
      "Processe: TCGA_DU_8165_19970205_22 for train\n",
      "Processe: TCGA_DU_5849_19950405_20 for train\n",
      "Processe: TCGA_DU_6399_19830416_17 for train\n",
      "Processe: TCGA_HT_A61B_19991127_78 for train\n",
      "Processe: TCGA_DU_7309_19960831_6 for train\n",
      "Processe: TCGA_FG_6689_20020326_28 for train\n",
      "Processe: TCGA_HT_7473_19970826_13 for train\n",
      "Processe: TCGA_CS_5395_19981004_4 for train\n",
      "Processe: TCGA_HT_7608_19940304_16 for train\n",
      "Processe: TCGA_FG_6691_20020405_15 for train\n",
      "Processe: TCGA_DU_5871_19941206_24 for train\n",
      "Processe: TCGA_DU_A5TR_19970726_13 for train\n",
      "Processe: TCGA_DU_A5TT_19980318_13 for train\n",
      "Processe: TCGA_DU_6405_19851005_3 for train\n",
      "Processe: TCGA_HT_7881_19981015_69 for train\n",
      "Processe: TCGA_HT_7684_19950816_12 for train\n",
      "Processe: TCGA_DU_7010_19860307_52 for train\n",
      "Processe: TCGA_CS_6669_20020102_9 for train\n",
      "Processe: TCGA_CS_5393_19990606_2 for train\n",
      "Processe: TCGA_CS_5395_19981004_2 for train\n",
      "Processe: TCGA_DU_7010_19860307_6 for train\n",
      "Processe: TCGA_DU_7014_19860618_18 for train\n",
      "Processe: TCGA_HT_A5RC_19990831_25 for train\n",
      "Processe: TCGA_DU_A5TW_19980228_28 for train\n",
      "Processe: TCGA_DU_5849_19950405_29 for train\n",
      "Processe: TCGA_DU_6404_19850629_47 for train\n",
      "Processe: TCGA_CS_6669_20020102_8 for train\n",
      "Processe: TCGA_CS_5395_19981004_17 for train\n",
      "Processe: TCGA_DU_5872_19950223_12 for train\n",
      "Processe: TCGA_HT_A61B_19991127_45 for train\n",
      "Processe: TCGA_HT_7616_19940813_17 for train\n",
      "Processe: TCGA_FG_6688_20020215_12 for train\n",
      "Processe: TCGA_DU_6404_19850629_40 for train\n",
      "Processe: TCGA_FG_6690_20020226_23 for train\n",
      "Processe: TCGA_DU_7306_19930512_3 for train\n",
      "Processe: TCGA_DU_6400_19830518_49 for train\n",
      "Processe: TCGA_HT_A61B_19991127_23 for train\n",
      "Processe: TCGA_DU_7014_19860618_27 for train\n",
      "Processe: TCGA_DU_7300_19910814_7 for train\n",
      "Processe: TCGA_FG_8189_20030516_7 for train\n",
      "Processe: TCGA_DU_7018_19911220_29 for train\n",
      "Processe: TCGA_DU_7014_19860618_47 for train\n",
      "Processe: TCGA_FG_6692_20020606_1 for train\n",
      "Processe: TCGA_DU_7304_19930325_9 for train\n",
      "Processe: TCGA_FG_5962_20000626_25 for train\n",
      "Processe: TCGA_HT_A61A_20000127_84 for train\n",
      "Processe: TCGA_DU_8162_19961029_13 for train\n",
      "Processe: TCGA_HT_7473_19970826_29 for train\n",
      "Processe: TCGA_DU_6407_19860514_14 for train\n",
      "Processe: TCGA_FG_6688_20020215_5 for train\n",
      "Processe: TCGA_DU_5849_19950405_25 for train\n",
      "Processe: TCGA_DU_5855_19951217_11 for train\n",
      "Processe: TCGA_DU_6401_19831001_5 for train\n",
      "Processe: TCGA_DU_A5TR_19970726_9 for train\n",
      "Processe: TCGA_CS_5393_19990606_14 for train\n",
      "Processe: TCGA_DU_6407_19860514_36 for train\n",
      "Processe: TCGA_EZ_7264_20010816_20 for train\n",
      "Processe: TCGA_HT_7602_19951103_10 for train\n",
      "Processe: TCGA_HT_7605_19950916_14 for train\n",
      "Processe: TCGA_HT_A616_19991226_11 for train\n",
      "Processe: TCGA_HT_A61A_20000127_52 for train\n",
      "Processe: TCGA_FG_6689_20020326_38 for train\n",
      "Processe: TCGA_HT_7680_19970202_6 for train\n",
      "Processe: TCGA_EZ_7264_20010816_21 for train\n",
      "Processe: TCGA_FG_6690_20020226_9 for train\n",
      "Processe: TCGA_DU_6400_19830518_11 for train\n",
      "Processe: TCGA_HT_7475_19970918_11 for train\n",
      "Processe: TCGA_DU_6399_19830416_43 for train\n",
      "Processe: TCGA_DU_7294_19890104_30 for train\n",
      "Processe: TCGA_CS_6188_20010812_23 for train\n",
      "Processe: TCGA_DU_7294_19890104_31 for train\n",
      "Processe: TCGA_FG_A4MT_20020212_31 for train\n",
      "Processe: TCGA_CS_6669_20020102_6 for train\n",
      "Processe: TCGA_HT_7881_19981015_22 for train\n",
      "Processe: TCGA_HT_7608_19940304_4 for train\n",
      "Processe: TCGA_DU_6407_19860514_58 for train\n",
      "Processe: TCGA_DU_6400_19830518_6 for train\n",
      "Processe: TCGA_DU_6408_19860521_42 for train\n",
      "Processe: TCGA_HT_7879_19981009_7 for train\n",
      "Processe: TCGA_DU_7306_19930512_40 for train\n",
      "Processe: TCGA_DU_6400_19830518_9 for train\n",
      "Processe: TCGA_HT_7882_19970125_9 for train\n",
      "Processe: TCGA_DU_5851_19950428_38 for train\n",
      "Processe: TCGA_DU_7299_19910417_20 for train\n",
      "Processe: TCGA_DU_7302_19911203_34 for train\n",
      "Processe: TCGA_FG_A4MU_20030903_29 for train\n",
      "Processe: TCGA_FG_5962_20000626_31 for train\n",
      "Processe: TCGA_DU_A5TS_19970726_4 for train\n",
      "Processe: TCGA_CS_5396_20010302_24 for train\n",
      "Processe: TCGA_DU_7294_19890104_5 for train\n",
      "Processe: TCGA_DU_6407_19860514_23 for train\n",
      "Processe: TCGA_HT_7475_19970918_6 for train\n",
      "Processe: TCGA_DU_6407_19860514_28 for train\n",
      "Processe: TCGA_DU_8168_19970503_20 for train\n",
      "Processe: TCGA_DU_5872_19950223_53 for train\n",
      "Processe: TCGA_DU_8162_19961029_14 for train\n",
      "Processe: TCGA_DU_7010_19860307_46 for train\n",
      "Processe: TCGA_DU_5874_19950510_38 for train\n",
      "Processe: TCGA_DU_6405_19851005_24 for train\n",
      "Processe: TCGA_DU_7306_19930512_29 for train\n",
      "Processe: TCGA_DU_7302_19911203_4 for train\n",
      "Processe: TCGA_DU_7010_19860307_26 for train\n",
      "Processe: TCGA_HT_8111_19980330_13 for train\n",
      "Processe: TCGA_DU_6399_19830416_47 for train\n",
      "Processe: TCGA_DU_7018_19911220_10 for train\n",
      "Processe: TCGA_HT_7605_19950916_5 for train\n",
      "Processe: TCGA_HT_7881_19981015_16 for train\n",
      "Processe: TCGA_HT_8106_19970727_11 for train\n",
      "Processe: TCGA_DU_7309_19960831_12 for train\n",
      "Processe: TCGA_DU_6401_19831001_40 for train\n",
      "Processe: TCGA_FG_A60K_20040224_12 for train\n",
      "Processe: TCGA_DU_7299_19910417_13 for train\n",
      "Processe: TCGA_HT_A61B_19991127_61 for train\n",
      "Processe: TCGA_HT_A61A_20000127_73 for train\n",
      "Processe: TCGA_DU_6399_19830416_49 for train\n",
      "Processe: TCGA_HT_7473_19970826_30 for train\n",
      "Processe: TCGA_DU_A5TT_19980318_33 for train\n",
      "Processe: TCGA_DU_7014_19860618_37 for train\n",
      "Processe: TCGA_CS_4941_19960909_10 for train\n",
      "Processe: TCGA_FG_6689_20020326_1 for train\n",
      "Processe: TCGA_DU_7013_19860523_14 for train\n",
      "Processe: TCGA_DU_7010_19860307_29 for train\n",
      "Processe: TCGA_DU_7018_19911220_35 for train\n",
      "Processe: TCGA_DU_8167_19970402_26 for train\n",
      "Processe: TCGA_DU_7306_19930512_23 for train\n",
      "Processe: TCGA_DU_A5TY_19970709_20 for train\n",
      "Processe: TCGA_HT_A61B_19991127_22 for train\n",
      "Processe: TCGA_HT_A5RC_19990831_27 for train\n",
      "Processe: TCGA_DU_A5TT_19980318_7 for train\n",
      "Processe: TCGA_DU_7301_19911112_14 for train\n",
      "Processe: TCGA_DU_6408_19860521_30 for train\n",
      "Processe: TCGA_HT_A61A_20000127_61 for train\n",
      "Processe: TCGA_FG_A4MU_20030903_17 for train\n",
      "Processe: TCGA_FG_5964_20010511_25 for train\n",
      "Processe: TCGA_HT_8018_19970411_19 for train\n",
      "Processe: TCGA_CS_6669_20020102_7 for train\n",
      "Processe: TCGA_DU_5849_19950405_11 for train\n",
      "Processe: TCGA_DU_5871_19941206_5 for train\n",
      "Processe: TCGA_DU_7300_19910814_10 for train\n",
      "Processe: TCGA_DU_7014_19860618_11 for train\n",
      "Processe: TCGA_HT_8018_19970411_15 for train\n",
      "Processe: TCGA_HT_8113_19930809_16 for train\n",
      "Processe: TCGA_CS_5396_20010302_19 for train\n",
      "Processe: TCGA_FG_6688_20020215_24 for train\n",
      "Processe: TCGA_FG_6688_20020215_8 for train\n",
      "Processe: TCGA_FG_6690_20020226_56 for train\n",
      "Processe: TCGA_DU_5872_19950223_64 for train\n",
      "Processe: TCGA_FG_6689_20020326_41 for train\n",
      "Processe: TCGA_CS_5396_20010302_14 for train\n",
      "Processe: TCGA_DU_7301_19911112_3 for train\n",
      "Processe: TCGA_FG_6690_20020226_55 for train\n",
      "Processe: TCGA_DU_7299_19910417_22 for train\n",
      "Processe: TCGA_FG_A4MT_20020212_25 for train\n",
      "Processe: TCGA_DU_8166_19970322_31 for train\n",
      "Processe: TCGA_HT_7881_19981015_45 for train\n",
      "Processe: TCGA_DU_6407_19860514_25 for train\n",
      "Processe: TCGA_HT_7605_19950916_29 for train\n",
      "Processe: TCGA_DU_7301_19911112_26 for train\n",
      "Processe: TCGA_DU_7010_19860307_3 for train\n",
      "Processe: TCGA_HT_7475_19970918_10 for train\n",
      "Processe: TCGA_FG_8189_20030516_42 for train\n",
      "Processe: TCGA_EZ_7264_20010816_24 for train\n",
      "Processe: TCGA_DU_5872_19950223_60 for train\n",
      "Processe: TCGA_FG_6691_20020405_45 for train\n",
      "Processe: TCGA_FG_A4MU_20030903_9 for train\n",
      "Processe: TCGA_DU_8168_19970503_22 for train\n",
      "Processe: TCGA_CS_6666_20011109_20 for train\n",
      "Processe: TCGA_DU_6401_19831001_19 for train\n",
      "Processe: TCGA_DU_A5TT_19980318_27 for train\n",
      "Processe: TCGA_DU_A5TP_19970614_11 for train\n",
      "Processe: TCGA_CS_6667_20011105_20 for train\n",
      "Processe: TCGA_DU_A5TT_19980318_42 for train\n",
      "Processe: TCGA_HT_7860_19960513_15 for train\n",
      "Processe: TCGA_DU_5874_19950510_19 for train\n",
      "Processe: TCGA_FG_5964_20010511_5 for train\n",
      "Processe: TCGA_DU_8163_19961119_31 for train\n",
      "Processe: TCGA_HT_7874_19950902_9 for train\n",
      "Processe: TCGA_CS_6667_20011105_16 for train\n",
      "Processe: TCGA_DU_6399_19830416_35 for train\n",
      "Processe: TCGA_HT_8111_19980330_16 for train\n",
      "Processe: TCGA_FG_6690_20020226_3 for train\n",
      "Processe: TCGA_HT_7686_19950629_2 for train\n",
      "Processe: TCGA_DU_7019_19940908_28 for train\n",
      "Processe: TCGA_FG_A4MU_20030903_6 for train\n",
      "Processe: TCGA_DU_7301_19911112_19 for train\n",
      "Processe: TCGA_CS_4941_19960909_2 for train\n",
      "Processe: TCGA_FG_6689_20020326_10 for train\n",
      "Processe: TCGA_DU_7014_19860618_46 for train\n",
      "Processe: TCGA_FG_6688_20020215_17 for train\n",
      "Processe: TCGA_DU_A5TR_19970726_21 for train\n",
      "Processe: TCGA_DU_5851_19950428_27 for train\n",
      "Processe: TCGA_FG_A60K_20040224_72 for train\n",
      "Processe: TCGA_FG_8189_20030516_2 for train\n",
      "Processe: TCGA_CS_6665_20010817_18 for train\n",
      "Processe: TCGA_DU_8164_19970111_14 for train\n",
      "Processe: TCGA_CS_6668_20011025_22 for train\n",
      "Processe: TCGA_FG_6689_20020326_7 for train\n",
      "Processe: TCGA_CS_5395_19981004_19 for train\n",
      "Processe: TCGA_HT_7602_19951103_1 for train\n",
      "Processe: TCGA_HT_A61B_19991127_16 for train\n",
      "Processe: TCGA_DU_6399_19830416_8 for train\n",
      "Processe: TCGA_FG_A4MU_20030903_7 for train\n",
      "Processe: TCGA_HT_7881_19981015_2 for train\n",
      "Processe: TCGA_DU_8162_19961029_4 for train\n",
      "Processe: TCGA_DU_8164_19970111_9 for train\n",
      "Processe: TCGA_DU_5855_19951217_6 for train\n",
      "Processe: TCGA_HT_8114_19981030_16 for train\n",
      "Processe: TCGA_HT_A61A_20000127_68 for train\n",
      "Processe: TCGA_DU_7302_19911203_1 for train\n",
      "Processe: TCGA_FG_A4MT_20020212_21 for train\n",
      "Processe: TCGA_HT_A61B_19991127_36 for train\n",
      "Processe: TCGA_DU_5872_19950223_37 for train\n",
      "Processe: TCGA_CS_5396_20010302_21 for train\n",
      "Processe: TCGA_FG_7637_20000922_11 for train\n",
      "Processe: TCGA_HT_7881_19981015_49 for train\n",
      "Processe: TCGA_HT_8106_19970727_10 for train\n",
      "Processe: TCGA_HT_A61B_19991127_15 for train\n",
      "Processe: TCGA_HT_7692_19960724_12 for train\n",
      "Processe: TCGA_HT_7692_19960724_7 for train\n",
      "Processe: TCGA_DU_A5TW_19980228_2 for train\n",
      "Processe: TCGA_HT_7608_19940304_24 for train\n",
      "Processe: TCGA_DU_7014_19860618_16 for train\n",
      "Processe: TCGA_DU_6399_19830416_14 for train\n",
      "Processe: TCGA_FG_7637_20000922_37 for train\n",
      "Processe: TCGA_CS_4943_20000902_3 for train\n",
      "Processe: TCGA_FG_A4MT_20020212_48 for train\n",
      "Processe: TCGA_DU_A5TS_19970726_12 for train\n",
      "Processe: TCGA_CS_6669_20020102_22 for train\n",
      "Processe: TCGA_HT_8105_19980826_1 for train\n",
      "Processe: TCGA_DU_8162_19961029_24 for train\n",
      "Processe: TCGA_DU_6399_19830416_38 for train\n",
      "Processe: TCGA_DU_7309_19960831_31 for train\n",
      "Processe: TCGA_DU_5872_19950223_22 for train\n",
      "Processe: TCGA_DU_A5TY_19970709_7 for train\n",
      "Processe: TCGA_EZ_7264_20010816_22 for train\n",
      "Processe: TCGA_DU_8165_19970205_3 for train\n",
      "Processe: TCGA_CS_6290_20000917_19 for train\n",
      "Processe: TCGA_DU_7019_19940908_7 for train\n",
      "Processe: TCGA_HT_A616_19991226_26 for train\n",
      "Processe: TCGA_DU_7013_19860523_8 for train\n",
      "Processe: TCGA_DU_8168_19970503_13 for train\n",
      "Processe: TCGA_DU_A5TY_19970709_30 for train\n",
      "Processe: TCGA_DU_5855_19951217_1 for train\n",
      "Processe: TCGA_DU_8164_19970111_16 for train\n",
      "Processe: TCGA_DU_7014_19860618_21 for train\n",
      "Processe: TCGA_HT_8107_19980708_20 for train\n",
      "Processe: TCGA_FG_6688_20020215_23 for train\n",
      "Processe: TCGA_HT_7860_19960513_7 for train\n",
      "Processe: TCGA_DU_7304_19930325_18 for train\n",
      "Processe: TCGA_DU_5854_19951104_24 for train\n",
      "Processe: TCGA_HT_A5RC_19990831_15 for train\n",
      "Processe: TCGA_FG_A60K_20040224_36 for train\n",
      "Processe: TCGA_FG_A4MT_20020212_18 for train\n",
      "Processe: TCGA_DU_6404_19850629_34 for train\n",
      "Processe: TCGA_DU_7299_19910417_32 for train\n",
      "Processe: TCGA_HT_7860_19960513_22 for train\n",
      "Processe: TCGA_DU_7014_19860618_50 for train\n",
      "Processe: TCGA_DU_7301_19911112_29 for train\n",
      "Processe: TCGA_HT_8107_19980708_3 for train\n",
      "Processe: TCGA_DU_5853_19950823_26 for train\n",
      "Processe: TCGA_DU_5872_19950223_34 for train\n",
      "Processe: TCGA_DU_6404_19850629_49 for train\n",
      "Processe: TCGA_HT_A61A_20000127_43 for train\n",
      "Processe: TCGA_HT_7684_19950816_20 for train\n",
      "Processe: TCGA_DU_7306_19930512_2 for train\n",
      "Processe: TCGA_DU_8167_19970402_16 for train\n",
      "Processe: TCGA_HT_7473_19970826_20 for train\n",
      "Processe: TCGA_FG_7637_20000922_12 for train\n",
      "Processe: TCGA_HT_A61B_19991127_3 for train\n",
      "Processe: TCGA_DU_7008_19830723_43 for train\n",
      "Processe: TCGA_DU_6408_19860521_6 for train\n",
      "Processe: TCGA_FG_A60K_20040224_21 for train\n",
      "Processe: TCGA_DU_5874_19950510_24 for train\n",
      "Processe: TCGA_DU_7018_19911220_32 for train\n",
      "Processe: TCGA_HT_A61A_20000127_2 for train\n",
      "Processe: TCGA_CS_5397_20010315_17 for train\n",
      "Processe: TCGA_HT_7475_19970918_8 for train\n",
      "Processe: TCGA_HT_7860_19960513_13 for train\n",
      "Processe: TCGA_DU_8163_19961119_12 for train\n",
      "Processe: TCGA_DU_7299_19910417_10 for train\n",
      "Processe: TCGA_HT_A5RC_19990831_21 for train\n",
      "Processe: TCGA_HT_8018_19970411_18 for train\n",
      "Processe: TCGA_CS_6669_20020102_17 for train\n",
      "Processe: TCGA_HT_7881_19981015_5 for train\n",
      "Processe: TCGA_DU_7014_19860618_2 for train\n",
      "Processe: TCGA_FG_A4MT_20020212_1 for train\n",
      "Processe: TCGA_HT_8111_19980330_4 for train\n",
      "Processe: TCGA_DU_7300_19910814_15 for train\n",
      "Processe: TCGA_DU_6404_19850629_45 for train\n",
      "Processe: TCGA_HT_A61A_20000127_54 for train\n",
      "Processe: TCGA_HT_8018_19970411_12 for train\n",
      "Processe: TCGA_DU_8168_19970503_24 for train\n",
      "Processe: TCGA_CS_6666_20011109_24 for train\n",
      "Processe: TCGA_DU_7304_19930325_13 for train\n",
      "Processe: TCGA_DU_6401_19831001_4 for train\n",
      "Processe: TCGA_DU_A5TS_19970726_13 for train\n",
      "Processe: TCGA_HT_A61B_19991127_40 for train\n",
      "Processe: TCGA_HT_7881_19981015_34 for train\n",
      "Processe: TCGA_DU_A5TP_19970614_2 for train\n",
      "Processe: TCGA_FG_8189_20030516_25 for train\n",
      "Processe: TCGA_DU_6400_19830518_44 for train\n",
      "Processe: TCGA_HT_A616_19991226_2 for train\n",
      "Processe: TCGA_FG_A60K_20040224_15 for train\n",
      "Processe: TCGA_DU_8167_19970402_13 for train\n",
      "Processe: TCGA_DU_6399_19830416_52 for train\n",
      "Processe: TCGA_DU_8164_19970111_27 for train\n",
      "Processe: TCGA_DU_6399_19830416_53 for train\n",
      "Processe: TCGA_DU_8164_19970111_8 for train\n",
      "Processe: TCGA_CS_6669_20020102_19 for train\n",
      "Processe: TCGA_DU_A5TW_19980228_9 for train\n",
      "Processe: TCGA_HT_7877_19980917_11 for train\n",
      "Processe: TCGA_FG_7643_20021104_43 for train\n",
      "Processe: TCGA_DU_5872_19950223_24 for train\n",
      "Processe: TCGA_DU_8167_19970402_37 for train\n",
      "Processe: TCGA_DU_6400_19830518_14 for train\n",
      "Processe: TCGA_HT_7602_19951103_11 for train\n",
      "Processe: TCGA_HT_8105_19980826_15 for train\n",
      "Processe: TCGA_DU_7014_19860618_32 for train\n",
      "Processe: TCGA_DU_6407_19860514_7 for train\n",
      "Processe: TCGA_CS_6186_20000601_18 for train\n",
      "Processe: TCGA_DU_5871_19941206_31 for train\n",
      "Processe: TCGA_DU_7018_19911220_31 for train\n",
      "Processe: TCGA_HT_A61A_20000127_75 for train\n",
      "Processe: TCGA_DU_5854_19951104_35 for train\n",
      "Processe: TCGA_FG_7637_20000922_16 for train\n",
      "Processe: TCGA_HT_7877_19980917_14 for train\n",
      "Processe: TCGA_HT_7877_19980917_17 for train\n",
      "Processe: TCGA_DU_7300_19910814_12 for train\n",
      "Processe: TCGA_HT_7884_19980913_12 for train\n",
      "Processe: TCGA_DU_8165_19970205_26 for train\n",
      "Processe: TCGA_HT_7680_19970202_12 for train\n",
      "Processe: TCGA_CS_6665_20010817_10 for train\n",
      "Processe: TCGA_HT_8563_19981209_15 for train\n",
      "Processe: TCGA_CS_6669_20020102_15 for train\n",
      "Processe: TCGA_HT_7881_19981015_23 for train\n",
      "Processe: TCGA_DU_8164_19970111_20 for train\n",
      "Processe: TCGA_DU_5854_19951104_9 for train\n",
      "Processe: TCGA_HT_7686_19950629_3 for train\n",
      "Processe: TCGA_DU_6408_19860521_2 for train\n",
      "Processe: TCGA_HT_7475_19970918_28 for train\n",
      "Processe: TCGA_HT_7475_19970918_14 for train\n",
      "Processe: TCGA_DU_8166_19970322_9 for train\n",
      "Processe: TCGA_DU_5872_19950223_61 for train\n",
      "Processe: TCGA_DU_7298_19910324_15 for train\n",
      "Processe: TCGA_DU_7014_19860618_1 for train\n",
      "Processe: TCGA_FG_A60K_20040224_43 for train\n",
      "Processe: TCGA_FG_6691_20020405_5 for train\n",
      "Processe: TCGA_DU_5871_19941206_23 for train\n",
      "Processe: TCGA_DU_8163_19961119_4 for train\n",
      "Processe: TCGA_HT_7884_19980913_16 for train\n",
      "Processe: TCGA_HT_7855_19951020_16 for train\n",
      "Processe: TCGA_FG_A4MU_20030903_32 for train\n",
      "Processe: TCGA_FG_5962_20000626_17 for train\n",
      "Processe: TCGA_FG_5962_20000626_41 for train\n",
      "Processe: TCGA_CS_6668_20011025_17 for train\n",
      "Processe: TCGA_FG_A60K_20040224_3 for train\n",
      "Processe: TCGA_FG_A60K_20040224_18 for train\n",
      "Processe: TCGA_HT_7881_19981015_24 for train\n",
      "Processe: TCGA_FG_A4MT_20020212_2 for train\n",
      "Processe: TCGA_HT_7881_19981015_37 for train\n",
      "Processe: TCGA_FG_6691_20020405_8 for train\n",
      "Processe: TCGA_DU_8163_19961119_33 for train\n",
      "Processe: TCGA_DU_A5TY_19970709_31 for train\n",
      "Processe: TCGA_CS_6665_20010817_23 for train\n",
      "Processe: TCGA_DU_A5TW_19980228_15 for train\n",
      "Processe: TCGA_DU_7013_19860523_27 for train\n",
      "Processe: TCGA_DU_8164_19970111_26 for train\n",
      "Processe: TCGA_DU_7018_19911220_27 for train\n",
      "Processe: TCGA_FG_6688_20020215_9 for train\n",
      "Processe: TCGA_DU_A5TW_19980228_29 for train\n",
      "Processe: TCGA_FG_6690_20020226_54 for train\n",
      "Processe: TCGA_DU_6401_19831001_11 for train\n",
      "Processe: TCGA_FG_5962_20000626_24 for train\n",
      "Processe: TCGA_EZ_7264_20010816_7 for train\n",
      "Processe: TCGA_HT_7602_19951103_8 for train\n",
      "Processe: TCGA_CS_6188_20010812_11 for train\n",
      "Processe: TCGA_CS_4941_19960909_6 for train\n",
      "Processe: TCGA_CS_6188_20010812_6 for train\n",
      "Processe: TCGA_DU_7306_19930512_8 for train\n",
      "Processe: TCGA_DU_7309_19960831_20 for train\n",
      "Processe: TCGA_DU_A5TT_19980318_34 for train\n",
      "Processe: TCGA_DU_6399_19830416_13 for train\n",
      "Processe: TCGA_DU_5851_19950428_20 for train\n",
      "Processe: TCGA_DU_5853_19950823_32 for train\n",
      "Processe: TCGA_FG_6690_20020226_29 for train\n",
      "Processe: TCGA_DU_7010_19860307_47 for train\n",
      "Processe: TCGA_HT_7881_19981015_57 for train\n",
      "Processe: TCGA_DU_6399_19830416_39 for train\n",
      "Processe: TCGA_HT_8111_19980330_6 for train\n",
      "Processe: TCGA_FG_6689_20020326_30 for train\n",
      "Processe: TCGA_HT_7877_19980917_10 for train\n",
      "Processe: TCGA_DU_7299_19910417_1 for train\n",
      "Processe: TCGA_DU_8167_19970402_17 for train\n",
      "Processe: TCGA_HT_8114_19981030_14 for train\n",
      "Processe: TCGA_HT_A61B_19991127_58 for train\n",
      "Processe: TCGA_DU_5849_19950405_14 for train\n",
      "Processe: TCGA_DU_7010_19860307_32 for train\n",
      "Processe: TCGA_DU_A5TT_19980318_30 for train\n",
      "Processe: TCGA_HT_8111_19980330_22 for train\n",
      "Processe: TCGA_DU_6400_19830518_20 for train\n",
      "Processe: TCGA_DU_5872_19950223_40 for train\n",
      "Processe: TCGA_FG_6691_20020405_43 for train\n",
      "Processe: TCGA_DU_8168_19970503_33 for train\n",
      "Processe: TCGA_FG_6688_20020215_34 for train\n",
      "Processe: TCGA_DU_7302_19911203_11 for train\n",
      "Processe: TCGA_FG_6690_20020226_27 for train\n",
      "Processe: TCGA_DU_A5TP_19970614_15 for train\n",
      "Processe: TCGA_FG_6692_20020606_14 for train\n",
      "Processe: TCGA_CS_5395_19981004_14 for train\n",
      "Processe: TCGA_DU_5855_19951217_14 for train\n",
      "Processe: TCGA_DU_A5TS_19970726_3 for train\n",
      "Processe: TCGA_CS_5397_20010315_12 for train\n",
      "Processe: TCGA_DU_7301_19911112_23 for train\n",
      "Processe: TCGA_HT_7881_19981015_28 for train\n",
      "Processe: TCGA_FG_6690_20020226_20 for train\n",
      "Processe: TCGA_FG_5962_20000626_20 for train\n",
      "Processe: TCGA_FG_6691_20020405_9 for train\n",
      "Processe: TCGA_DU_5852_19950709_26 for train\n",
      "Processe: TCGA_FG_A4MU_20030903_12 for train\n",
      "Processe: TCGA_DU_7008_19830723_14 for train\n",
      "Processe: TCGA_HT_7879_19981009_15 for train\n",
      "Processe: TCGA_DU_7302_19911203_19 for train\n",
      "Processe: TCGA_CS_4941_19960909_11 for train\n",
      "Processe: TCGA_CS_6186_20000601_8 for train\n",
      "Processe: TCGA_DU_6401_19831001_42 for train\n",
      "Processe: TCGA_DU_8167_19970402_28 for train\n",
      "Processe: TCGA_DU_5872_19950223_31 for train\n",
      "Processe: TCGA_DU_5874_19950510_31 for train\n",
      "Processe: TCGA_HT_7684_19950816_21 for train\n",
      "Processe: TCGA_HT_7605_19950916_27 for train\n",
      "Processe: TCGA_CS_6290_20000917_18 for train\n",
      "Processe: TCGA_HT_A61A_20000127_82 for train\n",
      "Processe: TCGA_DU_6401_19831001_44 for train\n",
      "Processe: TCGA_HT_8563_19981209_7 for train\n",
      "Processe: TCGA_DU_A5TP_19970614_8 for train\n",
      "Processe: TCGA_FG_7634_20000128_25 for train\n",
      "Processe: TCGA_CS_6290_20000917_6 for train\n",
      "Processe: TCGA_CS_6667_20011105_9 for train\n",
      "Processe: TCGA_EZ_7264_20010816_3 for train\n",
      "Processe: TCGA_HT_7874_19950902_18 for train\n",
      "Processe: TCGA_FG_8189_20030516_16 for train\n",
      "Processe: TCGA_HT_7860_19960513_6 for train\n",
      "Processe: TCGA_FG_6692_20020606_5 for train\n",
      "Processe: TCGA_CS_6666_20011109_14 for train\n",
      "Processe: TCGA_DU_A5TS_19970726_27 for train\n",
      "Processe: TCGA_DU_6399_19830416_32 for train\n",
      "Processe: TCGA_FG_6692_20020606_9 for train\n",
      "Processe: TCGA_DU_5852_19950709_14 for train\n",
      "Processe: TCGA_CS_6665_20010817_17 for train\n",
      "Processe: TCGA_DU_5851_19950428_33 for train\n",
      "Processe: TCGA_HT_7605_19950916_2 for train\n",
      "Processe: TCGA_FG_6691_20020405_3 for train\n",
      "Processe: TCGA_FG_5962_20000626_13 for train\n",
      "Processe: TCGA_DU_6408_19860521_51 for train\n",
      "Processe: TCGA_CS_6669_20020102_14 for train\n",
      "Processe: TCGA_DU_7013_19860523_1 for train\n",
      "Processe: TCGA_DU_5853_19950823_7 for train\n",
      "Processe: TCGA_HT_7856_19950831_20 for train\n",
      "Processe: TCGA_DU_A5TY_19970709_9 for train\n",
      "Processe: TCGA_DU_5851_19950428_14 for train\n",
      "Processe: TCGA_HT_7605_19950916_25 for train\n",
      "Processe: TCGA_HT_7684_19950816_18 for train\n",
      "Processe: TCGA_FG_6692_20020606_4 for train\n",
      "Processe: TCGA_FG_A4MT_20020212_37 for train\n",
      "Processe: TCGA_DU_6401_19831001_41 for train\n",
      "Processe: TCGA_HT_8105_19980826_3 for train\n",
      "Processe: TCGA_DU_6401_19831001_38 for train\n",
      "Processe: TCGA_FG_6690_20020226_16 for train\n",
      "Processe: TCGA_DU_5855_19951217_24 for train\n",
      "Processe: TCGA_DU_7298_19910324_14 for train\n",
      "Processe: TCGA_HT_7879_19981009_4 for train\n",
      "Processe: TCGA_DU_8164_19970111_2 for train\n",
      "Processe: TCGA_CS_6666_20011109_10 for train\n",
      "Processe: TCGA_FG_6689_20020326_45 for train\n",
      "Processe: TCGA_DU_5849_19950405_7 for train\n",
      "Processe: TCGA_HT_7884_19980913_14 for train\n",
      "Processe: TCGA_DU_8164_19970111_6 for train\n",
      "Processe: TCGA_FG_8189_20030516_55 for train\n",
      "Processe: TCGA_DU_7019_19940908_36 for train\n",
      "Processe: TCGA_DU_A5TT_19980318_32 for train\n",
      "Processe: TCGA_DU_6400_19830518_18 for train\n",
      "Processe: TCGA_HT_A616_19991226_4 for train\n",
      "Processe: TCGA_DU_5849_19950405_6 for train\n",
      "Processe: TCGA_DU_6404_19850629_3 for train\n",
      "Processe: TCGA_DU_A5TP_19970614_20 for train\n",
      "Processe: TCGA_HT_A61B_19991127_66 for train\n",
      "Processe: TCGA_DU_7008_19830723_36 for train\n",
      "Processe: TCGA_HT_7879_19981009_6 for train\n",
      "Processe: TCGA_DU_5874_19950510_7 for train\n",
      "Processe: TCGA_DU_5871_19941206_33 for train\n",
      "Processe: TCGA_FG_6691_20020405_48 for train\n",
      "Processe: TCGA_CS_5393_19990606_13 for train\n",
      "Processe: TCGA_CS_6188_20010812_16 for train\n",
      "Processe: TCGA_HT_7877_19980917_12 for train\n",
      "Processe: TCGA_DU_5849_19950405_16 for train\n",
      "Processe: TCGA_CS_4944_20010208_20 for train\n",
      "Processe: TCGA_HT_7877_19980917_5 for train\n",
      "Processe: TCGA_DU_7008_19830723_7 for train\n",
      "Processe: TCGA_DU_6404_19850629_53 for train\n",
      "Processe: TCGA_DU_7309_19960831_35 for train\n",
      "Processe: TCGA_HT_8105_19980826_24 for train\n",
      "Processe: TCGA_DU_6407_19860514_52 for train\n",
      "Processe: TCGA_DU_6401_19831001_34 for train\n",
      "Processe: TCGA_CS_5396_20010302_16 for train\n",
      "Processe: TCGA_HT_7693_19950520_14 for train\n",
      "Processe: TCGA_FG_6691_20020405_31 for train\n",
      "Processe: TCGA_HT_A61A_20000127_86 for train\n",
      "Processe: TCGA_FG_A60K_20040224_52 for train\n",
      "Processe: TCGA_CS_6186_20000601_2 for train\n",
      "Processe: TCGA_DU_7013_19860523_11 for train\n",
      "Processe: TCGA_DU_8168_19970503_11 for train\n",
      "Processe: TCGA_CS_6188_20010812_3 for train\n",
      "Processe: TCGA_DU_8163_19961119_34 for train\n",
      "Processe: TCGA_CS_5397_20010315_8 for train\n",
      "Processe: TCGA_DU_A5TY_19970709_33 for train\n",
      "Processe: TCGA_HT_8106_19970727_4 for train\n",
      "Processe: TCGA_DU_A5TY_19970709_1 for train\n",
      "Processe: TCGA_DU_7294_19890104_15 for train\n",
      "Processe: TCGA_DU_7014_19860618_3 for train\n",
      "Processe: TCGA_FG_7643_20021104_23 for train\n",
      "Processe: TCGA_CS_6668_20011025_9 for train\n",
      "Processe: TCGA_FG_A4MT_20020212_20 for train\n",
      "Processe: TCGA_DU_8162_19961029_28 for train\n",
      "Processe: TCGA_DU_A5TY_19970709_27 for train\n",
      "Processe: TCGA_DU_7014_19860618_31 for train\n",
      "Processe: TCGA_FG_8189_20030516_41 for train\n",
      "Processe: TCGA_FG_7637_20000922_24 for train\n",
      "Processe: TCGA_CS_6665_20010817_24 for train\n",
      "Processe: TCGA_DU_8162_19961029_7 for train\n",
      "Processe: TCGA_DU_8166_19970322_28 for train\n",
      "Processe: TCGA_FG_6688_20020215_4 for train\n",
      "Processe: TCGA_DU_7302_19911203_35 for train\n",
      "Processe: TCGA_DU_7010_19860307_27 for train\n",
      "Processe: TCGA_FG_5964_20010511_1 for train\n",
      "Processe: TCGA_CS_4941_19960909_8 for train\n",
      "Processe: TCGA_HT_A61A_20000127_62 for train\n",
      "Processe: TCGA_HT_8018_19970411_5 for train\n",
      "Processe: TCGA_DU_7306_19930512_1 for train\n",
      "Processe: TCGA_FG_A4MU_20030903_20 for train\n",
      "Processe: TCGA_DU_A5TU_19980312_7 for train\n",
      "Processe: TCGA_FG_8189_20030516_30 for train\n",
      "Processe: TCGA_DU_A5TY_19970709_4 for train\n",
      "Processe: TCGA_FG_6689_20020326_40 for train\n",
      "Processe: TCGA_CS_5396_20010302_23 for train\n",
      "Processe: TCGA_FG_6690_20020226_57 for train\n",
      "Processe: TCGA_DU_7019_19940908_30 for train\n",
      "Processe: TCGA_FG_6688_20020215_30 for train\n",
      "Processe: TCGA_HT_7473_19970826_10 for train\n",
      "Processe: TCGA_HT_7616_19940813_29 for train\n",
      "Processe: TCGA_HT_A616_19991226_28 for train\n",
      "Processe: TCGA_DU_6407_19860514_20 for train\n",
      "Processe: TCGA_HT_A5RC_19990831_26 for train\n",
      "Processe: TCGA_DU_7019_19940908_1 for train\n",
      "Processe: TCGA_DU_5851_19950428_25 for train\n",
      "Processe: TCGA_CS_6666_20011109_18 for train\n",
      "Processe: TCGA_FG_A4MU_20030903_34 for train\n",
      "Processe: TCGA_DU_A5TR_19970726_16 for train\n",
      "Processe: TCGA_FG_7643_20021104_10 for train\n",
      "Processe: TCGA_DU_8162_19961029_32 for train\n",
      "Processe: TCGA_HT_7877_19980917_13 for train\n",
      "Processe: TCGA_CS_6665_20010817_19 for train\n",
      "Processe: TCGA_HT_8107_19980708_5 for train\n",
      "Processe: TCGA_DU_6401_19831001_22 for train\n",
      "Processe: TCGA_HT_A5RC_19990831_10 for train\n",
      "Processe: TCGA_DU_6399_19830416_21 for train\n",
      "Processe: TCGA_HT_A61B_19991127_17 for train\n",
      "Processe: TCGA_DU_8165_19970205_7 for train\n",
      "Processe: TCGA_HT_7473_19970826_2 for train\n",
      "Processe: TCGA_DU_7309_19960831_38 for train\n",
      "Processe: TCGA_HT_7686_19950629_15 for train\n",
      "Processe: TCGA_HT_7690_19960312_1 for train\n",
      "Processe: TCGA_FG_6691_20020405_16 for train\n",
      "Processe: TCGA_DU_7298_19910324_24 for train\n",
      "Processe: TCGA_DU_8166_19970322_35 for train\n",
      "Processe: TCGA_DU_7019_19940908_4 for train\n",
      "Processe: TCGA_FG_7634_20000128_10 for train\n",
      "Processe: TCGA_DU_5854_19951104_26 for train\n",
      "Processe: TCGA_CS_6290_20000917_7 for train\n",
      "Processe: TCGA_FG_6689_20020326_29 for train\n",
      "Processe: TCGA_HT_7882_19970125_29 for train\n",
      "Processe: TCGA_CS_5393_19990606_15 for train\n",
      "Processe: TCGA_CS_6668_20011025_25 for train\n",
      "Processe: TCGA_DU_6400_19830518_33 for train\n",
      "Processe: TCGA_HT_7693_19950520_10 for train\n",
      "Processe: TCGA_DU_7309_19960831_18 for train\n",
      "Processing validation data...\n",
      "Processe: TCGA_DU_7306_19930512_9 for val\n",
      "Processe: TCGA_FG_6691_20020405_7 for val\n",
      "Processe: TCGA_DU_A5TY_19970709_13 for val\n",
      "Processe: TCGA_DU_5851_19950428_29 for val\n",
      "Processe: TCGA_FG_6689_20020326_3 for val\n",
      "Processe: TCGA_DU_7013_19860523_41 for val\n",
      "Processe: TCGA_HT_7874_19950902_7 for val\n",
      "Processe: TCGA_HT_7692_19960724_11 for val\n",
      "Processe: TCGA_FG_7637_20000922_46 for val\n",
      "Processe: TCGA_FG_6690_20020226_58 for val\n",
      "Processe: TCGA_HT_7694_19950404_6 for val\n",
      "Processe: TCGA_CS_6666_20011109_12 for val\n",
      "Processe: TCGA_DU_6405_19851005_51 for val\n",
      "Processe: TCGA_DU_7294_19890104_8 for val\n",
      "Processe: TCGA_HT_7680_19970202_11 for val\n",
      "Processe: TCGA_HT_7690_19960312_6 for val\n",
      "Processe: TCGA_HT_7475_19970918_23 for val\n",
      "Processe: TCGA_HT_7860_19960513_8 for val\n",
      "Processe: TCGA_DU_6407_19860514_19 for val\n",
      "Processe: TCGA_FG_A60K_20040224_8 for val\n",
      "Processe: TCGA_FG_5964_20010511_23 for val\n",
      "Processe: TCGA_DU_5854_19951104_23 for val\n",
      "Processe: TCGA_FG_A60K_20040224_65 for val\n",
      "Processe: TCGA_HT_7602_19951103_20 for val\n",
      "Processe: TCGA_HT_7690_19960312_12 for val\n",
      "Processe: TCGA_FG_6691_20020405_39 for val\n",
      "Processe: TCGA_HT_7881_19981015_53 for val\n",
      "Processe: TCGA_DU_8162_19961029_16 for val\n",
      "Processe: TCGA_DU_7304_19930325_14 for val\n",
      "Processe: TCGA_HT_7605_19950916_19 for val\n",
      "Processe: TCGA_DU_5871_19941206_7 for val\n",
      "Processe: TCGA_DU_A5TW_19980228_19 for val\n",
      "Processe: TCGA_DU_5851_19950428_4 for val\n",
      "Processe: TCGA_HT_A61B_19991127_60 for val\n",
      "Processe: TCGA_HT_7686_19950629_6 for val\n",
      "Processe: TCGA_HT_A5RC_19990831_28 for val\n",
      "Processe: TCGA_HT_7882_19970125_7 for val\n",
      "Processe: TCGA_DU_5872_19950223_2 for val\n",
      "Processe: TCGA_DU_6399_19830416_12 for val\n",
      "Processe: TCGA_HT_8018_19970411_1 for val\n",
      "Processe: TCGA_HT_7874_19950902_12 for val\n",
      "Processe: TCGA_HT_7855_19951020_14 for val\n",
      "Processe: TCGA_DU_6405_19851005_14 for val\n",
      "Processe: TCGA_FG_A60K_20040224_64 for val\n",
      "Processe: TCGA_FG_5962_20000626_42 for val\n",
      "Processe: TCGA_DU_7299_19910417_23 for val\n",
      "Processe: TCGA_DU_6401_19831001_13 for val\n",
      "Processe: TCGA_DU_6407_19860514_5 for val\n",
      "Processe: TCGA_HT_7856_19950831_30 for val\n",
      "Processe: TCGA_DU_7301_19911112_28 for val\n",
      "Processe: TCGA_FG_6690_20020226_48 for val\n",
      "Processe: TCGA_CS_6669_20020102_16 for val\n",
      "Processe: TCGA_CS_5397_20010315_2 for val\n",
      "Processe: TCGA_FG_6690_20020226_8 for val\n",
      "Processe: TCGA_HT_7693_19950520_5 for val\n",
      "Processe: TCGA_DU_6401_19831001_31 for val\n",
      "Processe: TCGA_DU_A5TW_19980228_18 for val\n",
      "Processe: TCGA_DU_8164_19970111_12 for val\n",
      "Processe: TCGA_DU_6400_19830518_41 for val\n",
      "Processe: TCGA_DU_5874_19950510_11 for val\n",
      "Processe: TCGA_DU_7301_19911112_10 for val\n",
      "Processe: TCGA_HT_7605_19950916_16 for val\n",
      "Processe: TCGA_DU_7018_19911220_23 for val\n",
      "Processe: TCGA_DU_7014_19860618_7 for val\n",
      "Processe: TCGA_FG_A4MU_20030903_26 for val\n",
      "Processe: TCGA_DU_8167_19970402_33 for val\n",
      "Processe: TCGA_FG_6690_20020226_34 for val\n",
      "Processe: TCGA_HT_7473_19970826_28 for val\n",
      "Processe: TCGA_CS_6668_20011025_11 for val\n",
      "Processe: TCGA_CS_6666_20011109_23 for val\n",
      "Processe: TCGA_DU_5849_19950405_27 for val\n",
      "Processe: TCGA_DU_A5TT_19980318_3 for val\n",
      "Processe: TCGA_DU_8167_19970402_35 for val\n",
      "Processe: TCGA_FG_5964_20010511_20 for val\n",
      "Processe: TCGA_DU_7294_19890104_10 for val\n",
      "Processe: TCGA_DU_6399_19830416_22 for val\n",
      "Processe: TCGA_HT_A61B_19991127_12 for val\n",
      "Processe: TCGA_HT_8107_19980708_19 for val\n",
      "Processe: TCGA_HT_8018_19970411_16 for val\n",
      "Processe: TCGA_FG_5962_20000626_19 for val\n",
      "Processe: TCGA_DU_8163_19961119_35 for val\n",
      "Processe: TCGA_DU_7010_19860307_7 for val\n",
      "Processe: TCGA_HT_8107_19980708_12 for val\n",
      "Processe: TCGA_DU_6399_19830416_6 for val\n",
      "Processe: TCGA_CS_6186_20000601_24 for val\n",
      "Processe: TCGA_DU_7309_19960831_33 for val\n",
      "Processe: TCGA_FG_6689_20020326_36 for val\n",
      "Processe: TCGA_CS_4941_19960909_23 for val\n",
      "Processe: TCGA_CS_6669_20020102_4 for val\n",
      "Processe: TCGA_HT_7602_19951103_18 for val\n",
      "Processe: TCGA_DU_6404_19850629_13 for val\n",
      "Processe: TCGA_HT_7877_19980917_16 for val\n",
      "Processe: TCGA_DU_6400_19830518_23 for val\n",
      "Processe: TCGA_DU_7306_19930512_24 for val\n",
      "Processe: TCGA_CS_5397_20010315_21 for val\n",
      "Processe: TCGA_FG_8189_20030516_36 for val\n",
      "Processe: TCGA_HT_8106_19970727_12 for val\n",
      "Processe: TCGA_HT_8114_19981030_9 for val\n",
      "Processe: TCGA_CS_6188_20010812_18 for val\n",
      "Processe: TCGA_DU_5849_19950405_37 for val\n",
      "Processe: TCGA_DU_8166_19970322_27 for val\n",
      "Processe: TCGA_CS_6188_20010812_5 for val\n",
      "Processe: TCGA_DU_7013_19860523_30 for val\n",
      "Processe: TCGA_DU_5872_19950223_67 for val\n",
      "Processe: TCGA_DU_A5TR_19970726_11 for val\n",
      "Processe: TCGA_HT_7684_19950816_9 for val\n",
      "Processe: TCGA_CS_6666_20011109_13 for val\n",
      "Processe: TCGA_DU_A5TT_19980318_22 for val\n",
      "Processe: TCGA_DU_8163_19961119_13 for val\n",
      "Processe: TCGA_DU_A5TU_19980312_21 for val\n",
      "Processe: TCGA_DU_8164_19970111_31 for val\n",
      "Processe: TCGA_DU_6400_19830518_7 for val\n",
      "Processe: TCGA_FG_A60K_20040224_61 for val\n",
      "Processe: TCGA_HT_7881_19981015_19 for val\n",
      "Processe: TCGA_DU_A5TP_19970614_36 for val\n",
      "Processe: TCGA_DU_5852_19950709_12 for val\n",
      "Processe: TCGA_DU_7019_19940908_22 for val\n",
      "Processe: TCGA_CS_6186_20000601_13 for val\n",
      "Processe: TCGA_FG_A60K_20040224_10 for val\n",
      "Processe: TCGA_DU_A5TR_19970726_10 for val\n",
      "Processe: TCGA_DU_8163_19961119_22 for val\n",
      "Processe: TCGA_FG_A60K_20040224_34 for val\n",
      "Processe: TCGA_DU_7301_19911112_11 for val\n",
      "Processe: TCGA_DU_A5TP_19970614_21 for val\n",
      "Processe: TCGA_HT_7877_19980917_23 for val\n",
      "Processe: TCGA_FG_7637_20000922_50 for val\n",
      "Processe: TCGA_DU_A5TR_19970726_7 for val\n",
      "Processe: TCGA_DU_6407_19860514_18 for val\n",
      "Processe: TCGA_DU_8168_19970503_6 for val\n",
      "Processe: TCGA_FG_7643_20021104_7 for val\n",
      "Processe: TCGA_FG_8189_20030516_45 for val\n",
      "Processe: TCGA_DU_7298_19910324_4 for val\n",
      "Processe: TCGA_DU_A5TS_19970726_17 for val\n",
      "Processe: TCGA_DU_7019_19940908_24 for val\n",
      "Processe: TCGA_CS_5397_20010315_3 for val\n",
      "Processe: TCGA_DU_6405_19851005_28 for val\n",
      "Processe: TCGA_DU_A5TS_19970726_23 for val\n",
      "Processe: TCGA_DU_8168_19970503_3 for val\n",
      "Processe: TCGA_DU_5849_19950405_19 for val\n",
      "Processe: TCGA_HT_7608_19940304_28 for val\n",
      "Processe: TCGA_DU_5852_19950709_24 for val\n",
      "Processe: TCGA_CS_5393_19990606_4 for val\n",
      "Processe: TCGA_CS_4942_19970222_9 for val\n",
      "Processe: TCGA_DU_A5TR_19970726_25 for val\n",
      "Processe: TCGA_FG_6690_20020226_47 for val\n",
      "Processe: TCGA_DU_7010_19860307_33 for val\n",
      "Processe: TCGA_DU_7299_19910417_14 for val\n",
      "Processe: TCGA_HT_A61B_19991127_54 for val\n",
      "Processe: TCGA_DU_7309_19960831_3 for val\n",
      "Processe: TCGA_FG_6692_20020606_15 for val\n",
      "Processe: TCGA_FG_7643_20021104_13 for val\n",
      "Processe: TCGA_HT_8107_19980708_9 for val\n",
      "Processe: TCGA_DU_6408_19860521_4 for val\n",
      "Processe: TCGA_HT_7686_19950629_8 for val\n",
      "Processe: TCGA_HT_A616_19991226_8 for val\n",
      "Processe: TCGA_FG_5962_20000626_28 for val\n",
      "Processe: TCGA_HT_7881_19981015_66 for val\n",
      "Processe: TCGA_FG_6689_20020326_22 for val\n",
      "Processe: TCGA_DU_7298_19910324_2 for val\n",
      "Processe: TCGA_CS_5393_19990606_18 for val\n",
      "Processe: TCGA_DU_7299_19910417_24 for val\n",
      "Processe: TCGA_DU_8165_19970205_14 for val\n",
      "Processe: TCGA_HT_7882_19970125_12 for val\n",
      "Processe: TCGA_HT_7473_19970826_6 for val\n",
      "Processe: TCGA_DU_7008_19830723_24 for val\n",
      "Processe: TCGA_DU_6401_19831001_17 for val\n",
      "Processe: TCGA_FG_8189_20030516_49 for val\n",
      "Processe: TCGA_FG_A60K_20040224_23 for val\n",
      "Processe: TCGA_CS_4941_19960909_21 for val\n",
      "Processe: TCGA_DU_7298_19910324_28 for val\n",
      "Processe: TCGA_FG_7634_20000128_4 for val\n",
      "Processe: TCGA_HT_7874_19950902_14 for val\n",
      "Processe: TCGA_DU_6401_19831001_14 for val\n",
      "Processe: TCGA_HT_7882_19970125_19 for val\n",
      "Processe: TCGA_HT_8114_19981030_21 for val\n",
      "Processe: TCGA_DU_7010_19860307_44 for val\n",
      "Processe: TCGA_HT_A61A_20000127_15 for val\n",
      "Processe: TCGA_HT_8563_19981209_18 for val\n",
      "Processe: TCGA_DU_5872_19950223_13 for val\n",
      "Processe: TCGA_CS_6667_20011105_4 for val\n",
      "Processe: TCGA_HT_A61B_19991127_4 for val\n",
      "Processe: TCGA_FG_7643_20021104_47 for val\n",
      "Processe: TCGA_HT_A61B_19991127_47 for val\n",
      "Processe: TCGA_HT_7605_19950916_32 for val\n",
      "Processe: TCGA_FG_7634_20000128_24 for val\n",
      "Processe: TCGA_HT_7879_19981009_21 for val\n",
      "Processe: TCGA_FG_A4MT_20020212_42 for val\n",
      "Processe: TCGA_HT_7608_19940304_18 for val\n",
      "Processe: TCGA_DU_7306_19930512_30 for val\n",
      "Processe: TCGA_FG_A60K_20040224_47 for val\n",
      "Processe: TCGA_DU_A5TR_19970726_22 for val\n",
      "Processe: TCGA_CS_6669_20020102_18 for val\n",
      "Processe: TCGA_DU_8165_19970205_32 for val\n",
      "Processe: TCGA_DU_6407_19860514_27 for val\n",
      "Processe: TCGA_FG_6689_20020326_8 for val\n",
      "Processe: TCGA_HT_7693_19950520_21 for val\n",
      "Processe: TCGA_HT_8018_19970411_3 for val\n",
      "Processe: TCGA_FG_6688_20020215_21 for val\n",
      "Processe: TCGA_DU_6405_19851005_43 for val\n",
      "Processe: TCGA_CS_5395_19981004_20 for val\n",
      "Processe: TCGA_DU_A5TT_19980318_5 for val\n",
      "Processe: TCGA_DU_6400_19830518_52 for val\n",
      "Processe: TCGA_DU_7013_19860523_32 for val\n",
      "Processe: TCGA_DU_5853_19950823_14 for val\n",
      "Processe: TCGA_DU_6407_19860514_40 for val\n",
      "Processe: TCGA_DU_A5TP_19970614_18 for val\n",
      "Processe: TCGA_HT_A5RC_19990831_6 for val\n",
      "Processe: TCGA_FG_A4MT_20020212_46 for val\n",
      "Processe: TCGA_HT_7684_19950816_16 for val\n",
      "Processe: TCGA_DU_6408_19860521_23 for val\n",
      "Processe: TCGA_DU_5849_19950405_12 for val\n",
      "Processe: TCGA_FG_6690_20020226_11 for val\n",
      "Processe: TCGA_CS_5397_20010315_5 for val\n",
      "Processe: TCGA_DU_7019_19940908_25 for val\n",
      "Processe: TCGA_DU_5872_19950223_16 for val\n",
      "Processe: TCGA_FG_7643_20021104_41 for val\n",
      "Processe: TCGA_FG_6689_20020326_14 for val\n",
      "Processe: TCGA_DU_7298_19910324_8 for val\n",
      "Processe: TCGA_FG_A4MU_20030903_24 for val\n",
      "Processe: TCGA_HT_A61B_19991127_59 for val\n",
      "Processe: TCGA_DU_7010_19860307_41 for val\n",
      "Processe: TCGA_DU_6405_19851005_44 for val\n",
      "Processe: TCGA_DU_6404_19850629_17 for val\n",
      "Processe: TCGA_FG_A60K_20040224_32 for val\n",
      "Processe: TCGA_FG_7637_20000922_41 for val\n",
      "Processe: TCGA_DU_5852_19950709_16 for val\n",
      "Processe: TCGA_DU_6407_19860514_11 for val\n",
      "Processe: TCGA_FG_A4MT_20020212_19 for val\n",
      "Processe: TCGA_CS_5396_20010302_13 for val\n",
      "Processe: TCGA_FG_7634_20000128_20 for val\n",
      "Processe: TCGA_DU_6404_19850629_28 for val\n",
      "Processe: TCGA_HT_7856_19950831_12 for val\n",
      "Processe: TCGA_DU_5854_19951104_5 for val\n",
      "Processe: TCGA_DU_8167_19970402_22 for val\n",
      "Processe: TCGA_DU_8162_19961029_19 for val\n",
      "Processe: TCGA_DU_5872_19950223_35 for val\n",
      "Processe: TCGA_FG_A4MU_20030903_23 for val\n",
      "Processe: TCGA_DU_8165_19970205_30 for val\n",
      "Processe: TCGA_CS_5393_19990606_11 for val\n",
      "Processe: TCGA_HT_8113_19930809_20 for val\n",
      "Processe: TCGA_DU_8162_19961029_9 for val\n",
      "Processe: TCGA_HT_7694_19950404_9 for val\n",
      "Processe: TCGA_DU_5872_19950223_45 for val\n",
      "Processe: TCGA_DU_A5TS_19970726_15 for val\n",
      "Processe: TCGA_FG_6690_20020226_14 for val\n",
      "Processe: TCGA_DU_7300_19910814_18 for val\n",
      "Processe: TCGA_HT_7877_19980917_20 for val\n",
      "Processe: TCGA_HT_A61B_19991127_48 for val\n",
      "Processe: TCGA_FG_A4MT_20020212_50 for val\n",
      "Processe: TCGA_DU_A5TT_19980318_25 for val\n",
      "Processe: TCGA_DU_6408_19860521_11 for val\n",
      "Processe: TCGA_DU_A5TR_19970726_8 for val\n",
      "Processe: TCGA_DU_6407_19860514_33 for val\n",
      "Processe: TCGA_HT_A61A_20000127_65 for val\n",
      "Processe: TCGA_DU_A5TP_19970614_34 for val\n",
      "Processe: TCGA_DU_7010_19860307_55 for val\n",
      "Processe: TCGA_DU_6407_19860514_10 for val\n",
      "Processe: TCGA_FG_5964_20010511_24 for val\n",
      "Processe: TCGA_DU_7300_19910814_19 for val\n",
      "Processe: TCGA_DU_A5TP_19970614_28 for val\n",
      "Processe: TCGA_DU_A5TS_19970726_2 for val\n",
      "Processe: TCGA_DU_6400_19830518_25 for val\n",
      "Processe: TCGA_DU_7008_19830723_32 for val\n",
      "Processe: TCGA_CS_6666_20011109_4 for val\n",
      "Processe: TCGA_DU_5872_19950223_4 for val\n",
      "Processe: TCGA_HT_A5RC_19990831_12 for val\n",
      "Processe: TCGA_DU_6404_19850629_19 for val\n",
      "Processe: TCGA_DU_7299_19910417_21 for val\n",
      "Processe: TCGA_DU_5854_19951104_28 for val\n",
      "Processe: TCGA_DU_5871_19941206_18 for val\n",
      "Processe: TCGA_DU_5872_19950223_66 for val\n",
      "Processe: TCGA_HT_7616_19940813_30 for val\n",
      "Processe: TCGA_DU_7301_19911112_12 for val\n",
      "Processe: TCGA_HT_7882_19970125_4 for val\n",
      "Processe: TCGA_FG_6690_20020226_39 for val\n",
      "Processe: TCGA_HT_A61A_20000127_30 for val\n",
      "Processe: TCGA_DU_6405_19851005_1 for val\n",
      "Processe: TCGA_DU_6405_19851005_21 for val\n",
      "Processe: TCGA_FG_5964_20010511_3 for val\n",
      "Processe: TCGA_DU_8163_19961119_11 for val\n",
      "Processe: TCGA_FG_5964_20010511_21 for val\n",
      "Processe: TCGA_DU_5854_19951104_3 for val\n",
      "Processe: TCGA_DU_5872_19950223_30 for val\n",
      "Processe: TCGA_DU_6401_19831001_20 for val\n",
      "Processe: TCGA_CS_4943_20000902_1 for val\n",
      "Processe: TCGA_FG_A4MT_20020212_30 for val\n",
      "Processe: TCGA_HT_7684_19950816_19 for val\n",
      "Processe: TCGA_HT_8106_19970727_22 for val\n",
      "Processe: TCGA_DU_8162_19961029_10 for val\n",
      "Processe: TCGA_DU_7301_19911112_22 for val\n",
      "Processe: TCGA_HT_7692_19960724_6 for val\n",
      "Processe: TCGA_DU_7010_19860307_24 for val\n",
      "Processe: TCGA_HT_7881_19981015_15 for val\n",
      "Processe: TCGA_CS_6290_20000917_16 for val\n",
      "Processe: TCGA_EZ_7264_20010816_15 for val\n",
      "Processe: TCGA_DU_5871_19941206_29 for val\n",
      "Processe: TCGA_DU_7014_19860618_48 for val\n",
      "Processe: TCGA_DU_7019_19940908_38 for val\n",
      "Processe: TCGA_FG_7643_20021104_34 for val\n",
      "Processe: TCGA_DU_7304_19930325_28 for val\n",
      "Processe: TCGA_DU_7302_19911203_10 for val\n",
      "Processe: TCGA_DU_8166_19970322_13 for val\n",
      "Processe: TCGA_HT_A61B_19991127_68 for val\n",
      "Processe: TCGA_DU_6399_19830416_18 for val\n",
      "Processe: TCGA_HT_7684_19950816_1 for val\n",
      "Processe: TCGA_DU_7018_19911220_2 for val\n",
      "Processe: TCGA_DU_7304_19930325_26 for val\n",
      "Processe: TCGA_DU_7294_19890104_9 for val\n",
      "Processe: TCGA_DU_5872_19950223_38 for val\n",
      "Processe: TCGA_HT_7881_19981015_79 for val\n",
      "Processe: TCGA_DU_7294_19890104_33 for val\n",
      "Processe: TCGA_HT_8107_19980708_18 for val\n",
      "Processe: TCGA_FG_6691_20020405_26 for val\n",
      "Processe: TCGA_HT_7616_19940813_13 for val\n",
      "Processe: TCGA_DU_7019_19940908_14 for val\n",
      "Processe: TCGA_HT_8105_19980826_11 for val\n",
      "Processe: TCGA_DU_8166_19970322_33 for val\n",
      "Processe: TCGA_FG_A4MU_20030903_27 for val\n",
      "Processe: TCGA_DU_8162_19961029_18 for val\n",
      "Processe: TCGA_HT_8114_19981030_20 for val\n",
      "Processe: TCGA_DU_A5TR_19970726_20 for val\n",
      "Processe: TCGA_HT_7860_19960513_3 for val\n",
      "Processe: TCGA_DU_7302_19911203_30 for val\n",
      "Processe: TCGA_HT_7881_19981015_21 for val\n",
      "Processe: TCGA_CS_6666_20011109_26 for val\n",
      "Processe: TCGA_HT_A61B_19991127_65 for val\n",
      "Processe: TCGA_DU_5853_19950823_36 for val\n",
      "Processe: TCGA_DU_5849_19950405_34 for val\n",
      "Processe: TCGA_FG_6691_20020405_34 for val\n",
      "Processe: TCGA_CS_6665_20010817_6 for val\n",
      "Processe: TCGA_FG_A60K_20040224_51 for val\n",
      "Processe: TCGA_HT_8018_19970411_8 for val\n",
      "Processe: TCGA_DU_6407_19860514_43 for val\n",
      "Processe: TCGA_HT_7877_19980917_6 for val\n",
      "Processe: TCGA_DU_7298_19910324_1 for val\n",
      "Processe: TCGA_DU_7008_19830723_51 for val\n",
      "Processe: TCGA_HT_7879_19981009_8 for val\n",
      "Processe: TCGA_HT_8111_19980330_7 for val\n",
      "Processe: TCGA_DU_8168_19970503_19 for val\n",
      "Processe: TCGA_HT_8111_19980330_11 for val\n",
      "Processe: TCGA_CS_4942_19970222_5 for val\n",
      "Processe: TCGA_HT_7473_19970826_25 for val\n",
      "Processe: TCGA_CS_4941_19960909_14 for val\n",
      "Processe: TCGA_DU_8167_19970402_36 for val\n",
      "Processe: TCGA_DU_8162_19961029_17 for val\n",
      "Processe: TCGA_FG_6688_20020215_11 for val\n",
      "Processe: TCGA_HT_7693_19950520_8 for val\n",
      "Processe: TCGA_HT_7860_19960513_1 for val\n",
      "Processe: TCGA_HT_8106_19970727_5 for val\n",
      "Processe: TCGA_HT_A61B_19991127_71 for val\n",
      "Processe: TCGA_DU_5849_19950405_35 for val\n",
      "Processe: TCGA_HT_7693_19950520_1 for val\n",
      "Processe: TCGA_DU_A5TT_19980318_21 for val\n",
      "Processe: TCGA_DU_A5TR_19970726_27 for val\n",
      "Processe: TCGA_DU_7013_19860523_36 for val\n",
      "Processe: TCGA_FG_6690_20020226_22 for val\n",
      "Processe: TCGA_HT_A61A_20000127_66 for val\n",
      "Processe: TCGA_FG_7634_20000128_11 for val\n",
      "Processe: TCGA_HT_8105_19980826_30 for val\n",
      "Processe: TCGA_DU_7019_19940908_6 for val\n",
      "Processe: TCGA_DU_A5TT_19980318_23 for val\n",
      "Processe: TCGA_DU_A5TP_19970614_27 for val\n",
      "Processe: TCGA_CS_5395_19981004_18 for val\n",
      "Processe: TCGA_HT_8107_19980708_16 for val\n",
      "Processe: TCGA_FG_7634_20000128_2 for val\n",
      "Processe: TCGA_HT_7694_19950404_7 for val\n",
      "Processe: TCGA_DU_7300_19910814_11 for val\n",
      "Processe: TCGA_DU_A5TR_19970726_33 for val\n",
      "Processe: TCGA_DU_7294_19890104_16 for val\n",
      "Processe: TCGA_DU_7302_19911203_33 for val\n",
      "Processe: TCGA_HT_A61A_20000127_25 for val\n",
      "Processe: TCGA_FG_A60K_20040224_29 for val\n",
      "Processe: TCGA_DU_5851_19950428_36 for val\n",
      "Processe: TCGA_DU_7013_19860523_37 for val\n",
      "Processe: TCGA_HT_7856_19950831_4 for val\n",
      "Processe: TCGA_FG_6691_20020405_10 for val\n",
      "Processe: TCGA_DU_6407_19860514_38 for val\n",
      "Processe: TCGA_DU_8163_19961119_37 for val\n",
      "Processe: TCGA_HT_8018_19970411_20 for val\n",
      "Processe: TCGA_DU_6408_19860521_29 for val\n",
      "Processe: TCGA_FG_5962_20000626_26 for val\n",
      "Processe: TCGA_DU_A5TU_19980312_20 for val\n",
      "Processe: TCGA_CS_5395_19981004_6 for val\n",
      "Processe: TCGA_HT_A61B_19991127_46 for val\n",
      "Processe: TCGA_DU_7306_19930512_28 for val\n",
      "Processe: TCGA_HT_A5RC_19990831_19 for val\n",
      "Processe: TCGA_HT_8113_19930809_7 for val\n",
      "Processe: TCGA_DU_7304_19930325_32 for val\n",
      "Processe: TCGA_DU_7014_19860618_13 for val\n",
      "Processe: TCGA_HT_7690_19960312_14 for val\n",
      "Processe: TCGA_DU_A5TT_19980318_54 for val\n",
      "Processe: TCGA_FG_7637_20000922_17 for val\n",
      "Processe: TCGA_DU_7299_19910417_16 for val\n",
      "Processe: TCGA_DU_7008_19830723_9 for val\n",
      "Processe: TCGA_DU_7309_19960831_15 for val\n",
      "Processe: TCGA_DU_A5TW_19980228_23 for val\n",
      "Processe: TCGA_HT_A61B_19991127_70 for val\n",
      "Processe: TCGA_HT_A5RC_19990831_4 for val\n",
      "Processe: TCGA_DU_7013_19860523_6 for val\n",
      "Processe: TCGA_HT_7475_19970918_32 for val\n",
      "Processe: TCGA_FG_A4MU_20030903_4 for val\n",
      "Processe: TCGA_HT_A61A_20000127_71 for val\n",
      "Processe: TCGA_FG_8189_20030516_24 for val\n",
      "Processe: TCGA_DU_7008_19830723_20 for val\n",
      "Processe: TCGA_DU_5854_19951104_18 for val\n",
      "Processe: TCGA_FG_6689_20020326_33 for val\n",
      "Processe: TCGA_FG_7637_20000922_51 for val\n",
      "Processe: TCGA_DU_7299_19910417_7 for val\n",
      "Processe: TCGA_DU_6400_19830518_28 for val\n",
      "Processe: TCGA_HT_8106_19970727_17 for val\n",
      "Processe: TCGA_FG_8189_20030516_46 for val\n",
      "Processe: TCGA_DU_6400_19830518_31 for val\n",
      "Processe: TCGA_FG_8189_20030516_13 for val\n",
      "Processe: TCGA_FG_7637_20000922_48 for val\n",
      "Processe: TCGA_DU_A5TY_19970709_2 for val\n",
      "Processe: TCGA_FG_7637_20000922_1 for val\n",
      "Processe: TCGA_HT_A61A_20000127_70 for val\n",
      "Processe: TCGA_DU_7304_19930325_4 for val\n",
      "Processe: TCGA_HT_7693_19950520_2 for val\n",
      "Processe: TCGA_HT_A61A_20000127_36 for val\n",
      "Processe: TCGA_DU_5851_19950428_17 for val\n",
      "Processe: TCGA_HT_7694_19950404_18 for val\n",
      "Processe: TCGA_CS_4944_20010208_16 for val\n",
      "Processe: TCGA_HT_8113_19930809_9 for val\n",
      "Processe: TCGA_FG_7643_20021104_26 for val\n",
      "Processe: TCGA_FG_A4MU_20030903_5 for val\n",
      "Processe: TCGA_HT_A616_19991226_15 for val\n",
      "Processe: TCGA_HT_8114_19981030_10 for val\n",
      "Processe: TCGA_CS_6666_20011109_22 for val\n",
      "Processe: TCGA_FG_6690_20020226_44 for val\n",
      "Processe: TCGA_DU_A5TS_19970726_21 for val\n",
      "Processe: TCGA_DU_6404_19850629_16 for val\n",
      "Processe: TCGA_DU_8167_19970402_25 for val\n",
      "Processe: TCGA_DU_7010_19860307_50 for val\n",
      "Processe: TCGA_DU_8164_19970111_24 for val\n",
      "Processe: TCGA_FG_5962_20000626_40 for val\n",
      "Processe: TCGA_DU_5872_19950223_9 for val\n",
      "Processe: TCGA_HT_8113_19930809_2 for val\n",
      "Processe: TCGA_CS_5396_20010302_3 for val\n",
      "Processe: TCGA_HT_8563_19981209_6 for val\n",
      "Processe: TCGA_DU_5871_19941206_12 for val\n",
      "Processe: TCGA_DU_6401_19831001_48 for val\n",
      "Processe: TCGA_HT_7881_19981015_40 for val\n",
      "Processe: TCGA_FG_6690_20020226_13 for val\n",
      "Processe: TCGA_HT_A61A_20000127_4 for val\n",
      "Processe: TCGA_FG_7643_20021104_35 for val\n",
      "Processe: TCGA_DU_8168_19970503_21 for val\n",
      "Processe: TCGA_EZ_7264_20010816_8 for val\n",
      "Processe: TCGA_DU_7014_19860618_60 for val\n",
      "Processe: TCGA_HT_7692_19960724_8 for val\n",
      "Processe: TCGA_HT_8114_19981030_5 for val\n",
      "Processe: TCGA_HT_7690_19960312_22 for val\n",
      "Processe: TCGA_HT_7856_19950831_24 for val\n",
      "Processe: TCGA_HT_7856_19950831_22 for val\n",
      "Processe: TCGA_DU_7300_19910814_22 for val\n",
      "Processe: TCGA_HT_A616_19991226_27 for val\n",
      "Processe: TCGA_FG_8189_20030516_19 for val\n",
      "Processe: TCGA_HT_7690_19960312_21 for val\n",
      "Processe: TCGA_CS_4941_19960909_3 for val\n",
      "Processe: TCGA_FG_6691_20020405_38 for val\n",
      "Processe: TCGA_FG_7637_20000922_45 for val\n",
      "Processe: TCGA_DU_5854_19951104_32 for val\n",
      "Processe: TCGA_DU_7010_19860307_39 for val\n",
      "Processe: TCGA_DU_7301_19911112_1 for val\n",
      "Processe: TCGA_HT_7874_19950902_17 for val\n",
      "Processe: TCGA_HT_7693_19950520_12 for val\n",
      "Processe: TCGA_FG_6688_20020215_22 for val\n",
      "Processe: TCGA_DU_A5TW_19980228_22 for val\n",
      "Processe: TCGA_HT_7616_19940813_11 for val\n",
      "Processe: TCGA_DU_7010_19860307_22 for val\n",
      "Processe: TCGA_DU_7294_19890104_27 for val\n",
      "Processe: TCGA_DU_8168_19970503_2 for val\n",
      "Processe: TCGA_HT_A61B_19991127_42 for val\n",
      "Processe: TCGA_HT_8113_19930809_19 for val\n",
      "Processe: TCGA_HT_A616_19991226_5 for val\n",
      "Processe: TCGA_HT_8113_19930809_15 for val\n",
      "Processe: TCGA_DU_5872_19950223_18 for val\n",
      "Processe: TCGA_HT_7605_19950916_7 for val\n",
      "Processe: TCGA_DU_8162_19961029_23 for val\n",
      "Processe: TCGA_DU_5872_19950223_29 for val\n",
      "Processe: TCGA_CS_5395_19981004_9 for val\n",
      "Processe: TCGA_CS_4942_19970222_13 for val\n",
      "Processe: TCGA_DU_7008_19830723_8 for val\n",
      "Processe: TCGA_HT_A5RC_19990831_18 for val\n",
      "Processe: TCGA_FG_7634_20000128_18 for val\n",
      "Processe: TCGA_DU_6407_19860514_1 for val\n",
      "Processe: TCGA_HT_7881_19981015_67 for val\n",
      "Processe: TCGA_DU_7008_19830723_40 for val\n",
      "Processe: TCGA_HT_7680_19970202_4 for val\n",
      "Processe: TCGA_DU_6400_19830518_51 for val\n",
      "Processe: TCGA_DU_5853_19950823_33 for val\n",
      "Processe: TCGA_HT_7879_19981009_25 for val\n",
      "Processe: TCGA_HT_7616_19940813_25 for val\n",
      "Processe: TCGA_CS_6668_20011025_28 for val\n",
      "Processe: TCGA_HT_7881_19981015_65 for val\n",
      "Processe: TCGA_FG_6690_20020226_59 for val\n",
      "Processe: TCGA_FG_6692_20020606_24 for val\n",
      "Processe: TCGA_DU_6407_19860514_31 for val\n",
      "Processe: TCGA_CS_6665_20010817_9 for val\n",
      "Processe: TCGA_DU_5854_19951104_31 for val\n",
      "Processe: TCGA_DU_A5TP_19970614_30 for val\n",
      "Processe: TCGA_HT_7686_19950629_19 for val\n",
      "Processe: TCGA_DU_6408_19860521_47 for val\n",
      "Processe: TCGA_DU_8167_19970402_12 for val\n",
      "Processe: TCGA_FG_8189_20030516_50 for val\n",
      "Processe: TCGA_FG_6689_20020326_46 for val\n",
      "Processe: TCGA_DU_5871_19941206_36 for val\n",
      "Processe: TCGA_HT_7856_19950831_7 for val\n",
      "Processe: TCGA_CS_6188_20010812_20 for val\n",
      "Processe: TCGA_FG_6692_20020606_10 for val\n",
      "Processe: TCGA_HT_7605_19950916_28 for val\n",
      "Processe: TCGA_DU_6400_19830518_46 for val\n",
      "Processe: TCGA_HT_8563_19981209_13 for val\n",
      "Processe: TCGA_CS_6188_20010812_24 for val\n",
      "Processe: TCGA_DU_7019_19940908_34 for val\n",
      "Processe: TCGA_DU_5851_19950428_13 for val\n",
      "Processe: TCGA_HT_A61A_20000127_16 for val\n",
      "Processe: TCGA_CS_4942_19970222_18 for val\n",
      "Processe: TCGA_DU_6399_19830416_37 for val\n",
      "Processe: TCGA_DU_6408_19860521_43 for val\n",
      "Processe: TCGA_HT_8018_19970411_13 for val\n",
      "Processe: TCGA_CS_6188_20010812_8 for val\n",
      "Processe: TCGA_HT_7680_19970202_16 for val\n",
      "Processe: TCGA_DU_6407_19860514_56 for val\n",
      "Processe: TCGA_CS_4942_19970222_4 for val\n",
      "Processe: TCGA_DU_7304_19930325_17 for val\n",
      "Processe: TCGA_DU_7014_19860618_20 for val\n",
      "Processe: TCGA_DU_8164_19970111_23 for val\n",
      "Processe: TCGA_DU_8167_19970402_2 for val\n",
      "Processe: TCGA_DU_7301_19911112_16 for val\n",
      "Processe: TCGA_FG_7637_20000922_42 for val\n",
      "Processe: TCGA_FG_6691_20020405_28 for val\n",
      "Processe: TCGA_DU_6404_19850629_25 for val\n",
      "Processe: TCGA_FG_7643_20021104_8 for val\n",
      "Processe: TCGA_CS_5395_19981004_13 for val\n",
      "Processe: TCGA_HT_8018_19970411_14 for val\n",
      "Processe: TCGA_DU_7019_19940908_3 for val\n",
      "Processe: TCGA_DU_6404_19850629_36 for val\n",
      "Processe: TCGA_HT_7693_19950520_3 for val\n",
      "Processe: TCGA_DU_6407_19860514_48 for val\n",
      "Processe: TCGA_FG_6688_20020215_20 for val\n",
      "Processe: TCGA_DU_6408_19860521_7 for val\n",
      "Processe: TCGA_DU_5853_19950823_9 for val\n",
      "Processe: TCGA_CS_4944_20010208_11 for val\n",
      "Processe: TCGA_HT_7473_19970826_15 for val\n",
      "Processe: TCGA_HT_7475_19970918_3 for val\n",
      "Processe: TCGA_FG_7637_20000922_34 for val\n",
      "Processe: TCGA_FG_6690_20020226_25 for val\n",
      "Processe: TCGA_FG_6688_20020215_35 for val\n",
      "Processe: TCGA_CS_6186_20000601_10 for val\n",
      "Processe: TCGA_DU_5852_19950709_22 for val\n",
      "Processe: TCGA_DU_A5TP_19970614_33 for val\n",
      "Processe: TCGA_FG_A60K_20040224_4 for val\n",
      "Processe: TCGA_HT_7616_19940813_22 for val\n",
      "Processe: TCGA_DU_8166_19970322_4 for val\n",
      "Processe: TCGA_DU_A5TT_19980318_52 for val\n",
      "Processe: TCGA_FG_8189_20030516_9 for val\n",
      "Processe: TCGA_HT_7686_19950629_16 for val\n",
      "Processe: TCGA_DU_5854_19951104_11 for val\n",
      "Processe: TCGA_DU_7014_19860618_51 for val\n",
      "Processe: TCGA_HT_7856_19950831_21 for val\n",
      "Processe: TCGA_HT_8106_19970727_2 for val\n",
      "Processe: TCGA_HT_8113_19930809_12 for val\n",
      "Processe: TCGA_HT_7884_19980913_18 for val\n",
      "Processe: TCGA_DU_5851_19950428_34 for val\n",
      "Processe: TCGA_CS_4943_20000902_12 for val\n",
      "Processe: TCGA_FG_6691_20020405_27 for val\n",
      "Processe: TCGA_DU_A5TW_19980228_6 for val\n",
      "Processe: TCGA_DU_6400_19830518_13 for val\n",
      "Processe: TCGA_FG_6688_20020215_7 for val\n",
      "Processe: TCGA_DU_5872_19950223_25 for val\n",
      "Processe: TCGA_CS_5397_20010315_6 for val\n",
      "Processe: TCGA_HT_7855_19951020_9 for val\n",
      "Processe: TCGA_DU_7299_19910417_25 for val\n",
      "Processe: TCGA_DU_5854_19951104_34 for val\n",
      "Processe: TCGA_DU_6400_19830518_16 for val\n",
      "Processe: TCGA_HT_A5RC_19990831_30 for val\n",
      "Processe: TCGA_DU_5852_19950709_28 for val\n",
      "Processe: TCGA_DU_A5TY_19970709_3 for val\n",
      "Processe: TCGA_DU_8166_19970322_3 for val\n",
      "Processe: TCGA_DU_8166_19970322_16 for val\n",
      "Processe: TCGA_HT_7882_19970125_25 for val\n",
      "Processe: TCGA_FG_7634_20000128_15 for val\n",
      "Processe: TCGA_DU_A5TS_19970726_8 for val\n",
      "Processe: TCGA_FG_5962_20000626_9 for val\n",
      "Processe: TCGA_DU_8165_19970205_35 for val\n",
      "Processe: TCGA_DU_A5TR_19970726_26 for val\n",
      "Processe: TCGA_FG_6690_20020226_15 for val\n",
      "Processe: TCGA_DU_7306_19930512_10 for val\n",
      "Processe: TCGA_DU_7299_19910417_18 for val\n",
      "Processe: TCGA_HT_A61B_19991127_20 for val\n",
      "Processe: TCGA_DU_5855_19951217_4 for val\n",
      "Processe: TCGA_DU_7008_19830723_31 for val\n",
      "Processe: TCGA_FG_6690_20020226_10 for val\n",
      "Processe: TCGA_HT_A61B_19991127_52 for val\n",
      "Processe: TCGA_DU_8165_19970205_31 for val\n",
      "Processe: TCGA_HT_8106_19970727_3 for val\n",
      "Processe: TCGA_DU_5853_19950823_12 for val\n",
      "Processe: TCGA_HT_7855_19951020_11 for val\n",
      "Processe: TCGA_DU_5851_19950428_11 for val\n",
      "Processe: TCGA_FG_6691_20020405_22 for val\n",
      "Processe: TCGA_DU_6400_19830518_57 for val\n",
      "Processe: TCGA_DU_6404_19850629_18 for val\n",
      "Processe: TCGA_DU_A5TU_19980312_5 for val\n",
      "Processe: TCGA_DU_5874_19950510_3 for val\n",
      "Processe: TCGA_HT_8105_19980826_21 for val\n",
      "Processe: TCGA_FG_A4MT_20020212_33 for val\n",
      "Processe: TCGA_DU_6401_19831001_45 for val\n",
      "Processe: TCGA_DU_6405_19851005_37 for val\n",
      "Processe: TCGA_DU_7298_19910324_17 for val\n",
      "Processe: TCGA_HT_8105_19980826_5 for val\n",
      "Processe: TCGA_DU_7013_19860523_20 for val\n",
      "Processe: TCGA_DU_6405_19851005_13 for val\n",
      "Processe: TCGA_HT_A61A_20000127_29 for val\n",
      "Processe: TCGA_DU_8163_19961119_29 for val\n",
      "Processe: TCGA_DU_5855_19951217_3 for val\n",
      "Processe: TCGA_FG_A60K_20040224_44 for val\n",
      "Processe: TCGA_DU_6404_19850629_26 for val\n",
      "Processe: TCGA_DU_A5TY_19970709_17 for val\n",
      "Processe: TCGA_DU_7306_19930512_31 for val\n",
      "Processe: TCGA_DU_8162_19961029_35 for val\n",
      "Processe: TCGA_HT_7693_19950520_6 for val\n",
      "Processe: TCGA_HT_8105_19980826_32 for val\n",
      "Processe: TCGA_CS_5397_20010315_15 for val\n",
      "Processe: TCGA_DU_6408_19860521_31 for val\n",
      "Processe: TCGA_DU_5872_19950223_1 for val\n",
      "Processe: TCGA_HT_7882_19970125_18 for val\n",
      "Processe: TCGA_DU_6408_19860521_21 for val\n",
      "Processe: TCGA_DU_7010_19860307_36 for val\n",
      "Processe: TCGA_DU_8164_19970111_3 for val\n",
      "Processe: TCGA_DU_8163_19961119_18 for val\n",
      "Processe: TCGA_FG_6690_20020226_32 for val\n",
      "Processe: TCGA_FG_A60K_20040224_40 for val\n",
      "Processe: TCGA_HT_8105_19980826_4 for val\n",
      "Processe: TCGA_DU_6399_19830416_26 for val\n",
      "Processe: TCGA_CS_4943_20000902_18 for val\n",
      "Processe: TCGA_DU_6405_19851005_48 for val\n",
      "Processe: TCGA_HT_7881_19981015_43 for val\n",
      "Processe: TCGA_CS_6666_20011109_11 for val\n",
      "Processe: TCGA_HT_7602_19951103_13 for val\n",
      "Processe: TCGA_DU_5851_19950428_32 for val\n",
      "Processe: TCGA_DU_7008_19830723_33 for val\n",
      "Processe: TCGA_DU_8164_19970111_32 for val\n",
      "Processe: TCGA_CS_5395_19981004_11 for val\n",
      "Processe: TCGA_DU_A5TT_19980318_18 for val\n",
      "Processe: TCGA_FG_5964_20010511_9 for val\n",
      "Processe: TCGA_CS_6665_20010817_13 for val\n",
      "Processe: TCGA_DU_7302_19911203_24 for val\n",
      "Processe: TCGA_FG_6689_20020326_27 for val\n",
      "Processe: TCGA_HT_8107_19980708_11 for val\n",
      "Processe: TCGA_DU_A5TW_19980228_30 for val\n",
      "Processe: TCGA_HT_7877_19980917_29 for val\n",
      "Processe: TCGA_DU_7298_19910324_31 for val\n",
      "Processe: TCGA_DU_5855_19951217_8 for val\n",
      "Processe: TCGA_DU_5853_19950823_15 for val\n",
      "Processe: TCGA_FG_6690_20020226_41 for val\n",
      "Processe: TCGA_FG_6690_20020226_37 for val\n",
      "Processe: TCGA_FG_7637_20000922_44 for val\n",
      "Processe: TCGA_DU_7306_19930512_36 for val\n",
      "Processe: TCGA_DU_7008_19830723_5 for val\n",
      "Processe: TCGA_DU_7301_19911112_20 for val\n",
      "Processe: TCGA_FG_A60K_20040224_5 for val\n",
      "Processe: TCGA_DU_5851_19950428_22 for val\n",
      "Processe: TCGA_HT_8018_19970411_9 for val\n",
      "Processe: TCGA_HT_7605_19950916_20 for val\n",
      "Processe: TCGA_DU_6401_19831001_32 for val\n",
      "Processe: TCGA_DU_5855_19951217_2 for val\n",
      "Processe: TCGA_HT_7884_19980913_11 for val\n",
      "Processe: TCGA_DU_7008_19830723_17 for val\n",
      "Processe: TCGA_DU_5853_19950823_18 for val\n",
      "Processe: TCGA_CS_4944_20010208_1 for val\n",
      "Processe: TCGA_HT_7602_19951103_7 for val\n",
      "Processe: TCGA_CS_6186_20000601_16 for val\n",
      "Processe: TCGA_DU_6405_19851005_8 for val\n",
      "Processe: TCGA_HT_A61B_19991127_37 for val\n",
      "Processe: TCGA_DU_6400_19830518_39 for val\n",
      "Processe: TCGA_DU_5872_19950223_32 for val\n",
      "Processe: TCGA_DU_7298_19910324_7 for val\n",
      "Processe: TCGA_HT_7616_19940813_14 for val\n",
      "Processe: TCGA_CS_4942_19970222_11 for val\n",
      "Processe: TCGA_DU_5853_19950823_22 for val\n",
      "Processe: TCGA_DU_6404_19850629_11 for val\n",
      "Processe: TCGA_DU_A5TU_19980312_23 for val\n",
      "Processe: TCGA_DU_7013_19860523_23 for val\n",
      "Processe: TCGA_DU_7019_19940908_13 for val\n",
      "Processe: TCGA_DU_7306_19930512_16 for val\n",
      "Processe: TCGA_DU_6399_19830416_10 for val\n",
      "Processe: TCGA_HT_8114_19981030_12 for val\n",
      "Processe: TCGA_CS_6186_20000601_9 for val\n",
      "Processe: TCGA_DU_6401_19831001_27 for val\n",
      "Processe: TCGA_DU_5872_19950223_26 for val\n",
      "Processe: TCGA_DU_7302_19911203_23 for val\n",
      "Processe: TCGA_DU_8167_19970402_14 for val\n",
      "Processe: TCGA_DU_7298_19910324_27 for val\n",
      "Processe: TCGA_DU_8165_19970205_13 for val\n",
      "Processe: TCGA_DU_7019_19940908_2 for val\n",
      "Processe: TCGA_DU_7010_19860307_34 for val\n",
      "Processe: TCGA_DU_6404_19850629_50 for val\n",
      "Processe: TCGA_HT_A616_19991226_22 for val\n",
      "Processe: TCGA_HT_A61A_20000127_6 for val\n",
      "Processe: TCGA_DU_6405_19851005_38 for val\n",
      "Processe: TCGA_DU_5855_19951217_20 for val\n",
      "Processe: TCGA_CS_5393_19990606_9 for val\n",
      "Processe: TCGA_HT_7856_19950831_23 for val\n",
      "Processe: TCGA_DU_7300_19910814_20 for val\n",
      "Processe: TCGA_CS_4941_19960909_16 for val\n",
      "Processe: TCGA_FG_7643_20021104_29 for val\n",
      "Processe: TCGA_HT_8106_19970727_8 for val\n",
      "Processe: TCGA_DU_5852_19950709_21 for val\n",
      "Processe: TCGA_DU_7302_19911203_20 for val\n",
      "Processe: TCGA_DU_7301_19911112_25 for val\n",
      "Processe: TCGA_DU_7302_19911203_3 for val\n",
      "Processe: TCGA_DU_5849_19950405_32 for val\n",
      "Processe: TCGA_HT_7855_19951020_13 for val\n",
      "Processe: TCGA_DU_5853_19950823_31 for val\n",
      "Processe: TCGA_DU_A5TT_19980318_16 for val\n",
      "Processe: TCGA_DU_A5TW_19980228_21 for val\n",
      "Processe: TCGA_DU_A5TP_19970614_9 for val\n",
      "Processe: TCGA_CS_6667_20011105_8 for val\n",
      "Processe: TCGA_FG_6691_20020405_30 for val\n",
      "Processe: TCGA_DU_7302_19911203_5 for val\n",
      "Processe: TCGA_HT_7856_19950831_11 for val\n",
      "Processe: TCGA_DU_A5TT_19980318_49 for val\n",
      "Processe: TCGA_DU_5854_19951104_25 for val\n",
      "Processe: TCGA_CS_6290_20000917_2 for val\n",
      "Processe: TCGA_DU_8165_19970205_25 for val\n",
      "Processe: TCGA_CS_6665_20010817_11 for val\n",
      "Processe: TCGA_DU_5872_19950223_36 for val\n",
      "Processe: TCGA_HT_7881_19981015_48 for val\n",
      "Processe: TCGA_CS_4942_19970222_16 for val\n",
      "Processe: TCGA_DU_7301_19911112_35 for val\n",
      "Processe: TCGA_FG_8189_20030516_3 for val\n",
      "Processe: TCGA_CS_6666_20011109_17 for val\n",
      "Processe: TCGA_HT_7686_19950629_5 for val\n",
      "Processe: TCGA_DU_5874_19950510_33 for val\n",
      "Processe: TCGA_DU_7301_19911112_18 for val\n",
      "Processe: TCGA_CS_5395_19981004_7 for val\n",
      "Processe: TCGA_DU_8165_19970205_2 for val\n",
      "Processe: TCGA_FG_7637_20000922_32 for val\n",
      "Processe: TCGA_DU_8167_19970402_34 for val\n",
      "Processe: TCGA_DU_8164_19970111_15 for val\n",
      "Processe: TCGA_DU_7304_19930325_25 for val\n",
      "Processe: TCGA_DU_5871_19941206_4 for val\n",
      "Processe: TCGA_DU_7304_19930325_12 for val\n",
      "Processe: TCGA_FG_A4MT_20020212_49 for val\n",
      "Processe: TCGA_DU_7014_19860618_19 for val\n",
      "Processe: TCGA_FG_A60K_20040224_13 for val\n",
      "Processe: TCGA_DU_6400_19830518_2 for val\n",
      "Processe: TCGA_DU_7008_19830723_39 for val\n",
      "Processe: TCGA_FG_A4MT_20020212_29 for val\n",
      "Processe: TCGA_HT_7882_19970125_16 for val\n",
      "Processe: TCGA_DU_8165_19970205_33 for val\n",
      "Processe: TCGA_DU_A5TS_19970726_16 for val\n",
      "Processe: TCGA_DU_7018_19911220_8 for val\n",
      "Processe: TCGA_DU_8162_19961029_1 for val\n",
      "Processe: TCGA_HT_7684_19950816_13 for val\n",
      "Processe: TCGA_FG_A60K_20040224_38 for val\n",
      "Processe: TCGA_HT_7693_19950520_11 for val\n",
      "Processe: TCGA_HT_7874_19950902_8 for val\n",
      "Processe: TCGA_HT_A61A_20000127_72 for val\n",
      "Processe: TCGA_HT_7684_19950816_24 for val\n",
      "Processe: TCGA_FG_7643_20021104_45 for val\n",
      "Processe: TCGA_FG_6690_20020226_46 for val\n",
      "Processe: TCGA_DU_7010_19860307_18 for val\n",
      "Processe: TCGA_DU_7010_19860307_54 for val\n",
      "Processe: TCGA_DU_5849_19950405_2 for val\n",
      "Processe: TCGA_DU_7014_19860618_30 for val\n",
      "Processe: TCGA_CS_4942_19970222_19 for val\n",
      "Processe: TCGA_FG_5962_20000626_10 for val\n",
      "Processe: TCGA_DU_A5TP_19970614_13 for val\n",
      "Processe: TCGA_FG_5962_20000626_49 for val\n",
      "Processe: TCGA_FG_8189_20030516_60 for val\n",
      "Processe: TCGA_HT_7616_19940813_2 for val\n",
      "Processe: TCGA_HT_7881_19981015_76 for val\n",
      "Processe: TCGA_DU_A5TW_19980228_11 for val\n",
      "Processe: TCGA_FG_6689_20020326_4 for val\n",
      "Processe: TCGA_FG_A60K_20040224_39 for val\n",
      "Processe: TCGA_HT_8105_19980826_6 for val\n",
      "Processe: TCGA_HT_7877_19980917_4 for val\n",
      "Processe: TCGA_HT_7882_19970125_32 for val\n",
      "Processe: TCGA_FG_6691_20020405_13 for val\n",
      "Processe: TCGA_HT_7879_19981009_11 for val\n",
      "Processe: TCGA_DU_5853_19950823_1 for val\n",
      "Processe: TCGA_DU_7309_19960831_5 for val\n",
      "Processe: TCGA_HT_8114_19981030_1 for val\n",
      "Processe: TCGA_HT_7881_19981015_51 for val\n",
      "Dataset preparation complete. Check 'yolo_dataset' directory.\n",
      "Generated dataset.yaml in 'yolo_dataset'.\n"
     ]
    }
   ],
   "source": [
    "print(\"Processing training data...\")\n",
    "process_dataset(train_images, train_masks, 'train')\n",
    "print(\"Processing validation data...\")\n",
    "process_dataset(val_images, val_masks, 'val')\n",
    "\n",
    "print(f\"Dataset preparation complete. Check '{OUTPUT_PATH}' directory.\")\n",
    "\n",
    "with open(os.path.join(OUTPUT_PATH, 'dataset.yaml'), 'w') as f:\n",
    "    f.write(\"path: ../yolo_dataset\\n\")\n",
    "    f.write(\"train: images/train\\n\")\n",
    "    f.write(\"val: images/val\\n\")\n",
    "    f.write(\"names:\\n\")\n",
    "    f.write(\"  0: tumor\\n\")\n",
    "print(f\"Generated dataset.yaml in '{OUTPUT_PATH}'.\")"
   ]
  },
  {
   "cell_type": "code",
   "execution_count": 8,
   "id": "978204d0",
   "metadata": {},
   "outputs": [
    {
     "name": "stdout",
     "output_type": "stream",
     "text": [
      "Downloading https://github.com/ultralytics/assets/releases/download/v8.3.0/yolo11m-seg.pt to 'yolo11m-seg.pt'...\n"
     ]
    },
    {
     "name": "stderr",
     "output_type": "stream",
     "text": [
      "100%|██████████| 43.3M/43.3M [00:54<00:00, 827kB/s] \n"
     ]
    }
   ],
   "source": [
    "from ultralytics import YOLO\n",
    "\n",
    "DATA_YAML_PATH = OUTPUT_PATH + '/dataset.yaml'\n",
    "\n",
    "model = YOLO('yolo11m-seg.pt')"
   ]
  },
  {
   "cell_type": "code",
   "execution_count": 9,
   "id": "4cd0ba59",
   "metadata": {},
   "outputs": [
    {
     "name": "stdout",
     "output_type": "stream",
     "text": [
      "Attempting to load data from: yolo_dataset/dataset.yaml\n",
      "Ultralytics 8.3.168 🚀 Python-3.12.3 torch-2.7.1+cu126 CUDA:0 (NVIDIA GeForce RTX 3050 Ti Laptop GPU, 3755MiB)\n",
      "\u001b[34m\u001b[1mengine/trainer: \u001b[0magnostic_nms=False, amp=True, augment=False, auto_augment=randaugment, batch=16, bgr=0.0, box=7.5, cache=False, cfg=None, classes=None, close_mosaic=10, cls=0.5, conf=None, copy_paste=0.0, copy_paste_mode=flip, cos_lr=False, cutmix=0.0, data=yolo_dataset/dataset.yaml, degrees=0.0, deterministic=True, device=0, dfl=1.5, dnn=False, dropout=0.0, dynamic=False, embed=None, epochs=100, erasing=0.4, exist_ok=False, fliplr=0.5, flipud=0.0, format=torchscript, fraction=1.0, freeze=None, half=False, hsv_h=0.015, hsv_s=0.7, hsv_v=0.4, imgsz=256, int8=False, iou=0.7, keras=False, kobj=1.0, line_width=None, lr0=0.01, lrf=0.01, mask_ratio=4, max_det=300, mixup=0.0, mode=train, model=yolo11m-seg.pt, momentum=0.937, mosaic=1.0, multi_scale=False, name=yolov11_seg_tumor, nbs=64, nms=False, opset=None, optimize=False, optimizer=auto, overlap_mask=True, patience=100, perspective=0.0, plots=True, pose=12.0, pretrained=True, profile=False, project=None, rect=False, resume=False, retina_masks=False, save=True, save_conf=False, save_crop=False, save_dir=runs/segment/yolov11_seg_tumor, save_frames=False, save_json=False, save_period=-1, save_txt=False, scale=0.5, seed=0, shear=0.0, show=False, show_boxes=True, show_conf=True, show_labels=True, simplify=True, single_cls=False, source=None, split=val, stream_buffer=False, task=segment, time=None, tracker=botsort.yaml, translate=0.1, val=True, verbose=True, vid_stride=1, visualize=False, warmup_bias_lr=0.1, warmup_epochs=3.0, warmup_momentum=0.8, weight_decay=0.0005, workers=8, workspace=None\n",
      "Overriding model.yaml nc=80 with nc=1\n",
      "\n",
      "                   from  n    params  module                                       arguments                     \n",
      "  0                  -1  1      1856  ultralytics.nn.modules.conv.Conv             [3, 64, 3, 2]                 \n",
      "  1                  -1  1     73984  ultralytics.nn.modules.conv.Conv             [64, 128, 3, 2]               \n",
      "  2                  -1  1    111872  ultralytics.nn.modules.block.C3k2            [128, 256, 1, True, 0.25]     \n",
      "  3                  -1  1    590336  ultralytics.nn.modules.conv.Conv             [256, 256, 3, 2]              \n",
      "  4                  -1  1    444928  ultralytics.nn.modules.block.C3k2            [256, 512, 1, True, 0.25]     \n",
      "  5                  -1  1   2360320  ultralytics.nn.modules.conv.Conv             [512, 512, 3, 2]              \n",
      "  6                  -1  1   1380352  ultralytics.nn.modules.block.C3k2            [512, 512, 1, True]           \n",
      "  7                  -1  1   2360320  ultralytics.nn.modules.conv.Conv             [512, 512, 3, 2]              \n",
      "  8                  -1  1   1380352  ultralytics.nn.modules.block.C3k2            [512, 512, 1, True]           \n",
      "  9                  -1  1    656896  ultralytics.nn.modules.block.SPPF            [512, 512, 5]                 \n",
      " 10                  -1  1    990976  ultralytics.nn.modules.block.C2PSA           [512, 512, 1]                 \n",
      " 11                  -1  1         0  torch.nn.modules.upsampling.Upsample         [None, 2, 'nearest']          \n",
      " 12             [-1, 6]  1         0  ultralytics.nn.modules.conv.Concat           [1]                           \n",
      " 13                  -1  1   1642496  ultralytics.nn.modules.block.C3k2            [1024, 512, 1, True]          \n",
      " 14                  -1  1         0  torch.nn.modules.upsampling.Upsample         [None, 2, 'nearest']          \n",
      " 15             [-1, 4]  1         0  ultralytics.nn.modules.conv.Concat           [1]                           \n",
      " 16                  -1  1    542720  ultralytics.nn.modules.block.C3k2            [1024, 256, 1, True]          \n",
      " 17                  -1  1    590336  ultralytics.nn.modules.conv.Conv             [256, 256, 3, 2]              \n",
      " 18            [-1, 13]  1         0  ultralytics.nn.modules.conv.Concat           [1]                           \n",
      " 19                  -1  1   1511424  ultralytics.nn.modules.block.C3k2            [768, 512, 1, True]           \n",
      " 20                  -1  1   2360320  ultralytics.nn.modules.conv.Conv             [512, 512, 3, 2]              \n",
      " 21            [-1, 10]  1         0  ultralytics.nn.modules.conv.Concat           [1]                           \n",
      " 22                  -1  1   1642496  ultralytics.nn.modules.block.C3k2            [1024, 512, 1, True]          \n",
      " 23        [16, 19, 22]  1   3718003  ultralytics.nn.modules.head.Segment          [1, 32, 256, [256, 512, 512]] \n",
      "YOLO11m-seg summary: 253 layers, 22,359,987 parameters, 22,359,971 gradients, 123.6 GFLOPs\n",
      "\n",
      "Transferred 705/711 items from pretrained weights\n",
      "Freezing layer 'model.23.dfl.conv.weight'\n",
      "\u001b[34m\u001b[1mAMP: \u001b[0mrunning Automatic Mixed Precision (AMP) checks...\n",
      "Downloading https://github.com/ultralytics/assets/releases/download/v8.3.0/yolo11n.pt to 'yolo11n.pt'...\n"
     ]
    },
    {
     "name": "stderr",
     "output_type": "stream",
     "text": [
      "100%|██████████| 5.35M/5.35M [00:07<00:00, 724kB/s]\n"
     ]
    },
    {
     "name": "stdout",
     "output_type": "stream",
     "text": [
      "\u001b[34m\u001b[1mAMP: \u001b[0mchecks passed ✅\n",
      "\u001b[34m\u001b[1mtrain: \u001b[0mFast image access ✅ (ping: 0.0±0.0 ms, read: 5441.4±1308.0 MB/s, size: 198.3 KB)\n"
     ]
    },
    {
     "name": "stderr",
     "output_type": "stream",
     "text": [
      "\u001b[34m\u001b[1mtrain: \u001b[0mScanning /home/shahriar/Documents/AideCare/app/yolo_dataset/labels/train... 3143 images, 2036 backgrounds, 0 corrupt: 100%|██████████| 3143/3143 [00:01<00:00, 2990.45it/s]"
     ]
    },
    {
     "name": "stdout",
     "output_type": "stream",
     "text": [
      "\u001b[34m\u001b[1mtrain: \u001b[0mNew cache created: /home/shahriar/Documents/AideCare/app/yolo_dataset/labels/train.cache\n"
     ]
    },
    {
     "name": "stderr",
     "output_type": "stream",
     "text": [
      "\n"
     ]
    },
    {
     "name": "stdout",
     "output_type": "stream",
     "text": [
      "\u001b[34m\u001b[1mval: \u001b[0mFast image access ✅ (ping: 0.0±0.0 ms, read: 2126.3±920.2 MB/s, size: 198.3 KB)\n"
     ]
    },
    {
     "name": "stderr",
     "output_type": "stream",
     "text": [
      "\u001b[34m\u001b[1mval: \u001b[0mScanning /home/shahriar/Documents/AideCare/app/yolo_dataset/labels/val... 786 images, 520 backgrounds, 0 corrupt: 100%|██████████| 786/786 [00:00<00:00, 2254.30it/s]"
     ]
    },
    {
     "name": "stdout",
     "output_type": "stream",
     "text": [
      "\u001b[34m\u001b[1mval: \u001b[0mNew cache created: /home/shahriar/Documents/AideCare/app/yolo_dataset/labels/val.cache\n"
     ]
    },
    {
     "name": "stderr",
     "output_type": "stream",
     "text": [
      "\n"
     ]
    },
    {
     "name": "stdout",
     "output_type": "stream",
     "text": [
      "Plotting labels to runs/segment/yolov11_seg_tumor/labels.jpg... \n",
      "\u001b[34m\u001b[1moptimizer:\u001b[0m 'optimizer=auto' found, ignoring 'lr0=0.01' and 'momentum=0.937' and determining best 'optimizer', 'lr0' and 'momentum' automatically... \n",
      "\u001b[34m\u001b[1moptimizer:\u001b[0m AdamW(lr=0.002, momentum=0.9) with parameter groups 115 weight(decay=0.0), 126 weight(decay=0.0005), 125 bias(decay=0.0)\n",
      "Image sizes 256 train, 256 val\n",
      "Using 8 dataloader workers\n",
      "Logging results to \u001b[1mruns/segment/yolov11_seg_tumor\u001b[0m\n",
      "Starting training for 100 epochs...\n",
      "\n",
      "      Epoch    GPU_mem   box_loss   seg_loss   cls_loss   dfl_loss  Instances       Size\n"
     ]
    },
    {
     "name": "stderr",
     "output_type": "stream",
     "text": [
      "      1/100      1.85G      1.619      2.784      1.911      1.395          5        256: 100%|██████████| 197/197 [00:49<00:00,  3.98it/s]\n",
      "                 Class     Images  Instances      Box(P          R      mAP50  mAP50-95)     Mask(P          R      mAP50  mAP50-95): 100%|██████████| 25/25 [00:06<00:00,  3.97it/s]\n"
     ]
    },
    {
     "name": "stdout",
     "output_type": "stream",
     "text": [
      "                   all        786        292   7.24e-05     0.0137   3.18e-05   5.07e-06          0          0          0          0\n",
      "\n",
      "      Epoch    GPU_mem   box_loss   seg_loss   cls_loss   dfl_loss  Instances       Size\n"
     ]
    },
    {
     "name": "stderr",
     "output_type": "stream",
     "text": [
      "      2/100      1.98G      1.783      2.869      1.613      1.513          4        256: 100%|██████████| 197/197 [00:47<00:00,  4.18it/s]\n",
      "                 Class     Images  Instances      Box(P          R      mAP50  mAP50-95)     Mask(P          R      mAP50  mAP50-95): 100%|██████████| 25/25 [00:06<00:00,  3.99it/s]\n"
     ]
    },
    {
     "name": "stdout",
     "output_type": "stream",
     "text": [
      "                   all        786        292     0.0221      0.479     0.0132    0.00601     0.0197       0.36     0.0112    0.00493\n",
      "\n",
      "      Epoch    GPU_mem   box_loss   seg_loss   cls_loss   dfl_loss  Instances       Size\n"
     ]
    },
    {
     "name": "stderr",
     "output_type": "stream",
     "text": [
      "      3/100      1.99G      1.667      2.635      1.437      1.461          5        256: 100%|██████████| 197/197 [00:46<00:00,  4.20it/s]\n",
      "                 Class     Images  Instances      Box(P          R      mAP50  mAP50-95)     Mask(P          R      mAP50  mAP50-95): 100%|██████████| 25/25 [00:06<00:00,  3.97it/s]"
     ]
    },
    {
     "name": "stdout",
     "output_type": "stream",
     "text": [
      "                   all        786        292      0.654      0.545      0.544      0.305      0.648       0.53       0.52      0.284\n"
     ]
    },
    {
     "name": "stderr",
     "output_type": "stream",
     "text": [
      "\n"
     ]
    },
    {
     "name": "stdout",
     "output_type": "stream",
     "text": [
      "\n",
      "      Epoch    GPU_mem   box_loss   seg_loss   cls_loss   dfl_loss  Instances       Size\n"
     ]
    },
    {
     "name": "stderr",
     "output_type": "stream",
     "text": [
      "      4/100      1.99G      1.661      2.633      1.401      1.454          2        256: 100%|██████████| 197/197 [00:47<00:00,  4.18it/s]\n",
      "                 Class     Images  Instances      Box(P          R      mAP50  mAP50-95)     Mask(P          R      mAP50  mAP50-95): 100%|██████████| 25/25 [00:06<00:00,  4.07it/s]"
     ]
    },
    {
     "name": "stdout",
     "output_type": "stream",
     "text": [
      "                   all        786        292      0.758      0.616      0.676      0.409      0.726       0.61      0.661      0.375\n"
     ]
    },
    {
     "name": "stderr",
     "output_type": "stream",
     "text": [
      "\n"
     ]
    },
    {
     "name": "stdout",
     "output_type": "stream",
     "text": [
      "\n",
      "      Epoch    GPU_mem   box_loss   seg_loss   cls_loss   dfl_loss  Instances       Size\n"
     ]
    },
    {
     "name": "stderr",
     "output_type": "stream",
     "text": [
      "      5/100      2.02G      1.571      2.455      1.246      1.383          4        256: 100%|██████████| 197/197 [00:46<00:00,  4.23it/s]\n",
      "                 Class     Images  Instances      Box(P          R      mAP50  mAP50-95)     Mask(P          R      mAP50  mAP50-95): 100%|██████████| 25/25 [00:06<00:00,  4.03it/s]"
     ]
    },
    {
     "name": "stdout",
     "output_type": "stream",
     "text": [
      "                   all        786        292      0.818      0.545      0.629      0.363      0.776      0.538      0.601      0.335\n"
     ]
    },
    {
     "name": "stderr",
     "output_type": "stream",
     "text": [
      "\n"
     ]
    },
    {
     "name": "stdout",
     "output_type": "stream",
     "text": [
      "\n",
      "      Epoch    GPU_mem   box_loss   seg_loss   cls_loss   dfl_loss  Instances       Size\n"
     ]
    },
    {
     "name": "stderr",
     "output_type": "stream",
     "text": [
      "      6/100      1.98G      1.528      2.423      1.264      1.366          8        256: 100%|██████████| 197/197 [00:46<00:00,  4.24it/s]\n",
      "                 Class     Images  Instances      Box(P          R      mAP50  mAP50-95)     Mask(P          R      mAP50  mAP50-95): 100%|██████████| 25/25 [00:06<00:00,  4.09it/s]"
     ]
    },
    {
     "name": "stdout",
     "output_type": "stream",
     "text": [
      "                   all        786        292      0.837      0.627      0.727      0.421      0.827       0.62      0.697      0.395\n"
     ]
    },
    {
     "name": "stderr",
     "output_type": "stream",
     "text": [
      "\n"
     ]
    },
    {
     "name": "stdout",
     "output_type": "stream",
     "text": [
      "\n",
      "      Epoch    GPU_mem   box_loss   seg_loss   cls_loss   dfl_loss  Instances       Size\n"
     ]
    },
    {
     "name": "stderr",
     "output_type": "stream",
     "text": [
      "      7/100         2G      1.485      2.347       1.18       1.36          8        256: 100%|██████████| 197/197 [00:46<00:00,  4.24it/s]\n",
      "                 Class     Images  Instances      Box(P          R      mAP50  mAP50-95)     Mask(P          R      mAP50  mAP50-95): 100%|██████████| 25/25 [00:06<00:00,  4.08it/s]"
     ]
    },
    {
     "name": "stdout",
     "output_type": "stream",
     "text": [
      "                   all        786        292      0.824      0.682      0.743      0.459      0.808      0.671      0.718      0.408\n"
     ]
    },
    {
     "name": "stderr",
     "output_type": "stream",
     "text": [
      "\n"
     ]
    },
    {
     "name": "stdout",
     "output_type": "stream",
     "text": [
      "\n",
      "      Epoch    GPU_mem   box_loss   seg_loss   cls_loss   dfl_loss  Instances       Size\n"
     ]
    },
    {
     "name": "stderr",
     "output_type": "stream",
     "text": [
      "      8/100         2G       1.47       2.35       1.15      1.324          5        256: 100%|██████████| 197/197 [00:45<00:00,  4.33it/s]\n",
      "                 Class     Images  Instances      Box(P          R      mAP50  mAP50-95)     Mask(P          R      mAP50  mAP50-95): 100%|██████████| 25/25 [00:06<00:00,  4.03it/s]"
     ]
    },
    {
     "name": "stdout",
     "output_type": "stream",
     "text": [
      "                   all        786        292      0.805      0.692      0.743      0.459      0.829       0.64      0.708      0.413\n"
     ]
    },
    {
     "name": "stderr",
     "output_type": "stream",
     "text": [
      "\n"
     ]
    },
    {
     "name": "stdout",
     "output_type": "stream",
     "text": [
      "\n",
      "      Epoch    GPU_mem   box_loss   seg_loss   cls_loss   dfl_loss  Instances       Size\n"
     ]
    },
    {
     "name": "stderr",
     "output_type": "stream",
     "text": [
      "      9/100         2G      1.459      2.298       1.11      1.326          2        256: 100%|██████████| 197/197 [00:46<00:00,  4.22it/s]\n",
      "                 Class     Images  Instances      Box(P          R      mAP50  mAP50-95)     Mask(P          R      mAP50  mAP50-95): 100%|██████████| 25/25 [00:06<00:00,  4.03it/s]"
     ]
    },
    {
     "name": "stdout",
     "output_type": "stream",
     "text": [
      "                   all        786        292      0.837      0.699      0.748      0.447      0.817      0.671      0.713       0.41\n"
     ]
    },
    {
     "name": "stderr",
     "output_type": "stream",
     "text": [
      "\n"
     ]
    },
    {
     "name": "stdout",
     "output_type": "stream",
     "text": [
      "\n",
      "      Epoch    GPU_mem   box_loss   seg_loss   cls_loss   dfl_loss  Instances       Size\n"
     ]
    },
    {
     "name": "stderr",
     "output_type": "stream",
     "text": [
      "     10/100      1.98G      1.375      2.198      1.035      1.276          2        256: 100%|██████████| 197/197 [00:45<00:00,  4.33it/s]\n",
      "                 Class     Images  Instances      Box(P          R      mAP50  mAP50-95)     Mask(P          R      mAP50  mAP50-95): 100%|██████████| 25/25 [00:06<00:00,  4.12it/s]"
     ]
    },
    {
     "name": "stdout",
     "output_type": "stream",
     "text": [
      "                   all        786        292      0.869       0.63      0.737      0.471      0.857      0.616      0.712      0.418\n"
     ]
    },
    {
     "name": "stderr",
     "output_type": "stream",
     "text": [
      "\n"
     ]
    },
    {
     "name": "stdout",
     "output_type": "stream",
     "text": [
      "\n",
      "      Epoch    GPU_mem   box_loss   seg_loss   cls_loss   dfl_loss  Instances       Size\n"
     ]
    },
    {
     "name": "stderr",
     "output_type": "stream",
     "text": [
      "     11/100         2G      1.337      2.112     0.9823      1.264          4        256: 100%|██████████| 197/197 [00:47<00:00,  4.18it/s]\n",
      "                 Class     Images  Instances      Box(P          R      mAP50  mAP50-95)     Mask(P          R      mAP50  mAP50-95): 100%|██████████| 25/25 [00:06<00:00,  4.00it/s]"
     ]
    },
    {
     "name": "stdout",
     "output_type": "stream",
     "text": [
      "                   all        786        292       0.85      0.678      0.759      0.478      0.822      0.651      0.709      0.419\n"
     ]
    },
    {
     "name": "stderr",
     "output_type": "stream",
     "text": [
      "\n"
     ]
    },
    {
     "name": "stdout",
     "output_type": "stream",
     "text": [
      "\n",
      "      Epoch    GPU_mem   box_loss   seg_loss   cls_loss   dfl_loss  Instances       Size\n"
     ]
    },
    {
     "name": "stderr",
     "output_type": "stream",
     "text": [
      "     12/100      1.99G       1.36      2.156       1.01      1.257          6        256: 100%|██████████| 197/197 [00:46<00:00,  4.22it/s]\n",
      "                 Class     Images  Instances      Box(P          R      mAP50  mAP50-95)     Mask(P          R      mAP50  mAP50-95): 100%|██████████| 25/25 [00:06<00:00,  4.02it/s]"
     ]
    },
    {
     "name": "stdout",
     "output_type": "stream",
     "text": [
      "                   all        786        292      0.822      0.675      0.738      0.474      0.811      0.664      0.704      0.432\n"
     ]
    },
    {
     "name": "stderr",
     "output_type": "stream",
     "text": [
      "\n"
     ]
    },
    {
     "name": "stdout",
     "output_type": "stream",
     "text": [
      "\n",
      "      Epoch    GPU_mem   box_loss   seg_loss   cls_loss   dfl_loss  Instances       Size\n"
     ]
    },
    {
     "name": "stderr",
     "output_type": "stream",
     "text": [
      "     13/100         2G      1.378      2.121     0.9762      1.284          7        256: 100%|██████████| 197/197 [00:46<00:00,  4.26it/s]\n",
      "                 Class     Images  Instances      Box(P          R      mAP50  mAP50-95)     Mask(P          R      mAP50  mAP50-95): 100%|██████████| 25/25 [00:06<00:00,  4.07it/s]"
     ]
    },
    {
     "name": "stdout",
     "output_type": "stream",
     "text": [
      "                   all        786        292      0.844      0.705      0.766      0.495       0.81      0.675       0.72      0.445\n"
     ]
    },
    {
     "name": "stderr",
     "output_type": "stream",
     "text": [
      "\n"
     ]
    },
    {
     "name": "stdout",
     "output_type": "stream",
     "text": [
      "\n",
      "      Epoch    GPU_mem   box_loss   seg_loss   cls_loss   dfl_loss  Instances       Size\n"
     ]
    },
    {
     "name": "stderr",
     "output_type": "stream",
     "text": [
      "     14/100      1.98G      1.317      2.151     0.9657      1.254         11        256: 100%|██████████| 197/197 [00:46<00:00,  4.27it/s]\n",
      "                 Class     Images  Instances      Box(P          R      mAP50  mAP50-95)     Mask(P          R      mAP50  mAP50-95): 100%|██████████| 25/25 [00:06<00:00,  4.12it/s]"
     ]
    },
    {
     "name": "stdout",
     "output_type": "stream",
     "text": [
      "                   all        786        292      0.818      0.722      0.766      0.481      0.801      0.695      0.731      0.432\n"
     ]
    },
    {
     "name": "stderr",
     "output_type": "stream",
     "text": [
      "\n"
     ]
    },
    {
     "name": "stdout",
     "output_type": "stream",
     "text": [
      "\n",
      "      Epoch    GPU_mem   box_loss   seg_loss   cls_loss   dfl_loss  Instances       Size\n"
     ]
    },
    {
     "name": "stderr",
     "output_type": "stream",
     "text": [
      "     15/100         2G      1.311       2.08     0.9476      1.248         11        256: 100%|██████████| 197/197 [00:46<00:00,  4.24it/s]\n",
      "                 Class     Images  Instances      Box(P          R      mAP50  mAP50-95)     Mask(P          R      mAP50  mAP50-95): 100%|██████████| 25/25 [00:06<00:00,  4.10it/s]"
     ]
    },
    {
     "name": "stdout",
     "output_type": "stream",
     "text": [
      "                   all        786        292      0.854      0.743      0.794      0.518       0.86      0.688      0.753      0.464\n"
     ]
    },
    {
     "name": "stderr",
     "output_type": "stream",
     "text": [
      "\n"
     ]
    },
    {
     "name": "stdout",
     "output_type": "stream",
     "text": [
      "\n",
      "      Epoch    GPU_mem   box_loss   seg_loss   cls_loss   dfl_loss  Instances       Size\n"
     ]
    },
    {
     "name": "stderr",
     "output_type": "stream",
     "text": [
      "     16/100         2G      1.282      2.042     0.8969       1.24          3        256: 100%|██████████| 197/197 [00:45<00:00,  4.33it/s]\n",
      "                 Class     Images  Instances      Box(P          R      mAP50  mAP50-95)     Mask(P          R      mAP50  mAP50-95): 100%|██████████| 25/25 [00:06<00:00,  4.13it/s]"
     ]
    },
    {
     "name": "stdout",
     "output_type": "stream",
     "text": [
      "                   all        786        292       0.84      0.685      0.753      0.487      0.862      0.654      0.719      0.431\n"
     ]
    },
    {
     "name": "stderr",
     "output_type": "stream",
     "text": [
      "\n"
     ]
    },
    {
     "name": "stdout",
     "output_type": "stream",
     "text": [
      "\n",
      "      Epoch    GPU_mem   box_loss   seg_loss   cls_loss   dfl_loss  Instances       Size\n"
     ]
    },
    {
     "name": "stderr",
     "output_type": "stream",
     "text": [
      "     17/100      1.99G      1.271      1.979      0.867      1.224          6        256: 100%|██████████| 197/197 [00:46<00:00,  4.25it/s]\n",
      "                 Class     Images  Instances      Box(P          R      mAP50  mAP50-95)     Mask(P          R      mAP50  mAP50-95): 100%|██████████| 25/25 [00:06<00:00,  4.05it/s]"
     ]
    },
    {
     "name": "stdout",
     "output_type": "stream",
     "text": [
      "                   all        786        292      0.862      0.716      0.792       0.52      0.848      0.688      0.755      0.455\n"
     ]
    },
    {
     "name": "stderr",
     "output_type": "stream",
     "text": [
      "\n"
     ]
    },
    {
     "name": "stdout",
     "output_type": "stream",
     "text": [
      "\n",
      "      Epoch    GPU_mem   box_loss   seg_loss   cls_loss   dfl_loss  Instances       Size\n"
     ]
    },
    {
     "name": "stderr",
     "output_type": "stream",
     "text": [
      "     18/100      1.99G      1.302       2.06     0.9198      1.236          4        256: 100%|██████████| 197/197 [00:45<00:00,  4.29it/s]\n",
      "                 Class     Images  Instances      Box(P          R      mAP50  mAP50-95)     Mask(P          R      mAP50  mAP50-95): 100%|██████████| 25/25 [00:06<00:00,  4.00it/s]"
     ]
    },
    {
     "name": "stdout",
     "output_type": "stream",
     "text": [
      "                   all        786        292      0.889       0.76      0.811      0.522      0.854      0.747      0.782      0.462\n"
     ]
    },
    {
     "name": "stderr",
     "output_type": "stream",
     "text": [
      "\n"
     ]
    },
    {
     "name": "stdout",
     "output_type": "stream",
     "text": [
      "\n",
      "      Epoch    GPU_mem   box_loss   seg_loss   cls_loss   dfl_loss  Instances       Size\n"
     ]
    },
    {
     "name": "stderr",
     "output_type": "stream",
     "text": [
      "     19/100      1.99G      1.295      2.067     0.8804      1.227          4        256: 100%|██████████| 197/197 [00:46<00:00,  4.20it/s]\n",
      "                 Class     Images  Instances      Box(P          R      mAP50  mAP50-95)     Mask(P          R      mAP50  mAP50-95): 100%|██████████| 25/25 [00:05<00:00,  4.18it/s]"
     ]
    },
    {
     "name": "stdout",
     "output_type": "stream",
     "text": [
      "                   all        786        292      0.854      0.721      0.777      0.509       0.83      0.702      0.752      0.458\n"
     ]
    },
    {
     "name": "stderr",
     "output_type": "stream",
     "text": [
      "\n"
     ]
    },
    {
     "name": "stdout",
     "output_type": "stream",
     "text": [
      "\n",
      "      Epoch    GPU_mem   box_loss   seg_loss   cls_loss   dfl_loss  Instances       Size\n"
     ]
    },
    {
     "name": "stderr",
     "output_type": "stream",
     "text": [
      "     20/100         2G      1.205      1.965       0.83      1.188          1        256: 100%|██████████| 197/197 [00:46<00:00,  4.23it/s]\n",
      "                 Class     Images  Instances      Box(P          R      mAP50  mAP50-95)     Mask(P          R      mAP50  mAP50-95): 100%|██████████| 25/25 [00:06<00:00,  4.11it/s]"
     ]
    },
    {
     "name": "stdout",
     "output_type": "stream",
     "text": [
      "                   all        786        292      0.873      0.726      0.819       0.55      0.892      0.675      0.773      0.467\n"
     ]
    },
    {
     "name": "stderr",
     "output_type": "stream",
     "text": [
      "\n"
     ]
    },
    {
     "name": "stdout",
     "output_type": "stream",
     "text": [
      "\n",
      "      Epoch    GPU_mem   box_loss   seg_loss   cls_loss   dfl_loss  Instances       Size\n"
     ]
    },
    {
     "name": "stderr",
     "output_type": "stream",
     "text": [
      "     21/100      1.99G      1.249       2.03     0.9033      1.219          3        256: 100%|██████████| 197/197 [00:46<00:00,  4.23it/s]\n",
      "                 Class     Images  Instances      Box(P          R      mAP50  mAP50-95)     Mask(P          R      mAP50  mAP50-95): 100%|██████████| 25/25 [00:06<00:00,  4.15it/s]"
     ]
    },
    {
     "name": "stdout",
     "output_type": "stream",
     "text": [
      "                   all        786        292      0.915      0.723       0.83      0.578      0.899      0.709      0.795      0.508\n"
     ]
    },
    {
     "name": "stderr",
     "output_type": "stream",
     "text": [
      "\n"
     ]
    },
    {
     "name": "stdout",
     "output_type": "stream",
     "text": [
      "\n",
      "      Epoch    GPU_mem   box_loss   seg_loss   cls_loss   dfl_loss  Instances       Size\n"
     ]
    },
    {
     "name": "stderr",
     "output_type": "stream",
     "text": [
      "     22/100      1.97G      1.214      1.947     0.8388       1.21          3        256: 100%|██████████| 197/197 [00:46<00:00,  4.24it/s]\n",
      "                 Class     Images  Instances      Box(P          R      mAP50  mAP50-95)     Mask(P          R      mAP50  mAP50-95): 100%|██████████| 25/25 [00:06<00:00,  4.07it/s]"
     ]
    },
    {
     "name": "stdout",
     "output_type": "stream",
     "text": [
      "                   all        786        292      0.906      0.753      0.827      0.565      0.886      0.736      0.792      0.489\n"
     ]
    },
    {
     "name": "stderr",
     "output_type": "stream",
     "text": [
      "\n"
     ]
    },
    {
     "name": "stdout",
     "output_type": "stream",
     "text": [
      "\n",
      "      Epoch    GPU_mem   box_loss   seg_loss   cls_loss   dfl_loss  Instances       Size\n"
     ]
    },
    {
     "name": "stderr",
     "output_type": "stream",
     "text": [
      "     23/100      1.99G      1.216      1.939     0.8158      1.186          2        256: 100%|██████████| 197/197 [00:45<00:00,  4.29it/s]\n",
      "                 Class     Images  Instances      Box(P          R      mAP50  mAP50-95)     Mask(P          R      mAP50  mAP50-95): 100%|██████████| 25/25 [00:06<00:00,  4.16it/s]"
     ]
    },
    {
     "name": "stdout",
     "output_type": "stream",
     "text": [
      "                   all        786        292      0.846      0.709      0.786       0.54      0.863      0.691       0.76      0.472\n"
     ]
    },
    {
     "name": "stderr",
     "output_type": "stream",
     "text": [
      "\n"
     ]
    },
    {
     "name": "stdout",
     "output_type": "stream",
     "text": [
      "\n",
      "      Epoch    GPU_mem   box_loss   seg_loss   cls_loss   dfl_loss  Instances       Size\n"
     ]
    },
    {
     "name": "stderr",
     "output_type": "stream",
     "text": [
      "     24/100         2G      1.205      1.944     0.8062      1.184          4        256: 100%|██████████| 197/197 [00:45<00:00,  4.29it/s]\n",
      "                 Class     Images  Instances      Box(P          R      mAP50  mAP50-95)     Mask(P          R      mAP50  mAP50-95): 100%|██████████| 25/25 [00:06<00:00,  4.09it/s]"
     ]
    },
    {
     "name": "stdout",
     "output_type": "stream",
     "text": [
      "                   all        786        292      0.892      0.709      0.787      0.512      0.883      0.671      0.742      0.438\n"
     ]
    },
    {
     "name": "stderr",
     "output_type": "stream",
     "text": [
      "\n"
     ]
    },
    {
     "name": "stdout",
     "output_type": "stream",
     "text": [
      "\n",
      "      Epoch    GPU_mem   box_loss   seg_loss   cls_loss   dfl_loss  Instances       Size\n"
     ]
    },
    {
     "name": "stderr",
     "output_type": "stream",
     "text": [
      "     25/100         2G      1.206       1.93     0.8299      1.189          5        256: 100%|██████████| 197/197 [00:46<00:00,  4.22it/s]\n",
      "                 Class     Images  Instances      Box(P          R      mAP50  mAP50-95)     Mask(P          R      mAP50  mAP50-95): 100%|██████████| 25/25 [00:06<00:00,  4.07it/s]"
     ]
    },
    {
     "name": "stdout",
     "output_type": "stream",
     "text": [
      "                   all        786        292      0.869       0.75      0.816      0.542      0.845       0.73      0.773      0.472\n"
     ]
    },
    {
     "name": "stderr",
     "output_type": "stream",
     "text": [
      "\n"
     ]
    },
    {
     "name": "stdout",
     "output_type": "stream",
     "text": [
      "\n",
      "      Epoch    GPU_mem   box_loss   seg_loss   cls_loss   dfl_loss  Instances       Size\n"
     ]
    },
    {
     "name": "stderr",
     "output_type": "stream",
     "text": [
      "     26/100      1.98G      1.207       1.89     0.7903      1.181          4        256: 100%|██████████| 197/197 [00:47<00:00,  4.18it/s]\n",
      "                 Class     Images  Instances      Box(P          R      mAP50  mAP50-95)     Mask(P          R      mAP50  mAP50-95): 100%|██████████| 25/25 [00:06<00:00,  4.11it/s]"
     ]
    },
    {
     "name": "stdout",
     "output_type": "stream",
     "text": [
      "                   all        786        292       0.89      0.729      0.813      0.551      0.862      0.682      0.781      0.481\n"
     ]
    },
    {
     "name": "stderr",
     "output_type": "stream",
     "text": [
      "\n"
     ]
    },
    {
     "name": "stdout",
     "output_type": "stream",
     "text": [
      "\n",
      "      Epoch    GPU_mem   box_loss   seg_loss   cls_loss   dfl_loss  Instances       Size\n"
     ]
    },
    {
     "name": "stderr",
     "output_type": "stream",
     "text": [
      "     27/100      1.99G      1.158      1.854     0.7746      1.167          5        256: 100%|██████████| 197/197 [00:45<00:00,  4.32it/s]\n",
      "                 Class     Images  Instances      Box(P          R      mAP50  mAP50-95)     Mask(P          R      mAP50  mAP50-95): 100%|██████████| 25/25 [00:06<00:00,  4.12it/s]"
     ]
    },
    {
     "name": "stdout",
     "output_type": "stream",
     "text": [
      "                   all        786        292      0.865      0.774      0.833      0.566      0.846      0.729      0.778      0.498\n"
     ]
    },
    {
     "name": "stderr",
     "output_type": "stream",
     "text": [
      "\n"
     ]
    },
    {
     "name": "stdout",
     "output_type": "stream",
     "text": [
      "\n",
      "      Epoch    GPU_mem   box_loss   seg_loss   cls_loss   dfl_loss  Instances       Size\n"
     ]
    },
    {
     "name": "stderr",
     "output_type": "stream",
     "text": [
      "     28/100      1.99G      1.163      1.846     0.7486      1.165          2        256: 100%|██████████| 197/197 [00:46<00:00,  4.20it/s]\n",
      "                 Class     Images  Instances      Box(P          R      mAP50  mAP50-95)     Mask(P          R      mAP50  mAP50-95): 100%|██████████| 25/25 [00:05<00:00,  4.18it/s]"
     ]
    },
    {
     "name": "stdout",
     "output_type": "stream",
     "text": [
      "                   all        786        292      0.887      0.723      0.818      0.565      0.866      0.706      0.791      0.499\n"
     ]
    },
    {
     "name": "stderr",
     "output_type": "stream",
     "text": [
      "\n"
     ]
    },
    {
     "name": "stdout",
     "output_type": "stream",
     "text": [
      "\n",
      "      Epoch    GPU_mem   box_loss   seg_loss   cls_loss   dfl_loss  Instances       Size\n"
     ]
    },
    {
     "name": "stderr",
     "output_type": "stream",
     "text": [
      "     29/100      2.03G      1.188      1.879     0.8019       1.17          3        256: 100%|██████████| 197/197 [00:46<00:00,  4.23it/s]\n",
      "                 Class     Images  Instances      Box(P          R      mAP50  mAP50-95)     Mask(P          R      mAP50  mAP50-95): 100%|██████████| 25/25 [00:06<00:00,  4.14it/s]"
     ]
    },
    {
     "name": "stdout",
     "output_type": "stream",
     "text": [
      "                   all        786        292      0.868      0.724      0.798      0.531      0.856      0.705      0.766       0.46\n"
     ]
    },
    {
     "name": "stderr",
     "output_type": "stream",
     "text": [
      "\n"
     ]
    },
    {
     "name": "stdout",
     "output_type": "stream",
     "text": [
      "\n",
      "      Epoch    GPU_mem   box_loss   seg_loss   cls_loss   dfl_loss  Instances       Size\n"
     ]
    },
    {
     "name": "stderr",
     "output_type": "stream",
     "text": [
      "     30/100      1.97G      1.136      1.778     0.7551      1.143          3        256: 100%|██████████| 197/197 [00:46<00:00,  4.21it/s]\n",
      "                 Class     Images  Instances      Box(P          R      mAP50  mAP50-95)     Mask(P          R      mAP50  mAP50-95): 100%|██████████| 25/25 [00:06<00:00,  4.12it/s]"
     ]
    },
    {
     "name": "stdout",
     "output_type": "stream",
     "text": [
      "                   all        786        292      0.904      0.739      0.827      0.568      0.897      0.716      0.795      0.493\n"
     ]
    },
    {
     "name": "stderr",
     "output_type": "stream",
     "text": [
      "\n"
     ]
    },
    {
     "name": "stdout",
     "output_type": "stream",
     "text": [
      "\n",
      "      Epoch    GPU_mem   box_loss   seg_loss   cls_loss   dfl_loss  Instances       Size\n"
     ]
    },
    {
     "name": "stderr",
     "output_type": "stream",
     "text": [
      "     31/100         2G      1.154      1.853     0.7607      1.157          7        256: 100%|██████████| 197/197 [00:46<00:00,  4.22it/s]\n",
      "                 Class     Images  Instances      Box(P          R      mAP50  mAP50-95)     Mask(P          R      mAP50  mAP50-95): 100%|██████████| 25/25 [00:05<00:00,  4.18it/s]"
     ]
    },
    {
     "name": "stdout",
     "output_type": "stream",
     "text": [
      "                   all        786        292      0.891      0.729      0.808       0.56      0.874      0.716      0.781      0.488\n"
     ]
    },
    {
     "name": "stderr",
     "output_type": "stream",
     "text": [
      "\n"
     ]
    },
    {
     "name": "stdout",
     "output_type": "stream",
     "text": [
      "\n",
      "      Epoch    GPU_mem   box_loss   seg_loss   cls_loss   dfl_loss  Instances       Size\n"
     ]
    },
    {
     "name": "stderr",
     "output_type": "stream",
     "text": [
      "     32/100      1.99G      1.162      1.865     0.7477      1.162          2        256: 100%|██████████| 197/197 [00:46<00:00,  4.25it/s]\n",
      "                 Class     Images  Instances      Box(P          R      mAP50  mAP50-95)     Mask(P          R      mAP50  mAP50-95): 100%|██████████| 25/25 [00:06<00:00,  4.16it/s]"
     ]
    },
    {
     "name": "stdout",
     "output_type": "stream",
     "text": [
      "                   all        786        292      0.851      0.782      0.846      0.577      0.818      0.753      0.798      0.485\n"
     ]
    },
    {
     "name": "stderr",
     "output_type": "stream",
     "text": [
      "\n"
     ]
    },
    {
     "name": "stdout",
     "output_type": "stream",
     "text": [
      "\n",
      "      Epoch    GPU_mem   box_loss   seg_loss   cls_loss   dfl_loss  Instances       Size\n"
     ]
    },
    {
     "name": "stderr",
     "output_type": "stream",
     "text": [
      "     33/100         2G      1.119      1.869     0.7234       1.15          7        256: 100%|██████████| 197/197 [00:45<00:00,  4.28it/s]\n",
      "                 Class     Images  Instances      Box(P          R      mAP50  mAP50-95)     Mask(P          R      mAP50  mAP50-95): 100%|██████████| 25/25 [00:06<00:00,  4.12it/s]"
     ]
    },
    {
     "name": "stdout",
     "output_type": "stream",
     "text": [
      "                   all        786        292      0.937      0.715      0.824      0.569       0.92      0.699      0.786      0.489\n"
     ]
    },
    {
     "name": "stderr",
     "output_type": "stream",
     "text": [
      "\n"
     ]
    },
    {
     "name": "stdout",
     "output_type": "stream",
     "text": [
      "\n",
      "      Epoch    GPU_mem   box_loss   seg_loss   cls_loss   dfl_loss  Instances       Size\n"
     ]
    },
    {
     "name": "stderr",
     "output_type": "stream",
     "text": [
      "     34/100      1.97G      1.163      1.811     0.7453      1.153          2        256: 100%|██████████| 197/197 [00:46<00:00,  4.24it/s]\n",
      "                 Class     Images  Instances      Box(P          R      mAP50  mAP50-95)     Mask(P          R      mAP50  mAP50-95): 100%|██████████| 25/25 [00:06<00:00,  4.06it/s]"
     ]
    },
    {
     "name": "stdout",
     "output_type": "stream",
     "text": [
      "                   all        786        292      0.887      0.723      0.821      0.564      0.872      0.705      0.787      0.505\n"
     ]
    },
    {
     "name": "stderr",
     "output_type": "stream",
     "text": [
      "\n"
     ]
    },
    {
     "name": "stdout",
     "output_type": "stream",
     "text": [
      "\n",
      "      Epoch    GPU_mem   box_loss   seg_loss   cls_loss   dfl_loss  Instances       Size\n"
     ]
    },
    {
     "name": "stderr",
     "output_type": "stream",
     "text": [
      "     35/100      1.99G      1.099      1.791     0.7055       1.14          2        256: 100%|██████████| 197/197 [00:46<00:00,  4.20it/s]\n",
      "                 Class     Images  Instances      Box(P          R      mAP50  mAP50-95)     Mask(P          R      mAP50  mAP50-95): 100%|██████████| 25/25 [00:06<00:00,  4.15it/s]"
     ]
    },
    {
     "name": "stdout",
     "output_type": "stream",
     "text": [
      "                   all        786        292      0.919      0.738      0.842      0.582      0.873      0.723      0.807      0.504\n"
     ]
    },
    {
     "name": "stderr",
     "output_type": "stream",
     "text": [
      "\n"
     ]
    },
    {
     "name": "stdout",
     "output_type": "stream",
     "text": [
      "\n",
      "      Epoch    GPU_mem   box_loss   seg_loss   cls_loss   dfl_loss  Instances       Size\n"
     ]
    },
    {
     "name": "stderr",
     "output_type": "stream",
     "text": [
      "     36/100      1.99G      1.123      1.836     0.7275      1.146          4        256: 100%|██████████| 197/197 [00:46<00:00,  4.27it/s]\n",
      "                 Class     Images  Instances      Box(P          R      mAP50  mAP50-95)     Mask(P          R      mAP50  mAP50-95): 100%|██████████| 25/25 [00:06<00:00,  4.13it/s]"
     ]
    },
    {
     "name": "stdout",
     "output_type": "stream",
     "text": [
      "                   all        786        292        0.9       0.76      0.846        0.6      0.881      0.736      0.813      0.534\n"
     ]
    },
    {
     "name": "stderr",
     "output_type": "stream",
     "text": [
      "\n"
     ]
    },
    {
     "name": "stdout",
     "output_type": "stream",
     "text": [
      "\n",
      "      Epoch    GPU_mem   box_loss   seg_loss   cls_loss   dfl_loss  Instances       Size\n"
     ]
    },
    {
     "name": "stderr",
     "output_type": "stream",
     "text": [
      "     37/100         2G       1.12      1.786     0.7038      1.138          3        256: 100%|██████████| 197/197 [00:46<00:00,  4.20it/s]\n",
      "                 Class     Images  Instances      Box(P          R      mAP50  mAP50-95)     Mask(P          R      mAP50  mAP50-95): 100%|██████████| 25/25 [00:06<00:00,  4.15it/s]"
     ]
    },
    {
     "name": "stdout",
     "output_type": "stream",
     "text": [
      "                   all        786        292       0.91      0.765      0.842      0.579      0.899      0.735       0.81       0.51\n"
     ]
    },
    {
     "name": "stderr",
     "output_type": "stream",
     "text": [
      "\n"
     ]
    },
    {
     "name": "stdout",
     "output_type": "stream",
     "text": [
      "\n",
      "      Epoch    GPU_mem   box_loss   seg_loss   cls_loss   dfl_loss  Instances       Size\n"
     ]
    },
    {
     "name": "stderr",
     "output_type": "stream",
     "text": [
      "     38/100      1.98G      1.126      1.806      0.701      1.129          3        256: 100%|██████████| 197/197 [00:46<00:00,  4.23it/s]\n",
      "                 Class     Images  Instances      Box(P          R      mAP50  mAP50-95)     Mask(P          R      mAP50  mAP50-95): 100%|██████████| 25/25 [00:05<00:00,  4.17it/s]"
     ]
    },
    {
     "name": "stdout",
     "output_type": "stream",
     "text": [
      "                   all        786        292      0.901      0.723      0.819      0.575      0.888      0.712      0.806      0.509\n"
     ]
    },
    {
     "name": "stderr",
     "output_type": "stream",
     "text": [
      "\n"
     ]
    },
    {
     "name": "stdout",
     "output_type": "stream",
     "text": [
      "\n",
      "      Epoch    GPU_mem   box_loss   seg_loss   cls_loss   dfl_loss  Instances       Size\n"
     ]
    },
    {
     "name": "stderr",
     "output_type": "stream",
     "text": [
      "     39/100         2G      1.103      1.812     0.7271      1.117          5        256: 100%|██████████| 197/197 [00:47<00:00,  4.19it/s]\n",
      "                 Class     Images  Instances      Box(P          R      mAP50  mAP50-95)     Mask(P          R      mAP50  mAP50-95): 100%|██████████| 25/25 [00:05<00:00,  4.17it/s]"
     ]
    },
    {
     "name": "stdout",
     "output_type": "stream",
     "text": [
      "                   all        786        292      0.894      0.752      0.839      0.577      0.888      0.723      0.801      0.512\n"
     ]
    },
    {
     "name": "stderr",
     "output_type": "stream",
     "text": [
      "\n"
     ]
    },
    {
     "name": "stdout",
     "output_type": "stream",
     "text": [
      "\n",
      "      Epoch    GPU_mem   box_loss   seg_loss   cls_loss   dfl_loss  Instances       Size\n"
     ]
    },
    {
     "name": "stderr",
     "output_type": "stream",
     "text": [
      "     40/100         2G      1.077      1.731     0.6865       1.12          4        256: 100%|██████████| 197/197 [00:46<00:00,  4.24it/s]\n",
      "                 Class     Images  Instances      Box(P          R      mAP50  mAP50-95)     Mask(P          R      mAP50  mAP50-95): 100%|██████████| 25/25 [00:06<00:00,  4.15it/s]"
     ]
    },
    {
     "name": "stdout",
     "output_type": "stream",
     "text": [
      "                   all        786        292      0.899      0.747      0.836      0.589      0.891      0.736      0.806      0.503\n"
     ]
    },
    {
     "name": "stderr",
     "output_type": "stream",
     "text": [
      "\n"
     ]
    },
    {
     "name": "stdout",
     "output_type": "stream",
     "text": [
      "\n",
      "      Epoch    GPU_mem   box_loss   seg_loss   cls_loss   dfl_loss  Instances       Size\n"
     ]
    },
    {
     "name": "stderr",
     "output_type": "stream",
     "text": [
      "     41/100      1.99G      1.089      1.793     0.6997      1.125          9        256: 100%|██████████| 197/197 [00:46<00:00,  4.19it/s]\n",
      "                 Class     Images  Instances      Box(P          R      mAP50  mAP50-95)     Mask(P          R      mAP50  mAP50-95): 100%|██████████| 25/25 [00:06<00:00,  4.16it/s]"
     ]
    },
    {
     "name": "stdout",
     "output_type": "stream",
     "text": [
      "                   all        786        292        0.9      0.726      0.813      0.564      0.907      0.701      0.787      0.498\n"
     ]
    },
    {
     "name": "stderr",
     "output_type": "stream",
     "text": [
      "\n"
     ]
    },
    {
     "name": "stdout",
     "output_type": "stream",
     "text": [
      "\n",
      "      Epoch    GPU_mem   box_loss   seg_loss   cls_loss   dfl_loss  Instances       Size\n"
     ]
    },
    {
     "name": "stderr",
     "output_type": "stream",
     "text": [
      "     42/100      1.99G      1.098      1.761     0.6799      1.122          1        256: 100%|██████████| 197/197 [00:46<00:00,  4.23it/s]\n",
      "                 Class     Images  Instances      Box(P          R      mAP50  mAP50-95)     Mask(P          R      mAP50  mAP50-95): 100%|██████████| 25/25 [00:06<00:00,  4.14it/s]"
     ]
    },
    {
     "name": "stdout",
     "output_type": "stream",
     "text": [
      "                   all        786        292      0.851      0.782      0.843      0.571      0.844      0.747      0.801      0.501\n"
     ]
    },
    {
     "name": "stderr",
     "output_type": "stream",
     "text": [
      "\n"
     ]
    },
    {
     "name": "stdout",
     "output_type": "stream",
     "text": [
      "\n",
      "      Epoch    GPU_mem   box_loss   seg_loss   cls_loss   dfl_loss  Instances       Size\n"
     ]
    },
    {
     "name": "stderr",
     "output_type": "stream",
     "text": [
      "     43/100      1.99G      1.094      1.754     0.6742      1.135          7        256: 100%|██████████| 197/197 [00:45<00:00,  4.33it/s]\n",
      "                 Class     Images  Instances      Box(P          R      mAP50  mAP50-95)     Mask(P          R      mAP50  mAP50-95): 100%|██████████| 25/25 [00:06<00:00,  4.13it/s]"
     ]
    },
    {
     "name": "stdout",
     "output_type": "stream",
     "text": [
      "                   all        786        292      0.929      0.719      0.842      0.597      0.898      0.695      0.798      0.506\n"
     ]
    },
    {
     "name": "stderr",
     "output_type": "stream",
     "text": [
      "\n"
     ]
    },
    {
     "name": "stdout",
     "output_type": "stream",
     "text": [
      "\n",
      "      Epoch    GPU_mem   box_loss   seg_loss   cls_loss   dfl_loss  Instances       Size\n"
     ]
    },
    {
     "name": "stderr",
     "output_type": "stream",
     "text": [
      "     44/100         2G      1.059      1.669     0.6791      1.109          5        256: 100%|██████████| 197/197 [00:46<00:00,  4.27it/s]\n",
      "                 Class     Images  Instances      Box(P          R      mAP50  mAP50-95)     Mask(P          R      mAP50  mAP50-95): 100%|██████████| 25/25 [00:06<00:00,  4.12it/s]"
     ]
    },
    {
     "name": "stdout",
     "output_type": "stream",
     "text": [
      "                   all        786        292       0.93      0.709      0.832      0.606      0.906      0.709      0.809      0.517\n"
     ]
    },
    {
     "name": "stderr",
     "output_type": "stream",
     "text": [
      "\n"
     ]
    },
    {
     "name": "stdout",
     "output_type": "stream",
     "text": [
      "\n",
      "      Epoch    GPU_mem   box_loss   seg_loss   cls_loss   dfl_loss  Instances       Size\n"
     ]
    },
    {
     "name": "stderr",
     "output_type": "stream",
     "text": [
      "     45/100      2.02G      1.076      1.767     0.6692      1.127          5        256: 100%|██████████| 197/197 [00:46<00:00,  4.23it/s]\n",
      "                 Class     Images  Instances      Box(P          R      mAP50  mAP50-95)     Mask(P          R      mAP50  mAP50-95): 100%|██████████| 25/25 [00:05<00:00,  4.18it/s]"
     ]
    },
    {
     "name": "stdout",
     "output_type": "stream",
     "text": [
      "                   all        786        292       0.91      0.733      0.841      0.594      0.893      0.716      0.812      0.525\n"
     ]
    },
    {
     "name": "stderr",
     "output_type": "stream",
     "text": [
      "\n"
     ]
    },
    {
     "name": "stdout",
     "output_type": "stream",
     "text": [
      "\n",
      "      Epoch    GPU_mem   box_loss   seg_loss   cls_loss   dfl_loss  Instances       Size\n"
     ]
    },
    {
     "name": "stderr",
     "output_type": "stream",
     "text": [
      "     46/100      1.98G      1.046      1.686      0.659      1.095          1        256: 100%|██████████| 197/197 [00:46<00:00,  4.21it/s]\n",
      "                 Class     Images  Instances      Box(P          R      mAP50  mAP50-95)     Mask(P          R      mAP50  mAP50-95): 100%|██████████| 25/25 [00:05<00:00,  4.17it/s]"
     ]
    },
    {
     "name": "stdout",
     "output_type": "stream",
     "text": [
      "                   all        786        292      0.868      0.767      0.841        0.6      0.909      0.715       0.81      0.524\n"
     ]
    },
    {
     "name": "stderr",
     "output_type": "stream",
     "text": [
      "\n"
     ]
    },
    {
     "name": "stdout",
     "output_type": "stream",
     "text": [
      "\n",
      "      Epoch    GPU_mem   box_loss   seg_loss   cls_loss   dfl_loss  Instances       Size\n"
     ]
    },
    {
     "name": "stderr",
     "output_type": "stream",
     "text": [
      "     47/100      1.99G      1.082      1.698       0.66      1.124          3        256: 100%|██████████| 197/197 [00:46<00:00,  4.23it/s]\n",
      "                 Class     Images  Instances      Box(P          R      mAP50  mAP50-95)     Mask(P          R      mAP50  mAP50-95): 100%|██████████| 25/25 [00:06<00:00,  4.16it/s]"
     ]
    },
    {
     "name": "stdout",
     "output_type": "stream",
     "text": [
      "                   all        786        292       0.91      0.766      0.845      0.606      0.888      0.743      0.808      0.517\n"
     ]
    },
    {
     "name": "stderr",
     "output_type": "stream",
     "text": [
      "\n"
     ]
    },
    {
     "name": "stdout",
     "output_type": "stream",
     "text": [
      "\n",
      "      Epoch    GPU_mem   box_loss   seg_loss   cls_loss   dfl_loss  Instances       Size\n"
     ]
    },
    {
     "name": "stderr",
     "output_type": "stream",
     "text": [
      "     48/100      1.99G       1.05      1.678     0.6474      1.101          3        256: 100%|██████████| 197/197 [00:46<00:00,  4.25it/s]\n",
      "                 Class     Images  Instances      Box(P          R      mAP50  mAP50-95)     Mask(P          R      mAP50  mAP50-95): 100%|██████████| 25/25 [00:06<00:00,  4.16it/s]"
     ]
    },
    {
     "name": "stdout",
     "output_type": "stream",
     "text": [
      "                   all        786        292      0.924      0.751      0.857      0.593      0.911      0.734      0.818      0.515\n"
     ]
    },
    {
     "name": "stderr",
     "output_type": "stream",
     "text": [
      "\n"
     ]
    },
    {
     "name": "stdout",
     "output_type": "stream",
     "text": [
      "\n",
      "      Epoch    GPU_mem   box_loss   seg_loss   cls_loss   dfl_loss  Instances       Size\n"
     ]
    },
    {
     "name": "stderr",
     "output_type": "stream",
     "text": [
      "     49/100         2G      1.083      1.719     0.6653      1.126          7        256: 100%|██████████| 197/197 [00:46<00:00,  4.28it/s]\n",
      "                 Class     Images  Instances      Box(P          R      mAP50  mAP50-95)     Mask(P          R      mAP50  mAP50-95): 100%|██████████| 25/25 [00:06<00:00,  4.12it/s]"
     ]
    },
    {
     "name": "stdout",
     "output_type": "stream",
     "text": [
      "                   all        786        292      0.914      0.764      0.847      0.581      0.898      0.723      0.792      0.501\n"
     ]
    },
    {
     "name": "stderr",
     "output_type": "stream",
     "text": [
      "\n"
     ]
    },
    {
     "name": "stdout",
     "output_type": "stream",
     "text": [
      "\n",
      "      Epoch    GPU_mem   box_loss   seg_loss   cls_loss   dfl_loss  Instances       Size\n"
     ]
    },
    {
     "name": "stderr",
     "output_type": "stream",
     "text": [
      "     50/100      1.97G      1.059      1.662       0.67      1.113          3        256: 100%|██████████| 197/197 [00:47<00:00,  4.18it/s]\n",
      "                 Class     Images  Instances      Box(P          R      mAP50  mAP50-95)     Mask(P          R      mAP50  mAP50-95): 100%|██████████| 25/25 [00:05<00:00,  4.18it/s]"
     ]
    },
    {
     "name": "stdout",
     "output_type": "stream",
     "text": [
      "                   all        786        292      0.853      0.781      0.849      0.592      0.901      0.719      0.813      0.521\n"
     ]
    },
    {
     "name": "stderr",
     "output_type": "stream",
     "text": [
      "\n"
     ]
    },
    {
     "name": "stdout",
     "output_type": "stream",
     "text": [
      "\n",
      "      Epoch    GPU_mem   box_loss   seg_loss   cls_loss   dfl_loss  Instances       Size\n"
     ]
    },
    {
     "name": "stderr",
     "output_type": "stream",
     "text": [
      "     51/100      1.99G       1.04      1.717     0.6436      1.102          3        256: 100%|██████████| 197/197 [00:46<00:00,  4.21it/s]\n",
      "                 Class     Images  Instances      Box(P          R      mAP50  mAP50-95)     Mask(P          R      mAP50  mAP50-95): 100%|██████████| 25/25 [00:06<00:00,  4.08it/s]"
     ]
    },
    {
     "name": "stdout",
     "output_type": "stream",
     "text": [
      "                   all        786        292       0.93      0.747      0.835      0.595      0.904      0.726      0.804      0.508\n"
     ]
    },
    {
     "name": "stderr",
     "output_type": "stream",
     "text": [
      "\n"
     ]
    },
    {
     "name": "stdout",
     "output_type": "stream",
     "text": [
      "\n",
      "      Epoch    GPU_mem   box_loss   seg_loss   cls_loss   dfl_loss  Instances       Size\n"
     ]
    },
    {
     "name": "stderr",
     "output_type": "stream",
     "text": [
      "     52/100      1.99G      1.023       1.64     0.6344        1.1          5        256: 100%|██████████| 197/197 [00:46<00:00,  4.20it/s]\n",
      "                 Class     Images  Instances      Box(P          R      mAP50  mAP50-95)     Mask(P          R      mAP50  mAP50-95): 100%|██████████| 25/25 [00:05<00:00,  4.20it/s]"
     ]
    },
    {
     "name": "stdout",
     "output_type": "stream",
     "text": [
      "                   all        786        292      0.903      0.764      0.855      0.599      0.891      0.755      0.827      0.502\n"
     ]
    },
    {
     "name": "stderr",
     "output_type": "stream",
     "text": [
      "\n"
     ]
    },
    {
     "name": "stdout",
     "output_type": "stream",
     "text": [
      "\n",
      "      Epoch    GPU_mem   box_loss   seg_loss   cls_loss   dfl_loss  Instances       Size\n"
     ]
    },
    {
     "name": "stderr",
     "output_type": "stream",
     "text": [
      "     53/100      2.03G      1.042       1.73     0.6394      1.104          4        256: 100%|██████████| 197/197 [00:46<00:00,  4.27it/s]\n",
      "                 Class     Images  Instances      Box(P          R      mAP50  mAP50-95)     Mask(P          R      mAP50  mAP50-95): 100%|██████████| 25/25 [00:05<00:00,  4.19it/s]"
     ]
    },
    {
     "name": "stdout",
     "output_type": "stream",
     "text": [
      "                   all        786        292       0.88       0.78      0.856      0.592      0.853      0.756      0.822      0.502\n"
     ]
    },
    {
     "name": "stderr",
     "output_type": "stream",
     "text": [
      "\n"
     ]
    },
    {
     "name": "stdout",
     "output_type": "stream",
     "text": [
      "\n",
      "      Epoch    GPU_mem   box_loss   seg_loss   cls_loss   dfl_loss  Instances       Size\n"
     ]
    },
    {
     "name": "stderr",
     "output_type": "stream",
     "text": [
      "     54/100      1.98G      1.004      1.641     0.6382      1.079          3        256: 100%|██████████| 197/197 [00:46<00:00,  4.22it/s]\n",
      "                 Class     Images  Instances      Box(P          R      mAP50  mAP50-95)     Mask(P          R      mAP50  mAP50-95): 100%|██████████| 25/25 [00:05<00:00,  4.21it/s]"
     ]
    },
    {
     "name": "stdout",
     "output_type": "stream",
     "text": [
      "                   all        786        292      0.894      0.753      0.838      0.599      0.874      0.736      0.805      0.514\n"
     ]
    },
    {
     "name": "stderr",
     "output_type": "stream",
     "text": [
      "\n"
     ]
    },
    {
     "name": "stdout",
     "output_type": "stream",
     "text": [
      "\n",
      "      Epoch    GPU_mem   box_loss   seg_loss   cls_loss   dfl_loss  Instances       Size\n"
     ]
    },
    {
     "name": "stderr",
     "output_type": "stream",
     "text": [
      "     55/100      1.99G      1.008      1.651     0.6323      1.077          5        256: 100%|██████████| 197/197 [00:46<00:00,  4.26it/s]\n",
      "                 Class     Images  Instances      Box(P          R      mAP50  mAP50-95)     Mask(P          R      mAP50  mAP50-95): 100%|██████████| 25/25 [00:05<00:00,  4.19it/s]"
     ]
    },
    {
     "name": "stdout",
     "output_type": "stream",
     "text": [
      "                   all        786        292      0.909      0.754      0.857      0.598      0.914      0.729      0.821      0.529\n"
     ]
    },
    {
     "name": "stderr",
     "output_type": "stream",
     "text": [
      "\n"
     ]
    },
    {
     "name": "stdout",
     "output_type": "stream",
     "text": [
      "\n",
      "      Epoch    GPU_mem   box_loss   seg_loss   cls_loss   dfl_loss  Instances       Size\n"
     ]
    },
    {
     "name": "stderr",
     "output_type": "stream",
     "text": [
      "     56/100      1.99G      1.017      1.605     0.6222      1.075         10        256: 100%|██████████| 197/197 [00:46<00:00,  4.28it/s]\n",
      "                 Class     Images  Instances      Box(P          R      mAP50  mAP50-95)     Mask(P          R      mAP50  mAP50-95): 100%|██████████| 25/25 [00:06<00:00,  4.16it/s]"
     ]
    },
    {
     "name": "stdout",
     "output_type": "stream",
     "text": [
      "                   all        786        292      0.899      0.762      0.856      0.602      0.889      0.729      0.824      0.527\n"
     ]
    },
    {
     "name": "stderr",
     "output_type": "stream",
     "text": [
      "\n"
     ]
    },
    {
     "name": "stdout",
     "output_type": "stream",
     "text": [
      "\n",
      "      Epoch    GPU_mem   box_loss   seg_loss   cls_loss   dfl_loss  Instances       Size\n"
     ]
    },
    {
     "name": "stderr",
     "output_type": "stream",
     "text": [
      "     57/100      1.99G      1.022      1.633     0.6206      1.081          5        256: 100%|██████████| 197/197 [00:45<00:00,  4.31it/s]\n",
      "                 Class     Images  Instances      Box(P          R      mAP50  mAP50-95)     Mask(P          R      mAP50  mAP50-95): 100%|██████████| 25/25 [00:05<00:00,  4.18it/s]"
     ]
    },
    {
     "name": "stdout",
     "output_type": "stream",
     "text": [
      "                   all        786        292      0.892      0.767      0.856      0.609       0.88      0.751      0.812      0.524\n"
     ]
    },
    {
     "name": "stderr",
     "output_type": "stream",
     "text": [
      "\n"
     ]
    },
    {
     "name": "stdout",
     "output_type": "stream",
     "text": [
      "\n",
      "      Epoch    GPU_mem   box_loss   seg_loss   cls_loss   dfl_loss  Instances       Size\n"
     ]
    },
    {
     "name": "stderr",
     "output_type": "stream",
     "text": [
      "     58/100      1.97G          1      1.615     0.6038      1.068          2        256: 100%|██████████| 197/197 [00:47<00:00,  4.19it/s]\n",
      "                 Class     Images  Instances      Box(P          R      mAP50  mAP50-95)     Mask(P          R      mAP50  mAP50-95): 100%|██████████| 25/25 [00:06<00:00,  4.14it/s]"
     ]
    },
    {
     "name": "stdout",
     "output_type": "stream",
     "text": [
      "                   all        786        292      0.914      0.747       0.85      0.604      0.914      0.747      0.833      0.526\n"
     ]
    },
    {
     "name": "stderr",
     "output_type": "stream",
     "text": [
      "\n"
     ]
    },
    {
     "name": "stdout",
     "output_type": "stream",
     "text": [
      "\n",
      "      Epoch    GPU_mem   box_loss   seg_loss   cls_loss   dfl_loss  Instances       Size\n"
     ]
    },
    {
     "name": "stderr",
     "output_type": "stream",
     "text": [
      "     59/100      1.99G     0.9854      1.597     0.6059      1.065          7        256: 100%|██████████| 197/197 [00:46<00:00,  4.26it/s]\n",
      "                 Class     Images  Instances      Box(P          R      mAP50  mAP50-95)     Mask(P          R      mAP50  mAP50-95): 100%|██████████| 25/25 [00:06<00:00,  4.15it/s]"
     ]
    },
    {
     "name": "stdout",
     "output_type": "stream",
     "text": [
      "                   all        786        292      0.896      0.791      0.853      0.609       0.92      0.729      0.822      0.529\n"
     ]
    },
    {
     "name": "stderr",
     "output_type": "stream",
     "text": [
      "\n"
     ]
    },
    {
     "name": "stdout",
     "output_type": "stream",
     "text": [
      "\n",
      "      Epoch    GPU_mem   box_loss   seg_loss   cls_loss   dfl_loss  Instances       Size\n"
     ]
    },
    {
     "name": "stderr",
     "output_type": "stream",
     "text": [
      "     60/100      1.99G     0.9538      1.579     0.5951      1.075          8        256: 100%|██████████| 197/197 [00:46<00:00,  4.23it/s]\n",
      "                 Class     Images  Instances      Box(P          R      mAP50  mAP50-95)     Mask(P          R      mAP50  mAP50-95): 100%|██████████| 25/25 [00:05<00:00,  4.18it/s]"
     ]
    },
    {
     "name": "stdout",
     "output_type": "stream",
     "text": [
      "                   all        786        292      0.959      0.757      0.861      0.617      0.941       0.74      0.832       0.53\n"
     ]
    },
    {
     "name": "stderr",
     "output_type": "stream",
     "text": [
      "\n"
     ]
    },
    {
     "name": "stdout",
     "output_type": "stream",
     "text": [
      "\n",
      "      Epoch    GPU_mem   box_loss   seg_loss   cls_loss   dfl_loss  Instances       Size\n"
     ]
    },
    {
     "name": "stderr",
     "output_type": "stream",
     "text": [
      "     61/100      1.99G     0.9743      1.602     0.6004      1.069          4        256: 100%|██████████| 197/197 [00:47<00:00,  4.19it/s]\n",
      "                 Class     Images  Instances      Box(P          R      mAP50  mAP50-95)     Mask(P          R      mAP50  mAP50-95): 100%|██████████| 25/25 [00:05<00:00,  4.18it/s]"
     ]
    },
    {
     "name": "stdout",
     "output_type": "stream",
     "text": [
      "                   all        786        292      0.925       0.76      0.865      0.617      0.907      0.737      0.834      0.523\n"
     ]
    },
    {
     "name": "stderr",
     "output_type": "stream",
     "text": [
      "\n"
     ]
    },
    {
     "name": "stdout",
     "output_type": "stream",
     "text": [
      "\n",
      "      Epoch    GPU_mem   box_loss   seg_loss   cls_loss   dfl_loss  Instances       Size\n"
     ]
    },
    {
     "name": "stderr",
     "output_type": "stream",
     "text": [
      "     62/100      1.98G     0.9806      1.608     0.5933      1.069          6        256: 100%|██████████| 197/197 [00:46<00:00,  4.22it/s]\n",
      "                 Class     Images  Instances      Box(P          R      mAP50  mAP50-95)     Mask(P          R      mAP50  mAP50-95): 100%|██████████| 25/25 [00:05<00:00,  4.19it/s]"
     ]
    },
    {
     "name": "stdout",
     "output_type": "stream",
     "text": [
      "                   all        786        292      0.922      0.764      0.871      0.615      0.915      0.753      0.849      0.529\n"
     ]
    },
    {
     "name": "stderr",
     "output_type": "stream",
     "text": [
      "\n"
     ]
    },
    {
     "name": "stdout",
     "output_type": "stream",
     "text": [
      "\n",
      "      Epoch    GPU_mem   box_loss   seg_loss   cls_loss   dfl_loss  Instances       Size\n"
     ]
    },
    {
     "name": "stderr",
     "output_type": "stream",
     "text": [
      "     63/100      1.99G     0.9887      1.597     0.6133      1.082          2        256: 100%|██████████| 197/197 [00:47<00:00,  4.17it/s]\n",
      "                 Class     Images  Instances      Box(P          R      mAP50  mAP50-95)     Mask(P          R      mAP50  mAP50-95): 100%|██████████| 25/25 [00:05<00:00,  4.21it/s]"
     ]
    },
    {
     "name": "stdout",
     "output_type": "stream",
     "text": [
      "                   all        786        292      0.921      0.756      0.868      0.605      0.901      0.736      0.832      0.536\n"
     ]
    },
    {
     "name": "stderr",
     "output_type": "stream",
     "text": [
      "\n"
     ]
    },
    {
     "name": "stdout",
     "output_type": "stream",
     "text": [
      "\n",
      "      Epoch    GPU_mem   box_loss   seg_loss   cls_loss   dfl_loss  Instances       Size\n"
     ]
    },
    {
     "name": "stderr",
     "output_type": "stream",
     "text": [
      "     64/100      1.99G      1.011      1.649      0.624      1.081          4        256: 100%|██████████| 197/197 [00:47<00:00,  4.17it/s]\n",
      "                 Class     Images  Instances      Box(P          R      mAP50  mAP50-95)     Mask(P          R      mAP50  mAP50-95): 100%|██████████| 25/25 [00:05<00:00,  4.21it/s]"
     ]
    },
    {
     "name": "stdout",
     "output_type": "stream",
     "text": [
      "                   all        786        292      0.918      0.771      0.865      0.614      0.854      0.781      0.838      0.533\n"
     ]
    },
    {
     "name": "stderr",
     "output_type": "stream",
     "text": [
      "\n"
     ]
    },
    {
     "name": "stdout",
     "output_type": "stream",
     "text": [
      "\n",
      "      Epoch    GPU_mem   box_loss   seg_loss   cls_loss   dfl_loss  Instances       Size\n"
     ]
    },
    {
     "name": "stderr",
     "output_type": "stream",
     "text": [
      "     65/100      1.99G     0.9604      1.556     0.5869      1.066          3        256: 100%|██████████| 197/197 [00:46<00:00,  4.25it/s]\n",
      "                 Class     Images  Instances      Box(P          R      mAP50  mAP50-95)     Mask(P          R      mAP50  mAP50-95): 100%|██████████| 25/25 [00:05<00:00,  4.23it/s]"
     ]
    },
    {
     "name": "stdout",
     "output_type": "stream",
     "text": [
      "                   all        786        292      0.937      0.757      0.856      0.606      0.928      0.745      0.842      0.536\n"
     ]
    },
    {
     "name": "stderr",
     "output_type": "stream",
     "text": [
      "\n"
     ]
    },
    {
     "name": "stdout",
     "output_type": "stream",
     "text": [
      "\n",
      "      Epoch    GPU_mem   box_loss   seg_loss   cls_loss   dfl_loss  Instances       Size\n"
     ]
    },
    {
     "name": "stderr",
     "output_type": "stream",
     "text": [
      "     66/100      1.99G      1.007      1.567     0.5872      1.065          7        256: 100%|██████████| 197/197 [00:46<00:00,  4.21it/s]\n",
      "                 Class     Images  Instances      Box(P          R      mAP50  mAP50-95)     Mask(P          R      mAP50  mAP50-95): 100%|██████████| 25/25 [00:05<00:00,  4.21it/s]"
     ]
    },
    {
     "name": "stdout",
     "output_type": "stream",
     "text": [
      "                   all        786        292      0.864      0.785      0.857      0.614      0.857       0.78      0.839      0.534\n"
     ]
    },
    {
     "name": "stderr",
     "output_type": "stream",
     "text": [
      "\n"
     ]
    },
    {
     "name": "stdout",
     "output_type": "stream",
     "text": [
      "\n",
      "      Epoch    GPU_mem   box_loss   seg_loss   cls_loss   dfl_loss  Instances       Size\n"
     ]
    },
    {
     "name": "stderr",
     "output_type": "stream",
     "text": [
      "     67/100      1.99G     0.9779       1.59     0.5756      1.088          7        256: 100%|██████████| 197/197 [00:46<00:00,  4.25it/s]\n",
      "                 Class     Images  Instances      Box(P          R      mAP50  mAP50-95)     Mask(P          R      mAP50  mAP50-95): 100%|██████████| 25/25 [00:05<00:00,  4.19it/s]"
     ]
    },
    {
     "name": "stdout",
     "output_type": "stream",
     "text": [
      "                   all        786        292      0.866      0.795      0.874      0.632      0.919      0.735      0.857      0.548\n"
     ]
    },
    {
     "name": "stderr",
     "output_type": "stream",
     "text": [
      "\n"
     ]
    },
    {
     "name": "stdout",
     "output_type": "stream",
     "text": [
      "\n",
      "      Epoch    GPU_mem   box_loss   seg_loss   cls_loss   dfl_loss  Instances       Size\n"
     ]
    },
    {
     "name": "stderr",
     "output_type": "stream",
     "text": [
      "     68/100      1.99G     0.9593      1.541     0.5703       1.05          5        256: 100%|██████████| 197/197 [00:46<00:00,  4.19it/s]\n",
      "                 Class     Images  Instances      Box(P          R      mAP50  mAP50-95)     Mask(P          R      mAP50  mAP50-95): 100%|██████████| 25/25 [00:05<00:00,  4.23it/s]"
     ]
    },
    {
     "name": "stdout",
     "output_type": "stream",
     "text": [
      "                   all        786        292      0.897      0.778      0.863      0.618      0.916       0.74      0.832      0.541\n"
     ]
    },
    {
     "name": "stderr",
     "output_type": "stream",
     "text": [
      "\n"
     ]
    },
    {
     "name": "stdout",
     "output_type": "stream",
     "text": [
      "\n",
      "      Epoch    GPU_mem   box_loss   seg_loss   cls_loss   dfl_loss  Instances       Size\n"
     ]
    },
    {
     "name": "stderr",
     "output_type": "stream",
     "text": [
      "     69/100      1.99G     0.9697      1.605     0.5622      1.067          7        256: 100%|██████████| 197/197 [00:47<00:00,  4.19it/s]\n",
      "                 Class     Images  Instances      Box(P          R      mAP50  mAP50-95)     Mask(P          R      mAP50  mAP50-95): 100%|██████████| 25/25 [00:05<00:00,  4.20it/s]"
     ]
    },
    {
     "name": "stdout",
     "output_type": "stream",
     "text": [
      "                   all        786        292      0.874      0.801      0.863      0.609      0.848      0.777      0.823      0.543\n"
     ]
    },
    {
     "name": "stderr",
     "output_type": "stream",
     "text": [
      "\n"
     ]
    },
    {
     "name": "stdout",
     "output_type": "stream",
     "text": [
      "\n",
      "      Epoch    GPU_mem   box_loss   seg_loss   cls_loss   dfl_loss  Instances       Size\n"
     ]
    },
    {
     "name": "stderr",
     "output_type": "stream",
     "text": [
      "     70/100      1.98G     0.9443      1.527     0.5558      1.047          7        256: 100%|██████████| 197/197 [00:46<00:00,  4.21it/s]\n",
      "                 Class     Images  Instances      Box(P          R      mAP50  mAP50-95)     Mask(P          R      mAP50  mAP50-95): 100%|██████████| 25/25 [00:05<00:00,  4.19it/s]"
     ]
    },
    {
     "name": "stdout",
     "output_type": "stream",
     "text": [
      "                   all        786        292      0.876      0.795      0.867      0.614      0.923      0.716      0.829      0.537\n"
     ]
    },
    {
     "name": "stderr",
     "output_type": "stream",
     "text": [
      "\n"
     ]
    },
    {
     "name": "stdout",
     "output_type": "stream",
     "text": [
      "\n",
      "      Epoch    GPU_mem   box_loss   seg_loss   cls_loss   dfl_loss  Instances       Size\n"
     ]
    },
    {
     "name": "stderr",
     "output_type": "stream",
     "text": [
      "     71/100         2G     0.9348      1.524      0.546       1.05          9        256: 100%|██████████| 197/197 [00:46<00:00,  4.21it/s]\n",
      "                 Class     Images  Instances      Box(P          R      mAP50  mAP50-95)     Mask(P          R      mAP50  mAP50-95): 100%|██████████| 25/25 [00:05<00:00,  4.18it/s]"
     ]
    },
    {
     "name": "stdout",
     "output_type": "stream",
     "text": [
      "                   all        786        292      0.914      0.774      0.869       0.62      0.898       0.76      0.842       0.54\n"
     ]
    },
    {
     "name": "stderr",
     "output_type": "stream",
     "text": [
      "\n"
     ]
    },
    {
     "name": "stdout",
     "output_type": "stream",
     "text": [
      "\n",
      "      Epoch    GPU_mem   box_loss   seg_loss   cls_loss   dfl_loss  Instances       Size\n"
     ]
    },
    {
     "name": "stderr",
     "output_type": "stream",
     "text": [
      "     72/100         2G     0.9307      1.515      0.543      1.024          4        256: 100%|██████████| 197/197 [00:46<00:00,  4.20it/s]\n",
      "                 Class     Images  Instances      Box(P          R      mAP50  mAP50-95)     Mask(P          R      mAP50  mAP50-95): 100%|██████████| 25/25 [00:05<00:00,  4.21it/s]"
     ]
    },
    {
     "name": "stdout",
     "output_type": "stream",
     "text": [
      "                   all        786        292      0.928       0.76      0.874      0.629      0.932       0.75      0.859      0.548\n"
     ]
    },
    {
     "name": "stderr",
     "output_type": "stream",
     "text": [
      "\n"
     ]
    },
    {
     "name": "stdout",
     "output_type": "stream",
     "text": [
      "\n",
      "      Epoch    GPU_mem   box_loss   seg_loss   cls_loss   dfl_loss  Instances       Size\n"
     ]
    },
    {
     "name": "stderr",
     "output_type": "stream",
     "text": [
      "     73/100      1.99G     0.9306      1.523     0.5382      1.039          2        256: 100%|██████████| 197/197 [00:47<00:00,  4.19it/s]\n",
      "                 Class     Images  Instances      Box(P          R      mAP50  mAP50-95)     Mask(P          R      mAP50  mAP50-95): 100%|██████████| 25/25 [00:05<00:00,  4.18it/s]"
     ]
    },
    {
     "name": "stdout",
     "output_type": "stream",
     "text": [
      "                   all        786        292       0.88      0.774      0.872      0.626      0.932      0.723      0.835      0.538\n"
     ]
    },
    {
     "name": "stderr",
     "output_type": "stream",
     "text": [
      "\n"
     ]
    },
    {
     "name": "stdout",
     "output_type": "stream",
     "text": [
      "\n",
      "      Epoch    GPU_mem   box_loss   seg_loss   cls_loss   dfl_loss  Instances       Size\n"
     ]
    },
    {
     "name": "stderr",
     "output_type": "stream",
     "text": [
      "     74/100      1.97G     0.9137      1.531     0.5313      1.054          5        256: 100%|██████████| 197/197 [00:46<00:00,  4.24it/s]\n",
      "                 Class     Images  Instances      Box(P          R      mAP50  mAP50-95)     Mask(P          R      mAP50  mAP50-95): 100%|██████████| 25/25 [00:06<00:00,  4.15it/s]"
     ]
    },
    {
     "name": "stdout",
     "output_type": "stream",
     "text": [
      "                   all        786        292      0.896      0.771      0.862      0.617      0.913      0.743      0.831      0.535\n"
     ]
    },
    {
     "name": "stderr",
     "output_type": "stream",
     "text": [
      "\n"
     ]
    },
    {
     "name": "stdout",
     "output_type": "stream",
     "text": [
      "\n",
      "      Epoch    GPU_mem   box_loss   seg_loss   cls_loss   dfl_loss  Instances       Size\n"
     ]
    },
    {
     "name": "stderr",
     "output_type": "stream",
     "text": [
      "     75/100      1.99G     0.9482      1.543      0.563      1.051          7        256: 100%|██████████| 197/197 [00:46<00:00,  4.24it/s]\n",
      "                 Class     Images  Instances      Box(P          R      mAP50  mAP50-95)     Mask(P          R      mAP50  mAP50-95): 100%|██████████| 25/25 [00:05<00:00,  4.23it/s]"
     ]
    },
    {
     "name": "stdout",
     "output_type": "stream",
     "text": [
      "                   all        786        292      0.929      0.766      0.867      0.622      0.909      0.749      0.834      0.536\n"
     ]
    },
    {
     "name": "stderr",
     "output_type": "stream",
     "text": [
      "\n"
     ]
    },
    {
     "name": "stdout",
     "output_type": "stream",
     "text": [
      "\n",
      "      Epoch    GPU_mem   box_loss   seg_loss   cls_loss   dfl_loss  Instances       Size\n"
     ]
    },
    {
     "name": "stderr",
     "output_type": "stream",
     "text": [
      "     76/100         2G     0.9251      1.535     0.5624      1.053          2        256: 100%|██████████| 197/197 [00:46<00:00,  4.25it/s]\n",
      "                 Class     Images  Instances      Box(P          R      mAP50  mAP50-95)     Mask(P          R      mAP50  mAP50-95): 100%|██████████| 25/25 [00:05<00:00,  4.19it/s]"
     ]
    },
    {
     "name": "stdout",
     "output_type": "stream",
     "text": [
      "                   all        786        292      0.904      0.744      0.855      0.615      0.901      0.729      0.827      0.524\n"
     ]
    },
    {
     "name": "stderr",
     "output_type": "stream",
     "text": [
      "\n"
     ]
    },
    {
     "name": "stdout",
     "output_type": "stream",
     "text": [
      "\n",
      "      Epoch    GPU_mem   box_loss   seg_loss   cls_loss   dfl_loss  Instances       Size\n"
     ]
    },
    {
     "name": "stderr",
     "output_type": "stream",
     "text": [
      "     77/100         2G     0.9456       1.54     0.5497      1.053          4        256: 100%|██████████| 197/197 [00:47<00:00,  4.18it/s]\n",
      "                 Class     Images  Instances      Box(P          R      mAP50  mAP50-95)     Mask(P          R      mAP50  mAP50-95): 100%|██████████| 25/25 [00:05<00:00,  4.20it/s]"
     ]
    },
    {
     "name": "stdout",
     "output_type": "stream",
     "text": [
      "                   all        786        292      0.914      0.781      0.866      0.623      0.894      0.764      0.837      0.535\n"
     ]
    },
    {
     "name": "stderr",
     "output_type": "stream",
     "text": [
      "\n"
     ]
    },
    {
     "name": "stdout",
     "output_type": "stream",
     "text": [
      "\n",
      "      Epoch    GPU_mem   box_loss   seg_loss   cls_loss   dfl_loss  Instances       Size\n"
     ]
    },
    {
     "name": "stderr",
     "output_type": "stream",
     "text": [
      "     78/100      1.98G     0.9102      1.509     0.5473      1.038          5        256: 100%|██████████| 197/197 [00:46<00:00,  4.24it/s]\n",
      "                 Class     Images  Instances      Box(P          R      mAP50  mAP50-95)     Mask(P          R      mAP50  mAP50-95): 100%|██████████| 25/25 [00:05<00:00,  4.20it/s]"
     ]
    },
    {
     "name": "stdout",
     "output_type": "stream",
     "text": [
      "                   all        786        292      0.921       0.76      0.859      0.616      0.903      0.743      0.827      0.531\n"
     ]
    },
    {
     "name": "stderr",
     "output_type": "stream",
     "text": [
      "\n"
     ]
    },
    {
     "name": "stdout",
     "output_type": "stream",
     "text": [
      "\n",
      "      Epoch    GPU_mem   box_loss   seg_loss   cls_loss   dfl_loss  Instances       Size\n"
     ]
    },
    {
     "name": "stderr",
     "output_type": "stream",
     "text": [
      "     79/100         2G     0.9019      1.521       0.53       1.01          5        256: 100%|██████████| 197/197 [00:46<00:00,  4.19it/s]\n",
      "                 Class     Images  Instances      Box(P          R      mAP50  mAP50-95)     Mask(P          R      mAP50  mAP50-95): 100%|██████████| 25/25 [00:05<00:00,  4.17it/s]"
     ]
    },
    {
     "name": "stdout",
     "output_type": "stream",
     "text": [
      "                   all        786        292      0.917      0.781      0.876      0.628      0.893       0.76      0.841      0.542\n"
     ]
    },
    {
     "name": "stderr",
     "output_type": "stream",
     "text": [
      "\n"
     ]
    },
    {
     "name": "stdout",
     "output_type": "stream",
     "text": [
      "\n",
      "      Epoch    GPU_mem   box_loss   seg_loss   cls_loss   dfl_loss  Instances       Size\n"
     ]
    },
    {
     "name": "stderr",
     "output_type": "stream",
     "text": [
      "     80/100      1.99G     0.9108      1.544     0.5341      1.041          6        256: 100%|██████████| 197/197 [00:46<00:00,  4.19it/s]\n",
      "                 Class     Images  Instances      Box(P          R      mAP50  mAP50-95)     Mask(P          R      mAP50  mAP50-95): 100%|██████████| 25/25 [00:05<00:00,  4.21it/s]"
     ]
    },
    {
     "name": "stdout",
     "output_type": "stream",
     "text": [
      "                   all        786        292      0.898      0.783      0.871      0.632      0.887      0.776      0.852      0.546\n"
     ]
    },
    {
     "name": "stderr",
     "output_type": "stream",
     "text": [
      "\n"
     ]
    },
    {
     "name": "stdout",
     "output_type": "stream",
     "text": [
      "\n",
      "      Epoch    GPU_mem   box_loss   seg_loss   cls_loss   dfl_loss  Instances       Size\n"
     ]
    },
    {
     "name": "stderr",
     "output_type": "stream",
     "text": [
      "     81/100         2G     0.9064      1.478     0.5092       1.04          2        256: 100%|██████████| 197/197 [00:46<00:00,  4.24it/s]\n",
      "                 Class     Images  Instances      Box(P          R      mAP50  mAP50-95)     Mask(P          R      mAP50  mAP50-95): 100%|██████████| 25/25 [00:05<00:00,  4.22it/s]"
     ]
    },
    {
     "name": "stdout",
     "output_type": "stream",
     "text": [
      "                   all        786        292      0.914      0.774      0.874      0.636      0.906      0.767      0.862      0.552\n"
     ]
    },
    {
     "name": "stderr",
     "output_type": "stream",
     "text": [
      "\n"
     ]
    },
    {
     "name": "stdout",
     "output_type": "stream",
     "text": [
      "\n",
      "      Epoch    GPU_mem   box_loss   seg_loss   cls_loss   dfl_loss  Instances       Size\n"
     ]
    },
    {
     "name": "stderr",
     "output_type": "stream",
     "text": [
      "     82/100      1.98G      0.896      1.504     0.5171      1.039          9        256: 100%|██████████| 197/197 [00:46<00:00,  4.22it/s]\n",
      "                 Class     Images  Instances      Box(P          R      mAP50  mAP50-95)     Mask(P          R      mAP50  mAP50-95): 100%|██████████| 25/25 [00:05<00:00,  4.23it/s]"
     ]
    },
    {
     "name": "stdout",
     "output_type": "stream",
     "text": [
      "                   all        786        292      0.925      0.784      0.883      0.634      0.917       0.76      0.842      0.543\n"
     ]
    },
    {
     "name": "stderr",
     "output_type": "stream",
     "text": [
      "\n"
     ]
    },
    {
     "name": "stdout",
     "output_type": "stream",
     "text": [
      "\n",
      "      Epoch    GPU_mem   box_loss   seg_loss   cls_loss   dfl_loss  Instances       Size\n"
     ]
    },
    {
     "name": "stderr",
     "output_type": "stream",
     "text": [
      "     83/100      1.99G     0.9335      1.515     0.5375      1.042          6        256: 100%|██████████| 197/197 [00:46<00:00,  4.27it/s]\n",
      "                 Class     Images  Instances      Box(P          R      mAP50  mAP50-95)     Mask(P          R      mAP50  mAP50-95): 100%|██████████| 25/25 [00:05<00:00,  4.22it/s]"
     ]
    },
    {
     "name": "stdout",
     "output_type": "stream",
     "text": [
      "                   all        786        292      0.928      0.774      0.872      0.638       0.92      0.767      0.847       0.55\n"
     ]
    },
    {
     "name": "stderr",
     "output_type": "stream",
     "text": [
      "\n"
     ]
    },
    {
     "name": "stdout",
     "output_type": "stream",
     "text": [
      "\n",
      "      Epoch    GPU_mem   box_loss   seg_loss   cls_loss   dfl_loss  Instances       Size\n"
     ]
    },
    {
     "name": "stderr",
     "output_type": "stream",
     "text": [
      "     84/100         2G     0.8844      1.464     0.5192      1.029          5        256: 100%|██████████| 197/197 [00:46<00:00,  4.27it/s]\n",
      "                 Class     Images  Instances      Box(P          R      mAP50  mAP50-95)     Mask(P          R      mAP50  mAP50-95): 100%|██████████| 25/25 [00:05<00:00,  4.21it/s]"
     ]
    },
    {
     "name": "stdout",
     "output_type": "stream",
     "text": [
      "                   all        786        292      0.851      0.829      0.869      0.625      0.921      0.747      0.831      0.544\n"
     ]
    },
    {
     "name": "stderr",
     "output_type": "stream",
     "text": [
      "\n"
     ]
    },
    {
     "name": "stdout",
     "output_type": "stream",
     "text": [
      "\n",
      "      Epoch    GPU_mem   box_loss   seg_loss   cls_loss   dfl_loss  Instances       Size\n"
     ]
    },
    {
     "name": "stderr",
     "output_type": "stream",
     "text": [
      "     85/100      1.99G     0.8857      1.448     0.4989      1.032          4        256: 100%|██████████| 197/197 [00:46<00:00,  4.24it/s]\n",
      "                 Class     Images  Instances      Box(P          R      mAP50  mAP50-95)     Mask(P          R      mAP50  mAP50-95): 100%|██████████| 25/25 [00:05<00:00,  4.22it/s]"
     ]
    },
    {
     "name": "stdout",
     "output_type": "stream",
     "text": [
      "                   all        786        292      0.915      0.795       0.87      0.632      0.899      0.763      0.845       0.54\n"
     ]
    },
    {
     "name": "stderr",
     "output_type": "stream",
     "text": [
      "\n"
     ]
    },
    {
     "name": "stdout",
     "output_type": "stream",
     "text": [
      "\n",
      "      Epoch    GPU_mem   box_loss   seg_loss   cls_loss   dfl_loss  Instances       Size\n"
     ]
    },
    {
     "name": "stderr",
     "output_type": "stream",
     "text": [
      "     86/100      1.99G     0.8731      1.466      0.508      1.026          8        256: 100%|██████████| 197/197 [00:46<00:00,  4.23it/s]\n",
      "                 Class     Images  Instances      Box(P          R      mAP50  mAP50-95)     Mask(P          R      mAP50  mAP50-95): 100%|██████████| 25/25 [00:05<00:00,  4.21it/s]"
     ]
    },
    {
     "name": "stdout",
     "output_type": "stream",
     "text": [
      "                   all        786        292      0.909      0.786      0.869      0.637      0.918       0.77       0.85      0.537\n"
     ]
    },
    {
     "name": "stderr",
     "output_type": "stream",
     "text": [
      "\n"
     ]
    },
    {
     "name": "stdout",
     "output_type": "stream",
     "text": [
      "\n",
      "      Epoch    GPU_mem   box_loss   seg_loss   cls_loss   dfl_loss  Instances       Size\n"
     ]
    },
    {
     "name": "stderr",
     "output_type": "stream",
     "text": [
      "     87/100         2G     0.8734      1.494     0.5107      1.017          2        256: 100%|██████████| 197/197 [00:46<00:00,  4.25it/s]\n",
      "                 Class     Images  Instances      Box(P          R      mAP50  mAP50-95)     Mask(P          R      mAP50  mAP50-95): 100%|██████████| 25/25 [00:05<00:00,  4.20it/s]"
     ]
    },
    {
     "name": "stdout",
     "output_type": "stream",
     "text": [
      "                   all        786        292      0.905      0.774      0.878      0.643      0.923       0.75      0.844       0.54\n"
     ]
    },
    {
     "name": "stderr",
     "output_type": "stream",
     "text": [
      "\n"
     ]
    },
    {
     "name": "stdout",
     "output_type": "stream",
     "text": [
      "\n",
      "      Epoch    GPU_mem   box_loss   seg_loss   cls_loss   dfl_loss  Instances       Size\n"
     ]
    },
    {
     "name": "stderr",
     "output_type": "stream",
     "text": [
      "     88/100      1.99G     0.8905      1.459      0.519      1.028          5        256: 100%|██████████| 197/197 [00:45<00:00,  4.32it/s]\n",
      "                 Class     Images  Instances      Box(P          R      mAP50  mAP50-95)     Mask(P          R      mAP50  mAP50-95): 100%|██████████| 25/25 [00:05<00:00,  4.19it/s]"
     ]
    },
    {
     "name": "stdout",
     "output_type": "stream",
     "text": [
      "                   all        786        292      0.921       0.76      0.867      0.634      0.914       0.75      0.834      0.544\n"
     ]
    },
    {
     "name": "stderr",
     "output_type": "stream",
     "text": [
      "\n"
     ]
    },
    {
     "name": "stdout",
     "output_type": "stream",
     "text": [
      "\n",
      "      Epoch    GPU_mem   box_loss   seg_loss   cls_loss   dfl_loss  Instances       Size\n"
     ]
    },
    {
     "name": "stderr",
     "output_type": "stream",
     "text": [
      "     89/100      1.99G     0.9103      1.462     0.5249      1.028          7        256: 100%|██████████| 197/197 [00:46<00:00,  4.27it/s]\n",
      "                 Class     Images  Instances      Box(P          R      mAP50  mAP50-95)     Mask(P          R      mAP50  mAP50-95): 100%|██████████| 25/25 [00:05<00:00,  4.23it/s]"
     ]
    },
    {
     "name": "stdout",
     "output_type": "stream",
     "text": [
      "                   all        786        292      0.917      0.764      0.875      0.638      0.924      0.743      0.849      0.549\n"
     ]
    },
    {
     "name": "stderr",
     "output_type": "stream",
     "text": [
      "\n"
     ]
    },
    {
     "name": "stdout",
     "output_type": "stream",
     "text": [
      "\n",
      "      Epoch    GPU_mem   box_loss   seg_loss   cls_loss   dfl_loss  Instances       Size\n"
     ]
    },
    {
     "name": "stderr",
     "output_type": "stream",
     "text": [
      "     90/100      1.97G     0.8802      1.479     0.5053      1.017          3        256: 100%|██████████| 197/197 [00:46<00:00,  4.25it/s]\n",
      "                 Class     Images  Instances      Box(P          R      mAP50  mAP50-95)     Mask(P          R      mAP50  mAP50-95): 100%|██████████| 25/25 [00:05<00:00,  4.21it/s]"
     ]
    },
    {
     "name": "stdout",
     "output_type": "stream",
     "text": [
      "                   all        786        292      0.914       0.76      0.873      0.638      0.901       0.75      0.846      0.546\n"
     ]
    },
    {
     "name": "stderr",
     "output_type": "stream",
     "text": [
      "\n"
     ]
    },
    {
     "name": "stdout",
     "output_type": "stream",
     "text": [
      "Closing dataloader mosaic\n",
      "\n",
      "      Epoch    GPU_mem   box_loss   seg_loss   cls_loss   dfl_loss  Instances       Size\n"
     ]
    },
    {
     "name": "stderr",
     "output_type": "stream",
     "text": [
      "     91/100      1.99G     0.8669      1.498     0.4992      1.071          1        256: 100%|██████████| 197/197 [00:46<00:00,  4.21it/s]\n",
      "                 Class     Images  Instances      Box(P          R      mAP50  mAP50-95)     Mask(P          R      mAP50  mAP50-95): 100%|██████████| 25/25 [00:05<00:00,  4.24it/s]"
     ]
    },
    {
     "name": "stdout",
     "output_type": "stream",
     "text": [
      "                   all        786        292      0.877      0.805      0.876      0.632      0.931      0.747      0.853      0.546\n"
     ]
    },
    {
     "name": "stderr",
     "output_type": "stream",
     "text": [
      "\n"
     ]
    },
    {
     "name": "stdout",
     "output_type": "stream",
     "text": [
      "\n",
      "      Epoch    GPU_mem   box_loss   seg_loss   cls_loss   dfl_loss  Instances       Size\n"
     ]
    },
    {
     "name": "stderr",
     "output_type": "stream",
     "text": [
      "     92/100      1.99G     0.8535      1.454     0.4897      1.061          2        256: 100%|██████████| 197/197 [00:46<00:00,  4.25it/s]\n",
      "                 Class     Images  Instances      Box(P          R      mAP50  mAP50-95)     Mask(P          R      mAP50  mAP50-95): 100%|██████████| 25/25 [00:05<00:00,  4.23it/s]"
     ]
    },
    {
     "name": "stdout",
     "output_type": "stream",
     "text": [
      "                   all        786        292      0.888      0.795      0.877       0.64      0.924      0.753      0.857       0.55\n"
     ]
    },
    {
     "name": "stderr",
     "output_type": "stream",
     "text": [
      "\n"
     ]
    },
    {
     "name": "stdout",
     "output_type": "stream",
     "text": [
      "\n",
      "      Epoch    GPU_mem   box_loss   seg_loss   cls_loss   dfl_loss  Instances       Size\n"
     ]
    },
    {
     "name": "stderr",
     "output_type": "stream",
     "text": [
      "     93/100      1.99G     0.8583      1.452     0.4809      1.056          2        256: 100%|██████████| 197/197 [00:45<00:00,  4.34it/s]\n",
      "                 Class     Images  Instances      Box(P          R      mAP50  mAP50-95)     Mask(P          R      mAP50  mAP50-95): 100%|██████████| 25/25 [00:05<00:00,  4.23it/s]"
     ]
    },
    {
     "name": "stdout",
     "output_type": "stream",
     "text": [
      "                   all        786        292      0.889      0.795      0.879      0.639      0.879      0.772      0.847      0.552\n"
     ]
    },
    {
     "name": "stderr",
     "output_type": "stream",
     "text": [
      "\n"
     ]
    },
    {
     "name": "stdout",
     "output_type": "stream",
     "text": [
      "\n",
      "      Epoch    GPU_mem   box_loss   seg_loss   cls_loss   dfl_loss  Instances       Size\n"
     ]
    },
    {
     "name": "stderr",
     "output_type": "stream",
     "text": [
      "     94/100      1.97G     0.8263      1.434     0.4722      1.046          4        256: 100%|██████████| 197/197 [00:46<00:00,  4.22it/s]\n",
      "                 Class     Images  Instances      Box(P          R      mAP50  mAP50-95)     Mask(P          R      mAP50  mAP50-95): 100%|██████████| 25/25 [00:05<00:00,  4.22it/s]"
     ]
    },
    {
     "name": "stdout",
     "output_type": "stream",
     "text": [
      "                   all        786        292      0.902      0.791      0.884       0.64      0.918      0.757      0.857       0.55\n"
     ]
    },
    {
     "name": "stderr",
     "output_type": "stream",
     "text": [
      "\n"
     ]
    },
    {
     "name": "stdout",
     "output_type": "stream",
     "text": [
      "\n",
      "      Epoch    GPU_mem   box_loss   seg_loss   cls_loss   dfl_loss  Instances       Size\n"
     ]
    },
    {
     "name": "stderr",
     "output_type": "stream",
     "text": [
      "     95/100      1.98G     0.8404      1.437     0.4794      1.043          3        256: 100%|██████████| 197/197 [00:46<00:00,  4.28it/s]\n",
      "                 Class     Images  Instances      Box(P          R      mAP50  mAP50-95)     Mask(P          R      mAP50  mAP50-95): 100%|██████████| 25/25 [00:05<00:00,  4.23it/s]"
     ]
    },
    {
     "name": "stdout",
     "output_type": "stream",
     "text": [
      "                   all        786        292      0.932      0.777      0.879      0.639      0.915      0.764      0.851      0.554\n"
     ]
    },
    {
     "name": "stderr",
     "output_type": "stream",
     "text": [
      "\n"
     ]
    },
    {
     "name": "stdout",
     "output_type": "stream",
     "text": [
      "\n",
      "      Epoch    GPU_mem   box_loss   seg_loss   cls_loss   dfl_loss  Instances       Size\n"
     ]
    },
    {
     "name": "stderr",
     "output_type": "stream",
     "text": [
      "     96/100      1.99G     0.8343      1.426     0.4717      1.044          2        256: 100%|██████████| 197/197 [00:45<00:00,  4.37it/s]\n",
      "                 Class     Images  Instances      Box(P          R      mAP50  mAP50-95)     Mask(P          R      mAP50  mAP50-95): 100%|██████████| 25/25 [00:05<00:00,  4.25it/s]"
     ]
    },
    {
     "name": "stdout",
     "output_type": "stream",
     "text": [
      "                   all        786        292       0.86       0.82      0.883      0.647      0.925      0.755       0.86      0.562\n"
     ]
    },
    {
     "name": "stderr",
     "output_type": "stream",
     "text": [
      "\n"
     ]
    },
    {
     "name": "stdout",
     "output_type": "stream",
     "text": [
      "\n",
      "      Epoch    GPU_mem   box_loss   seg_loss   cls_loss   dfl_loss  Instances       Size\n"
     ]
    },
    {
     "name": "stderr",
     "output_type": "stream",
     "text": [
      "     97/100      1.98G     0.8193      1.414     0.4533      1.031          4        256: 100%|██████████| 197/197 [00:46<00:00,  4.27it/s]\n",
      "                 Class     Images  Instances      Box(P          R      mAP50  mAP50-95)     Mask(P          R      mAP50  mAP50-95): 100%|██████████| 25/25 [00:05<00:00,  4.23it/s]"
     ]
    },
    {
     "name": "stdout",
     "output_type": "stream",
     "text": [
      "                   all        786        292      0.896        0.8      0.885      0.652      0.886      0.775      0.859      0.557\n"
     ]
    },
    {
     "name": "stderr",
     "output_type": "stream",
     "text": [
      "\n"
     ]
    },
    {
     "name": "stdout",
     "output_type": "stream",
     "text": [
      "\n",
      "      Epoch    GPU_mem   box_loss   seg_loss   cls_loss   dfl_loss  Instances       Size\n"
     ]
    },
    {
     "name": "stderr",
     "output_type": "stream",
     "text": [
      "     98/100      1.99G      0.803      1.449      0.456      1.042          2        256: 100%|██████████| 197/197 [00:46<00:00,  4.26it/s]\n",
      "                 Class     Images  Instances      Box(P          R      mAP50  mAP50-95)     Mask(P          R      mAP50  mAP50-95): 100%|██████████| 25/25 [00:05<00:00,  4.23it/s]"
     ]
    },
    {
     "name": "stdout",
     "output_type": "stream",
     "text": [
      "                   all        786        292      0.892      0.795      0.882      0.647      0.897      0.777      0.856      0.552\n"
     ]
    },
    {
     "name": "stderr",
     "output_type": "stream",
     "text": [
      "\n"
     ]
    },
    {
     "name": "stdout",
     "output_type": "stream",
     "text": [
      "\n",
      "      Epoch    GPU_mem   box_loss   seg_loss   cls_loss   dfl_loss  Instances       Size\n"
     ]
    },
    {
     "name": "stderr",
     "output_type": "stream",
     "text": [
      "     99/100      1.99G     0.8253      1.431     0.4694      1.046          3        256: 100%|██████████| 197/197 [00:46<00:00,  4.25it/s]\n",
      "                 Class     Images  Instances      Box(P          R      mAP50  mAP50-95)     Mask(P          R      mAP50  mAP50-95): 100%|██████████| 25/25 [00:05<00:00,  4.21it/s]"
     ]
    },
    {
     "name": "stdout",
     "output_type": "stream",
     "text": [
      "                   all        786        292      0.893      0.795      0.884      0.651      0.893      0.773      0.857      0.553\n"
     ]
    },
    {
     "name": "stderr",
     "output_type": "stream",
     "text": [
      "\n"
     ]
    },
    {
     "name": "stdout",
     "output_type": "stream",
     "text": [
      "\n",
      "      Epoch    GPU_mem   box_loss   seg_loss   cls_loss   dfl_loss  Instances       Size\n"
     ]
    },
    {
     "name": "stderr",
     "output_type": "stream",
     "text": [
      "    100/100      1.99G     0.8156      1.403     0.4628      1.042          1        256: 100%|██████████| 197/197 [00:46<00:00,  4.27it/s]\n",
      "                 Class     Images  Instances      Box(P          R      mAP50  mAP50-95)     Mask(P          R      mAP50  mAP50-95): 100%|██████████| 25/25 [00:05<00:00,  4.21it/s]"
     ]
    },
    {
     "name": "stdout",
     "output_type": "stream",
     "text": [
      "                   all        786        292      0.879      0.823      0.888      0.645      0.883      0.777      0.856      0.555\n"
     ]
    },
    {
     "name": "stderr",
     "output_type": "stream",
     "text": [
      "\n"
     ]
    },
    {
     "name": "stdout",
     "output_type": "stream",
     "text": [
      "\n",
      "100 epochs completed in 1.477 hours.\n",
      "Optimizer stripped from runs/segment/yolov11_seg_tumor/weights/last.pt, 45.1MB\n",
      "Optimizer stripped from runs/segment/yolov11_seg_tumor/weights/best.pt, 45.1MB\n",
      "\n",
      "Validating runs/segment/yolov11_seg_tumor/weights/best.pt...\n",
      "Ultralytics 8.3.168 🚀 Python-3.12.3 torch-2.7.1+cu126 CUDA:0 (NVIDIA GeForce RTX 3050 Ti Laptop GPU, 3755MiB)\n",
      "YOLO11m-seg summary (fused): 138 layers, 22,336,083 parameters, 0 gradients, 123.0 GFLOPs\n"
     ]
    },
    {
     "name": "stderr",
     "output_type": "stream",
     "text": [
      "                 Class     Images  Instances      Box(P          R      mAP50  mAP50-95)     Mask(P          R      mAP50  mAP50-95): 100%|██████████| 25/25 [00:05<00:00,  4.88it/s]\n"
     ]
    },
    {
     "name": "stdout",
     "output_type": "stream",
     "text": [
      "                   all        786        292       0.86       0.82      0.883      0.646      0.925      0.755      0.861      0.562\n",
      "Speed: 0.1ms preprocess, 4.9ms inference, 0.0ms loss, 0.6ms postprocess per image\n",
      "Results saved to \u001b[1mruns/segment/yolov11_seg_tumor\u001b[0m\n",
      "Processed: Model successfully trained.\n"
     ]
    }
   ],
   "source": [
    "print(f\"Attempting to load data from: {DATA_YAML_PATH}\")\n",
    "\n",
    "results = model.train(\n",
    "    data=DATA_YAML_PATH,\n",
    "    epochs=100,\n",
    "    imgsz=256,\n",
    "    batch=16,\n",
    "    name='yolov11_seg_tumor',\n",
    "    device='0'\n",
    ")\n",
    "\n",
    "print('Processed: Model successfully trained.')"
   ]
  },
  {
   "cell_type": "code",
   "execution_count": null,
   "id": "1e677b1d",
   "metadata": {},
   "outputs": [
    {
     "data": {
      "text/plain": [
       "'model/best.pt'"
      ]
     },
     "execution_count": 10,
     "metadata": {},
     "output_type": "execute_result"
    }
   ],
   "source": [
    "TRAINED_MODEL_PATH = 'runs/segment/yolov11_seg_tumor/weights/best.pt'\n",
    "FINAL_MODEL_PATH = 'model/'\n",
    "os.mkdir('model/')\n",
    "shutil.copy(TRAINED_MODEL_PATH, FINAL_MODEL_PATH)"
   ]
  },
  {
   "cell_type": "code",
   "execution_count": 4,
   "id": "c74651e3",
   "metadata": {},
   "outputs": [],
   "source": [
    "from ultralytics import YOLO\n",
    "\n",
    "FINAL_MODEL_PATH = 'model/best.pt'\n",
    "model = YOLO(FINAL_MODEL_PATH)"
   ]
  },
  {
   "cell_type": "code",
   "execution_count": 5,
   "id": "368857e5",
   "metadata": {},
   "outputs": [
    {
     "name": "stdout",
     "output_type": "stream",
     "text": [
      "Columns in CSV: ['epoch', 'time', 'train/box_loss', 'train/seg_loss', 'train/cls_loss', 'train/dfl_loss', 'metrics/precision(B)', 'metrics/recall(B)', 'metrics/mAP50(B)', 'metrics/mAP50-95(B)', 'metrics/precision(M)', 'metrics/recall(M)', 'metrics/mAP50(M)', 'metrics/mAP50-95(M)', 'val/box_loss', 'val/seg_loss', 'val/cls_loss', 'val/dfl_loss', 'lr/pg0', 'lr/pg1', 'lr/pg2']\n"
     ]
    },
    {
     "data": {
      "image/png": "[encoded data removed]",
      "text/plain": [
       "<Figure size 1200x600 with 1 Axes>"
      ]
     },
     "metadata": {},
     "output_type": "display_data"
    },
    {
     "name": "stdout",
     "output_type": "stream",
     "text": [
      "\n",
      "Data in results.csv:\n",
      "    epoch     time  train/box_loss  train/seg_loss  train/cls_loss  \\\n",
      "95     96  5107.13         0.83429         1.42599         0.47167   \n",
      "96     97  5159.90         0.81928         1.41409         0.45328   \n",
      "97     98  5212.68         0.80295         1.44897         0.45598   \n",
      "98     99  5265.54         0.82531         1.43083         0.46943   \n",
      "99    100  5318.26         0.81563         1.40303         0.46277   \n",
      "\n",
      "    train/dfl_loss  metrics/precision(B)  metrics/recall(B)  metrics/mAP50(B)  \\\n",
      "95         1.04409               0.85995            0.82015           0.88284   \n",
      "96         1.03053               0.89644            0.80040           0.88544   \n",
      "97         1.04222               0.89233            0.79470           0.88243   \n",
      "98         1.04646               0.89277            0.79452           0.88361   \n",
      "99         1.04152               0.87922            0.82269           0.88768   \n",
      "\n",
      "    metrics/mAP50-95(B)  ...  metrics/recall(M)  metrics/mAP50(M)  \\\n",
      "95              0.64709  ...            0.75497           0.86039   \n",
      "96              0.65154  ...            0.77465           0.85932   \n",
      "97              0.64705  ...            0.77740           0.85583   \n",
      "98              0.65058  ...            0.77281           0.85697   \n",
      "99              0.64548  ...            0.77740           0.85561   \n",
      "\n",
      "    metrics/mAP50-95(M)  val/box_loss  val/seg_loss  val/cls_loss  \\\n",
      "95              0.56205       0.94463       1.84700       0.50414   \n",
      "96              0.55666       0.93999       1.88194       0.49930   \n",
      "97              0.55175       0.94691       1.85842       0.50297   \n",
      "98              0.55306       0.94252       1.85063       0.50064   \n",
      "99              0.55460       0.95816       1.84849       0.50134   \n",
      "\n",
      "    val/dfl_loss    lr/pg0    lr/pg1    lr/pg2  \n",
      "95       1.12321  0.000119  0.000119  0.000119  \n",
      "96       1.11985  0.000099  0.000099  0.000099  \n",
      "97       1.12077  0.000079  0.000079  0.000079  \n",
      "98       1.12130  0.000060  0.000060  0.000060  \n",
      "99       1.12430  0.000040  0.000040  0.000040  \n",
      "\n",
      "[5 rows x 21 columns]\n"
     ]
    }
   ],
   "source": [
    "import pandas as pd\n",
    "import matplotlib.pyplot as plt\n",
    "import os\n",
    "\n",
    "RESULTS_DIR = 'runs/segment/yolov11_seg_tumor/'\n",
    "\n",
    "RESULTS_CSV_PATH = os.path.join(RESULTS_DIR, 'results.csv')\n",
    "\n",
    "try:\n",
    "    df = pd.read_csv(RESULTS_CSV_PATH)\n",
    "    df.columns = df.columns.str.strip()\n",
    "    print('Columns in CSV:', df.columns.tolist())\n",
    "\n",
    "except FileNotFoundError:\n",
    "    print(f'Error: results.csv not found at {RESULTS_CSV_PATH}')\n",
    "    print('Please make sure the file path is correct or train was successful.')\n",
    "    exit()\n",
    "\n",
    "plt.figure(figsize=(12, 6))\n",
    "\n",
    "plt.subplot(1, 2, 1)\n",
    "plt.plot(df['epoch'], df['train/box_loss'], label='Train Box Loss')\n",
    "plt.plot(df['epoch'], df['val/box_loss'], label='Val Box Loss')\n",
    "plt.xlabel('Epoch')\n",
    "plt.ylabel('Loss')\n",
    "plt.title('Box Loss during Training')\n",
    "plt.legend()\n",
    "plt.grid(True)\n",
    "\n",
    "plt.plot(df['epoch'], df['train/seg_loss'], label='Train Seg Loss')\n",
    "plt.plot(df['epoch'], df['val/seg_loss'], label='Val Seg Loss')\n",
    "plt.xlabel('Epoch')\n",
    "plt.ylabel('Loss')\n",
    "plt.title('Segmentation Loss during Training')\n",
    "plt.legend()\n",
    "plt.grid(True)\n",
    "\n",
    "plt.plot(df['epoch'], df['metrics/mAP50(B)'], label='mAP50(B) - Box mAP')\n",
    "plt.plot(df['epoch'], df['metrics/mAP50(M)'], label='mAP50(M) - Mask mAP')\n",
    "plt.xlabel('Epoch')\n",
    "plt.ylabel('mAP')\n",
    "plt.title('mAP@0.5 during Training')\n",
    "plt.legend()\n",
    "plt.grid(True)\n",
    "\n",
    "plt.plot(df['epoch'], df['metrics/mAP50-95(B)'], label='mAP50-95(B)')\n",
    "plt.plot(df['epoch'], df['metrics/mAP50-95(M)'], label='mAP50-95(M)')\n",
    "plt.xlabel('Epoch')\n",
    "plt.ylabel('mAP')\n",
    "plt.title('mAP@0.5 during Training')\n",
    "plt.legend()\n",
    "plt.grid(True)\n",
    "\n",
    "plt.tight_layout()\n",
    "plt.show()\n",
    "\n",
    "print(\"\\nData in results.csv:\")\n",
    "print(df.tail())"
   ]
  },
  {
   "cell_type": "code",
   "execution_count": 1,
   "id": "57da6c86",
   "metadata": {},
   "outputs": [
    {
     "name": "stdout",
     "output_type": "stream",
     "text": [
      "Loading model from: yolo11m-seg.pt\n",
      "Model loaded successfully!\n",
      "Available classes in model:\n",
      "  0: person\n",
      "  1: bicycle\n",
      "  2: car\n",
      "  3: motorcycle\n",
      "  4: airplane\n",
      "  5: bus\n",
      "  6: train\n",
      "  7: truck\n",
      "  8: boat\n",
      "  9: traffic light\n",
      "  10: fire hydrant\n",
      "  11: stop sign\n",
      "  12: parking meter\n",
      "  13: bench\n",
      "  14: bird\n",
      "  15: cat\n",
      "  16: dog\n",
      "  17: horse\n",
      "  18: sheep\n",
      "  19: cow\n",
      "  20: elephant\n",
      "  21: bear\n",
      "  22: zebra\n",
      "  23: giraffe\n",
      "  24: backpack\n",
      "  25: umbrella\n",
      "  26: handbag\n",
      "  27: tie\n",
      "  28: suitcase\n",
      "  29: frisbee\n",
      "  30: skis\n",
      "  31: snowboard\n",
      "  32: sports ball\n",
      "  33: kite\n",
      "  34: baseball bat\n",
      "  35: baseball glove\n",
      "  36: skateboard\n",
      "  37: surfboard\n",
      "  38: tennis racket\n",
      "  39: bottle\n",
      "  40: wine glass\n",
      "  41: cup\n",
      "  42: fork\n",
      "  43: knife\n",
      "  44: spoon\n",
      "  45: bowl\n",
      "  46: banana\n",
      "  47: apple\n",
      "  48: sandwich\n",
      "  49: orange\n",
      "  50: broccoli\n",
      "  51: carrot\n",
      "  52: hot dog\n",
      "  53: pizza\n",
      "  54: donut\n",
      "  55: cake\n",
      "  56: chair\n",
      "  57: couch\n",
      "  58: potted plant\n",
      "  59: bed\n",
      "  60: dining table\n",
      "  61: toilet\n",
      "  62: tv\n",
      "  63: laptop\n",
      "  64: mouse\n",
      "  65: remote\n",
      "  66: keyboard\n",
      "  67: cell phone\n",
      "  68: microwave\n",
      "  69: oven\n",
      "  70: toaster\n",
      "  71: sink\n",
      "  72: refrigerator\n",
      "  73: book\n",
      "  74: clock\n",
      "  75: vase\n",
      "  76: scissors\n",
      "  77: teddy bear\n",
      "  78: hair drier\n",
      "  79: toothbrush\n",
      "No tumor classes found automatically. Please specify tumor class IDs manually.\n",
      "Available classes:\n",
      "  0: person\n",
      "  1: bicycle\n",
      "  2: car\n",
      "  3: motorcycle\n",
      "  4: airplane\n",
      "  5: bus\n",
      "  6: train\n",
      "  7: truck\n",
      "  8: boat\n",
      "  9: traffic light\n",
      "  10: fire hydrant\n",
      "  11: stop sign\n",
      "  12: parking meter\n",
      "  13: bench\n",
      "  14: bird\n",
      "  15: cat\n",
      "  16: dog\n",
      "  17: horse\n",
      "  18: sheep\n",
      "  19: cow\n",
      "  20: elephant\n",
      "  21: bear\n",
      "  22: zebra\n",
      "  23: giraffe\n",
      "  24: backpack\n",
      "  25: umbrella\n",
      "  26: handbag\n",
      "  27: tie\n",
      "  28: suitcase\n",
      "  29: frisbee\n",
      "  30: skis\n",
      "  31: snowboard\n",
      "  32: sports ball\n",
      "  33: kite\n",
      "  34: baseball bat\n",
      "  35: baseball glove\n",
      "  36: skateboard\n",
      "  37: surfboard\n",
      "  38: tennis racket\n",
      "  39: bottle\n",
      "  40: wine glass\n",
      "  41: cup\n",
      "  42: fork\n",
      "  43: knife\n",
      "  44: spoon\n",
      "  45: bowl\n",
      "  46: banana\n",
      "  47: apple\n",
      "  48: sandwich\n",
      "  49: orange\n",
      "  50: broccoli\n",
      "  51: carrot\n",
      "  52: hot dog\n",
      "  53: pizza\n",
      "  54: donut\n",
      "  55: cake\n",
      "  56: chair\n",
      "  57: couch\n",
      "  58: potted plant\n",
      "  59: bed\n",
      "  60: dining table\n",
      "  61: toilet\n",
      "  62: tv\n",
      "  63: laptop\n",
      "  64: mouse\n",
      "  65: remote\n",
      "  66: keyboard\n",
      "  67: cell phone\n",
      "  68: microwave\n",
      "  69: oven\n",
      "  70: toaster\n",
      "  71: sink\n",
      "  72: refrigerator\n",
      "  73: book\n",
      "  74: clock\n",
      "  75: vase\n",
      "  76: scissors\n",
      "  77: teddy bear\n",
      "  78: hair drier\n",
      "  79: toothbrush\n",
      "Tumor class IDs: []\n",
      "Found 11 image files\n",
      "\n",
      "--- Processing image 1/11: TCGA_FG_7634_20000128_20.tif ---\n",
      "Processing image: input/TCGA_FG_7634_20000128_20.tif\n",
      "\n",
      "image 1/1 /home/shahriar/Documents/AideCare/app/input/TCGA_FG_7634_20000128_20.tif: 640x640 1 vase, 41.3ms\n",
      "Speed: 3.4ms preprocess, 41.3ms inference, 122.0ms postprocess per image at shape (1, 3, 640, 640)\n",
      "No tumor detected in this image\n",
      "✅ Number of tumors detected: 0\n",
      "✅ No tumor detected (clean scan)\n",
      "\n",
      "--- Processing image 2/11: scan.tif ---\n",
      "Processing image: input/scan.tif\n",
      "\n",
      "image 1/1 /home/shahriar/Documents/AideCare/app/input/scan.tif: 640x640 1 clock, 42.2ms\n",
      "Speed: 1.8ms preprocess, 42.2ms inference, 2.6ms postprocess per image at shape (1, 3, 640, 640)\n",
      "No tumor detected in this image\n",
      "✅ Number of tumors detected: 0\n",
      "✅ No tumor detected (clean scan)\n",
      "\n",
      "--- Processing image 3/11: TCGA_DU_6400_19830518_15_mask.tif ---\n",
      "Processing image: input/TCGA_DU_6400_19830518_15_mask.tif\n",
      "\n",
      "Error processing image input/TCGA_DU_6400_19830518_15_mask.tif: Given groups=1, weight of size [64, 3, 3, 3], expected input[1, 1, 640, 640] to have 3 channels, but got 1 channels instead\n",
      "❌ Error processing image\n",
      "\n",
      "--- Processing image 4/11: TCGA_CS_6186_20000601_17_mask.tif ---\n",
      "Processing image: input/TCGA_CS_6186_20000601_17_mask.tif\n",
      "\n",
      "Error processing image input/TCGA_CS_6186_20000601_17_mask.tif: Given groups=1, weight of size [64, 3, 3, 3], expected input[1, 1, 640, 640] to have 3 channels, but got 1 channels instead\n",
      "❌ Error processing image\n",
      "\n",
      "--- Processing image 5/11: TCGA_CS_4941_19960909_11_mask.tif ---\n",
      "Processing image: input/TCGA_CS_4941_19960909_11_mask.tif\n",
      "\n",
      "Error processing image input/TCGA_CS_4941_19960909_11_mask.tif: Given groups=1, weight of size [64, 3, 3, 3], expected input[1, 1, 640, 640] to have 3 channels, but got 1 channels instead\n",
      "❌ Error processing image\n",
      "\n",
      "--- Processing image 6/11: TCGA_FG_7634_20000128_20_mask.tif ---\n",
      "Processing image: input/TCGA_FG_7634_20000128_20_mask.tif\n",
      "\n",
      "Error processing image input/TCGA_FG_7634_20000128_20_mask.tif: Given groups=1, weight of size [64, 3, 3, 3], expected input[1, 1, 640, 640] to have 3 channels, but got 1 channels instead\n",
      "❌ Error processing image\n",
      "\n",
      "--- Processing image 7/11: TCGA_CS_4941_19960909_11.tif ---\n",
      "Processing image: input/TCGA_CS_4941_19960909_11.tif\n",
      "\n",
      "image 1/1 /home/shahriar/Documents/AideCare/app/input/TCGA_CS_4941_19960909_11.tif: 640x640 (no detections), 42.6ms\n",
      "Speed: 2.5ms preprocess, 42.6ms inference, 0.8ms postprocess per image at shape (1, 3, 640, 640)\n",
      "No tumor detected in this image\n",
      "✅ Number of tumors detected: 0\n",
      "✅ No tumor detected (clean scan)\n",
      "\n",
      "--- Processing image 8/11: TCGA_CS_6186_20000601_17.tif ---\n",
      "Processing image: input/TCGA_CS_6186_20000601_17.tif\n",
      "\n",
      "image 1/1 /home/shahriar/Documents/AideCare/app/input/TCGA_CS_6186_20000601_17.tif: 640x640 1 clock, 44.1ms\n",
      "Speed: 2.3ms preprocess, 44.1ms inference, 1.9ms postprocess per image at shape (1, 3, 640, 640)\n",
      "No tumor detected in this image\n",
      "✅ Number of tumors detected: 0\n",
      "✅ No tumor detected (clean scan)\n",
      "\n",
      "--- Processing image 9/11: TCGA_DU_7306_19930512_22.tif ---\n",
      "Processing image: input/TCGA_DU_7306_19930512_22.tif\n",
      "\n",
      "image 1/1 /home/shahriar/Documents/AideCare/app/input/TCGA_DU_7306_19930512_22.tif: 640x640 1 clock, 42.0ms\n",
      "Speed: 1.9ms preprocess, 42.0ms inference, 2.5ms postprocess per image at shape (1, 3, 640, 640)\n",
      "No tumor detected in this image\n",
      "✅ Number of tumors detected: 0\n",
      "✅ No tumor detected (clean scan)\n",
      "\n",
      "--- Processing image 10/11: TCGA_DU_6400_19830518_15.tif ---\n",
      "Processing image: input/TCGA_DU_6400_19830518_15.tif\n",
      "\n",
      "image 1/1 /home/shahriar/Documents/AideCare/app/input/TCGA_DU_6400_19830518_15.tif: 640x640 (no detections), 42.4ms\n",
      "Speed: 2.1ms preprocess, 42.4ms inference, 2.2ms postprocess per image at shape (1, 3, 640, 640)\n",
      "No tumor detected in this image\n",
      "✅ Number of tumors detected: 0\n",
      "✅ No tumor detected (clean scan)\n",
      "\n",
      "--- Processing image 11/11: TCGA_DU_7306_19930512_22_mask.tif ---\n",
      "Processing image: input/TCGA_DU_7306_19930512_22_mask.tif\n",
      "\n",
      "Error processing image input/TCGA_DU_7306_19930512_22_mask.tif: Given groups=1, weight of size [64, 3, 3, 3], expected input[1, 1, 640, 640] to have 3 channels, but got 1 channels instead\n",
      "❌ Error processing image\n",
      "\n",
      "==================================================\n",
      "📋 Processing Results Summary:\n",
      "==================================================\n",
      "📁 Images processed: 6\n",
      "🎯 Images with tumors: 0\n",
      "🔍 Total tumors detected: 0\n"
     ]
    }
   ],
   "source": [
    "import os\n",
    "import cv2\n",
    "import numpy as np\n",
    "from ultralytics import YOLO\n",
    "from pathlib import Path\n",
    "import matplotlib.pyplot as plt\n",
    "from PIL import Image\n",
    "\n",
    "class YoloProcess:\n",
    "    def __init__(self, model_path=\"yolo11m-seg.pt\", tumor_class_names=None):\n",
    "        \"\"\"\n",
    "        کلاس برای پردازش تصاویر پزشکی با مدل YOLO\n",
    "        \n",
    "        Args:\n",
    "            model_path (str): مسیر فایل مدل YOLO\n",
    "            tumor_class_names (list): لیست نام کلاس‌هایی که تومور محسوب می‌شوند\n",
    "        \"\"\"\n",
    "        print(f\"Loading model from: {model_path}\")\n",
    "        try:\n",
    "            self.model = YOLO(model_path)\n",
    "            print(\"Model loaded successfully!\")\n",
    "            \n",
    "            # نمایش کلاس‌های موجود در مدل\n",
    "            if hasattr(self.model, 'names'):\n",
    "                print(\"Available classes in model:\")\n",
    "                for idx, name in self.model.names.items():\n",
    "                    print(f\"  {idx}: {name}\")\n",
    "            \n",
    "            # تنظیم کلاس‌های تومور - اگر مشخص نشده، خودکار تشخیص داده می‌شود\n",
    "            if tumor_class_names is None:\n",
    "                # معمولاً کلاس‌هایی که حاوی tumor, cancer, mass هستند\n",
    "                self.tumor_class_ids = self._auto_detect_tumor_classes()\n",
    "            else:\n",
    "                self.tumor_class_ids = self._get_class_ids_by_names(tumor_class_names)\n",
    "                \n",
    "            print(f\"Tumor class IDs: {self.tumor_class_ids}\")\n",
    "            \n",
    "        except Exception as e:\n",
    "            print(f\"Error loading model: {e}\")\n",
    "            raise\n",
    "    \n",
    "    def _auto_detect_tumor_classes(self):\n",
    "        \"\"\"تشخیص خودکار کلاس‌های مربوط به تومور\"\"\"\n",
    "        tumor_keywords = ['tumor', 'cancer', 'mass', 'lesion', 'malignant']\n",
    "        tumor_ids = []\n",
    "        \n",
    "        if hasattr(self.model, 'names'):\n",
    "            for idx, name in self.model.names.items():\n",
    "                name_lower = name.lower()\n",
    "                if any(keyword in name_lower for keyword in tumor_keywords):\n",
    "                    tumor_ids.append(idx)\n",
    "        \n",
    "        # اگر هیچ کلاس تومور پیدا نشد، از کاربر بپرس\n",
    "        if not tumor_ids:\n",
    "            print(\"No tumor classes found automatically. Please specify tumor class IDs manually.\")\n",
    "            print(\"Available classes:\")\n",
    "            if hasattr(self.model, 'names'):\n",
    "                for idx, name in self.model.names.items():\n",
    "                    print(f\"  {idx}: {name}\")\n",
    "            \n",
    "        return tumor_ids\n",
    "    \n",
    "    def _get_class_ids_by_names(self, class_names):\n",
    "        \"\"\"دریافت ID کلاس‌ها بر اساس نام\"\"\"\n",
    "        class_ids = []\n",
    "        if hasattr(self.model, 'names'):\n",
    "            name_to_id = {name.lower(): idx for idx, name in self.model.names.items()}\n",
    "            for name in class_names:\n",
    "                if name.lower() in name_to_id:\n",
    "                    class_ids.append(name_to_id[name.lower()])\n",
    "                else:\n",
    "                    print(f\"Warning: Class '{name}' not found in model\")\n",
    "        return class_ids\n",
    "    \n",
    "    def set_tumor_classes(self, class_ids):\n",
    "        \"\"\"تنظیم دستی کلاس‌های تومور\"\"\"\n",
    "        self.tumor_class_ids = class_ids\n",
    "        print(f\"Tumor class IDs set to: {self.tumor_class_ids}\")\n",
    "    \n",
    "    def process_image(self, image_path, conf_threshold=0.5):\n",
    "        \"\"\"\n",
    "        پردازش تصویر و تشخیص تومور\n",
    "        \n",
    "        Args:\n",
    "            image_path (str): مسیر تصویر ورودی\n",
    "            conf_threshold (float): آستانه اطمینان برای تشخیص\n",
    "            \n",
    "        Returns:\n",
    "            results: نتایج تشخیص مدل YOLO\n",
    "        \"\"\"\n",
    "        try:\n",
    "            print(f\"Processing image: {image_path}\")\n",
    "            results = self.model(image_path, conf=conf_threshold)\n",
    "            return results\n",
    "        except Exception as e:\n",
    "            print(f\"Error processing image {image_path}: {e}\")\n",
    "            return None\n",
    "    \n",
    "    def _filter_tumor_detections(self, result):\n",
    "        \"\"\"فیلتر کردن تشخیص‌ها برای نمایش فقط تومورها\"\"\"\n",
    "        if result.boxes is None:\n",
    "            return None, None\n",
    "            \n",
    "        boxes = result.boxes.xyxy.cpu().numpy()\n",
    "        confidences = result.boxes.conf.cpu().numpy()\n",
    "        classes = result.boxes.cls.cpu().numpy().astype(int)\n",
    "        \n",
    "        # فیلتر کردن فقط کلاس‌های تومور\n",
    "        tumor_indices = [i for i, cls in enumerate(classes) if cls in self.tumor_class_ids]\n",
    "        \n",
    "        if not tumor_indices:\n",
    "            return None, None\n",
    "            \n",
    "        filtered_boxes = boxes[tumor_indices]\n",
    "        filtered_confidences = confidences[tumor_indices]\n",
    "        filtered_classes = classes[tumor_indices]\n",
    "        \n",
    "        # فیلتر کردن ماسک‌ها\n",
    "        filtered_masks = None\n",
    "        if result.masks is not None:\n",
    "            all_masks = result.masks.data.cpu().numpy()\n",
    "            filtered_masks = all_masks[tumor_indices]\n",
    "            \n",
    "        return {\n",
    "            'boxes': filtered_boxes,\n",
    "            'confidences': filtered_confidences,\n",
    "            'classes': filtered_classes,\n",
    "            'masks': filtered_masks\n",
    "        }, tumor_indices\n",
    "    \n",
    "    def draw_detection(self, image_path, results, output_path, save_original=True):\n",
    "        \"\"\"\n",
    "        رسم نتایج تشخیص روی تصویر و ذخیره آن - فقط تومورها\n",
    "        \n",
    "        Args:\n",
    "            image_path (str): مسیر تصویر اصلی\n",
    "            results: نتایج حاصل از process_image\n",
    "            output_path (str): مسیر ذخیره تصویر خروجی\n",
    "            save_original (bool): آیا تصویر اصلی هم ذخیره شود\n",
    "        \"\"\"\n",
    "        try:\n",
    "            if results is None or len(results) == 0:\n",
    "                print(\"No results found for visualization\")\n",
    "                return False\n",
    "            \n",
    "            # خواندن تصویر اصلی\n",
    "            original_image = cv2.imread(image_path)\n",
    "            if original_image is None:\n",
    "                print(f\"Cannot read image: {image_path}\")\n",
    "                return False\n",
    "            \n",
    "            # تبدیل از BGR به RGB برای matplotlib\n",
    "            original_rgb = cv2.cvtColor(original_image, cv2.COLOR_BGR2RGB)\n",
    "            annotated_image = original_rgb.copy()\n",
    "            \n",
    "            result = results[0]\n",
    "            \n",
    "            # فیلتر کردن تشخیص‌ها برای نمایش فقط تومورها\n",
    "            tumor_data, tumor_indices = self._filter_tumor_detections(result)\n",
    "            \n",
    "            if tumor_data is None:\n",
    "                print(\"No tumor detected in this image\")\n",
    "                # ذخیره تصویر بدون annotation\n",
    "                plt.figure(figsize=(10, 5))\n",
    "                if save_original:\n",
    "                    plt.subplot(1, 2, 1)\n",
    "                    plt.imshow(original_rgb)\n",
    "                    plt.title('Original Image')\n",
    "                    plt.axis('off')\n",
    "                    \n",
    "                    plt.subplot(1, 2, 2)\n",
    "                    plt.imshow(original_rgb)\n",
    "                    plt.title('No Tumor Detected')\n",
    "                    plt.axis('off')\n",
    "                else:\n",
    "                    plt.imshow(original_rgb)\n",
    "                    plt.title('No Tumor Detected')\n",
    "                    plt.axis('off')\n",
    "                \n",
    "                plt.tight_layout()\n",
    "                plt.savefig(output_path, dpi=300, bbox_inches='tight')\n",
    "                plt.close()\n",
    "                return True\n",
    "            \n",
    "            # رسم باکس‌های تومور\n",
    "            boxes = tumor_data['boxes']\n",
    "            confidences = tumor_data['confidences']\n",
    "            classes = tumor_data['classes']\n",
    "            \n",
    "            for i, (box, conf, cls) in enumerate(zip(boxes, confidences, classes)):\n",
    "                x1, y1, x2, y2 = box.astype(int)\n",
    "                \n",
    "                # رسم مستطیل\n",
    "                cv2.rectangle(annotated_image, (x1, y1), (x2, y2), (0, 255, 0), 2)\n",
    "                \n",
    "                # اضافه کردن متن\n",
    "                class_name = self.model.names[cls] if hasattr(self.model, 'names') else f'Class_{cls}'\n",
    "                label = f'{class_name}: {conf:.2f}'\n",
    "                cv2.putText(annotated_image, label, (x1, y1-10), \n",
    "                          cv2.FONT_HERSHEY_SIMPLEX, 0.5, (0, 255, 0), 1)\n",
    "            \n",
    "            # رسم ماسک‌های سگمنتیشن تومور\n",
    "            if tumor_data['masks'] is not None:\n",
    "                masks = tumor_data['masks']\n",
    "                \n",
    "                for mask in masks:\n",
    "                    # تغییر اندازه ماسک به اندازه تصویر اصلی\n",
    "                    mask_resized = cv2.resize(mask, (original_rgb.shape[1], original_rgb.shape[0]))\n",
    "                    \n",
    "                    # ایجاد ماسک رنگی (قرمز با شفافیت)\n",
    "                    colored_mask = np.zeros_like(original_rgb)\n",
    "                    colored_mask[:, :, 0] = mask_resized * 255  # کانال قرمز\n",
    "                    \n",
    "                    # اعمال ماسک با شفافیت\n",
    "                    alpha = 0.4\n",
    "                    annotated_image = cv2.addWeighted(annotated_image, 1-alpha, \n",
    "                                                    colored_mask, alpha, 0)\n",
    "            \n",
    "            # نمایش و ذخیره نتایج\n",
    "            plt.figure(figsize=(15, 5))\n",
    "            \n",
    "            if save_original:\n",
    "                plt.subplot(1, 2, 1)\n",
    "                plt.imshow(original_rgb)\n",
    "                plt.title('Original Image')\n",
    "                plt.axis('off')\n",
    "                \n",
    "                plt.subplot(1, 2, 2)\n",
    "                plt.imshow(annotated_image)\n",
    "                plt.title(f'Tumor Detection ({len(boxes)} found)')\n",
    "                plt.axis('off')\n",
    "            else:\n",
    "                plt.imshow(annotated_image)\n",
    "                plt.title(f'Tumor Detection ({len(boxes)} found)')\n",
    "                plt.axis('off')\n",
    "            \n",
    "            # ذخیره تصویر\n",
    "            plt.tight_layout()\n",
    "            plt.savefig(output_path, dpi=300, bbox_inches='tight')\n",
    "            plt.close()\n",
    "            \n",
    "            print(f\"Output image saved at: {output_path}\")\n",
    "            return True\n",
    "            \n",
    "        except Exception as e:\n",
    "            print(f\"Error in drawing results: {e}\")\n",
    "            return False\n",
    "    \n",
    "    def get_detection_info(self, results):\n",
    "        \"\"\"\n",
    "        استخراج اطلاعات تشخیص - فقط تومورها\n",
    "        \n",
    "        Args:\n",
    "            results: نتایج حاصل از process_image\n",
    "            \n",
    "        Returns:\n",
    "            dict: اطلاعات تشخیص شامل تعداد تومور و اطمینان\n",
    "        \"\"\"\n",
    "        if results is None or len(results) == 0:\n",
    "            return {\"tumor_count\": 0, \"confidences\": [], \"areas\": [], \"class_names\": []}\n",
    "        \n",
    "        result = results[0]\n",
    "        tumor_data, _ = self._filter_tumor_detections(result)\n",
    "        \n",
    "        info = {\n",
    "            \"tumor_count\": 0,\n",
    "            \"confidences\": [],\n",
    "            \"areas\": [],\n",
    "            \"class_names\": []\n",
    "        }\n",
    "        \n",
    "        if tumor_data is not None:\n",
    "            info[\"tumor_count\"] = len(tumor_data['boxes'])\n",
    "            info[\"confidences\"] = tumor_data['confidences'].tolist()\n",
    "            \n",
    "            # محاسبه مساحت باکس‌ها\n",
    "            for box in tumor_data['boxes']:\n",
    "                x1, y1, x2, y2 = box\n",
    "                area = (x2 - x1) * (y2 - y1)\n",
    "                info[\"areas\"].append(area)\n",
    "            \n",
    "            # نام کلاس‌ها\n",
    "            for cls in tumor_data['classes']:\n",
    "                class_name = self.model.names[cls] if hasattr(self.model, 'names') else f'Class_{cls}'\n",
    "                info[\"class_names\"].append(class_name)\n",
    "        \n",
    "        return info\n",
    "\n",
    "\n",
    "def process_medical_images(input_dir=\"input\", output_dir=\"output\", model_path=\"yolo11m-seg.pt\", \n",
    "                         tumor_class_names=None):\n",
    "    \"\"\"\n",
    "    پردازش دسته‌ای تصاویر پزشکی\n",
    "    \n",
    "    Args:\n",
    "        input_dir (str): دایرکتوری حاوی تصاویر ورودی\n",
    "        output_dir (str): دایرکتوری خروجی\n",
    "        model_path (str): مسیر مدل YOLO\n",
    "        tumor_class_names (list): نام کلاس‌هایی که تومور محسوب می‌شوند\n",
    "    \"\"\"\n",
    "    \n",
    "    # ایجاد دایرکتوری خروجی\n",
    "    Path(output_dir).mkdir(exist_ok=True)\n",
    "    \n",
    "    # ایجاد شیء YoloProcess\n",
    "    yolo_processor = YoloProcess(model_path, tumor_class_names)\n",
    "    \n",
    "    # لیست فرمت‌های مجاز\n",
    "    allowed_extensions = ['.tif', '.tiff', '.jpg', '.jpeg', '.png']\n",
    "    \n",
    "    # یافتن تمام فایل‌های تصویری\n",
    "    image_files = []\n",
    "    for ext in allowed_extensions:\n",
    "        image_files.extend(Path(input_dir).glob(f'*{ext}'))\n",
    "        image_files.extend(Path(input_dir).glob(f'*{ext.upper()}'))\n",
    "    \n",
    "    if not image_files:\n",
    "        print(f\"No image files found in directory {input_dir}\")\n",
    "        return\n",
    "    \n",
    "    print(f\"Found {len(image_files)} image files\")\n",
    "    \n",
    "    # پردازش هر تصویر\n",
    "    results_summary = []\n",
    "    \n",
    "    for i, image_path in enumerate(image_files, 1):\n",
    "        print(f\"\\n--- Processing image {i}/{len(image_files)}: {image_path.name} ---\")\n",
    "        \n",
    "        # پردازش تصویر\n",
    "        results = yolo_processor.process_image(str(image_path))\n",
    "        \n",
    "        if results is not None:\n",
    "            # تولید نام فایل خروجی\n",
    "            output_filename = f\"{image_path.stem}_detected.png\"\n",
    "            output_path = Path(output_dir) / output_filename\n",
    "            \n",
    "            # رسم و ذخیره نتایج\n",
    "            success = yolo_processor.draw_detection(\n",
    "                str(image_path), \n",
    "                results, \n",
    "                str(output_path)\n",
    "            )\n",
    "            \n",
    "            if success:\n",
    "                # دریافت اطلاعات تشخیص\n",
    "                detection_info = yolo_processor.get_detection_info(results)\n",
    "                detection_info[\"image_name\"] = image_path.name\n",
    "                detection_info[\"output_path\"] = str(output_path)\n",
    "                results_summary.append(detection_info)\n",
    "                \n",
    "                print(f\"✅ Number of tumors detected: {detection_info['tumor_count']}\")\n",
    "                if detection_info['confidences']:\n",
    "                    avg_conf = np.mean(detection_info['confidences'])\n",
    "                    print(f\"📊 Average confidence: {avg_conf:.3f}\")\n",
    "                    print(f\"🏷️ Classes found: {', '.join(detection_info['class_names'])}\")\n",
    "                else:\n",
    "                    print(\"✅ No tumor detected (clean scan)\")\n",
    "            else:\n",
    "                print(\"❌ Error saving results\")\n",
    "        else:\n",
    "            print(\"❌ Error processing image\")\n",
    "    \n",
    "    # نمایش خلاصه نتایج\n",
    "    print(\"\\n\" + \"=\"*50)\n",
    "    print(\"📋 Processing Results Summary:\")\n",
    "    print(\"=\"*50)\n",
    "    \n",
    "    total_tumors = sum(info['tumor_count'] for info in results_summary)\n",
    "    processed_images = len(results_summary)\n",
    "    images_with_tumors = len([info for info in results_summary if info['tumor_count'] > 0])\n",
    "    \n",
    "    print(f\"📁 Images processed: {processed_images}\")\n",
    "    print(f\"🎯 Images with tumors: {images_with_tumors}\")\n",
    "    print(f\"🔍 Total tumors detected: {total_tumors}\")\n",
    "    \n",
    "    if results_summary:\n",
    "        all_confidences = []\n",
    "        for info in results_summary:\n",
    "            all_confidences.extend(info['confidences'])\n",
    "        \n",
    "        if all_confidences:\n",
    "            print(f\"📈 Overall average confidence: {np.mean(all_confidences):.3f}\")\n",
    "            print(f\"📉 Minimum confidence: {np.min(all_confidences):.3f}\")\n",
    "            print(f\"📊 Maximum confidence: {np.max(all_confidences):.3f}\")\n",
    "\n",
    "\n",
    "# مثال استفاده:\n",
    "if __name__ == \"__main__\":\n",
    "    # اگر می‌دانید نام کلاس تومور در مدل چیست، آن را مشخص کنید:\n",
    "    # tumor_classes = ['tumor', 'malignant']  # یا هر نام دیگری که در مدل دارید\n",
    "    \n",
    "    # پردازش دسته‌ای تصاویر\n",
    "    process_medical_images(\n",
    "        input_dir=\"input\",\n",
    "        output_dir=\"output\", \n",
    "        model_path=\"yolo11m-seg.pt\",\n",
    "        tumor_class_names=None  # None برای تشخیص خودکار، یا لیست نام کلاس‌ها\n",
    "    )\n",
    "    \n",
    "    # مثال استفاده تک تصویر:\n",
    "    \"\"\"\n",
    "    yolo_proc = YoloProcess(\"yolo11m-seg.pt\")\n",
    "    \n",
    "    # اگر نیاز به تنظیم دستی کلاس‌های تومور دارید:\n",
    "    # yolo_proc.set_tumor_classes([1, 2])  # ID های کلاس‌های تومور\n",
    "    \n",
    "    results = yolo_proc.process_image(\"input/sample_mri.tif\")\n",
    "    yolo_proc.draw_detection(\"input/sample_mri.tif\", results, \"output/result.png\")\n",
    "    \"\"\""
   ]
  },
  {
   "cell_type": "code",
   "execution_count": 17,
   "id": "67c9b7cc",
   "metadata": {},
   "outputs": [
    {
     "name": "stdout",
     "output_type": "stream",
     "text": [
      "\n",
      "image 1/1 /home/shahriar/Documents/AideCare/app/input/test/TCGA_CS_4942_19970222_12.tif: 256x256 1 tumor, 9.4ms\n",
      "Speed: 0.9ms preprocess, 9.4ms inference, 3.5ms postprocess per image at shape (1, 3, 256, 256)\n",
      "Results saved to \u001b[1mruns/segment/5105141\u001b[0m\n",
      "Frame: 46\n",
      "Data: [array([[         79,          98],\n",
      "       [         79,         101],\n",
      "       [         78,         102],\n",
      "       [         78,         103],\n",
      "       [         77,         104],\n",
      "       [         77,         105],\n",
      "       [         76,         106],\n",
      "       [         76,         108],\n",
      "       [         75,         109],\n",
      "       [         75,         117],\n",
      "       [         73,         119],\n",
      "       [         70,         119],\n",
      "       [         70,         136],\n",
      "       [         73,         136],\n",
      "       [         75,         138],\n",
      "       [         75,         139],\n",
      "       [         78,         142],\n",
      "       [         79,         142],\n",
      "       [         90,         153],\n",
      "       [         90,         157],\n",
      "       [         97,         157],\n",
      "       [         97,         153],\n",
      "       [         98,         152],\n",
      "       [         99,         152],\n",
      "       [        102,         149],\n",
      "       [        102,         148],\n",
      "       [        105,         145],\n",
      "       [        105,         144],\n",
      "       [        106,         143],\n",
      "       [        109,         143],\n",
      "       [        109,         127],\n",
      "       [        106,         127],\n",
      "       [        105,         126],\n",
      "       [        105,         124],\n",
      "       [        104,         123],\n",
      "       [        104,         121],\n",
      "       [        103,         120],\n",
      "       [        103,         119],\n",
      "       [        102,         118],\n",
      "       [        102,         114],\n",
      "       [        101,         113],\n",
      "       [        101,         107],\n",
      "       [        100,         106],\n",
      "       [        100,         103],\n",
      "       [         99,         102],\n",
      "       [         99,          98]], dtype=float32)]\n",
      "Pixels:  46\n",
      "Sum:  0\n",
      "پیش بینی ها انجام شد و نتایج ذخیره شده اند.\n"
     ]
    }
   ],
   "source": [
    "import torch\n",
    "from ultralytics import YOLO\n",
    "import cv2\n",
    "import numpy as np\n",
    "\n",
    "# مسیر وزن های بهترین مدل آموزش دیده شما\n",
    "# این مسیر رو بر اساس نامی که در مرحله آموزش دادید، تنظیم کنید.\n",
    "TRAINED_MODEL_PATH = 'best.pt'\n",
    "\n",
    "# مسیر تصویر یا پوشه ای از تصاویر برای پیش بینی\n",
    "# این میتونه یک فایل .tif باشه یا یک پوشه حاوی تصاویر تستی.\n",
    "# **مهم:** از تصاویری استفاده کنید که در دیتاست آموزش و اعتبارسنجی شما نبودند!\n",
    "INPUT_SOURCE = 'input/test/TCGA_CS_4942_19970222_12.tif' # مثلاً 'test_images/TCGA_CS_4941_19960909_20.tif'\n",
    "# یا INPUT_SOURCE = 'path/to/your/test_images_folder/'\n",
    "\n",
    "# 1. بارگذاری مدل آموزش دیده\n",
    "model = YOLO(TRAINED_MODEL_PATH)\n",
    "\n",
    "# 2. پیش بینی روی تصاویر\n",
    "# show=True: نتایج رو در یک پنجره نمایش میده (اگر در محیط گرافیکی باشید).\n",
    "# save=True: نتایج رو در پوشه خروجی ذخیره میکنه.\n",
    "# conf: حداقل امتیاز اطمینان برای نمایش پیش بینی ها (بین 0 تا 1).\n",
    "# iou: آستانه IOU برای NMS (Non-Maximum Suppression).\n",
    "\n",
    "results = model.predict(\n",
    "    source=INPUT_SOURCE,\n",
    "    show=True,\n",
    "    save=True,\n",
    "    conf=0.5, # فقط پیش بینی های با اطمینان بالای 50% رو نشون بده\n",
    "    iou=0.7, # آستانه IOU برای NMS\n",
    "    name=str(51051)\n",
    ")\n",
    "area = 0\n",
    "# 3. دسترسی به نتایج و نمایش سفارشی (اختیاری)\n",
    "# نتایج پیش بینی شده در لیستی از آبجکت های 'Results' برگردانده میشن.\n",
    "# هر آبجکت 'Results' مربوط به یک تصویر ورودی هست.\n",
    "for result in results:\n",
    "    # result.orig_img: تصویر اصلی (به فرمت NumPy Array)\n",
    "    # result.boxes: باکس های تشخیص داده شده (اگر همزمان تشخیص شی هم انجام بشه)\n",
    "    # result.masks: ماسک های سگمنتیشن (اگر سگمنتیشن باشه)\n",
    "    # result.probs: احتمالات کلاس (برای طبقه بندی)\n",
    "    pixels = result.masks.xy\n",
    "    \n",
    "    for i in range(len(pixels)):\n",
    "        print('Frame:', len(result.masks.xy[i]))\n",
    "print('Data:', pixels)\n",
    "print('Pixels: ', len(pixels[0]))\n",
    "print('Sum: ', area)\n",
    "    # if result.masks is not None:\n",
    "    #     # ماسک ها به صورت آبجکت MaskData هستند\n",
    "    #     # می تونید اون ها رو به NumPy array تبدیل کنید تا روی تصویر اصلی ترسیم کنید.\n",
    "    #     masks = result.masks.data # (N, H, W) N: تعداد آبجکت های تشخیص داده شده\n",
    "    #     # تبدیل ماسک ها به یک تصویر باینری کلی (اختیاری)\n",
    "    #     # این کد همه ماسک ها رو روی هم میندازه تا یک ماسک نهایی از تومور رو ایجاد کنه.\n",
    "    #     combined_mask = np.zeros(result.orig_img.shape[:2], dtype=np.uint8)\n",
    "    #     for i, mask_tensor in enumerate(masks):\n",
    "    #         # تبدیل تنسور ماسک به NumPy array و تغییر اندازه به سایز تصویر اصلی\n",
    "    #         mask_np = mask_tensor.cpu().numpy().astype(np.uint8) * 255\n",
    "    #         # اعمال ماسک به تصویر اصلی یا یک کپی از اون\n",
    "    #         # برای سگمنتیشن روی تصاویر پزشکی، اغلب می خوایم فقط ناحیه ماسک رو برجسته کنیم.\n",
    "    #         # می تونید این قسمت رو برای نیازهای نمایش خودتون تغییر بدید.\n",
    "\n",
    "    #         # برای ترسیم کانتور روی تصویر\n",
    "    #         # پیدا کردن کانتور از ماسک\n",
    "    #         contours, _ = cv2.findContours(mask_np, cv2.RETR_EXTERNAL, cv2.CHAIN_APPROX_SIMPLE)\n",
    "            \n",
    "    #         # ترسیم کانتور روی یک کپی از تصویر اصلی\n",
    "    #         display_img = result.orig_img.copy()\n",
    "            \n",
    "    #         # تبدیل تصویر اصلی (که ممکن است grayscale باشد) به RGB برای نمایش رنگی\n",
    "    #         if len(display_img.shape) == 2: # اگر grayscale هست\n",
    "    #             display_img = cv2.cvtColor(display_img, cv2.COLOR_GRAY2BGR)\n",
    "\n",
    "    #         # ترسیم کانتور با رنگ سبز (B, G, R) و ضخامت 2\n",
    "    #         cv2.drawContours(display_img, contours, -1, (0, 255, 0), 2)\n",
    "            \n",
    "    #         # اضافه کردن یک شفافیت به ناحیه ماسک شده (اختیاری)\n",
    "    #         overlay = np.zeros_like(display_img)\n",
    "    #         color = (0, 255, 0) # سبز\n",
    "    #         alpha = 0.3 # شفافیت\n",
    "    #         cv2.drawContours(overlay, contours, -1, color, -1) # پر کردن کانتور\n",
    "    #         display_img = cv2.addWeighted(display_img, 1 - alpha, overlay, alpha, 0)\n",
    "\n",
    "    #         # نمایش تصویر با کانتور\n",
    "    #         cv2.imshow(f\"Prediction for {result.path.split('/')[-1]} - Mask {i+1}\", display_img)\n",
    "    #         cv2.waitKey(0)\n",
    "    #         cv2.destroyAllWindows()\n",
    "            \n",
    "    #         # همچنین می تونید ماسک رو جداگانه ذخیره کنید (اختیاری)\n",
    "    #         cv2.imwrite(f\"output_masks/{result.path.split('/')[-1]}_mask_{i+1}.png\", mask_np)\n",
    "\n",
    "print(\"پیش بینی ها انجام شد و نتایج ذخیره شده اند.\")"
   ]
  },
  {
   "cell_type": "code",
   "execution_count": null,
   "id": "d5a80763",
   "metadata": {},
   "outputs": [
    {
     "name": "stdout",
     "output_type": "stream",
     "text": [
      "Collecting natsort\n",
      "  Downloading natsort-8.4.0-py3-none-any.whl.metadata (21 kB)\n",
      "Downloading natsort-8.4.0-py3-none-any.whl (38 kB)\n",
      "Installing collected packages: natsort\n",
      "Successfully installed natsort-8.4.0\n",
      "در حال ایجاد ویدیو از تصاویر در 'input/test/' با FPS=5...\n",
      "اضافه کردن فریم 1/20: TCGA_CS_4942_19970222_1.tif\n",
      "اضافه کردن فریم 2/20: TCGA_CS_4942_19970222_2.tif\n",
      "اضافه کردن فریم 3/20: TCGA_CS_4942_19970222_3.tif\n",
      "اضافه کردن فریم 4/20: TCGA_CS_4942_19970222_4.tif\n",
      "اضافه کردن فریم 5/20: TCGA_CS_4942_19970222_5.tif\n",
      "اضافه کردن فریم 6/20: TCGA_CS_4942_19970222_6.tif\n",
      "اضافه کردن فریم 7/20: TCGA_CS_4942_19970222_7.tif\n",
      "اضافه کردن فریم 8/20: TCGA_CS_4942_19970222_8.tif\n",
      "اضافه کردن فریم 9/20: TCGA_CS_4942_19970222_9.tif\n",
      "اضافه کردن فریم 10/20: TCGA_CS_4942_19970222_10.tif\n",
      "اضافه کردن فریم 11/20: TCGA_CS_4942_19970222_11.tif\n",
      "اضافه کردن فریم 12/20: TCGA_CS_4942_19970222_12.tif\n",
      "اضافه کردن فریم 13/20: TCGA_CS_4942_19970222_13.tif\n",
      "اضافه کردن فریم 14/20: TCGA_CS_4942_19970222_14.tif\n",
      "اضافه کردن فریم 15/20: TCGA_CS_4942_19970222_15.tif\n",
      "اضافه کردن فریم 16/20: TCGA_CS_4942_19970222_16.tif\n",
      "اضافه کردن فریم 17/20: TCGA_CS_4942_19970222_17.tif\n",
      "اضافه کردن فریم 18/20: TCGA_CS_4942_19970222_18.tif\n",
      "اضافه کردن فریم 19/20: TCGA_CS_4942_19970222_19.tif\n",
      "اضافه کردن فریم 20/20: TCGA_CS_4942_19970222_20.tif\n",
      "ویدیو با موفقیت در 'my_output_video.mp4' ایجاد شد.\n"
     ]
    }
   ],
   "source": [
    "import cv2\n",
    "import os\n",
    "import natsort # برای مرتب سازی طبیعی نام فایل ها\n",
    "\n",
    "def create_video_from_images(image_directory, output_video_path, fps=5):\n",
    "    \"\"\"\n",
    "    تصاویر موجود در یک دایرکتوری را به یک فایل ویدیویی MP4 تبدیل می‌کند.\n",
    "\n",
    "    Args:\n",
    "        image_directory (str): مسیر دایرکتوری حاوی تصاویر.\n",
    "        output_video_path (str): مسیر کامل فایل ویدیویی خروجی (مثلاً 'output_video.mp4').\n",
    "        fps (int): تعداد فریم‌ها در ثانیه برای ویدیو خروجی (پیش‌فرض 5).\n",
    "    \"\"\"\n",
    "    if not os.path.isdir(image_directory):\n",
    "        print(f\"خطا: دایرکتوری '{image_directory}' یافت نشد.\")\n",
    "        return\n",
    "\n",
    "    # لیست کردن تمام فایل های تصویر (می‌توانید پسوندهای بیشتری را اضافه کنید)\n",
    "    image_files = [os.path.join(image_directory, f) for f in os.listdir(image_directory)\n",
    "                   if f.lower().endswith(('.png', '.jpg', '.jpeg', '.tif', '.tiff'))]\n",
    "\n",
    "    # مرتب سازی فایل ها به صورت طبیعی (مثل: img1.png, img2.png, img10.png)\n",
    "    image_files = natsort.natsorted(image_files)\n",
    "\n",
    "    if not image_files:\n",
    "        print(f\"هیچ فایل تصویری در دایرکتوری '{image_directory}' یافت نشد.\")\n",
    "        return\n",
    "\n",
    "    # خواندن اولین تصویر برای بدست آوردن ابعاد ویدیو\n",
    "    first_image = cv2.imread(image_files[0])\n",
    "    if first_image is None:\n",
    "        print(f\"خطا: قادر به خواندن اولین تصویر '{image_files[0]}' نیستم. مطمئن شوید که یک فایل تصویری معتبر است.\")\n",
    "        return\n",
    "\n",
    "    height, width, layers = first_image.shape\n",
    "    video_size = (width, height)\n",
    "\n",
    "    # تعریف کدک و ایجاد شیء VideoWriter\n",
    "    # 'mp4v' یک کدک رایج برای فایل های MP4 است.\n",
    "    fourcc = cv2.VideoWriter_fourcc(*'mp4v') # یا 'XVID' برای .avi\n",
    "    out = cv2.VideoWriter(output_video_path, fourcc, fps, video_size)\n",
    "\n",
    "    if not out.isOpened():\n",
    "        print(f\"خطا: قادر به باز کردن فایل ویدیویی خروجی '{output_video_path}' نیستم.\")\n",
    "        print(\"ممکن است کدک 'mp4v' پشتیبانی نشده باشد یا مشکلی در مسیر فایل وجود داشته باشد.\")\n",
    "        print(\"اگر از ویندوز استفاده می‌کنید، مطمئن شوید که FFmpeg نصب شده و در PATH سیستم قرار دارد.\")\n",
    "        return\n",
    "\n",
    "    print(f\"در حال ایجاد ویدیو از تصاویر در '{image_directory}' با FPS={fps}...\")\n",
    "    for i, image_file in enumerate(image_files):\n",
    "        img = cv2.imread(image_file)\n",
    "        if img is None:\n",
    "            print(f\"هشدار: قادر به خواندن تصویر '{image_file}' نیستم. از این تصویر صرف نظر می‌شود.\")\n",
    "            continue\n",
    "\n",
    "        # مطمئن شوید که تمام تصاویر هم‌اندازه هستند، در غیر این صورت تغییر اندازه دهید.\n",
    "        # اگر تصاویر ابعاد متفاوتی دارند، باید آنها را به ابعاد first_image تغییر اندازه دهید.\n",
    "        if img.shape[0] != height or img.shape[1] != width:\n",
    "            img = cv2.resize(img, video_size)\n",
    "\n",
    "        out.write(img)\n",
    "        print(f\"اضافه کردن فریم {i+1}/{len(image_files)}: {os.path.basename(image_file)}\")\n",
    "\n",
    "    out.release() # بستن VideoWriter\n",
    "    print(f\"ویدیو با موفقیت در '{output_video_path}' ایجاد شد.\")\n",
    "\n",
    "# --- نحوه استفاده ---\n",
    "if __name__ == \"__main__\":\n",
    "    # دایرکتوری حاوی تصاویر شما\n",
    "    image_source_directory = \"input/test/\"\n",
    "    # مسیر و نام فایل ویدیویی خروجی\n",
    "    output_video_filename = \"my_output_video.mp4\"\n",
    "    # فریم در ثانیه (FPS)\n",
    "    frames_per_second = 5\n",
    "\n",
    "    # برای تست، می‌توانید چند فایل dummy تصویر ایجاد کنید:\n",
    "    # import pathlib\n",
    "    # from PIL import Image\n",
    "    # import numpy as np\n",
    "\n",
    "    # # ایجاد دایرکتوری اگر وجود ندارد\n",
    "    # pathlib.Path(image_source_directory).mkdir(exist_ok=True)\n",
    "\n",
    "    # # ایجاد 5 تصویر ساختگی\n",
    "    # for i in range(1, 6):\n",
    "    #     dummy_image_path = os.path.join(image_source_directory, f\"frame_{i:02d}.tif\")\n",
    "    #     # ایجاد یک تصویر سفید با متن\n",
    "    #     img_array = np.zeros((100, 200, 3), dtype=np.uint8) + 255 # تصویر سفید\n",
    "    #     img = Image.fromarray(img_array)\n",
    "    #     from PIL import ImageDraw, ImageFont\n",
    "    #     draw = ImageDraw.Draw(img)\n",
    "    #     # ممکن است نیاز به نصب فونت داشته باشید یا فونت پیش فرض را استفاده کنید\n",
    "    #     # try:\n",
    "    #     #     font = ImageFont.truetype(\"arial.ttf\", 20)\n",
    "    #     # except IOError:\n",
    "    #     #     font = ImageFont.load_default()\n",
    "    #     draw.text((10, 30), f\"Frame {i}\", fill=(0,0,0)) # متن سیاه\n",
    "    #     img.save(dummy_image_path)\n",
    "    # print(f\"فایل‌های تست در '{image_source_directory}' ایجاد شدند.\")\n",
    "\n",
    "\n",
    "    create_video_from_images(image_source_directory, output_video_filename, frames_per_second)"
   ]
  }
 ],
 "metadata": {
  "kernelspec": {
   "display_name": ".venv",
   "language": "python",
   "name": "python3"
  },
  "language_info": {
   "codemirror_mode": {
    "name": "ipython",
    "version": 3
   },
   "file_extension": ".py",
   "mimetype": "text/x-python",
   "name": "python",
   "nbconvert_exporter": "python",
   "pygments_lexer": "ipython3",
   "version": "3.12.3"
  }
 },
 "nbformat": 4,
 "nbformat_minor": 5
}
